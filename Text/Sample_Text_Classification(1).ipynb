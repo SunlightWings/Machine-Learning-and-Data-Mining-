{
  "nbformat": 4,
  "nbformat_minor": 0,
  "metadata": {
    "colab": {
      "provenance": []
    },
    "kernelspec": {
      "name": "python3",
      "display_name": "Python 3"
    },
    "language_info": {
      "name": "python"
    }
  },
  "cells": [
    {
      "cell_type": "markdown",
      "source": [
        "# 1. Dataset Preparation"
      ],
      "metadata": {
        "id": "_TSCw4FswT0j"
      }
    },
    {
      "cell_type": "code",
      "execution_count": null,
      "metadata": {
        "id": "pGyrq0yEwGk9"
      },
      "outputs": [],
      "source": [
        "import torch\n",
        "import torch.nn as nn\n",
        "from torch.utils.data import Dataset, DataLoader\n",
        "from sklearn.metrics import accuracy_score, classification_report\n",
        "import matplotlib.pyplot as plt\n",
        "import random"
      ]
    },
    {
      "cell_type": "code",
      "source": [
        "data = [\n",
        "    # Positive\n",
        "    (\"I love this movie, it was fantastic!\", 1),\n",
        "    (\"Amazing plot and great performances!\", 1),\n",
        "    (\"What a wonderful experience!\", 1),\n",
        "    (\"Brilliant direction and strong cast.\", 1),\n",
        "    (\"Absolutely loved it!\", 1),\n",
        "    (\"A masterpiece of modern cinema.\", 1),\n",
        "    (\"The visuals and story were breathtaking.\", 1),\n",
        "    (\"Exceptional acting and brilliant screenplay.\", 1),\n",
        "    (\"Truly inspiring and well-crafted.\", 1),\n",
        "    (\"An emotional rollercoaster with a happy end.\", 1),\n",
        "    (\"The movie exceeded my expectations.\", 1),\n",
        "    (\"I enjoyed every minute of it.\", 1),\n",
        "    (\"Heartwarming and deeply moving.\", 1),\n",
        "    (\"A compelling story with great characters.\", 1),\n",
        "    (\"The actors delivered fantastic performances.\", 1),\n",
        "    (\"An unforgettable experience.\", 1),\n",
        "    (\"The direction was top-notch.\", 1),\n",
        "    (\"Highly entertaining and beautifully shot.\", 1),\n",
        "    (\"Best movie I've seen this year!\", 1),\n",
        "    (\"Wonderful execution and pacing.\", 1),\n",
        "    (\"Left me speechless, in a good way.\", 1),\n",
        "    (\"Incredible storytelling and visuals.\", 1),\n",
        "    (\"Uplifting and inspiring movie.\", 1),\n",
        "    (\"A joy to watch from start to finish.\", 1),\n",
        "    (\"Loved the soundtrack and cinematography.\", 1),\n",
        "    (\"Totally worth watching again!\", 1),\n",
        "    (\"The dialogue was witty and smart.\", 1),\n",
        "    (\"Very touching and well-acted.\", 1),\n",
        "    (\"The characters felt very real and human.\", 1),\n",
        "    (\"A fresh and original take on a familiar genre.\", 1),\n",
        "    (\"The chemistry between the leads was amazing.\", 1),\n",
        "    (\"Impressive production quality and plot depth.\", 1),\n",
        "    (\"Simply stunning and emotionally satisfying.\", 1),\n",
        "    (\"Loved the twists and turns.\", 1),\n",
        "    (\"This film deserves all the praise.\", 1),\n",
        "    (\"I was completely immersed.\", 1),\n",
        "    (\"It was okay, not the best but enjoyable.\", 1),\n",
        "    (\"Pleasantly surprised by how good it was.\", 1),\n",
        "    (\"A solid movie night pick.\", 1),\n",
        "    (\"Engaging and thoughtful throughout.\", 1),\n",
        "    (\"I smiled through most of the film.\", 1),\n",
        "    (\"Definitely recommend this movie.\", 1),\n",
        "    (\"A positive and feel-good story.\", 1),\n",
        "    (\"An all-time favorite!\", 1),\n",
        "    (\"Five stars from me!\", 1),\n",
        "    (\"A nice blend of humor and emotion.\", 1),\n",
        "    (\"Very entertaining.\", 1),\n",
        "    (\"One of the better films this year.\", 1),\n",
        "    (\"Charming and full of heart.\", 1),\n",
        "    (\"Didn't expect to love it this much.\", 1),\n",
        "\n",
        "    # Negative\n",
        "    (\"Absolutely terrible. Waste of time.\", 0),\n",
        "    (\"Worst acting I have ever seen.\", 0),\n",
        "    (\"I didn't like it at all.\", 0),\n",
        "    (\"The film was boring and predictable.\", 0),\n",
        "    (\"Horrible. I walked out halfway.\", 0),\n",
        "    (\"A complete disaster from start to finish.\", 0),\n",
        "    (\"Terribly written and poorly executed.\", 0),\n",
        "    (\"The plot made no sense.\", 0),\n",
        "    (\"A mess of clichés and bad dialogue.\", 0),\n",
        "    (\"Not worth the hype.\", 0),\n",
        "    (\"It was painful to sit through.\", 0),\n",
        "    (\"The pacing was way off.\", 0),\n",
        "    (\"Characters were flat and uninteresting.\", 0),\n",
        "    (\"Too many plot holes to count.\", 0),\n",
        "    (\"Acting was wooden and emotionless.\", 0),\n",
        "    (\"An insult to the genre.\", 0),\n",
        "    (\"Predictable and lazy writing.\", 0),\n",
        "    (\"Music was distracting and out of place.\", 0),\n",
        "    (\"Uninspired and forgettable.\", 0),\n",
        "    (\"Dialogue felt forced and unnatural.\", 0),\n",
        "    (\"It dragged on forever.\", 0),\n",
        "    (\"Couldn’t connect with any character.\", 0),\n",
        "    (\"The trailer was better than the movie.\", 0),\n",
        "    (\"Disappointing and dull.\", 0),\n",
        "    (\"Felt like a waste of money.\", 0),\n",
        "    (\"The jokes were cringe-worthy.\", 0),\n",
        "    (\"It lacked depth and originality.\", 0),\n",
        "    (\"Too predictable and not funny.\", 0),\n",
        "    (\"Very slow and uninteresting plot.\", 0),\n",
        "    (\"Nothing happened for an hour.\", 0),\n",
        "    (\"Really bad camera work and sound.\", 0),\n",
        "    (\"The ending was abrupt and made no sense.\", 0),\n",
        "    (\"Failed to deliver any emotion.\", 0),\n",
        "    (\"Overacted and overhyped.\", 0),\n",
        "    (\"Not even good for background noise.\", 0),\n",
        "    (\"Terribly boring.\", 0),\n",
        "    (\"I regret watching it.\", 0),\n",
        "    (\"Very disappointing.\", 0),\n",
        "    (\"One of the worst films I've seen.\", 0),\n",
        "    (\"Unbelievably bad.\", 0),\n",
        "    (\"A total flop.\", 0),\n",
        "    (\"The cast seemed confused.\", 0),\n",
        "    (\"The story didn’t go anywhere.\", 0),\n",
        "    (\"I almost fell asleep.\", 0),\n",
        "    (\"Nothing redeeming about it.\", 0),\n",
        "    (\"It tried too hard to be deep.\", 0),\n",
        "    (\"Just plain bad.\", 0),\n",
        "    (\"I wanted to leave early.\", 0),\n",
        "    (\"Bad acting, worse writing.\", 0),\n",
        "    (\"Complete waste of time.\", 0),\n",
        "]\n"
      ],
      "metadata": {
        "id": "hR_b6yhQwReZ"
      },
      "execution_count": null,
      "outputs": []
    },
    {
      "cell_type": "code",
      "source": [
        "random.shuffle(data)  # to ensure randomness in train-test split"
      ],
      "metadata": {
        "id": "AQ3HyUqVwaoc"
      },
      "execution_count": null,
      "outputs": []
    },
    {
      "cell_type": "markdown",
      "source": [
        "### Tokenizer:\n",
        "\n",
        " - Converts a sentence like \"I love this movie\" → [\"i\", \"love\", \"this\", \"movie\"].\n",
        " - split text to tokens, so that tokens can be converted to numbers\n",
        "\n",
        "### Vocabulary:\n",
        "\n",
        "- mapping of each unique token to a number\n",
        "- vocab = {\"<PAD>\": 0, \"<UNK>\": 1, \"i\": 2, \"love\": 3, ...}\n",
        "- vocab size = len(vocab), used by nn.Embedding to know how many unique word vectors to learn."
      ],
      "metadata": {
        "id": "uboIbmW1zdY_"
      }
    },
    {
      "cell_type": "code",
      "source": [
        "## Basic tokenizer\n",
        "def tokenize(text):\n",
        "    return text.lower().replace('.', '').replace(',', '').split()"
      ],
      "metadata": {
        "id": "plVfjOWLwdCv"
      },
      "execution_count": null,
      "outputs": []
    },
    {
      "cell_type": "code",
      "source": [
        "# Build vocabulary\n",
        "vocab = {\"<PAD>\": 0, \"<UNK>\": 1}\n",
        "for text, _ in data:\n",
        "    for token in tokenize(text):    # call above function to remove unnecessary characters\n",
        "        if token not in vocab:\n",
        "            vocab[token] = len(vocab)"
      ],
      "metadata": {
        "id": "2cjPIRmk3I5v"
      },
      "execution_count": null,
      "outputs": []
    },
    {
      "cell_type": "code",
      "source": [
        "len(vocab)   # unique tokens (including pad and unk)"
      ],
      "metadata": {
        "colab": {
          "base_uri": "https://localhost:8080/"
        },
        "id": "Gh-ABCKs1YrD",
        "outputId": "2c248a19-7f88-4f28-92d1-1ad24ebe5362"
      },
      "execution_count": null,
      "outputs": [
        {
          "output_type": "execute_result",
          "data": {
            "text/plain": [
              "275"
            ]
          },
          "metadata": {},
          "execution_count": 29
        }
      ]
    },
    {
      "cell_type": "markdown",
      "source": [
        "### Encode:\n",
        "\n",
        "- Converts [\"i\", \"love\", \"this\", \"movie\"] → [2, 3, 4, 5, 0, 0, 0, 0, 0, 0] (fixed length of 10).\n",
        "\n"
      ],
      "metadata": {
        "id": "M3tD3_kP0LKQ"
      }
    },
    {
      "cell_type": "code",
      "source": [
        "# Encode text to fixed-length tensor\n",
        "def encode(text, max_len=10):\n",
        "    tokens = tokenize(text)      # for any incoming text (dataset or inference texts)\n",
        "    ids = [vocab.get(token, vocab[\"<UNK>\"]) for token in tokens]  # if token exists in vocab, get its ID\n",
        "    ids = ids[:max_len] + [vocab[\"<PAD>\"]] * (max_len - len(ids))   # pad or truncate the list\n",
        "    return torch.tensor(ids)"
      ],
      "metadata": {
        "id": "_qK9yDgCwhV2"
      },
      "execution_count": null,
      "outputs": []
    },
    {
      "cell_type": "code",
      "source": [
        "# Custom Dataset\n",
        "class SentimentDataset(Dataset):\n",
        "    def __init__(self, data, max_len=10):\n",
        "        self.samples = data\n",
        "        self.max_len = max_len\n",
        "\n",
        "    def __len__(self):\n",
        "        return len(self.samples)\n",
        "\n",
        "    def __getitem__(self, idx):\n",
        "        text, label = self.samples[idx]\n",
        "        return encode(text, self.max_len), torch.tensor(label)"
      ],
      "metadata": {
        "id": "XxwnC2Pwwkgo"
      },
      "execution_count": null,
      "outputs": []
    },
    {
      "cell_type": "code",
      "source": [
        "# Train-test split\n",
        "max_len = 10\n",
        "train_data = data[:int(0.8 * len(data))]\n",
        "test_data = data[int(0.8 * len(data)):]\n",
        "train_loader = DataLoader(SentimentDataset(train_data, max_len), batch_size=2, shuffle=True)\n",
        "test_loader = DataLoader(SentimentDataset(test_data, max_len), batch_size=2)\n"
      ],
      "metadata": {
        "id": "A2c_dO_Owmx9"
      },
      "execution_count": null,
      "outputs": []
    },
    {
      "cell_type": "markdown",
      "source": [
        "# 2. Model Building:\n",
        "\n",
        "### Embedding layers: learns to map each token ID to dense vector\n",
        " - Input to embedding: (batch_size, max_len)\n",
        " - Output of embedding: (batch_size, max_len, 100)"
      ],
      "metadata": {
        "id": "ijYnFKWYwr9W"
      }
    },
    {
      "cell_type": "code",
      "source": [
        "# Simple Feedforward Model\n",
        "class FeedForwardModel(nn.Module):\n",
        "    def __init__(self, vocab_size, embed_dim=16, hidden_dim=8):\n",
        "        super().__init__()\n",
        "        self.embedding = nn.Embedding(vocab_size, embed_dim, padding_idx=0)\n",
        "        self.fc1 = nn.Linear(embed_dim, hidden_dim)\n",
        "        self.fc2 = nn.Linear(hidden_dim, 2)\n",
        "\n",
        "    def forward(self, x):\n",
        "        embedded = self.embedding(x)                # (batch, seq_len, embed_dim)\n",
        "        pooled = embedded.mean(dim=1)               # Mean pooling over sequence\n",
        "        out = torch.relu(self.fc1(pooled))\n",
        "        return self.fc2(out)"
      ],
      "metadata": {
        "id": "oVGbCsRwwpA6"
      },
      "execution_count": null,
      "outputs": []
    },
    {
      "cell_type": "markdown",
      "source": [
        "### LSTM layer:\n",
        "- Type of RNN, designed to learn pattern over sequences\n",
        "  - It knows that in \"not a bad movie\", the word \"not\" reverses the sentiment of \"bad\".\n",
        "  - LSTM uses current input vector, previous hidden state, previous cell state; computes new hidden state (what to output), and new cell state (what to remember in long term)\n",
        "    - forget gate: what part of previous cell state to forget\n",
        "    - input gate: what new info from current input to add\n",
        "    - output gate: what to output as h_t\n",
        "\n",
        "- nn.LSTM(input_size, hidden_size)\n",
        "  - Overall Input = (batch_size, max_len, 100 dimensional vector from embedding layer)\n",
        "  - Hidden size = 100 means LSTM will output 100 dimensional vector for each time step (word)\n",
        "  - Overall Output = (batch_size, tokens, outputs 100 dimensional vector for each token)"
      ],
      "metadata": {
        "id": "RdvfJjiA84Lp"
      }
    },
    {
      "cell_type": "code",
      "source": [
        "# LSTM-based Model\n",
        "class LSTMModel(nn.Module):\n",
        "    def __init__(self, vocab_size, max_len):\n",
        "        super().__init__()\n",
        "        self.embedding = nn.Embedding(vocab_size, 100)      # 275 words(vocab) x 100 dim vector each\n",
        "        self.lstm = nn.LSTM(100, 100, batch_first=True)     # new layer (lstm)\n",
        "        self.fc1 = nn.Linear(100 * max_len, 50)\n",
        "        self.fc2 = nn.Linear(50, 2)\n",
        "\n",
        "    def forward(self, x):\n",
        "        x = self.embedding(x)                       # (batch, seq_len, 100)\n",
        "        x, _ = self.lstm(x)                         # LSTM output\n",
        "        x = torch.relu(x)\n",
        "        x = x.reshape(x.size(0), -1)                # Flatten (batch, 100 * seq_len)\n",
        "        x = torch.relu(self.fc1(x))                 # Dense layer\n",
        "        return self.fc2(x)\n"
      ],
      "metadata": {
        "id": "-U8e08hcwreo"
      },
      "execution_count": null,
      "outputs": []
    },
    {
      "cell_type": "markdown",
      "source": [
        "# 3. Training Loop\n",
        "## 3.a. Useful functions:"
      ],
      "metadata": {
        "id": "LXO6w3z5wydG"
      }
    },
    {
      "cell_type": "code",
      "source": [
        "def train_model(model, train_loader, criterion, optimizer, num_epochs=10):\n",
        "    loss_values, accuracy_values = [], []\n",
        "\n",
        "    for epoch in range(num_epochs):\n",
        "        model.train()\n",
        "        total_loss, all_preds, all_labels = 0, [], []\n",
        "\n",
        "        for texts, labels in train_loader:\n",
        "            optimizer.zero_grad()\n",
        "            outputs = model(texts)\n",
        "            loss = criterion(outputs, labels)\n",
        "            loss.backward()\n",
        "            optimizer.step()\n",
        "\n",
        "            total_loss += loss.item()\n",
        "            preds = torch.argmax(outputs, dim=1)\n",
        "            all_preds.extend(preds.tolist())\n",
        "            all_labels.extend(labels.tolist())\n",
        "\n",
        "        avg_loss = total_loss / len(train_loader)\n",
        "        accuracy = accuracy_score(all_labels, all_preds)\n",
        "        loss_values.append(avg_loss)\n",
        "        accuracy_values.append(accuracy)\n",
        "\n",
        "        print(f\"Epoch {epoch+1}/{num_epochs} | Loss: {avg_loss:.4f} | Accuracy: {accuracy:.4f}\")\n",
        "\n",
        "    return loss_values, accuracy_values"
      ],
      "metadata": {
        "id": "dPLGPOTxwwkE"
      },
      "execution_count": null,
      "outputs": []
    },
    {
      "cell_type": "code",
      "source": [
        "def evaluate_model(model, test_loader):\n",
        "    model.eval()\n",
        "    all_preds, all_labels = [], []\n",
        "\n",
        "    with torch.no_grad():\n",
        "        for texts, labels in test_loader:\n",
        "            outputs = model(texts)\n",
        "            preds = torch.argmax(outputs, dim=1)\n",
        "            all_preds.extend(preds.tolist())\n",
        "            all_labels.extend(labels.tolist())\n",
        "\n",
        "    print(\"Test Accuracy:\", accuracy_score(all_labels, all_preds))\n",
        "    print(classification_report(all_labels, all_preds, target_names=[\"Negative\", \"Positive\"]))\n"
      ],
      "metadata": {
        "id": "lD-yzHyDw7qD"
      },
      "execution_count": null,
      "outputs": []
    },
    {
      "cell_type": "code",
      "source": [
        "def plot_training(losses, accuracies, title=\"Model Performance\"):\n",
        "    plt.figure(figsize=(12,5))\n",
        "\n",
        "    # Plot loss\n",
        "    plt.subplot(1,2,1)\n",
        "    plt.plot(losses, label=\"Loss\", color='blue')\n",
        "    plt.xlabel(\"Epochs\")\n",
        "    plt.ylabel(\"Loss\")\n",
        "    plt.title(\"Loss vs Epochs\")\n",
        "    plt.legend()\n",
        "\n",
        "    # Plot accuracy\n",
        "    plt.subplot(1,2,2)\n",
        "    plt.plot(accuracies, label=\"Accuracy\", color='green')\n",
        "    plt.xlabel(\"Epochs\")\n",
        "    plt.ylabel(\"Accuracy\")\n",
        "    plt.title(\"Accuracy vs Epochs\")\n",
        "    plt.legend()\n",
        "\n",
        "    plt.suptitle(title)\n",
        "    plt.tight_layout()\n",
        "    plt.show()"
      ],
      "metadata": {
        "id": "9lYv0LQKw9cp"
      },
      "execution_count": null,
      "outputs": []
    },
    {
      "cell_type": "markdown",
      "source": [
        "## 3.b. Using above functions for Model 1"
      ],
      "metadata": {
        "id": "9AJ1NmmKxEPS"
      }
    },
    {
      "cell_type": "code",
      "source": [
        "ff_model = FeedForwardModel(vocab_size=len(vocab))"
      ],
      "metadata": {
        "id": "rISkjlZbw_Ua"
      },
      "execution_count": null,
      "outputs": []
    },
    {
      "cell_type": "code",
      "source": [
        "criterion = nn.CrossEntropyLoss()\n",
        "optimizer = torch.optim.Adam(ff_model.parameters(), lr=0.001)"
      ],
      "metadata": {
        "id": "dCt8-68-xKlK"
      },
      "execution_count": null,
      "outputs": []
    },
    {
      "cell_type": "code",
      "source": [
        "losses_ff, accs_ff = train_model(ff_model, train_loader, criterion, optimizer, num_epochs=20)\n"
      ],
      "metadata": {
        "colab": {
          "base_uri": "https://localhost:8080/"
        },
        "id": "apHX3sIBxS1K",
        "outputId": "a6e2558b-aac4-4249-f2a4-a288c0f6af30"
      },
      "execution_count": null,
      "outputs": [
        {
          "output_type": "stream",
          "name": "stdout",
          "text": [
            "Epoch 1/20 | Loss: 0.6953 | Accuracy: 0.4125\n",
            "Epoch 2/20 | Loss: 0.6924 | Accuracy: 0.4875\n",
            "Epoch 3/20 | Loss: 0.6901 | Accuracy: 0.5000\n",
            "Epoch 4/20 | Loss: 0.6891 | Accuracy: 0.5500\n",
            "Epoch 5/20 | Loss: 0.6850 | Accuracy: 0.6000\n",
            "Epoch 6/20 | Loss: 0.6821 | Accuracy: 0.5875\n",
            "Epoch 7/20 | Loss: 0.6789 | Accuracy: 0.6000\n",
            "Epoch 8/20 | Loss: 0.6743 | Accuracy: 0.6250\n",
            "Epoch 9/20 | Loss: 0.6699 | Accuracy: 0.6500\n",
            "Epoch 10/20 | Loss: 0.6639 | Accuracy: 0.6750\n",
            "Epoch 11/20 | Loss: 0.6556 | Accuracy: 0.6750\n",
            "Epoch 12/20 | Loss: 0.6456 | Accuracy: 0.7000\n",
            "Epoch 13/20 | Loss: 0.6342 | Accuracy: 0.7250\n",
            "Epoch 14/20 | Loss: 0.6201 | Accuracy: 0.7375\n",
            "Epoch 15/20 | Loss: 0.6038 | Accuracy: 0.7750\n",
            "Epoch 16/20 | Loss: 0.5842 | Accuracy: 0.7875\n",
            "Epoch 17/20 | Loss: 0.5626 | Accuracy: 0.8000\n",
            "Epoch 18/20 | Loss: 0.5385 | Accuracy: 0.8125\n",
            "Epoch 19/20 | Loss: 0.5112 | Accuracy: 0.8250\n",
            "Epoch 20/20 | Loss: 0.4832 | Accuracy: 0.8375\n"
          ]
        }
      ]
    },
    {
      "cell_type": "code",
      "source": [
        "plot_training(losses_ff, accs_ff, title=\"FeedForward Model Performance\")\n"
      ],
      "metadata": {
        "colab": {
          "base_uri": "https://localhost:8080/",
          "height": 291
        },
        "id": "nKRkCXOSxWYH",
        "outputId": "991edcfe-1a13-4de5-ef41-091792289771"
      },
      "execution_count": null,
      "outputs": [
        {
          "output_type": "display_data",
          "data": {
            "text/plain": [
              "<Figure size 1200x500 with 2 Axes>"
            ],
            "image/png": "[encoded data removed]"
          },
          "metadata": {}
        }
      ]
    },
    {
      "cell_type": "code",
      "source": [
        "evaluate_model(ff_model, test_loader)\n"
      ],
      "metadata": {
        "colab": {
          "base_uri": "https://localhost:8080/"
        },
        "id": "Y2IXhUhbxYXi",
        "outputId": "e7131e5a-4ca9-40dd-edb3-25e9610185e5"
      },
      "execution_count": null,
      "outputs": [
        {
          "output_type": "stream",
          "name": "stdout",
          "text": [
            "Test Accuracy: 0.45\n",
            "              precision    recall  f1-score   support\n",
            "\n",
            "    Negative       0.36      0.50      0.42         8\n",
            "    Positive       0.56      0.42      0.48        12\n",
            "\n",
            "    accuracy                           0.45        20\n",
            "   macro avg       0.46      0.46      0.45        20\n",
            "weighted avg       0.48      0.45      0.45        20\n",
            "\n"
          ]
        }
      ]
    },
    {
      "cell_type": "markdown",
      "source": [
        "## 3.c. Using above functions for Model 2"
      ],
      "metadata": {
        "id": "M2hA5a--xa2V"
      }
    },
    {
      "cell_type": "code",
      "source": [
        "lstm_model = LSTMModel(vocab_size=len(vocab), max_len=max_len)"
      ],
      "metadata": {
        "id": "iw164_Foxhpx"
      },
      "execution_count": null,
      "outputs": []
    },
    {
      "cell_type": "code",
      "source": [
        "criterion_lstm = nn.CrossEntropyLoss()\n",
        "optimizer_lstm = torch.optim.Adam(lstm_model.parameters(), lr=0.001)"
      ],
      "metadata": {
        "id": "XHGF78ubxi9V"
      },
      "execution_count": null,
      "outputs": []
    },
    {
      "cell_type": "code",
      "source": [
        "losses_lstm, accs_lstm = train_model(lstm_model, train_loader, criterion_lstm, optimizer_lstm, num_epochs=20)\n"
      ],
      "metadata": {
        "colab": {
          "base_uri": "https://localhost:8080/"
        },
        "id": "v9Ap3tL7xneU",
        "outputId": "6f9c00eb-96c2-4739-cc08-84bef6f8bd06"
      },
      "execution_count": null,
      "outputs": [
        {
          "output_type": "stream",
          "name": "stdout",
          "text": [
            "Epoch 1/20 | Loss: 0.6997 | Accuracy: 0.4750\n",
            "Epoch 2/20 | Loss: 0.6486 | Accuracy: 0.7750\n",
            "Epoch 3/20 | Loss: 0.3720 | Accuracy: 0.9250\n",
            "Epoch 4/20 | Loss: 0.0345 | Accuracy: 1.0000\n",
            "Epoch 5/20 | Loss: 0.0037 | Accuracy: 1.0000\n",
            "Epoch 6/20 | Loss: 0.0012 | Accuracy: 1.0000\n",
            "Epoch 7/20 | Loss: 0.0006 | Accuracy: 1.0000\n",
            "Epoch 8/20 | Loss: 0.0004 | Accuracy: 1.0000\n",
            "Epoch 9/20 | Loss: 0.0003 | Accuracy: 1.0000\n",
            "Epoch 10/20 | Loss: 0.0003 | Accuracy: 1.0000\n",
            "Epoch 11/20 | Loss: 0.0002 | Accuracy: 1.0000\n",
            "Epoch 12/20 | Loss: 0.0002 | Accuracy: 1.0000\n",
            "Epoch 13/20 | Loss: 0.0001 | Accuracy: 1.0000\n",
            "Epoch 14/20 | Loss: 0.0001 | Accuracy: 1.0000\n",
            "Epoch 15/20 | Loss: 0.0001 | Accuracy: 1.0000\n",
            "Epoch 16/20 | Loss: 0.0001 | Accuracy: 1.0000\n",
            "Epoch 17/20 | Loss: 0.0001 | Accuracy: 1.0000\n",
            "Epoch 18/20 | Loss: 0.0001 | Accuracy: 1.0000\n",
            "Epoch 19/20 | Loss: 0.0001 | Accuracy: 1.0000\n",
            "Epoch 20/20 | Loss: 0.0000 | Accuracy: 1.0000\n"
          ]
        }
      ]
    },
    {
      "cell_type": "code",
      "source": [
        "plot_training(losses_lstm, accs_lstm, title=\"LSTM Model Performance\")\n"
      ],
      "metadata": {
        "colab": {
          "base_uri": "https://localhost:8080/",
          "height": 291
        },
        "id": "He62hoanx5zP",
        "outputId": "be91c914-d65c-4e8b-9458-b9b9f98f4b2e"
      },
      "execution_count": null,
      "outputs": [
        {
          "output_type": "display_data",
          "data": {
            "text/plain": [
              "<Figure size 1200x500 with 2 Axes>"
            ],
            "image/png": "[encoded data removed]"
          },
          "metadata": {}
        }
      ]
    },
    {
      "cell_type": "code",
      "source": [
        "evaluate_model(lstm_model, test_loader)"
      ],
      "metadata": {
        "colab": {
          "base_uri": "https://localhost:8080/"
        },
        "id": "4LZ-NaSdx9IJ",
        "outputId": "cb8a4299-b8be-4afc-fe8b-1a951f26e297"
      },
      "execution_count": null,
      "outputs": [
        {
          "output_type": "stream",
          "name": "stdout",
          "text": [
            "Test Accuracy: 0.5\n",
            "              precision    recall  f1-score   support\n",
            "\n",
            "    Negative       0.42      0.62      0.50         8\n",
            "    Positive       0.62      0.42      0.50        12\n",
            "\n",
            "    accuracy                           0.50        20\n",
            "   macro avg       0.52      0.52      0.50        20\n",
            "weighted avg       0.54      0.50      0.50        20\n",
            "\n"
          ]
        }
      ]
    }
  ]
}