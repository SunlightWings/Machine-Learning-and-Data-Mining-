{
  "nbformat": 4,
  "nbformat_minor": 0,
  "metadata": {
    "colab": {
      "provenance": []
    },
    "kernelspec": {
      "name": "python3",
      "display_name": "Python 3"
    },
    "language_info": {
      "name": "python"
    }
  },
  "cells": [
    {
      "cell_type": "code",
      "execution_count": null,
      "metadata": {
        "id": "YbPJ63B88T0j"
      },
      "outputs": [],
      "source": [
        "import numpy as np\n",
        "import matplotlib.pyplot as plt\n",
        "from numpy import random"
      ]
    },
    {
      "cell_type": "code",
      "source": [
        "# Generates and visualizes a scatter plot of two sets of 50 random data points each. [randn=from normal distribution.]\n",
        "# x1 and x2 represent the 2 axes\n",
        "x1 = np.random.randn(50)\n",
        "x2 = np.random.randn(50)\n",
        "print(x1)\n",
        "print(x2)\n",
        "plt.scatter(x1,x2)\n",
        "plt.ylim(-3,3)\n",
        "plt.xlim(-3,3)"
      ],
      "metadata": {
        "colab": {
          "base_uri": "https://localhost:8080/",
          "height": 765
        },
        "id": "SraObtzQFzby",
        "outputId": "6191beff-604d-42fe-9818-039fadf90e8f"
      },
      "execution_count": 136,
      "outputs": [
        {
          "output_type": "stream",
          "name": "stdout",
          "text": [
            "[ 1.08373812  0.14465805  1.45822017 -1.83998805 -0.54658924 -1.73728277\n",
            "  0.80452848 -0.85961276 -1.09324232 -0.43925424 -1.12810877 -0.73901699\n",
            "  1.24807054 -1.0870457   0.26574163  0.02492389  0.56973765  0.1712725\n",
            " -0.99997877  1.09382003 -1.0368146  -0.75715711 -0.16438618 -0.45056146\n",
            "  1.32447666  1.73080165 -1.02117539 -0.21807523 -0.02471401 -0.27063396\n",
            " -0.31598144  0.80485938 -1.00237945  0.93780065 -1.48706149  0.31987483\n",
            "  0.50632709 -0.21705856  0.61129266  0.52101646  1.0846741  -0.59652625\n",
            " -0.61380683  0.17609948  0.49458741 -1.87981298  0.12852886  0.11883628\n",
            " -0.34749395 -0.83711698]\n",
            "[ 0.15770703 -0.09877141 -0.8180362  -1.74286965 -0.13914423 -0.819304\n",
            "  0.50920718  0.05003654 -0.30368766  1.13438728 -0.3871439  -0.47248722\n",
            " -0.50037735  1.67248443  0.60864549  2.032467    1.19517021  0.05585021\n",
            "  1.14660509  2.20881363  0.74567058 -0.39944346  1.38624837 -0.23197083\n",
            "  0.38034031  0.76435476 -0.42505924 -0.72472359 -0.07773688 -0.95072556\n",
            "  0.63482786  0.41963469 -0.97546884 -0.34585308  0.33630163 -0.69919906\n",
            " -1.3770653  -0.77367372 -0.54962169  0.57297416 -0.55927289 -0.17299252\n",
            " -1.36702925  0.11613927 -0.46512546  0.54654103  0.03505425 -0.4232913\n",
            " -0.51853944  0.29626006]\n"
          ]
        },
        {
          "output_type": "execute_result",
          "data": {
            "text/plain": [
              "(-3.0, 3.0)"
            ]
          },
          "metadata": {},
          "execution_count": 136
        },
        {
          "output_type": "display_data",
          "data": {
            "text/plain": [
              "<Figure size 640x480 with 1 Axes>"
            ],
            "image/png": "[encoded data removed]"
          },
          "metadata": {}
        }
      ]
    },
    {
      "cell_type": "code",
      "source": [
        "# Mean and standard deviation\n",
        "mean1 = np.mean(x1)\n",
        "mean2 = np.mean(x2)\n",
        "sd1 = np.std(x1)\n",
        "sd2 = np.std(x2)\n",
        "print(mean1,sd1)\n",
        "print(mean2,sd2)"
      ],
      "metadata": {
        "colab": {
          "base_uri": "https://localhost:8080/"
        },
        "id": "53sIkvB6HYdP",
        "outputId": "0041fc7a-bc5c-4b56-cb3a-bc7d82936848"
      },
      "execution_count": 137,
      "outputs": [
        {
          "output_type": "stream",
          "name": "stdout",
          "text": [
            "-0.12173977849878127 0.888757270229026\n",
            "0.013742146047844796 0.84024988388288\n"
          ]
        }
      ]
    },
    {
      "cell_type": "code",
      "source": [
        "# 2x2 random matrix with elements sampled from a uniform distribution (range [0, 1]).\n",
        "random_matrix = np.random.rand(2,2)\n",
        "print(random_matrix)"
      ],
      "metadata": {
        "colab": {
          "base_uri": "https://localhost:8080/"
        },
        "id": "nofe1NXWIUU6",
        "outputId": "867f15e3-36e3-478d-a58a-67ad62d4d8d6"
      },
      "execution_count": 138,
      "outputs": [
        {
          "output_type": "stream",
          "name": "stdout",
          "text": [
            "[[0.77127102 0.18000787]\n",
            " [0.88312925 0.70943241]]\n"
          ]
        }
      ]
    },
    {
      "cell_type": "code",
      "source": [
        "# Converts the lists x1 and x2 into NumPy arrays, then creates a data matrix by column stacking the arrays.\n",
        "x1_array = np.array(x1)\n",
        "x2_array = np.array(x2)\n",
        "\n",
        "data_matrix = np.column_stack((x1_array, x2_array))\n"
      ],
      "metadata": {
        "id": "ircTfMLwJg7P"
      },
      "execution_count": 139,
      "outputs": []
    },
    {
      "cell_type": "code",
      "source": [
        "print(data_matrix.shape)"
      ],
      "metadata": {
        "colab": {
          "base_uri": "https://localhost:8080/"
        },
        "id": "IJAz4XmkKhRy",
        "outputId": "6d940da2-f7d8-4c65-f862-9a1f8ebbecd2"
      },
      "execution_count": 140,
      "outputs": [
        {
          "output_type": "stream",
          "name": "stdout",
          "text": [
            "(50, 2)\n"
          ]
        }
      ]
    },
    {
      "cell_type": "code",
      "source": [
        "print(data_matrix)"
      ],
      "metadata": {
        "colab": {
          "base_uri": "https://localhost:8080/"
        },
        "id": "8ZOD-ushLLgf",
        "outputId": "9c4adc52-46a5-4cce-a83e-a6e804404d6b"
      },
      "execution_count": 142,
      "outputs": [
        {
          "output_type": "stream",
          "name": "stdout",
          "text": [
            "[[ 1.08373812  0.15770703]\n",
            " [ 0.14465805 -0.09877141]\n",
            " [ 1.45822017 -0.8180362 ]\n",
            " [-1.83998805 -1.74286965]\n",
            " [-0.54658924 -0.13914423]\n",
            " [-1.73728277 -0.819304  ]\n",
            " [ 0.80452848  0.50920718]\n",
            " [-0.85961276  0.05003654]\n",
            " [-1.09324232 -0.30368766]\n",
            " [-0.43925424  1.13438728]\n",
            " [-1.12810877 -0.3871439 ]\n",
            " [-0.73901699 -0.47248722]\n",
            " [ 1.24807054 -0.50037735]\n",
            " [-1.0870457   1.67248443]\n",
            " [ 0.26574163  0.60864549]\n",
            " [ 0.02492389  2.032467  ]\n",
            " [ 0.56973765  1.19517021]\n",
            " [ 0.1712725   0.05585021]\n",
            " [-0.99997877  1.14660509]\n",
            " [ 1.09382003  2.20881363]\n",
            " [-1.0368146   0.74567058]\n",
            " [-0.75715711 -0.39944346]\n",
            " [-0.16438618  1.38624837]\n",
            " [-0.45056146 -0.23197083]\n",
            " [ 1.32447666  0.38034031]\n",
            " [ 1.73080165  0.76435476]\n",
            " [-1.02117539 -0.42505924]\n",
            " [-0.21807523 -0.72472359]\n",
            " [-0.02471401 -0.07773688]\n",
            " [-0.27063396 -0.95072556]\n",
            " [-0.31598144  0.63482786]\n",
            " [ 0.80485938  0.41963469]\n",
            " [-1.00237945 -0.97546884]\n",
            " [ 0.93780065 -0.34585308]\n",
            " [-1.48706149  0.33630163]\n",
            " [ 0.31987483 -0.69919906]\n",
            " [ 0.50632709 -1.3770653 ]\n",
            " [-0.21705856 -0.77367372]\n",
            " [ 0.61129266 -0.54962169]\n",
            " [ 0.52101646  0.57297416]\n",
            " [ 1.0846741  -0.55927289]\n",
            " [-0.59652625 -0.17299252]\n",
            " [-0.61380683 -1.36702925]\n",
            " [ 0.17609948  0.11613927]\n",
            " [ 0.49458741 -0.46512546]\n",
            " [-1.87981298  0.54654103]\n",
            " [ 0.12852886  0.03505425]\n",
            " [ 0.11883628 -0.4232913 ]\n",
            " [-0.34749395 -0.51853944]\n",
            " [-0.83711698  0.29626006]]\n"
          ]
        }
      ]
    },
    {
      "cell_type": "markdown",
      "source": [
        "**STEP 1: Reshape the data by multiplication with a random matrix.** To visualize the linear transformation, click on the link : https://www.geogebra.org/m/YCZa8TAH?fbclid=IwAR3LK2VOQooxb-qzH-LLhlyzVEhi8Qsb8Of_V1zeiqWb3FcjYibVPbL0NGo"
      ],
      "metadata": {
        "id": "Q1J6_ZBjj8qw"
      }
    },
    {
      "cell_type": "code",
      "source": [
        "transformed_data_by_random_matrix = data_matrix @ random_matrix\n",
        "print(transformed_data_by_random_matrix.shape)\n",
        "\n",
        "# first column [:,0] as x-axis value. similarly 2nd column as y-axis\n",
        "plt.scatter(transformed_data_by_random_matrix[:,0], transformed_data_by_random_matrix[:,1])"
      ],
      "metadata": {
        "colab": {
          "base_uri": "https://localhost:8080/",
          "height": 465
        },
        "id": "I1j7WNbULQB5",
        "outputId": "132553c5-7168-4b2c-fb9d-08a008bb8966"
      },
      "execution_count": 143,
      "outputs": [
        {
          "output_type": "stream",
          "name": "stdout",
          "text": [
            "(50, 2)\n"
          ]
        },
        {
          "output_type": "execute_result",
          "data": {
            "text/plain": [
              "<matplotlib.collections.PathCollection at 0x7fe009e9eda0>"
            ]
          },
          "metadata": {},
          "execution_count": 143
        },
        {
          "output_type": "display_data",
          "data": {
            "text/plain": [
              "<Figure size 640x480 with 1 Axes>"
            ],
            "image/png": "[encoded data removed]"
          },
          "metadata": {}
        }
      ]
    },
    {
      "cell_type": "markdown",
      "source": [
        "**STEP 2: Calculate covariance matrix** The covariance matrix provides insights into the relationships between different dimensions of the transformed_data_by_random_matrix."
      ],
      "metadata": {
        "id": "mghY271YoBcd"
      }
    },
    {
      "cell_type": "code",
      "source": [
        "# See if elements in main diagonal are max and other diagonal are min. If not, we have to proceed further .\n",
        "covariance_matrix = np.cov(transformed_data_by_random_matrix.T)\n",
        "covariance_matrix"
      ],
      "metadata": {
        "colab": {
          "base_uri": "https://localhost:8080/"
        },
        "id": "ybsUs8yulHlj",
        "outputId": "76e93cfa-c59b-445e-e219-c777ee1ce122"
      },
      "execution_count": 144,
      "outputs": [
        {
          "output_type": "execute_result",
          "data": {
            "text/plain": [
              "array([[1.18142399, 0.63588024],\n",
              "       [0.63588024, 0.41496911]])"
            ]
          },
          "metadata": {},
          "execution_count": 144
        }
      ]
    },
    {
      "cell_type": "code",
      "source": [
        "#same as above\n",
        "covariance_matrix = np.cov(np.transpose(transformed_data_by_random_matrix))\n",
        "print(covariance_matrix)"
      ],
      "metadata": {
        "colab": {
          "base_uri": "https://localhost:8080/"
        },
        "id": "CkgxvG6nmxb4",
        "outputId": "51cc6748-3b8f-4c2f-9a86-3f1e9e1f3682"
      },
      "execution_count": 145,
      "outputs": [
        {
          "output_type": "stream",
          "name": "stdout",
          "text": [
            "[[1.18142399 0.63588024]\n",
            " [0.63588024 0.41496911]]\n"
          ]
        }
      ]
    },
    {
      "cell_type": "markdown",
      "source": [
        "**STEP 3: Eigen values and vector calculation**"
      ],
      "metadata": {
        "id": "0rYCi9bpojfN"
      }
    },
    {
      "cell_type": "code",
      "source": [
        "# The eigenvalues represent the variance explained by each principal component (magnitude of new feature space)\n",
        "# The eigenvectors define the directions of the principal components. (direction of new feature space)\n",
        "eigen_values, eigen_vectors = np.linalg.eig(covariance_matrix)\n",
        "print(eigen_values)\n",
        "print(eigen_vectors)"
      ],
      "metadata": {
        "colab": {
          "base_uri": "https://localhost:8080/"
        },
        "id": "-_OMQuTEm8p_",
        "outputId": "309a1676-a4dd-4f3b-81df-2e33d6a31700"
      },
      "execution_count": 146,
      "outputs": [
        {
          "output_type": "stream",
          "name": "stdout",
          "text": [
            "[1.54062968 0.05576342]\n",
            "[[ 0.87068299 -0.49184463]\n",
            " [ 0.49184463  0.87068299]]\n"
          ]
        }
      ]
    },
    {
      "cell_type": "code",
      "source": [
        "# Just To check if the eigenvalues really represent the variance, lets find out the proportion of variance for each components\n",
        "proportion1 = eigen_values[0] / np.sum(eigen_values)\n",
        "print(proportion1*100)\n",
        "proportion2 = eigen_values[1] / np.sum(eigen_values)\n",
        "print(proportion2*100)"
      ],
      "metadata": {
        "colab": {
          "base_uri": "https://localhost:8080/"
        },
        "id": "P6_In0Omo5XH",
        "outputId": "baa8409f-710c-413c-86c0-d858eea1f56b"
      },
      "execution_count": 147,
      "outputs": [
        {
          "output_type": "stream",
          "name": "stdout",
          "text": [
            "96.50691150077135\n",
            "3.4930884992286457\n"
          ]
        }
      ]
    },
    {
      "cell_type": "markdown",
      "source": [
        "**STEP 4: Transform the data with the selected eigen vector.**"
      ],
      "metadata": {
        "id": "4kL9VZ8gqgbO"
      }
    },
    {
      "cell_type": "code",
      "source": [
        "#first write the eigenvectors row wise (do the transpose, from column wise to row wise)\n",
        "arranged_eigen_vector = np.transpose(eigen_vectors)\n",
        "print(arranged_eigen_vector.shape)\n",
        "print(arranged_eigen_vector)\n",
        "\n",
        "#also transpose the (50,2) data matrix to (2,50)\n",
        "transposed_data_matrix = transformed_data_by_random_matrix.T\n",
        "print(transposed_data_matrix.shape)"
      ],
      "metadata": {
        "colab": {
          "base_uri": "https://localhost:8080/"
        },
        "id": "ygc7JVSkqJ6h",
        "outputId": "8f8f80e4-bc8b-472a-b5ae-b51c6c243859"
      },
      "execution_count": 148,
      "outputs": [
        {
          "output_type": "stream",
          "name": "stdout",
          "text": [
            "(2, 2)\n",
            "[[ 0.87068299  0.49184463]\n",
            " [-0.49184463  0.87068299]]\n",
            "(2, 50)\n"
          ]
        }
      ]
    },
    {
      "cell_type": "code",
      "source": [
        "#Project data into first principal component (by matrix multiplication)\n",
        "new_data = np.dot(arranged_eigen_vector,transposed_data_matrix)\n",
        "print(new_data.shape)\n",
        "#print(new_data)"
      ],
      "metadata": {
        "colab": {
          "base_uri": "https://localhost:8080/"
        },
        "id": "R3T0-LXArnSC",
        "outputId": "c696f4fd-2c19-46c5-8e4d-85fb301d2389"
      },
      "execution_count": 149,
      "outputs": [
        {
          "output_type": "stream",
          "name": "stdout",
          "text": [
            "(2, 50)\n"
          ]
        }
      ]
    },
    {
      "cell_type": "code",
      "source": [
        "#transpose back to (50,2)\n",
        "trans_new_data=new_data.T\n",
        "print(trans_new_data.shape)"
      ],
      "metadata": {
        "colab": {
          "base_uri": "https://localhost:8080/"
        },
        "id": "QD7paxlQ4TfN",
        "outputId": "90fba132-8ee3-4677-819a-6eb77651087f"
      },
      "execution_count": 150,
      "outputs": [
        {
          "output_type": "stream",
          "name": "stdout",
          "text": [
            "(50, 2)\n"
          ]
        }
      ]
    },
    {
      "cell_type": "code",
      "source": [
        "# again see if the elements in main diagonal are max\n",
        "covariance_of_new_data = np.cov(new_data)\n",
        "print(covariance_of_new_data)"
      ],
      "metadata": {
        "colab": {
          "base_uri": "https://localhost:8080/"
        },
        "id": "hFFC2TZI60ER",
        "outputId": "8316c0dd-3b3b-4767-b15d-929a5a99cbd4"
      },
      "execution_count": 151,
      "outputs": [
        {
          "output_type": "stream",
          "name": "stdout",
          "text": [
            "[[1.54062968e+00 1.49837666e-16]\n",
            " [1.49837666e-16 5.57634238e-02]]\n"
          ]
        }
      ]
    },
    {
      "cell_type": "code",
      "source": [
        "#lets select the best eigen vectors as specified in the step 4\n",
        "\n",
        "best_eigen_vector = np.transpose(eigen_vectors[:,0])\n",
        "print(best_eigen_vector.shape)\n",
        "print(best_eigen_vector)\n",
        "\n",
        "new_new_data = np.dot(best_eigen_vector,transposed_data_matrix)\n",
        "print(new_new_data.shape)\n",
        "print(new_new_data)"
      ],
      "metadata": {
        "colab": {
          "base_uri": "https://localhost:8080/"
        },
        "id": "hHFtTbzTMCsL",
        "outputId": "b0d131b5-8aa4-4350-a085-4941594075d9"
      },
      "execution_count": 155,
      "outputs": [
        {
          "output_type": "stream",
          "name": "stdout",
          "text": [
            "(2,)\n",
            "[0.87068299 0.49184463]\n",
            "(50,)\n",
            "[ 1.00000893e+00 -4.62198377e-04  1.93900373e-01 -3.34679440e+00\n",
            " -5.70988470e-01 -2.23631784e+00  1.18071709e+00 -5.97430896e-01\n",
            " -1.17041812e+00  9.34218485e-01 -1.29021108e+00 -1.08987623e+00\n",
            "  3.89269167e-01  1.04336782e+00  8.82359922e-01  2.29094956e+00\n",
            "  1.76906796e+00  1.92611325e-01  5.21687204e-01  3.30051395e+00\n",
            "  4.55023551e-02 -1.02201156e+00  1.42468148e+00 -6.01767566e-01\n",
            "  1.43185868e+00  2.16996639e+00 -1.25131828e+00 -9.75888813e-01\n",
            " -1.05682988e-01 -1.26847473e+00  4.69478689e-01  1.08083944e+00\n",
            " -1.85231083e+00  3.26178706e-01 -7.54331701e-01 -5.38477186e-01\n",
            " -1.15451763e+00 -1.02983528e+00 -1.49773707e-01  1.03651085e+00\n",
            "  1.99239938e-01 -6.46781542e-01 -1.99467724e+00  2.63674652e-01\n",
            " -1.44023050e-01 -8.17832306e-01  1.36876335e-01 -3.82855068e-01\n",
            " -8.43771683e-01 -3.05090092e-01]\n"
          ]
        }
      ]
    },
    {
      "cell_type": "markdown",
      "source": [
        "**STEP 6: plot the new data**"
      ],
      "metadata": {
        "id": "EBkxLmOACQzG"
      }
    },
    {
      "cell_type": "code",
      "source": [
        "plt.scatter(new_data[0,:], new_data[1,:] )\n",
        "plt.ylim(-3,3)"
      ],
      "metadata": {
        "colab": {
          "base_uri": "https://localhost:8080/",
          "height": 452
        },
        "id": "bNYB6d_L_1Cn",
        "outputId": "ea9b73fd-02d6-4a44-dbbb-35f65d76bad0"
      },
      "execution_count": 153,
      "outputs": [
        {
          "output_type": "execute_result",
          "data": {
            "text/plain": [
              "(-3.0, 3.0)"
            ]
          },
          "metadata": {},
          "execution_count": 153
        },
        {
          "output_type": "display_data",
          "data": {
            "text/plain": [
              "<Figure size 640x480 with 1 Axes>"
            ],
            "image/png": "[encoded data removed]"
          },
          "metadata": {}
        }
      ]
    },
    {
      "cell_type": "code",
      "source": [
        "zeros = np.zeros(50)\n",
        "plt.scatter(new_data[1,:],zeros)\n",
        "plt.grid()\n",
        "plt.ylim(-1,1)"
      ],
      "metadata": {
        "colab": {
          "base_uri": "https://localhost:8080/",
          "height": 452
        },
        "id": "UONbWL5URj2G",
        "outputId": "1ea64077-c749-4a24-9bdf-100dafa75d93"
      },
      "execution_count": 172,
      "outputs": [
        {
          "output_type": "execute_result",
          "data": {
            "text/plain": [
              "(-1.0, 1.0)"
            ]
          },
          "metadata": {},
          "execution_count": 172
        },
        {
          "output_type": "display_data",
          "data": {
            "text/plain": [
              "<Figure size 640x480 with 1 Axes>"
            ],
            "image/png": "[encoded data removed]"
          },
          "metadata": {}
        }
      ]
    },
    {
      "cell_type": "code",
      "source": [
        "print(new_data.shape)\n",
        "print(new_data)"
      ],
      "metadata": {
        "colab": {
          "base_uri": "https://localhost:8080/"
        },
        "id": "J4XBf5T9VK7m",
        "outputId": "23e425eb-f996-446f-e87c-2785f050faf3"
      },
      "execution_count": 174,
      "outputs": [
        {
          "output_type": "stream",
          "name": "stdout",
          "text": [
            "(2, 50)\n",
            "[[ 1.00000893e+00 -4.62198377e-04  1.93900373e-01 -3.34679440e+00\n",
            "  -5.70988470e-01 -2.23631784e+00  1.18071709e+00 -5.97430896e-01\n",
            "  -1.17041812e+00  9.34218485e-01 -1.29021108e+00 -1.08987623e+00\n",
            "   3.89269167e-01  1.04336782e+00  8.82359922e-01  2.29094956e+00\n",
            "   1.76906796e+00  1.92611325e-01  5.21687204e-01  3.30051395e+00\n",
            "   4.55023551e-02 -1.02201156e+00  1.42468148e+00 -6.01767566e-01\n",
            "   1.43185868e+00  2.16996639e+00 -1.25131828e+00 -9.75888813e-01\n",
            "  -1.05682988e-01 -1.26847473e+00  4.69478689e-01  1.08083944e+00\n",
            "  -1.85231083e+00  3.26178706e-01 -7.54331701e-01 -5.38477186e-01\n",
            "  -1.15451763e+00 -1.02983528e+00 -1.49773707e-01  1.03651085e+00\n",
            "   1.99239938e-01 -6.46781542e-01 -1.99467724e+00  2.63674652e-01\n",
            "  -1.44023050e-01 -8.17832306e-01  1.36876335e-01 -3.82855068e-01\n",
            "  -8.43771683e-01 -3.05090092e-01]\n",
            " [-2.12344964e-01 -5.03107545e-02 -4.74591952e-01  9.00928361e-02\n",
            "   9.61702730e-02  2.36544793e-01 -8.57485678e-02  2.00536424e-01\n",
            "   1.87698360e-01  3.05750245e-01  1.80160286e-01  7.78964914e-02\n",
            "  -3.69573469e-01  5.48607267e-01  5.24237128e-02  3.67060374e-01\n",
            "   9.22760315e-02 -2.78890222e-02  4.32816207e-01  1.61436633e-01\n",
            "   3.67513782e-01  9.53257598e-02  2.90733574e-01  5.77752311e-02\n",
            "  -2.25122156e-01 -2.45175749e-01  1.49404278e-01 -8.43154079e-02\n",
            "  -8.74964810e-03 -1.14047577e-01  1.86724378e-01 -1.02243411e-01\n",
            "   4.43143241e-02 -2.72173837e-01  3.92696877e-01 -1.99392174e-01\n",
            "  -3.65171477e-01 -9.35156803e-02 -2.36844591e-01 -1.09440436e-02\n",
            "  -3.43996076e-01  1.01081683e-01 -1.13972172e-01 -1.79108913e-02\n",
            "  -1.95373613e-01  5.18672374e-01 -2.21861059e-02 -1.04056119e-01\n",
            "  -1.77053652e-02  2.40668261e-01]]\n"
          ]
        }
      ]
    }
  ]
}