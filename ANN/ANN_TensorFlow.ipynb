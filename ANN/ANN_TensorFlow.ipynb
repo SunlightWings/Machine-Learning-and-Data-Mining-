{
  "nbformat": 4,
  "nbformat_minor": 0,
  "metadata": {
    "colab": {
      "provenance": [],
      "gpuType": "T4"
    },
    "kernelspec": {
      "name": "python3",
      "display_name": "Python 3"
    },
    "language_info": {
      "name": "python"
    },
    "accelerator": "GPU"
  },
  "cells": [
    {
      "cell_type": "markdown",
      "source": [
        "Author: Prabin"
      ],
      "metadata": {
        "id": "elzyfB3Rwqo5"
      }
    },
    {
      "cell_type": "markdown",
      "source": [
        "### Prerequisites:\n",
        "\n",
        "\n",
        "1. Knowledge about commonly used functions in Tensorflow.\n",
        "2. Basic workflow of an ANN model.\n",
        "\n",
        "### Learning Objectives:\n",
        "\n",
        "1. Learn how to implement a simple ANN in Tensorflow using the Keras API.\n",
        "2. Learn about various classification metrics.\n"
      ],
      "metadata": {
        "id": "T8Jq3Ei9ZPg3"
      }
    },
    {
      "cell_type": "markdown",
      "source": [
        "Lets look at the TensorFlow implementation of Artificial Neural Networks (ANN).\n",
        "\n",
        "## TensorFlow:\n",
        "TensorFlow is an open-source machine learning framework developed by the Google Brain team. It's designed to simplify the process of building and deploying machine learning models, offering a flexible and comprehensive ecosystem for various machine learning tasks, from neural networks to deep learning. TensorFlow offers high-level APIs like Keras, which simplifies model building and training with intuitive, user-friendly interfaces.\n",
        "\n",
        "Lets build a model using Tensorflow now.\n",
        "\n",
        "\\\n",
        "\n",
        "### 1. Installing and Importing TensorFlow and necessary Libraries:"
      ],
      "metadata": {
        "id": "nW5W3cjCXbSD"
      }
    },
    {
      "cell_type": "code",
      "execution_count": 1,
      "metadata": {
        "colab": {
          "base_uri": "https://localhost:8080/"
        },
        "collapsed": true,
        "id": "FG-btFV7WJya",
        "outputId": "7351bdd2-97fd-4624-f7e9-cea4c4ee0e36"
      },
      "outputs": [
        {
          "output_type": "stream",
          "name": "stdout",
          "text": [
            "Requirement already satisfied: Tensorflow in /usr/local/lib/python3.10/dist-packages (2.15.0)\n",
            "Requirement already satisfied: absl-py>=1.0.0 in /usr/local/lib/python3.10/dist-packages (from Tensorflow) (1.4.0)\n",
            "Requirement already satisfied: astunparse>=1.6.0 in /usr/local/lib/python3.10/dist-packages (from Tensorflow) (1.6.3)\n",
            "Requirement already satisfied: flatbuffers>=23.5.26 in /usr/local/lib/python3.10/dist-packages (from Tensorflow) (24.3.25)\n",
            "Requirement already satisfied: gast!=0.5.0,!=0.5.1,!=0.5.2,>=0.2.1 in /usr/local/lib/python3.10/dist-packages (from Tensorflow) (0.5.4)\n",
            "Requirement already satisfied: google-pasta>=0.1.1 in /usr/local/lib/python3.10/dist-packages (from Tensorflow) (0.2.0)\n",
            "Requirement already satisfied: h5py>=2.9.0 in /usr/local/lib/python3.10/dist-packages (from Tensorflow) (3.9.0)\n",
            "Requirement already satisfied: libclang>=13.0.0 in /usr/local/lib/python3.10/dist-packages (from Tensorflow) (18.1.1)\n",
            "Requirement already satisfied: ml-dtypes~=0.2.0 in /usr/local/lib/python3.10/dist-packages (from Tensorflow) (0.2.0)\n",
            "Requirement already satisfied: numpy<2.0.0,>=1.23.5 in /usr/local/lib/python3.10/dist-packages (from Tensorflow) (1.25.2)\n",
            "Requirement already satisfied: opt-einsum>=2.3.2 in /usr/local/lib/python3.10/dist-packages (from Tensorflow) (3.3.0)\n",
            "Requirement already satisfied: packaging in /usr/local/lib/python3.10/dist-packages (from Tensorflow) (24.1)\n",
            "Requirement already satisfied: protobuf!=4.21.0,!=4.21.1,!=4.21.2,!=4.21.3,!=4.21.4,!=4.21.5,<5.0.0dev,>=3.20.3 in /usr/local/lib/python3.10/dist-packages (from Tensorflow) (3.20.3)\n",
            "Requirement already satisfied: setuptools in /usr/local/lib/python3.10/dist-packages (from Tensorflow) (67.7.2)\n",
            "Requirement already satisfied: six>=1.12.0 in /usr/local/lib/python3.10/dist-packages (from Tensorflow) (1.16.0)\n",
            "Requirement already satisfied: termcolor>=1.1.0 in /usr/local/lib/python3.10/dist-packages (from Tensorflow) (2.4.0)\n",
            "Requirement already satisfied: typing-extensions>=3.6.6 in /usr/local/lib/python3.10/dist-packages (from Tensorflow) (4.12.2)\n",
            "Requirement already satisfied: wrapt<1.15,>=1.11.0 in /usr/local/lib/python3.10/dist-packages (from Tensorflow) (1.14.1)\n",
            "Requirement already satisfied: tensorflow-io-gcs-filesystem>=0.23.1 in /usr/local/lib/python3.10/dist-packages (from Tensorflow) (0.37.0)\n",
            "Requirement already satisfied: grpcio<2.0,>=1.24.3 in /usr/local/lib/python3.10/dist-packages (from Tensorflow) (1.64.1)\n",
            "Requirement already satisfied: tensorboard<2.16,>=2.15 in /usr/local/lib/python3.10/dist-packages (from Tensorflow) (2.15.2)\n",
            "Requirement already satisfied: tensorflow-estimator<2.16,>=2.15.0 in /usr/local/lib/python3.10/dist-packages (from Tensorflow) (2.15.0)\n",
            "Requirement already satisfied: keras<2.16,>=2.15.0 in /usr/local/lib/python3.10/dist-packages (from Tensorflow) (2.15.0)\n",
            "Requirement already satisfied: wheel<1.0,>=0.23.0 in /usr/local/lib/python3.10/dist-packages (from astunparse>=1.6.0->Tensorflow) (0.43.0)\n",
            "Requirement already satisfied: google-auth<3,>=1.6.3 in /usr/local/lib/python3.10/dist-packages (from tensorboard<2.16,>=2.15->Tensorflow) (2.27.0)\n",
            "Requirement already satisfied: google-auth-oauthlib<2,>=0.5 in /usr/local/lib/python3.10/dist-packages (from tensorboard<2.16,>=2.15->Tensorflow) (1.2.0)\n",
            "Requirement already satisfied: markdown>=2.6.8 in /usr/local/lib/python3.10/dist-packages (from tensorboard<2.16,>=2.15->Tensorflow) (3.6)\n",
            "Requirement already satisfied: requests<3,>=2.21.0 in /usr/local/lib/python3.10/dist-packages (from tensorboard<2.16,>=2.15->Tensorflow) (2.31.0)\n",
            "Requirement already satisfied: tensorboard-data-server<0.8.0,>=0.7.0 in /usr/local/lib/python3.10/dist-packages (from tensorboard<2.16,>=2.15->Tensorflow) (0.7.2)\n",
            "Requirement already satisfied: werkzeug>=1.0.1 in /usr/local/lib/python3.10/dist-packages (from tensorboard<2.16,>=2.15->Tensorflow) (3.0.3)\n",
            "Requirement already satisfied: cachetools<6.0,>=2.0.0 in /usr/local/lib/python3.10/dist-packages (from google-auth<3,>=1.6.3->tensorboard<2.16,>=2.15->Tensorflow) (5.3.3)\n",
            "Requirement already satisfied: pyasn1-modules>=0.2.1 in /usr/local/lib/python3.10/dist-packages (from google-auth<3,>=1.6.3->tensorboard<2.16,>=2.15->Tensorflow) (0.4.0)\n",
            "Requirement already satisfied: rsa<5,>=3.1.4 in /usr/local/lib/python3.10/dist-packages (from google-auth<3,>=1.6.3->tensorboard<2.16,>=2.15->Tensorflow) (4.9)\n",
            "Requirement already satisfied: requests-oauthlib>=0.7.0 in /usr/local/lib/python3.10/dist-packages (from google-auth-oauthlib<2,>=0.5->tensorboard<2.16,>=2.15->Tensorflow) (1.3.1)\n",
            "Requirement already satisfied: charset-normalizer<4,>=2 in /usr/local/lib/python3.10/dist-packages (from requests<3,>=2.21.0->tensorboard<2.16,>=2.15->Tensorflow) (3.3.2)\n",
            "Requirement already satisfied: idna<4,>=2.5 in /usr/local/lib/python3.10/dist-packages (from requests<3,>=2.21.0->tensorboard<2.16,>=2.15->Tensorflow) (3.7)\n",
            "Requirement already satisfied: urllib3<3,>=1.21.1 in /usr/local/lib/python3.10/dist-packages (from requests<3,>=2.21.0->tensorboard<2.16,>=2.15->Tensorflow) (2.0.7)\n",
            "Requirement already satisfied: certifi>=2017.4.17 in /usr/local/lib/python3.10/dist-packages (from requests<3,>=2.21.0->tensorboard<2.16,>=2.15->Tensorflow) (2024.6.2)\n",
            "Requirement already satisfied: MarkupSafe>=2.1.1 in /usr/local/lib/python3.10/dist-packages (from werkzeug>=1.0.1->tensorboard<2.16,>=2.15->Tensorflow) (2.1.5)\n",
            "Requirement already satisfied: pyasn1<0.7.0,>=0.4.6 in /usr/local/lib/python3.10/dist-packages (from pyasn1-modules>=0.2.1->google-auth<3,>=1.6.3->tensorboard<2.16,>=2.15->Tensorflow) (0.6.0)\n",
            "Requirement already satisfied: oauthlib>=3.0.0 in /usr/local/lib/python3.10/dist-packages (from requests-oauthlib>=0.7.0->google-auth-oauthlib<2,>=0.5->tensorboard<2.16,>=2.15->Tensorflow) (3.2.2)\n"
          ]
        }
      ],
      "source": [
        "!pip install Tensorflow"
      ]
    },
    {
      "cell_type": "code",
      "source": [
        "import tensorflow as tf\n",
        "from tensorflow.keras.models import Sequential\n",
        "from tensorflow.keras.layers import Dense"
      ],
      "metadata": {
        "id": "eyeta2azYczx"
      },
      "execution_count": 2,
      "outputs": []
    },
    {
      "cell_type": "markdown",
      "source": [
        "### 2. Downloading dataset and Exploring the data\n",
        "We start by downloading the Fashion MNIST dataset to perform classification.To download it, we use keras.dataset API.\n",
        "\n",
        "Here (x_train, y_train) is our **training dataset**. Training Dataset is an actual dataset that we use to train the parameters of the model (weights and biases in the case of Neural Network). The model sees and learns from this data. Further split of train set into validation set and train set is done later in the code.\n",
        "\n",
        "(x_test,y_test) is our **test dataset**. which is the sample of data used to provide an unbiased evaluation of a final model .Our model only sees the test dataset at the end, it is used as final evaluation of the model\n"
      ],
      "metadata": {
        "id": "ANbH44w_ZwHF"
      }
    },
    {
      "cell_type": "code",
      "source": [
        "(x_train, y_train), (x_test, y_test) = tf.keras.datasets.fashion_mnist.load_data()"
      ],
      "metadata": {
        "id": "NCsYgRKwY2uG"
      },
      "execution_count": 3,
      "outputs": []
    },
    {
      "cell_type": "code",
      "source": [
        "print(x_train.shape,y_train.shape)\n",
        "print(x_test.shape,y_test.shape)"
      ],
      "metadata": {
        "colab": {
          "base_uri": "https://localhost:8080/"
        },
        "id": "tYgOMCWxZ4Wa",
        "outputId": "2afaac72-d583-4788-c661-135fd73c7376"
      },
      "execution_count": 4,
      "outputs": [
        {
          "output_type": "stream",
          "name": "stdout",
          "text": [
            "(60000, 28, 28) (60000,)\n",
            "(10000, 28, 28) (10000,)\n"
          ]
        }
      ]
    },
    {
      "cell_type": "markdown",
      "source": [
        "Here, x_train shape (60000,28,28) means it has 60k examples of image each of size 28*28 and y_train shape (60000,) means it has one label for each 60k training image.\n",
        "\n",
        "Meanwhile the test set has fewer instances, which is obvious.\n",
        "(1000/6000)*100 = 16.67 % of the data is test data.\n",
        "\n",
        "Lets explore the dataset even further"
      ],
      "metadata": {
        "id": "seBJS_cda43E"
      }
    },
    {
      "cell_type": "code",
      "source": [
        "print(\"The first image, all pixels shown is:\\n\",x_train[0,:,:])\n",
        "print(\"\\n\")\n",
        "print(\"The target label of the first picture is:\",y_train[0])"
      ],
      "metadata": {
        "colab": {
          "base_uri": "https://localhost:8080/"
        },
        "id": "MNf9MozuaueX",
        "outputId": "f99dc6de-6af8-4451-f94f-4677eba761f1"
      },
      "execution_count": 5,
      "outputs": [
        {
          "output_type": "stream",
          "name": "stdout",
          "text": [
            "The first image, all pixels shown is:\n",
            " [[  0   0   0   0   0   0   0   0   0   0   0   0   0   0   0   0   0   0\n",
            "    0   0   0   0   0   0   0   0   0   0]\n",
            " [  0   0   0   0   0   0   0   0   0   0   0   0   0   0   0   0   0   0\n",
            "    0   0   0   0   0   0   0   0   0   0]\n",
            " [  0   0   0   0   0   0   0   0   0   0   0   0   0   0   0   0   0   0\n",
            "    0   0   0   0   0   0   0   0   0   0]\n",
            " [  0   0   0   0   0   0   0   0   0   0   0   0   1   0   0  13  73   0\n",
            "    0   1   4   0   0   0   0   1   1   0]\n",
            " [  0   0   0   0   0   0   0   0   0   0   0   0   3   0  36 136 127  62\n",
            "   54   0   0   0   1   3   4   0   0   3]\n",
            " [  0   0   0   0   0   0   0   0   0   0   0   0   6   0 102 204 176 134\n",
            "  144 123  23   0   0   0   0  12  10   0]\n",
            " [  0   0   0   0   0   0   0   0   0   0   0   0   0   0 155 236 207 178\n",
            "  107 156 161 109  64  23  77 130  72  15]\n",
            " [  0   0   0   0   0   0   0   0   0   0   0   1   0  69 207 223 218 216\n",
            "  216 163 127 121 122 146 141  88 172  66]\n",
            " [  0   0   0   0   0   0   0   0   0   1   1   1   0 200 232 232 233 229\n",
            "  223 223 215 213 164 127 123 196 229   0]\n",
            " [  0   0   0   0   0   0   0   0   0   0   0   0   0 183 225 216 223 228\n",
            "  235 227 224 222 224 221 223 245 173   0]\n",
            " [  0   0   0   0   0   0   0   0   0   0   0   0   0 193 228 218 213 198\n",
            "  180 212 210 211 213 223 220 243 202   0]\n",
            " [  0   0   0   0   0   0   0   0   0   1   3   0  12 219 220 212 218 192\n",
            "  169 227 208 218 224 212 226 197 209  52]\n",
            " [  0   0   0   0   0   0   0   0   0   0   6   0  99 244 222 220 218 203\n",
            "  198 221 215 213 222 220 245 119 167  56]\n",
            " [  0   0   0   0   0   0   0   0   0   4   0   0  55 236 228 230 228 240\n",
            "  232 213 218 223 234 217 217 209  92   0]\n",
            " [  0   0   1   4   6   7   2   0   0   0   0   0 237 226 217 223 222 219\n",
            "  222 221 216 223 229 215 218 255  77   0]\n",
            " [  0   3   0   0   0   0   0   0   0  62 145 204 228 207 213 221 218 208\n",
            "  211 218 224 223 219 215 224 244 159   0]\n",
            " [  0   0   0   0  18  44  82 107 189 228 220 222 217 226 200 205 211 230\n",
            "  224 234 176 188 250 248 233 238 215   0]\n",
            " [  0  57 187 208 224 221 224 208 204 214 208 209 200 159 245 193 206 223\n",
            "  255 255 221 234 221 211 220 232 246   0]\n",
            " [  3 202 228 224 221 211 211 214 205 205 205 220 240  80 150 255 229 221\n",
            "  188 154 191 210 204 209 222 228 225   0]\n",
            " [ 98 233 198 210 222 229 229 234 249 220 194 215 217 241  65  73 106 117\n",
            "  168 219 221 215 217 223 223 224 229  29]\n",
            " [ 75 204 212 204 193 205 211 225 216 185 197 206 198 213 240 195 227 245\n",
            "  239 223 218 212 209 222 220 221 230  67]\n",
            " [ 48 203 183 194 213 197 185 190 194 192 202 214 219 221 220 236 225 216\n",
            "  199 206 186 181 177 172 181 205 206 115]\n",
            " [  0 122 219 193 179 171 183 196 204 210 213 207 211 210 200 196 194 191\n",
            "  195 191 198 192 176 156 167 177 210  92]\n",
            " [  0   0  74 189 212 191 175 172 175 181 185 188 189 188 193 198 204 209\n",
            "  210 210 211 188 188 194 192 216 170   0]\n",
            " [  2   0   0   0  66 200 222 237 239 242 246 243 244 221 220 193 191 179\n",
            "  182 182 181 176 166 168  99  58   0   0]\n",
            " [  0   0   0   0   0   0   0  40  61  44  72  41  35   0   0   0   0   0\n",
            "    0   0   0   0   0   0   0   0   0   0]\n",
            " [  0   0   0   0   0   0   0   0   0   0   0   0   0   0   0   0   0   0\n",
            "    0   0   0   0   0   0   0   0   0   0]\n",
            " [  0   0   0   0   0   0   0   0   0   0   0   0   0   0   0   0   0   0\n",
            "    0   0   0   0   0   0   0   0   0   0]]\n",
            "\n",
            "\n",
            "The target label of the first picture is: 9\n"
          ]
        }
      ]
    },
    {
      "cell_type": "markdown",
      "source": [
        "The image shown in numbers format is hard to grasp by humans. But let's naively guess that the picture is a shoe based on the values in the matrix. Lets check by plotting the image.\n",
        "\n",
        "For plotting the image, we use matplotlib.pyplot.imshow() library.\n",
        "\n",
        "`matplotlib.pyplot.imshow(X, cmap=None, norm=None, *, aspect=None, interpolation=None, alpha=None, vmin=None, vmax=None, origin=None, extent=None, interpolation_stage=None, filternorm=True, filterrad=4.0, resample=None, url=None, data=None, **kwargs)`"
      ],
      "metadata": {
        "id": "qVroCGqvcTRJ"
      }
    },
    {
      "cell_type": "code",
      "source": [
        "import matplotlib.pyplot as plt\n",
        "plt.xlabel('horizontal pixels')\n",
        "plt.ylabel('vertical pixels')\n",
        "plt.imshow(x_train[0,:,:])     # [image index, vertical pixels, horizontal pixels]"
      ],
      "metadata": {
        "colab": {
          "base_uri": "https://localhost:8080/",
          "height": 466
        },
        "id": "ZINWLAsnboQ2",
        "outputId": "68f6baab-88f5-439e-f849-b795c96649a5"
      },
      "execution_count": 6,
      "outputs": [
        {
          "output_type": "execute_result",
          "data": {
            "text/plain": [
              "<matplotlib.image.AxesImage at 0x7c14f4fe9c00>"
            ]
          },
          "metadata": {},
          "execution_count": 6
        },
        {
          "output_type": "display_data",
          "data": {
            "text/plain": [
              "<Figure size 640x480 with 1 Axes>"
            ],
            "image/png": "[encoded data removed]"
          },
          "metadata": {}
        }
      ]
    },
    {
      "cell_type": "markdown",
      "source": [
        "Lets use tenforflow.unique to find out the unique elements in a 1D tensor.\n",
        "\n",
        "* 'values' tensor contains the unique elements in the dataset.\n",
        "\n",
        "* 'ydx' tensor contains the indices of the unique elements in the original y_train tensor. The shape of idx is the same as the input tensor y_train\n",
        "\n",
        "`tf.unique(x,out_idx=tf.dtypes.int32,name=None)`"
      ],
      "metadata": {
        "id": "xkH0s_XEgiyx"
      }
    },
    {
      "cell_type": "code",
      "source": [
        "values, idx = tf.unique(y_train)"
      ],
      "metadata": {
        "id": "neWtiTAZd4Gu"
      },
      "execution_count": 7,
      "outputs": []
    },
    {
      "cell_type": "code",
      "source": [
        "print(\"Unique y labels in the order of dataset:\\n\",values, sep='')            # 'sep' helps to maintain proper identation"
      ],
      "metadata": {
        "colab": {
          "base_uri": "https://localhost:8080/"
        },
        "id": "6uPwtU_cf_Yr",
        "outputId": "367fb29d-abeb-4d72-9a14-07a1f85c2527"
      },
      "execution_count": 8,
      "outputs": [
        {
          "output_type": "stream",
          "name": "stdout",
          "text": [
            "Unique y labels in the order of dataset:\n",
            "tf.Tensor([9 0 3 2 7 5 1 6 4 8], shape=(10,), dtype=uint8)\n"
          ]
        }
      ]
    },
    {
      "cell_type": "code",
      "source": [
        "print(idx)"
      ],
      "metadata": {
        "colab": {
          "base_uri": "https://localhost:8080/"
        },
        "id": "M0Xo9P30gOCg",
        "outputId": "fb785c9d-ce6f-47fd-a704-a6c2c33a2eaf"
      },
      "execution_count": 9,
      "outputs": [
        {
          "output_type": "stream",
          "name": "stdout",
          "text": [
            "tf.Tensor([0 1 1 ... 2 1 5], shape=(60000,), dtype=int32)\n"
          ]
        }
      ]
    },
    {
      "cell_type": "markdown",
      "source": [
        "#### Histogram:\n",
        "Lets see the logic behind the histogram first.\n",
        "\n",
        "We intend to have numbers ranged 1 to 100 in the x axis, and their counts in y axis. Thats like setting number of bins = 100. But lets set the number of bins = 20 and understand whats going on.\n",
        "\n",
        "* Range = 100-0 = 100\n",
        "* Binwidth = 100/20 = 5\n",
        "* Each bin covers (0 to 5), (5 to 10), (10 to 15) and so on.....\n",
        "* Histogram counts how many data points are in each bin and plot the distribution.\n",
        "\n",
        "So basically, the original datapoints are categorized into 20 classes, and those classes' distribution is being shown!"
      ],
      "metadata": {
        "id": "PA2LQ1bqnks1"
      }
    },
    {
      "cell_type": "code",
      "source": [
        "import numpy as np\n",
        "data = np.random.randint(0, 101, size=1000)  # Random integers from 0 to 100\n",
        "\n",
        "plt.hist(data, bins=20, color = 'skyblue')\n",
        "plt.title('Histogram with 20 bins')\n",
        "plt.show()"
      ],
      "metadata": {
        "colab": {
          "base_uri": "https://localhost:8080/",
          "height": 452
        },
        "id": "cLyeaRWensQt",
        "outputId": "b4607234-3d5e-4aa2-f9d2-1a27faefd60a"
      },
      "execution_count": 10,
      "outputs": [
        {
          "output_type": "display_data",
          "data": {
            "text/plain": [
              "<Figure size 640x480 with 1 Axes>"
            ],
            "image/png": "[encoded data removed]"
          },
          "metadata": {}
        }
      ]
    },
    {
      "cell_type": "markdown",
      "source": [
        "Now that we know the logic behind the histogram, lets plot the histogram for our dataset."
      ],
      "metadata": {
        "id": "0EnIHsTCpJQB"
      }
    },
    {
      "cell_type": "code",
      "source": [
        "plt.hist(y_train, bins = 10)"
      ],
      "metadata": {
        "colab": {
          "base_uri": "https://localhost:8080/",
          "height": 499
        },
        "id": "Cz0cltkej5i1",
        "outputId": "76ca950e-51cf-4a28-c200-04c22b2c3cad"
      },
      "execution_count": 11,
      "outputs": [
        {
          "output_type": "execute_result",
          "data": {
            "text/plain": [
              "(array([6000., 6000., 6000., 6000., 6000., 6000., 6000., 6000., 6000.,\n",
              "        6000.]),\n",
              " array([0. , 0.9, 1.8, 2.7, 3.6, 4.5, 5.4, 6.3, 7.2, 8.1, 9. ]),\n",
              " <BarContainer object of 10 artists>)"
            ]
          },
          "metadata": {},
          "execution_count": 11
        },
        {
          "output_type": "display_data",
          "data": {
            "text/plain": [
              "<Figure size 640x480 with 1 Axes>"
            ],
            "image/png": "[encoded data removed]"
          },
          "metadata": {}
        }
      ]
    },
    {
      "cell_type": "markdown",
      "source": [
        "For continuous data, each bin can represent a range of values. For discrete data (like class labels), each bin can represent an individual class or a group of classes.\n",
        "\n",
        "To make the histogram finer, lets increase the number of bins. Upon doing so, there is a higher chance that each bin contains a separate class."
      ],
      "metadata": {
        "id": "Nz5lRlyVk_vb"
      }
    },
    {
      "cell_type": "code",
      "source": [
        "plt.hist(y_train,bins=20)"
      ],
      "metadata": {
        "colab": {
          "base_uri": "https://localhost:8080/",
          "height": 534
        },
        "id": "udLnJHU3gPRr",
        "outputId": "fdc230a2-0f0f-4333-f95a-523c8c2f52a3"
      },
      "execution_count": 13,
      "outputs": [
        {
          "output_type": "execute_result",
          "data": {
            "text/plain": [
              "(array([6000.,    0., 6000.,    0., 6000.,    0., 6000.,    0., 6000.,\n",
              "           0.,    0., 6000.,    0., 6000.,    0., 6000.,    0., 6000.,\n",
              "           0., 6000.]),\n",
              " array([0.  , 0.45, 0.9 , 1.35, 1.8 , 2.25, 2.7 , 3.15, 3.6 , 4.05, 4.5 ,\n",
              "        4.95, 5.4 , 5.85, 6.3 , 6.75, 7.2 , 7.65, 8.1 , 8.55, 9.  ]),\n",
              " <BarContainer object of 20 artists>)"
            ]
          },
          "metadata": {},
          "execution_count": 13
        },
        {
          "output_type": "display_data",
          "data": {
            "text/plain": [
              "<Figure size 640x480 with 1 Axes>"
            ],
            "image/png": "[encoded data removed]"
          },
          "metadata": {}
        }
      ]
    },
    {
      "cell_type": "markdown",
      "source": [
        "### 3. Dataset split:\n",
        "\n",
        "Remember that we have already splitted entire dataset into training and test dataset. Now we further split training dataset into data for actual training dataset and validation dataset.\n",
        "\n",
        "**Validation dataset** is the sample of data used to provide an unbiased evaluation of a model fit on the training dataset while tuning model hyperparameters. Validation dataset is used to tune different hyperparameters so the model is unbiased. A model never learns from the validation dataset.\n",
        "\n",
        "Also remember that the division of dataset was done into 2 parts while importing the dataset itself. Now we must use sklearn `train_test_split` api to further split the training dataset.\n",
        "\n",
        "`sklearn.model_selection.train_test_split(*arrays, test_size=None, train_size=None, random_state=None, shuffle=True, stratify=None)`"
      ],
      "metadata": {
        "id": "btTfWytDsS70"
      }
    },
    {
      "cell_type": "code",
      "source": [
        "from sklearn import model_selection as ms"
      ],
      "metadata": {
        "id": "GyT41y7kxSab"
      },
      "execution_count": 14,
      "outputs": []
    },
    {
      "cell_type": "code",
      "source": [
        "x_train,x_val,y_train,y_val= ms.train_test_split(x_train,y_train,test_size=0.2,random_state=42)"
      ],
      "metadata": {
        "id": "eARldKhSkjdz"
      },
      "execution_count": 15,
      "outputs": []
    },
    {
      "cell_type": "code",
      "source": [
        "print(x_train.shape,y_train.shape)\n",
        "print('\\n')\n",
        "print(x_val.shape,y_val.shape)"
      ],
      "metadata": {
        "colab": {
          "base_uri": "https://localhost:8080/"
        },
        "id": "pYCBCVrdxJ-p",
        "outputId": "008a9f9a-4cac-49db-aeac-2f1f04895d5e"
      },
      "execution_count": 16,
      "outputs": [
        {
          "output_type": "stream",
          "name": "stdout",
          "text": [
            "(48000, 28, 28) (48000,)\n",
            "\n",
            "\n",
            "(12000, 28, 28) (12000,)\n"
          ]
        }
      ]
    },
    {
      "cell_type": "markdown",
      "source": [
        "Here we manually specified the validation dataset to be 20% of the unsplitted training data.\n",
        "\n",
        "The new subset of data are:\n",
        "* Actual training data = 48000\n",
        "* Validation data = 12000\n",
        "* Test data = 10000"
      ],
      "metadata": {
        "id": "CXX5EfZsxnl7"
      }
    },
    {
      "cell_type": "code",
      "source": [
        "plt.figure(figsize=(10, 10))\n",
        "for i in range(10):\n",
        "    plt.subplot(5, 5, int(i + 1))\n",
        "    plt.imshow(x_train[i], cmap='gray')\n",
        "    plt.xticks([])  # removes the vertical lines (grid) in the pictures\n",
        "    plt.yticks([])  # removes horizontal lines or ticks\n",
        "plt.tight_layout()\n",
        "plt.show()\n"
      ],
      "metadata": {
        "colab": {
          "base_uri": "https://localhost:8080/",
          "height": 415
        },
        "id": "hCOSpbCixhaw",
        "outputId": "4375e886-0e51-4b19-c6dc-baf7472a9e90"
      },
      "execution_count": 17,
      "outputs": [
        {
          "output_type": "display_data",
          "data": {
            "text/plain": [
              "<Figure size 1000x1000 with 10 Axes>"
            ],
            "image/png": "[encoded data removed]"
          },
          "metadata": {}
        }
      ]
    },
    {
      "cell_type": "markdown",
      "source": [
        "### 4. Classification using Keras:\n",
        "\n",
        "We will firstly implement the classification task using keras library. Before building the model, lets us reshape the train, test and validation dataset to make it compatible with the input layer of the model.\n",
        "\n",
        "Here the 2d image is to be vectorized into 1d shape.\n",
        "As 28 * 28 = 784, we will be converting the 28 * 28 matrix to a vector of dimension 1 * 784.\n",
        "\n",
        "Lets check the logic behind the reshape method given in tensorflow.\n",
        "\n",
        "`tf.reshape(tensor, shape, name=None)`\n",
        "\n"
      ],
      "metadata": {
        "id": "9Gz03t4q0I8U"
      }
    },
    {
      "cell_type": "code",
      "source": [
        "# sample example\n",
        "t = [[1, 2, 3],\n",
        "     [4, 5, 6]]\n",
        "t"
      ],
      "metadata": {
        "colab": {
          "base_uri": "https://localhost:8080/"
        },
        "id": "hcjuXT1Z2eKF",
        "outputId": "e7b7b313-4736-4057-93f9-7be21f4a581f"
      },
      "execution_count": 18,
      "outputs": [
        {
          "output_type": "execute_result",
          "data": {
            "text/plain": [
              "[[1, 2, 3], [4, 5, 6]]"
            ]
          },
          "metadata": {},
          "execution_count": 18
        }
      ]
    },
    {
      "cell_type": "code",
      "source": [
        "tf.reshape(t, (-1))\n",
        "t"
      ],
      "metadata": {
        "colab": {
          "base_uri": "https://localhost:8080/"
        },
        "id": "9UHe3kmg2zeY",
        "outputId": "faf181e5-a2a7-4063-8fe2-7be1450fd58f"
      },
      "execution_count": 19,
      "outputs": [
        {
          "output_type": "execute_result",
          "data": {
            "text/plain": [
              "[[1, 2, 3], [4, 5, 6]]"
            ]
          },
          "metadata": {},
          "execution_count": 19
        }
      ]
    },
    {
      "cell_type": "markdown",
      "source": [
        "**Wait a moment!! Did it not work?**\n",
        "\n",
        "The issue arose because TensorFlow's tf.reshape function does not modify the original tensor in place; instead, it returns a new tensor with the specified shape.\n",
        "\n",
        "So lets try printing the reshaped tensor instead."
      ],
      "metadata": {
        "id": "j9EnVPH93ZMQ"
      }
    },
    {
      "cell_type": "code",
      "source": [
        "print(tf.reshape(t, [-1]))"
      ],
      "metadata": {
        "colab": {
          "base_uri": "https://localhost:8080/"
        },
        "id": "kS4K62bu31ur",
        "outputId": "88789c85-1c4f-4568-c02d-ca7f4692c8c7"
      },
      "execution_count": 20,
      "outputs": [
        {
          "output_type": "stream",
          "name": "stdout",
          "text": [
            "tf.Tensor([1 2 3 4 5 6], shape=(6,), dtype=int32)\n"
          ]
        }
      ]
    },
    {
      "cell_type": "markdown",
      "source": [
        "Hurray! So the takeaway is to store the reshaped tensor somewhere so we might use it later.\n",
        "\n",
        "Now that we have learned the logic behind the reshape method in Tensorflow, lets reshape our dataset."
      ],
      "metadata": {
        "id": "Rnw7FyBp37Gn"
      }
    },
    {
      "cell_type": "code",
      "source": [
        "x_train=tf.reshape(x_train,(-1,784))\n",
        "x_val=tf.reshape(x_val,(-1,784))\n",
        "x_test=tf.reshape(x_test,(-1,784))"
      ],
      "metadata": {
        "id": "LEWfVK80yknQ"
      },
      "execution_count": 21,
      "outputs": []
    },
    {
      "cell_type": "code",
      "source": [
        "x_train.shape"
      ],
      "metadata": {
        "colab": {
          "base_uri": "https://localhost:8080/"
        },
        "id": "6qcSA6qo0eO6",
        "outputId": "14a51a9e-6a57-446a-8ca9-816e71975deb"
      },
      "execution_count": 22,
      "outputs": [
        {
          "output_type": "execute_result",
          "data": {
            "text/plain": [
              "TensorShape([48000, 784])"
            ]
          },
          "metadata": {},
          "execution_count": 22
        }
      ]
    },
    {
      "cell_type": "markdown",
      "source": [
        "Lets move on to the real juice of this notebook. That is to do the classification task using Keras, Tensorflow."
      ],
      "metadata": {
        "id": "7wMywUD14lHZ"
      }
    },
    {
      "cell_type": "markdown",
      "source": [
        "### 4.a. Model Building:\n",
        "Lets make a model with 3 hidden layers, 1 input layer and 1 output layers.\n",
        "\n",
        "[*mnemonic = LA*]\n",
        "\n",
        "During model building we do the following:\n",
        "* **Layer** Addition  [L]\n",
        "* **Activation function** description for each layers  [A]"
      ],
      "metadata": {
        "id": "h2A-p7Gc485G"
      }
    },
    {
      "cell_type": "code",
      "source": [
        "input_size=784\n",
        "output_size=10\n",
        "hidden_1_shape=128\n",
        "hidden_2_shape=64\n",
        "hidden_3_shape=32"
      ],
      "metadata": {
        "id": "g6rXMd1l1TyT"
      },
      "execution_count": 23,
      "outputs": []
    },
    {
      "cell_type": "code",
      "source": [
        "from tensorflow.keras.models import Sequential\n",
        "from tensorflow.keras.layers import Dense,Softmax"
      ],
      "metadata": {
        "id": "e4Hl5FgY4yRr"
      },
      "execution_count": 24,
      "outputs": []
    },
    {
      "cell_type": "markdown",
      "source": [
        "We must use softmax in the outer layer to predict the probabilities of prediciting each 10 classes (0 to 9). For the hidden layers, let's use softmax. You can experiment with different activation functions on your own."
      ],
      "metadata": {
        "id": "m3RdqUTR6DZe"
      }
    },
    {
      "cell_type": "code",
      "source": [
        "# building model by stacking layers\n",
        "model=Sequential([\n",
        "                  Dense(hidden_1_shape,input_shape=(input_size,),activation=\"sigmoid\"),\n",
        "\n",
        "                  Dense(hidden_2_shape,activation=\"sigmoid\"),\n",
        "\n",
        "                  Dense(hidden_3_shape,activation=\"sigmoid\"),\n",
        "\n",
        "                  Dense(output_size),\n",
        "\n",
        "                  Softmax()\n",
        "])"
      ],
      "metadata": {
        "id": "CIPNOcqu5w4u"
      },
      "execution_count": 25,
      "outputs": []
    },
    {
      "cell_type": "markdown",
      "source": [
        "Lets visualize the model we just built."
      ],
      "metadata": {
        "id": "djUfw79yv8ve"
      }
    },
    {
      "cell_type": "code",
      "source": [
        "from tensorflow.keras.utils import plot_model\n",
        "plot_model(model, to_file='model.png', show_shapes=True, show_layer_names=True)\n",
        "\n",
        "# Display the image\n",
        "from IPython.display import Image\n",
        "Image('model.png')"
      ],
      "metadata": {
        "colab": {
          "base_uri": "https://localhost:8080/",
          "height": 644
        },
        "id": "1yxn-glGv6jC",
        "outputId": "c52428ed-3103-499b-c716-4b3409468c85"
      },
      "execution_count": 26,
      "outputs": [
        {
          "output_type": "execute_result",
          "data": {
            "image/png": "[encoded data removed]",
            "text/plain": [
              "<IPython.core.display.Image object>"
            ]
          },
          "metadata": {},
          "execution_count": 26
        }
      ]
    },
    {
      "cell_type": "markdown",
      "source": [
        "Alternatively, we can visualize the model as follows:"
      ],
      "metadata": {
        "id": "pvkBF6lIwqXe"
      }
    },
    {
      "cell_type": "code",
      "source": [
        "!pip install keras_sequential_ascii\n",
        "\n",
        "from keras_sequential_ascii import keras2ascii\n",
        "keras2ascii(model)"
      ],
      "metadata": {
        "colab": {
          "base_uri": "https://localhost:8080/"
        },
        "id": "wDtKdJoUwmyo",
        "outputId": "b7a6e516-ed45-4025-d524-0cb6b74d65a9"
      },
      "execution_count": 27,
      "outputs": [
        {
          "output_type": "stream",
          "name": "stdout",
          "text": [
            "Requirement already satisfied: keras_sequential_ascii in /usr/local/lib/python3.10/dist-packages (0.1.1)\n",
            "Requirement already satisfied: keras in /usr/local/lib/python3.10/dist-packages (from keras_sequential_ascii) (2.15.0)\n",
            "           OPERATION           DATA DIMENSIONS   WEIGHTS(N)   WEIGHTS(%)\n",
            "\n",
            "               Input   #####         784\n",
            "               Dense   XXXXX -------------------    100480    90.4%\n",
            "             sigmoid   #####         128\n",
            "               Dense   XXXXX -------------------      8256     7.4%\n",
            "             sigmoid   #####          64\n",
            "               Dense   XXXXX -------------------      2080     1.9%\n",
            "             sigmoid   #####          32\n",
            "               Dense   XXXXX -------------------       330     0.3%\n",
            "                       #####          10\n",
            "             Softmax   ????? -------------------         0     0.0%\n",
            "                       #####          10\n"
          ]
        }
      ]
    },
    {
      "cell_type": "markdown",
      "source": [
        "### 4.b. Model Compiling"
      ],
      "metadata": {
        "id": "m7HQ-wmGUd8z"
      }
    },
    {
      "cell_type": "markdown",
      "source": [
        "After defining the model, we compile the model where we do the following:\n",
        "\n",
        "[*mnemonic = OLM*]\n",
        "\n",
        "* **Optimizer** [O] = ADAM is a widely used optimizer that helps to obtain the optimum solution by adjusting the learning rate.\n",
        "* **Loss function** [L] = Since this is the case of classification, we may use `categorical_crossentropy` or `sparse_categorical_crosssentropy`. But since there is no one-hot encoding used, we use sparse_categorical_crossentropy.\n",
        "* **Metric** [M] = For a balanced dataset (each class has roughly same number of examples) like we have here, accuracy metric is enough to check the performance of the model."
      ],
      "metadata": {
        "id": "mPLc-19dS-FE"
      }
    },
    {
      "cell_type": "code",
      "source": [
        "model.compile(optimizer='adam',\n",
        "              loss='sparse_categorical_crossentropy',\n",
        "              metrics=['accuracy'])"
      ],
      "metadata": {
        "id": "5t2_84UeSs2l"
      },
      "execution_count": 28,
      "outputs": []
    },
    {
      "cell_type": "code",
      "source": [
        "model.summary()"
      ],
      "metadata": {
        "colab": {
          "base_uri": "https://localhost:8080/"
        },
        "id": "32bQkJSLUUxF",
        "outputId": "097b71f2-84bf-4aaf-b1d8-d270b4f98cff"
      },
      "execution_count": 29,
      "outputs": [
        {
          "output_type": "stream",
          "name": "stdout",
          "text": [
            "Model: \"sequential\"\n",
            "_________________________________________________________________\n",
            " Layer (type)                Output Shape              Param #   \n",
            "=================================================================\n",
            " dense (Dense)               (None, 128)               100480    \n",
            "                                                                 \n",
            " dense_1 (Dense)             (None, 64)                8256      \n",
            "                                                                 \n",
            " dense_2 (Dense)             (None, 32)                2080      \n",
            "                                                                 \n",
            " dense_3 (Dense)             (None, 10)                330       \n",
            "                                                                 \n",
            " softmax (Softmax)           (None, 10)                0         \n",
            "                                                                 \n",
            "=================================================================\n",
            "Total params: 111146 (434.16 KB)\n",
            "Trainable params: 111146 (434.16 KB)\n",
            "Non-trainable params: 0 (0.00 Byte)\n",
            "_________________________________________________________________\n"
          ]
        }
      ]
    },
    {
      "cell_type": "markdown",
      "source": [
        "### 4.c Model training (Fitting):\n",
        "\n",
        "After compiling the model, we do the **model fitting** and there are few things to remember while doing so. We include the following during the fitting:\n",
        "\n",
        "[*mnemonic = XYBE*]\n",
        "\n",
        "* X_train or the features  [X]\n",
        "* y_train or the target labels [Y]\n",
        "* Batch size [B]\n",
        "* Epoch numbers [E]\n",
        "\n",
        "Obviously there are more parameters than these for `fit()` method, but these are the most important parameters for you to remember.\n",
        "\n"
      ],
      "metadata": {
        "id": "grbJyt5zXuHj"
      }
    },
    {
      "cell_type": "markdown",
      "source": [
        "#### Tensorboard specialization:\n",
        "\n",
        "Before training the model, lets talk a little bit about Tensorboard. Tensorboard is a visualization toolkit that can be used to track and visualize metrics such as loss and accuracy over time, visualize your model architecture, show histograms of weights and biases, and more. The syntax is:\n",
        "\n",
        "`tf.keras.callbacks.TensorBoard(log_dir='logs',histogram_freq=0,write_graph=True,write_images=False,write_steps_per_second=False,update_freq='epoch', profile_batch=0,embeddings_freq=0,embeddings_metadata=None)`\n",
        "* log_dir: Directory where log files will be saved\n",
        "* histogram_freq = 0: Histogram will be logged and saved every 0 epochs.\n",
        "\n",
        "When you specify tf.keras.callbacks.TensorBoard('logs'), you're setting up TensorBoard to log the training and validation metrics, which can be later visualized in the TensorBoard dashboard."
      ],
      "metadata": {
        "id": "cbRGUC5Pn8SJ"
      }
    },
    {
      "cell_type": "code",
      "source": [
        "callbacks = [tf.keras.callbacks.TensorBoard('logs')]"
      ],
      "metadata": {
        "id": "Rg1bIxO2X9Gv"
      },
      "execution_count": 30,
      "outputs": []
    },
    {
      "cell_type": "markdown",
      "source": [
        "Lets fit (train) the model now."
      ],
      "metadata": {
        "id": "ZExAnZLMoEg-"
      }
    },
    {
      "cell_type": "code",
      "source": [
        "history = model.fit(x_train,y_train,batch_size=128,\n",
        "          validation_data=(x_val,y_val),epochs=200, callbacks = callbacks)"
      ],
      "metadata": {
        "colab": {
          "base_uri": "https://localhost:8080/"
        },
        "id": "RUs-T9P5X-FW",
        "outputId": "0c893ab6-fe34-4fd9-e7ca-4e643e15a7f8"
      },
      "execution_count": 31,
      "outputs": [
        {
          "output_type": "stream",
          "name": "stdout",
          "text": [
            "Epoch 1/200\n",
            "375/375 [==============================] - 8s 8ms/step - loss: 1.3675 - accuracy: 0.5649 - val_loss: 0.9283 - val_accuracy: 0.6768\n",
            "Epoch 2/200\n",
            "375/375 [==============================] - 3s 9ms/step - loss: 0.8062 - accuracy: 0.7245 - val_loss: 0.7650 - val_accuracy: 0.7193\n",
            "Epoch 3/200\n",
            "375/375 [==============================] - 4s 11ms/step - loss: 0.7317 - accuracy: 0.7266 - val_loss: 0.7144 - val_accuracy: 0.7279\n",
            "Epoch 4/200\n",
            "375/375 [==============================] - 3s 8ms/step - loss: 0.6896 - accuracy: 0.7350 - val_loss: 0.6872 - val_accuracy: 0.7354\n",
            "Epoch 5/200\n",
            "375/375 [==============================] - 2s 6ms/step - loss: 0.6887 - accuracy: 0.7387 - val_loss: 0.7071 - val_accuracy: 0.7313\n",
            "Epoch 6/200\n",
            "375/375 [==============================] - 1s 4ms/step - loss: 0.6819 - accuracy: 0.7382 - val_loss: 0.7068 - val_accuracy: 0.7173\n",
            "Epoch 7/200\n",
            "375/375 [==============================] - 2s 4ms/step - loss: 0.6758 - accuracy: 0.7328 - val_loss: 0.7094 - val_accuracy: 0.7148\n",
            "Epoch 8/200\n",
            "375/375 [==============================] - 2s 5ms/step - loss: 0.6732 - accuracy: 0.7347 - val_loss: 0.6921 - val_accuracy: 0.7254\n",
            "Epoch 9/200\n",
            "375/375 [==============================] - 1s 4ms/step - loss: 0.6616 - accuracy: 0.7436 - val_loss: 0.6474 - val_accuracy: 0.7683\n",
            "Epoch 10/200\n",
            "375/375 [==============================] - 1s 4ms/step - loss: 0.6443 - accuracy: 0.7563 - val_loss: 0.6320 - val_accuracy: 0.7566\n",
            "Epoch 11/200\n",
            "375/375 [==============================] - 1s 4ms/step - loss: 0.6378 - accuracy: 0.7533 - val_loss: 0.6365 - val_accuracy: 0.7532\n",
            "Epoch 12/200\n",
            "375/375 [==============================] - 1s 4ms/step - loss: 0.6280 - accuracy: 0.7549 - val_loss: 0.6482 - val_accuracy: 0.7400\n",
            "Epoch 13/200\n",
            "375/375 [==============================] - 1s 4ms/step - loss: 0.6275 - accuracy: 0.7635 - val_loss: 0.6587 - val_accuracy: 0.7321\n",
            "Epoch 14/200\n",
            "375/375 [==============================] - 2s 4ms/step - loss: 0.6295 - accuracy: 0.7671 - val_loss: 0.6459 - val_accuracy: 0.7360\n",
            "Epoch 15/200\n",
            "375/375 [==============================] - 2s 4ms/step - loss: 0.6461 - accuracy: 0.7612 - val_loss: 0.6810 - val_accuracy: 0.7335\n",
            "Epoch 16/200\n",
            "375/375 [==============================] - 2s 5ms/step - loss: 0.6328 - accuracy: 0.7659 - val_loss: 0.6505 - val_accuracy: 0.7523\n",
            "Epoch 17/200\n",
            "375/375 [==============================] - 2s 4ms/step - loss: 0.6242 - accuracy: 0.7646 - val_loss: 0.6493 - val_accuracy: 0.7424\n",
            "Epoch 18/200\n",
            "375/375 [==============================] - 1s 4ms/step - loss: 0.6081 - accuracy: 0.7637 - val_loss: 0.6441 - val_accuracy: 0.7514\n",
            "Epoch 19/200\n",
            "375/375 [==============================] - 2s 4ms/step - loss: 0.6039 - accuracy: 0.7687 - val_loss: 0.6390 - val_accuracy: 0.7634\n",
            "Epoch 20/200\n",
            "375/375 [==============================] - 1s 4ms/step - loss: 0.5940 - accuracy: 0.7706 - val_loss: 0.6227 - val_accuracy: 0.7433\n",
            "Epoch 21/200\n",
            "375/375 [==============================] - 1s 4ms/step - loss: 0.5831 - accuracy: 0.7743 - val_loss: 0.5772 - val_accuracy: 0.7838\n",
            "Epoch 22/200\n",
            "375/375 [==============================] - 1s 4ms/step - loss: 0.5935 - accuracy: 0.7759 - val_loss: 0.6281 - val_accuracy: 0.7641\n",
            "Epoch 23/200\n",
            "375/375 [==============================] - 2s 4ms/step - loss: 0.5896 - accuracy: 0.7751 - val_loss: 0.6210 - val_accuracy: 0.7483\n",
            "Epoch 24/200\n",
            "375/375 [==============================] - 2s 5ms/step - loss: 0.5785 - accuracy: 0.7790 - val_loss: 0.6008 - val_accuracy: 0.7644\n",
            "Epoch 25/200\n",
            "375/375 [==============================] - 2s 4ms/step - loss: 0.6012 - accuracy: 0.7633 - val_loss: 0.6283 - val_accuracy: 0.7515\n",
            "Epoch 26/200\n",
            "375/375 [==============================] - 1s 4ms/step - loss: 0.6100 - accuracy: 0.7610 - val_loss: 0.6369 - val_accuracy: 0.7352\n",
            "Epoch 27/200\n",
            "375/375 [==============================] - 1s 4ms/step - loss: 0.5897 - accuracy: 0.7745 - val_loss: 0.5987 - val_accuracy: 0.7630\n",
            "Epoch 28/200\n",
            "375/375 [==============================] - 2s 4ms/step - loss: 0.5735 - accuracy: 0.7823 - val_loss: 0.5914 - val_accuracy: 0.7761\n",
            "Epoch 29/200\n",
            "375/375 [==============================] - 1s 4ms/step - loss: 0.5887 - accuracy: 0.7710 - val_loss: 0.6183 - val_accuracy: 0.7660\n",
            "Epoch 30/200\n",
            "375/375 [==============================] - 1s 4ms/step - loss: 0.5994 - accuracy: 0.7709 - val_loss: 0.6256 - val_accuracy: 0.7736\n",
            "Epoch 31/200\n",
            "375/375 [==============================] - 1s 4ms/step - loss: 0.5723 - accuracy: 0.7850 - val_loss: 0.5768 - val_accuracy: 0.7828\n",
            "Epoch 32/200\n",
            "375/375 [==============================] - 2s 5ms/step - loss: 0.5717 - accuracy: 0.7853 - val_loss: 0.6072 - val_accuracy: 0.7721\n",
            "Epoch 33/200\n",
            "375/375 [==============================] - 2s 5ms/step - loss: 0.5761 - accuracy: 0.7798 - val_loss: 0.5842 - val_accuracy: 0.7842\n",
            "Epoch 34/200\n",
            "375/375 [==============================] - 2s 4ms/step - loss: 0.5803 - accuracy: 0.7784 - val_loss: 0.5946 - val_accuracy: 0.7772\n",
            "Epoch 35/200\n",
            "375/375 [==============================] - 1s 4ms/step - loss: 0.5814 - accuracy: 0.7787 - val_loss: 0.5849 - val_accuracy: 0.7785\n",
            "Epoch 36/200\n",
            "375/375 [==============================] - 1s 4ms/step - loss: 0.5524 - accuracy: 0.7936 - val_loss: 0.5646 - val_accuracy: 0.7882\n",
            "Epoch 37/200\n",
            "375/375 [==============================] - 2s 4ms/step - loss: 0.5569 - accuracy: 0.7905 - val_loss: 0.5950 - val_accuracy: 0.7662\n",
            "Epoch 38/200\n",
            "375/375 [==============================] - 2s 4ms/step - loss: 0.5618 - accuracy: 0.7922 - val_loss: 0.5677 - val_accuracy: 0.7907\n",
            "Epoch 39/200\n",
            "375/375 [==============================] - 1s 4ms/step - loss: 0.5438 - accuracy: 0.7990 - val_loss: 0.5838 - val_accuracy: 0.7869\n",
            "Epoch 40/200\n",
            "375/375 [==============================] - 2s 5ms/step - loss: 0.5480 - accuracy: 0.7946 - val_loss: 0.5856 - val_accuracy: 0.7631\n",
            "Epoch 41/200\n",
            "375/375 [==============================] - 2s 5ms/step - loss: 0.5424 - accuracy: 0.7986 - val_loss: 0.5683 - val_accuracy: 0.7843\n",
            "Epoch 42/200\n",
            "375/375 [==============================] - 2s 4ms/step - loss: 0.5559 - accuracy: 0.7890 - val_loss: 0.5877 - val_accuracy: 0.7797\n",
            "Epoch 43/200\n",
            "375/375 [==============================] - 1s 4ms/step - loss: 0.5592 - accuracy: 0.7908 - val_loss: 0.5823 - val_accuracy: 0.7778\n",
            "Epoch 44/200\n",
            "375/375 [==============================] - 1s 4ms/step - loss: 0.5471 - accuracy: 0.7957 - val_loss: 0.5796 - val_accuracy: 0.7740\n",
            "Epoch 45/200\n",
            "375/375 [==============================] - 2s 4ms/step - loss: 0.5524 - accuracy: 0.7954 - val_loss: 0.5605 - val_accuracy: 0.7930\n",
            "Epoch 46/200\n",
            "375/375 [==============================] - 1s 4ms/step - loss: 0.5528 - accuracy: 0.7945 - val_loss: 0.5908 - val_accuracy: 0.7761\n",
            "Epoch 47/200\n",
            "375/375 [==============================] - 1s 4ms/step - loss: 0.5668 - accuracy: 0.7878 - val_loss: 0.5724 - val_accuracy: 0.7862\n",
            "Epoch 48/200\n",
            "375/375 [==============================] - 2s 4ms/step - loss: 0.5616 - accuracy: 0.7926 - val_loss: 0.5649 - val_accuracy: 0.7875\n",
            "Epoch 49/200\n",
            "375/375 [==============================] - 2s 5ms/step - loss: 0.5484 - accuracy: 0.8007 - val_loss: 0.5588 - val_accuracy: 0.7842\n",
            "Epoch 50/200\n",
            "375/375 [==============================] - 2s 4ms/step - loss: 0.5381 - accuracy: 0.8053 - val_loss: 0.5562 - val_accuracy: 0.8006\n",
            "Epoch 51/200\n",
            "375/375 [==============================] - 1s 4ms/step - loss: 0.5407 - accuracy: 0.8001 - val_loss: 0.5583 - val_accuracy: 0.7901\n",
            "Epoch 52/200\n",
            "375/375 [==============================] - 1s 4ms/step - loss: 0.5526 - accuracy: 0.7935 - val_loss: 0.5645 - val_accuracy: 0.7753\n",
            "Epoch 53/200\n",
            "375/375 [==============================] - 1s 4ms/step - loss: 0.5447 - accuracy: 0.7966 - val_loss: 0.5468 - val_accuracy: 0.7952\n",
            "Epoch 54/200\n",
            "375/375 [==============================] - 1s 4ms/step - loss: 0.5435 - accuracy: 0.7974 - val_loss: 0.5374 - val_accuracy: 0.7986\n",
            "Epoch 55/200\n",
            "375/375 [==============================] - 2s 4ms/step - loss: 0.5494 - accuracy: 0.7960 - val_loss: 0.5637 - val_accuracy: 0.7924\n",
            "Epoch 56/200\n",
            "375/375 [==============================] - 1s 4ms/step - loss: 0.5344 - accuracy: 0.7997 - val_loss: 0.5480 - val_accuracy: 0.7864\n",
            "Epoch 57/200\n",
            "375/375 [==============================] - 2s 5ms/step - loss: 0.5381 - accuracy: 0.7965 - val_loss: 0.5563 - val_accuracy: 0.7861\n",
            "Epoch 58/200\n",
            "375/375 [==============================] - 3s 7ms/step - loss: 0.5538 - accuracy: 0.7874 - val_loss: 0.5576 - val_accuracy: 0.7875\n",
            "Epoch 59/200\n",
            "375/375 [==============================] - 2s 4ms/step - loss: 0.5399 - accuracy: 0.7952 - val_loss: 0.5618 - val_accuracy: 0.7844\n",
            "Epoch 60/200\n",
            "375/375 [==============================] - 2s 4ms/step - loss: 0.5392 - accuracy: 0.8004 - val_loss: 0.5638 - val_accuracy: 0.7937\n",
            "Epoch 61/200\n",
            "375/375 [==============================] - 1s 4ms/step - loss: 0.5331 - accuracy: 0.8012 - val_loss: 0.5581 - val_accuracy: 0.7875\n",
            "Epoch 62/200\n",
            "375/375 [==============================] - 2s 4ms/step - loss: 0.5290 - accuracy: 0.7990 - val_loss: 0.5389 - val_accuracy: 0.7971\n",
            "Epoch 63/200\n",
            "375/375 [==============================] - 1s 4ms/step - loss: 0.5369 - accuracy: 0.7970 - val_loss: 0.5434 - val_accuracy: 0.8010\n",
            "Epoch 64/200\n",
            "375/375 [==============================] - 2s 5ms/step - loss: 0.5442 - accuracy: 0.7952 - val_loss: 0.5471 - val_accuracy: 0.7960\n",
            "Epoch 65/200\n",
            "375/375 [==============================] - 2s 5ms/step - loss: 0.5238 - accuracy: 0.8045 - val_loss: 0.5306 - val_accuracy: 0.8070\n",
            "Epoch 66/200\n",
            "375/375 [==============================] - 2s 4ms/step - loss: 0.5241 - accuracy: 0.8034 - val_loss: 0.5530 - val_accuracy: 0.7914\n",
            "Epoch 67/200\n",
            "375/375 [==============================] - 1s 4ms/step - loss: 0.5345 - accuracy: 0.7996 - val_loss: 0.5514 - val_accuracy: 0.7947\n",
            "Epoch 68/200\n",
            "375/375 [==============================] - 1s 4ms/step - loss: 0.5249 - accuracy: 0.8037 - val_loss: 0.5434 - val_accuracy: 0.7991\n",
            "Epoch 69/200\n",
            "375/375 [==============================] - 1s 4ms/step - loss: 0.5167 - accuracy: 0.8053 - val_loss: 0.5271 - val_accuracy: 0.8062\n",
            "Epoch 70/200\n",
            "375/375 [==============================] - 1s 4ms/step - loss: 0.5172 - accuracy: 0.8081 - val_loss: 0.5290 - val_accuracy: 0.8039\n",
            "Epoch 71/200\n",
            "375/375 [==============================] - 1s 4ms/step - loss: 0.5192 - accuracy: 0.8044 - val_loss: 0.5409 - val_accuracy: 0.8009\n",
            "Epoch 72/200\n",
            "375/375 [==============================] - 1s 4ms/step - loss: 0.5204 - accuracy: 0.8071 - val_loss: 0.5470 - val_accuracy: 0.7910\n",
            "Epoch 73/200\n",
            "375/375 [==============================] - 2s 5ms/step - loss: 0.5294 - accuracy: 0.8001 - val_loss: 0.5445 - val_accuracy: 0.7922\n",
            "Epoch 74/200\n",
            "375/375 [==============================] - 2s 5ms/step - loss: 0.5371 - accuracy: 0.7941 - val_loss: 0.5553 - val_accuracy: 0.7890\n",
            "Epoch 75/200\n",
            "375/375 [==============================] - 1s 4ms/step - loss: 0.5416 - accuracy: 0.7916 - val_loss: 0.5347 - val_accuracy: 0.7953\n",
            "Epoch 76/200\n",
            "375/375 [==============================] - 2s 4ms/step - loss: 0.5217 - accuracy: 0.8052 - val_loss: 0.5331 - val_accuracy: 0.8049\n",
            "Epoch 77/200\n",
            "375/375 [==============================] - 1s 4ms/step - loss: 0.5253 - accuracy: 0.8076 - val_loss: 0.5423 - val_accuracy: 0.7997\n",
            "Epoch 78/200\n",
            "375/375 [==============================] - 1s 4ms/step - loss: 0.5183 - accuracy: 0.8056 - val_loss: 0.5234 - val_accuracy: 0.8015\n",
            "Epoch 79/200\n",
            "375/375 [==============================] - 1s 4ms/step - loss: 0.5043 - accuracy: 0.8138 - val_loss: 0.5180 - val_accuracy: 0.8096\n",
            "Epoch 80/200\n",
            "375/375 [==============================] - 1s 4ms/step - loss: 0.5079 - accuracy: 0.8120 - val_loss: 0.5255 - val_accuracy: 0.8028\n",
            "Epoch 81/200\n",
            "375/375 [==============================] - 2s 5ms/step - loss: 0.5123 - accuracy: 0.8075 - val_loss: 0.5237 - val_accuracy: 0.8023\n",
            "Epoch 82/200\n",
            "375/375 [==============================] - 2s 4ms/step - loss: 0.5147 - accuracy: 0.8075 - val_loss: 0.5224 - val_accuracy: 0.8005\n",
            "Epoch 83/200\n",
            "375/375 [==============================] - 2s 4ms/step - loss: 0.5127 - accuracy: 0.8086 - val_loss: 0.5056 - val_accuracy: 0.8138\n",
            "Epoch 84/200\n",
            "375/375 [==============================] - 1s 4ms/step - loss: 0.5074 - accuracy: 0.8123 - val_loss: 0.5228 - val_accuracy: 0.8012\n",
            "Epoch 85/200\n",
            "375/375 [==============================] - 1s 4ms/step - loss: 0.5035 - accuracy: 0.8116 - val_loss: 0.5244 - val_accuracy: 0.8027\n",
            "Epoch 86/200\n",
            "375/375 [==============================] - 1s 4ms/step - loss: 0.5017 - accuracy: 0.8120 - val_loss: 0.5191 - val_accuracy: 0.8024\n",
            "Epoch 87/200\n",
            "375/375 [==============================] - 1s 4ms/step - loss: 0.5067 - accuracy: 0.8126 - val_loss: 0.5352 - val_accuracy: 0.8036\n",
            "Epoch 88/200\n",
            "375/375 [==============================] - 2s 4ms/step - loss: 0.5020 - accuracy: 0.8150 - val_loss: 0.5062 - val_accuracy: 0.8139\n",
            "Epoch 89/200\n",
            "375/375 [==============================] - 2s 5ms/step - loss: 0.5091 - accuracy: 0.8077 - val_loss: 0.5261 - val_accuracy: 0.8020\n",
            "Epoch 90/200\n",
            "375/375 [==============================] - 2s 5ms/step - loss: 0.5073 - accuracy: 0.8143 - val_loss: 0.5260 - val_accuracy: 0.8065\n",
            "Epoch 91/200\n",
            "375/375 [==============================] - 2s 4ms/step - loss: 0.4963 - accuracy: 0.8186 - val_loss: 0.5212 - val_accuracy: 0.7947\n",
            "Epoch 92/200\n",
            "375/375 [==============================] - 2s 4ms/step - loss: 0.5078 - accuracy: 0.8067 - val_loss: 0.5123 - val_accuracy: 0.8097\n",
            "Epoch 93/200\n",
            "375/375 [==============================] - 1s 4ms/step - loss: 0.5055 - accuracy: 0.8127 - val_loss: 0.5326 - val_accuracy: 0.8017\n",
            "Epoch 94/200\n",
            "375/375 [==============================] - 2s 4ms/step - loss: 0.4913 - accuracy: 0.8171 - val_loss: 0.5036 - val_accuracy: 0.8149\n",
            "Epoch 95/200\n",
            "375/375 [==============================] - 1s 4ms/step - loss: 0.4809 - accuracy: 0.8204 - val_loss: 0.4958 - val_accuracy: 0.8167\n",
            "Epoch 96/200\n",
            "375/375 [==============================] - 1s 4ms/step - loss: 0.4816 - accuracy: 0.8215 - val_loss: 0.5148 - val_accuracy: 0.8073\n",
            "Epoch 97/200\n",
            "375/375 [==============================] - 2s 4ms/step - loss: 0.4946 - accuracy: 0.8138 - val_loss: 0.5014 - val_accuracy: 0.8112\n",
            "Epoch 98/200\n",
            "375/375 [==============================] - 2s 5ms/step - loss: 0.4899 - accuracy: 0.8168 - val_loss: 0.5077 - val_accuracy: 0.8089\n",
            "Epoch 99/200\n",
            "375/375 [==============================] - 2s 4ms/step - loss: 0.4756 - accuracy: 0.8215 - val_loss: 0.4892 - val_accuracy: 0.8135\n",
            "Epoch 100/200\n",
            "375/375 [==============================] - 2s 4ms/step - loss: 0.4832 - accuracy: 0.8212 - val_loss: 0.5070 - val_accuracy: 0.8035\n",
            "Epoch 101/200\n",
            "375/375 [==============================] - 1s 4ms/step - loss: 0.4830 - accuracy: 0.8206 - val_loss: 0.4942 - val_accuracy: 0.8185\n",
            "Epoch 102/200\n",
            "375/375 [==============================] - 1s 4ms/step - loss: 0.4888 - accuracy: 0.8209 - val_loss: 0.5010 - val_accuracy: 0.8128\n",
            "Epoch 103/200\n",
            "375/375 [==============================] - 1s 4ms/step - loss: 0.4893 - accuracy: 0.8178 - val_loss: 0.5080 - val_accuracy: 0.8136\n",
            "Epoch 104/200\n",
            "375/375 [==============================] - 2s 4ms/step - loss: 0.5015 - accuracy: 0.8130 - val_loss: 0.5086 - val_accuracy: 0.8119\n",
            "Epoch 105/200\n",
            "375/375 [==============================] - 2s 4ms/step - loss: 0.4887 - accuracy: 0.8199 - val_loss: 0.5121 - val_accuracy: 0.8082\n",
            "Epoch 106/200\n",
            "375/375 [==============================] - 2s 5ms/step - loss: 0.4946 - accuracy: 0.8181 - val_loss: 0.5108 - val_accuracy: 0.8026\n",
            "Epoch 107/200\n",
            "375/375 [==============================] - 2s 4ms/step - loss: 0.4911 - accuracy: 0.8116 - val_loss: 0.5212 - val_accuracy: 0.7938\n",
            "Epoch 108/200\n",
            "375/375 [==============================] - 1s 4ms/step - loss: 0.4981 - accuracy: 0.8103 - val_loss: 0.5118 - val_accuracy: 0.8035\n",
            "Epoch 109/200\n",
            "375/375 [==============================] - 2s 4ms/step - loss: 0.5002 - accuracy: 0.8094 - val_loss: 0.5192 - val_accuracy: 0.7984\n",
            "Epoch 110/200\n",
            "375/375 [==============================] - 2s 4ms/step - loss: 0.4916 - accuracy: 0.8148 - val_loss: 0.5157 - val_accuracy: 0.7975\n",
            "Epoch 111/200\n",
            "375/375 [==============================] - 2s 4ms/step - loss: 0.5060 - accuracy: 0.8092 - val_loss: 0.5172 - val_accuracy: 0.8052\n",
            "Epoch 112/200\n",
            "375/375 [==============================] - 2s 4ms/step - loss: 0.5086 - accuracy: 0.8071 - val_loss: 0.5151 - val_accuracy: 0.8095\n",
            "Epoch 113/200\n",
            "375/375 [==============================] - 2s 4ms/step - loss: 0.5128 - accuracy: 0.7998 - val_loss: 0.5360 - val_accuracy: 0.7896\n",
            "Epoch 114/200\n",
            "375/375 [==============================] - 2s 5ms/step - loss: 0.5016 - accuracy: 0.8119 - val_loss: 0.5322 - val_accuracy: 0.8043\n",
            "Epoch 115/200\n",
            "375/375 [==============================] - 2s 4ms/step - loss: 0.5100 - accuracy: 0.8138 - val_loss: 0.5392 - val_accuracy: 0.7937\n",
            "Epoch 116/200\n",
            "375/375 [==============================] - 2s 4ms/step - loss: 0.5003 - accuracy: 0.8144 - val_loss: 0.5073 - val_accuracy: 0.8076\n",
            "Epoch 117/200\n",
            "375/375 [==============================] - 2s 4ms/step - loss: 0.4987 - accuracy: 0.8157 - val_loss: 0.5193 - val_accuracy: 0.8020\n",
            "Epoch 118/200\n",
            "375/375 [==============================] - 1s 4ms/step - loss: 0.4932 - accuracy: 0.8165 - val_loss: 0.5182 - val_accuracy: 0.8077\n",
            "Epoch 119/200\n",
            "375/375 [==============================] - 2s 4ms/step - loss: 0.4810 - accuracy: 0.8223 - val_loss: 0.4955 - val_accuracy: 0.8163\n",
            "Epoch 120/200\n",
            "375/375 [==============================] - 2s 4ms/step - loss: 0.4820 - accuracy: 0.8202 - val_loss: 0.5101 - val_accuracy: 0.8102\n",
            "Epoch 121/200\n",
            "375/375 [==============================] - 1s 4ms/step - loss: 0.4919 - accuracy: 0.8159 - val_loss: 0.5067 - val_accuracy: 0.8030\n",
            "Epoch 122/200\n",
            "375/375 [==============================] - 2s 5ms/step - loss: 0.4881 - accuracy: 0.8172 - val_loss: 0.5096 - val_accuracy: 0.8056\n",
            "Epoch 123/200\n",
            "375/375 [==============================] - 2s 5ms/step - loss: 0.4877 - accuracy: 0.8159 - val_loss: 0.4908 - val_accuracy: 0.8157\n",
            "Epoch 124/200\n",
            "375/375 [==============================] - 1s 4ms/step - loss: 0.4914 - accuracy: 0.8090 - val_loss: 0.4982 - val_accuracy: 0.8102\n",
            "Epoch 125/200\n",
            "375/375 [==============================] - 2s 4ms/step - loss: 0.4842 - accuracy: 0.8154 - val_loss: 0.4995 - val_accuracy: 0.8116\n",
            "Epoch 126/200\n",
            "375/375 [==============================] - 2s 4ms/step - loss: 0.4623 - accuracy: 0.8294 - val_loss: 0.4880 - val_accuracy: 0.8158\n",
            "Epoch 127/200\n",
            "375/375 [==============================] - 1s 4ms/step - loss: 0.4796 - accuracy: 0.8237 - val_loss: 0.4984 - val_accuracy: 0.8133\n",
            "Epoch 128/200\n",
            "375/375 [==============================] - 1s 4ms/step - loss: 0.4787 - accuracy: 0.8230 - val_loss: 0.5041 - val_accuracy: 0.8142\n",
            "Epoch 129/200\n",
            "375/375 [==============================] - 1s 4ms/step - loss: 0.4786 - accuracy: 0.8259 - val_loss: 0.4999 - val_accuracy: 0.8156\n",
            "Epoch 130/200\n",
            "375/375 [==============================] - 2s 5ms/step - loss: 0.4869 - accuracy: 0.8148 - val_loss: 0.5014 - val_accuracy: 0.8117\n",
            "Epoch 131/200\n",
            "375/375 [==============================] - 2s 5ms/step - loss: 0.4740 - accuracy: 0.8240 - val_loss: 0.5014 - val_accuracy: 0.8139\n",
            "Epoch 132/200\n",
            "375/375 [==============================] - 1s 4ms/step - loss: 0.4868 - accuracy: 0.8147 - val_loss: 0.4866 - val_accuracy: 0.8179\n",
            "Epoch 133/200\n",
            "375/375 [==============================] - 1s 4ms/step - loss: 0.4794 - accuracy: 0.8220 - val_loss: 0.5064 - val_accuracy: 0.8136\n",
            "Epoch 134/200\n",
            "375/375 [==============================] - 1s 4ms/step - loss: 0.5057 - accuracy: 0.8039 - val_loss: 0.5332 - val_accuracy: 0.7918\n",
            "Epoch 135/200\n",
            "375/375 [==============================] - 2s 4ms/step - loss: 0.5184 - accuracy: 0.8000 - val_loss: 0.5449 - val_accuracy: 0.7902\n",
            "Epoch 136/200\n",
            "375/375 [==============================] - 1s 4ms/step - loss: 0.5184 - accuracy: 0.8024 - val_loss: 0.5539 - val_accuracy: 0.7794\n",
            "Epoch 137/200\n",
            "375/375 [==============================] - 2s 4ms/step - loss: 0.5148 - accuracy: 0.8048 - val_loss: 0.5207 - val_accuracy: 0.8027\n",
            "Epoch 138/200\n",
            "375/375 [==============================] - 2s 5ms/step - loss: 0.5097 - accuracy: 0.8057 - val_loss: 0.5193 - val_accuracy: 0.8085\n",
            "Epoch 139/200\n",
            "375/375 [==============================] - 2s 6ms/step - loss: 0.5037 - accuracy: 0.8128 - val_loss: 0.5156 - val_accuracy: 0.8109\n",
            "Epoch 140/200\n",
            "375/375 [==============================] - 2s 5ms/step - loss: 0.5050 - accuracy: 0.8088 - val_loss: 0.5135 - val_accuracy: 0.8077\n",
            "Epoch 141/200\n",
            "375/375 [==============================] - 2s 4ms/step - loss: 0.4967 - accuracy: 0.8143 - val_loss: 0.5358 - val_accuracy: 0.7908\n",
            "Epoch 142/200\n",
            "375/375 [==============================] - 1s 4ms/step - loss: 0.5008 - accuracy: 0.8059 - val_loss: 0.5010 - val_accuracy: 0.8092\n",
            "Epoch 143/200\n",
            "375/375 [==============================] - 2s 4ms/step - loss: 0.4832 - accuracy: 0.8205 - val_loss: 0.5059 - val_accuracy: 0.8102\n",
            "Epoch 144/200\n",
            "375/375 [==============================] - 1s 4ms/step - loss: 0.4791 - accuracy: 0.8223 - val_loss: 0.4947 - val_accuracy: 0.8153\n",
            "Epoch 145/200\n",
            "375/375 [==============================] - 1s 4ms/step - loss: 0.4933 - accuracy: 0.8163 - val_loss: 0.5273 - val_accuracy: 0.8023\n",
            "Epoch 146/200\n",
            "375/375 [==============================] - 1s 4ms/step - loss: 0.4832 - accuracy: 0.8198 - val_loss: 0.5063 - val_accuracy: 0.8101\n",
            "Epoch 147/200\n",
            "375/375 [==============================] - 2s 4ms/step - loss: 0.4991 - accuracy: 0.8072 - val_loss: 0.5207 - val_accuracy: 0.7897\n",
            "Epoch 148/200\n",
            "375/375 [==============================] - 2s 6ms/step - loss: 0.4976 - accuracy: 0.8093 - val_loss: 0.5030 - val_accuracy: 0.8109\n",
            "Epoch 149/200\n",
            "375/375 [==============================] - 1s 4ms/step - loss: 0.4900 - accuracy: 0.8147 - val_loss: 0.5066 - val_accuracy: 0.8117\n",
            "Epoch 150/200\n",
            "375/375 [==============================] - 1s 4ms/step - loss: 0.4787 - accuracy: 0.8246 - val_loss: 0.4952 - val_accuracy: 0.8201\n",
            "Epoch 151/200\n",
            "375/375 [==============================] - 1s 4ms/step - loss: 0.4870 - accuracy: 0.8201 - val_loss: 0.5082 - val_accuracy: 0.8071\n",
            "Epoch 152/200\n",
            "375/375 [==============================] - 2s 4ms/step - loss: 0.4784 - accuracy: 0.8208 - val_loss: 0.4956 - val_accuracy: 0.8110\n",
            "Epoch 153/200\n",
            "375/375 [==============================] - 2s 4ms/step - loss: 0.4810 - accuracy: 0.8184 - val_loss: 0.4993 - val_accuracy: 0.8159\n",
            "Epoch 154/200\n",
            "375/375 [==============================] - 2s 4ms/step - loss: 0.4717 - accuracy: 0.8233 - val_loss: 0.4979 - val_accuracy: 0.8212\n",
            "Epoch 155/200\n",
            "375/375 [==============================] - 2s 4ms/step - loss: 0.4699 - accuracy: 0.8281 - val_loss: 0.4907 - val_accuracy: 0.8216\n",
            "Epoch 156/200\n",
            "375/375 [==============================] - 2s 5ms/step - loss: 0.4777 - accuracy: 0.8260 - val_loss: 0.4891 - val_accuracy: 0.8174\n",
            "Epoch 157/200\n",
            "375/375 [==============================] - 2s 4ms/step - loss: 0.4618 - accuracy: 0.8304 - val_loss: 0.4671 - val_accuracy: 0.8292\n",
            "Epoch 158/200\n",
            "375/375 [==============================] - 2s 4ms/step - loss: 0.4608 - accuracy: 0.8326 - val_loss: 0.4726 - val_accuracy: 0.8263\n",
            "Epoch 159/200\n",
            "375/375 [==============================] - 1s 4ms/step - loss: 0.4642 - accuracy: 0.8274 - val_loss: 0.4794 - val_accuracy: 0.8207\n",
            "Epoch 160/200\n",
            "375/375 [==============================] - 2s 4ms/step - loss: 0.4585 - accuracy: 0.8293 - val_loss: 0.4839 - val_accuracy: 0.8245\n",
            "Epoch 161/200\n",
            "375/375 [==============================] - 2s 4ms/step - loss: 0.4623 - accuracy: 0.8282 - val_loss: 0.4802 - val_accuracy: 0.8201\n",
            "Epoch 162/200\n",
            "375/375 [==============================] - 1s 4ms/step - loss: 0.4639 - accuracy: 0.8254 - val_loss: 0.4790 - val_accuracy: 0.8233\n",
            "Epoch 163/200\n",
            "375/375 [==============================] - 2s 4ms/step - loss: 0.4631 - accuracy: 0.8260 - val_loss: 0.4784 - val_accuracy: 0.8144\n",
            "Epoch 164/200\n",
            "375/375 [==============================] - 2s 5ms/step - loss: 0.4676 - accuracy: 0.8258 - val_loss: 0.4973 - val_accuracy: 0.8135\n",
            "Epoch 165/200\n",
            "375/375 [==============================] - 2s 4ms/step - loss: 0.4779 - accuracy: 0.8206 - val_loss: 0.5000 - val_accuracy: 0.8109\n",
            "Epoch 166/200\n",
            "375/375 [==============================] - 1s 4ms/step - loss: 0.4789 - accuracy: 0.8245 - val_loss: 0.4744 - val_accuracy: 0.8247\n",
            "Epoch 167/200\n",
            "375/375 [==============================] - 1s 4ms/step - loss: 0.4562 - accuracy: 0.8329 - val_loss: 0.4712 - val_accuracy: 0.8279\n",
            "Epoch 168/200\n",
            "375/375 [==============================] - 2s 4ms/step - loss: 0.4687 - accuracy: 0.8256 - val_loss: 0.4743 - val_accuracy: 0.8254\n",
            "Epoch 169/200\n",
            "375/375 [==============================] - 1s 4ms/step - loss: 0.4693 - accuracy: 0.8241 - val_loss: 0.4975 - val_accuracy: 0.8122\n",
            "Epoch 170/200\n",
            "375/375 [==============================] - 1s 4ms/step - loss: 0.4677 - accuracy: 0.8260 - val_loss: 0.5004 - val_accuracy: 0.8092\n",
            "Epoch 171/200\n",
            "375/375 [==============================] - 2s 4ms/step - loss: 0.4710 - accuracy: 0.8258 - val_loss: 0.4833 - val_accuracy: 0.8228\n",
            "Epoch 172/200\n",
            "375/375 [==============================] - 2s 5ms/step - loss: 0.4764 - accuracy: 0.8279 - val_loss: 0.4912 - val_accuracy: 0.8270\n",
            "Epoch 173/200\n",
            "375/375 [==============================] - 2s 5ms/step - loss: 0.4739 - accuracy: 0.8267 - val_loss: 0.4839 - val_accuracy: 0.8271\n",
            "Epoch 174/200\n",
            "375/375 [==============================] - 2s 4ms/step - loss: 0.4660 - accuracy: 0.8325 - val_loss: 0.4838 - val_accuracy: 0.8273\n",
            "Epoch 175/200\n",
            "375/375 [==============================] - 1s 4ms/step - loss: 0.4665 - accuracy: 0.8258 - val_loss: 0.4698 - val_accuracy: 0.8207\n",
            "Epoch 176/200\n",
            "375/375 [==============================] - 2s 4ms/step - loss: 0.4733 - accuracy: 0.8247 - val_loss: 0.5036 - val_accuracy: 0.8133\n",
            "Epoch 177/200\n",
            "375/375 [==============================] - 2s 4ms/step - loss: 0.4837 - accuracy: 0.8201 - val_loss: 0.4988 - val_accuracy: 0.8206\n",
            "Epoch 178/200\n",
            "375/375 [==============================] - 2s 4ms/step - loss: 0.4740 - accuracy: 0.8286 - val_loss: 0.4920 - val_accuracy: 0.8207\n",
            "Epoch 179/200\n",
            "375/375 [==============================] - 1s 4ms/step - loss: 0.4858 - accuracy: 0.8228 - val_loss: 0.5026 - val_accuracy: 0.8097\n",
            "Epoch 180/200\n",
            "375/375 [==============================] - 2s 5ms/step - loss: 0.4805 - accuracy: 0.8179 - val_loss: 0.4848 - val_accuracy: 0.8244\n",
            "Epoch 181/200\n",
            "375/375 [==============================] - 2s 4ms/step - loss: 0.4816 - accuracy: 0.8210 - val_loss: 0.4798 - val_accuracy: 0.8215\n",
            "Epoch 182/200\n",
            "375/375 [==============================] - 2s 4ms/step - loss: 0.4610 - accuracy: 0.8272 - val_loss: 0.4584 - val_accuracy: 0.8330\n",
            "Epoch 183/200\n",
            "375/375 [==============================] - 2s 4ms/step - loss: 0.4562 - accuracy: 0.8299 - val_loss: 0.4730 - val_accuracy: 0.8238\n",
            "Epoch 184/200\n",
            "375/375 [==============================] - 2s 4ms/step - loss: 0.4554 - accuracy: 0.8327 - val_loss: 0.4763 - val_accuracy: 0.8246\n",
            "Epoch 185/200\n",
            "375/375 [==============================] - 1s 4ms/step - loss: 0.4535 - accuracy: 0.8318 - val_loss: 0.4739 - val_accuracy: 0.8271\n",
            "Epoch 186/200\n",
            "375/375 [==============================] - 1s 4ms/step - loss: 0.4602 - accuracy: 0.8311 - val_loss: 0.4926 - val_accuracy: 0.8176\n",
            "Epoch 187/200\n",
            "375/375 [==============================] - 2s 4ms/step - loss: 0.4723 - accuracy: 0.8225 - val_loss: 0.4912 - val_accuracy: 0.8073\n",
            "Epoch 188/200\n",
            "375/375 [==============================] - 2s 5ms/step - loss: 0.4756 - accuracy: 0.8214 - val_loss: 0.4808 - val_accuracy: 0.8220\n",
            "Epoch 189/200\n",
            "375/375 [==============================] - 2s 5ms/step - loss: 0.4575 - accuracy: 0.8317 - val_loss: 0.4801 - val_accuracy: 0.8219\n",
            "Epoch 190/200\n",
            "375/375 [==============================] - 1s 4ms/step - loss: 0.4518 - accuracy: 0.8345 - val_loss: 0.4833 - val_accuracy: 0.8207\n",
            "Epoch 191/200\n",
            "375/375 [==============================] - 1s 4ms/step - loss: 0.4608 - accuracy: 0.8262 - val_loss: 0.4727 - val_accuracy: 0.8237\n",
            "Epoch 192/200\n",
            "375/375 [==============================] - 2s 4ms/step - loss: 0.4540 - accuracy: 0.8307 - val_loss: 0.4675 - val_accuracy: 0.8296\n",
            "Epoch 193/200\n",
            "375/375 [==============================] - 2s 4ms/step - loss: 0.4509 - accuracy: 0.8318 - val_loss: 0.4678 - val_accuracy: 0.8242\n",
            "Epoch 194/200\n",
            "375/375 [==============================] - 2s 4ms/step - loss: 0.4688 - accuracy: 0.8261 - val_loss: 0.4702 - val_accuracy: 0.8275\n",
            "Epoch 195/200\n",
            "375/375 [==============================] - 2s 4ms/step - loss: 0.4466 - accuracy: 0.8348 - val_loss: 0.4613 - val_accuracy: 0.8303\n",
            "Epoch 196/200\n",
            "375/375 [==============================] - 2s 5ms/step - loss: 0.4419 - accuracy: 0.8369 - val_loss: 0.4632 - val_accuracy: 0.8313\n",
            "Epoch 197/200\n",
            "375/375 [==============================] - 2s 6ms/step - loss: 0.4440 - accuracy: 0.8358 - val_loss: 0.4702 - val_accuracy: 0.8230\n",
            "Epoch 198/200\n",
            "375/375 [==============================] - 1s 4ms/step - loss: 0.4553 - accuracy: 0.8331 - val_loss: 0.4805 - val_accuracy: 0.8225\n",
            "Epoch 199/200\n",
            "375/375 [==============================] - 2s 4ms/step - loss: 0.4646 - accuracy: 0.8282 - val_loss: 0.4953 - val_accuracy: 0.8188\n",
            "Epoch 200/200\n",
            "375/375 [==============================] - 1s 4ms/step - loss: 0.4572 - accuracy: 0.8311 - val_loss: 0.4765 - val_accuracy: 0.8227\n"
          ]
        }
      ]
    },
    {
      "cell_type": "markdown",
      "source": [
        "### 4.d. Visualizing the Loss and Metric:\n",
        "\n",
        "Remember that in model compiling we specified (OLM) Optimizers, Loss and Metric. Out of these, the log of the `Loss` and `Metric` are kept in TensorBoard, so these can be used to visualize the training."
      ],
      "metadata": {
        "id": "jG71fm2gdQ8z"
      }
    },
    {
      "cell_type": "code",
      "source": [
        "print(history.history)\n",
        "print(history.history['loss'])        # training loss\n",
        "print(history.history['accuracy'])    # training accuracy"
      ],
      "metadata": {
        "colab": {
          "base_uri": "https://localhost:8080/"
        },
        "id": "bQDuAJg-c8sd",
        "outputId": "3e596da1-631f-4181-8a1c-f13bb7e2edb4"
      },
      "execution_count": 32,
      "outputs": [
        {
          "output_type": "stream",
          "name": "stdout",
          "text": [
            "{'loss': [1.3674843311309814, 0.8062241077423096, 0.7316778302192688, 0.689554750919342, 0.6887198090553284, 0.6818565130233765, 0.6758151650428772, 0.6732373237609863, 0.6616248488426208, 0.6442729830741882, 0.6377868056297302, 0.628014862537384, 0.627524197101593, 0.6294998526573181, 0.6460540890693665, 0.6328036189079285, 0.6241843104362488, 0.6080814599990845, 0.603939950466156, 0.5939744114875793, 0.5831301808357239, 0.5934851765632629, 0.5896276235580444, 0.578519344329834, 0.601235032081604, 0.6100397109985352, 0.5897364616394043, 0.5735436081886292, 0.5887190699577332, 0.5993913412094116, 0.5722546577453613, 0.5717354416847229, 0.5760504603385925, 0.5802891254425049, 0.5813831090927124, 0.552420437335968, 0.5568927526473999, 0.5618360638618469, 0.5438384413719177, 0.548041820526123, 0.5424314141273499, 0.5558687448501587, 0.5591781139373779, 0.5471320152282715, 0.552364706993103, 0.5527579188346863, 0.5668007135391235, 0.5615834593772888, 0.5483614802360535, 0.5380954742431641, 0.5407060980796814, 0.5526043772697449, 0.544725775718689, 0.5435472726821899, 0.549397885799408, 0.5343762636184692, 0.5381438136100769, 0.5537557601928711, 0.539879560470581, 0.5392457842826843, 0.5330914855003357, 0.5290219783782959, 0.5369225144386292, 0.5441921353340149, 0.5238265991210938, 0.5241304636001587, 0.5345298051834106, 0.5248551964759827, 0.5167146325111389, 0.5171759128570557, 0.5191614031791687, 0.5204169750213623, 0.5294240713119507, 0.5370919704437256, 0.5416121482849121, 0.5216971039772034, 0.5253149271011353, 0.5182963609695435, 0.5043153166770935, 0.5079386830329895, 0.512326717376709, 0.5146724581718445, 0.5127107501029968, 0.507415235042572, 0.5034586787223816, 0.5017075538635254, 0.5067335963249207, 0.5019845366477966, 0.5091037750244141, 0.5072934031486511, 0.4962521493434906, 0.5078291893005371, 0.5055103898048401, 0.4912601411342621, 0.48092249035835266, 0.4816035032272339, 0.4946354925632477, 0.48990580439567566, 0.4755649268627167, 0.48315495252609253, 0.4829501509666443, 0.48880648612976074, 0.48931318521499634, 0.501492440700531, 0.48872050642967224, 0.4946357309818268, 0.4910866618156433, 0.49812906980514526, 0.5002042055130005, 0.49160051345825195, 0.5060247182846069, 0.5085898637771606, 0.5128410458564758, 0.5016481280326843, 0.5100311636924744, 0.5003286004066467, 0.49868547916412354, 0.49324890971183777, 0.4810199439525604, 0.4820447564125061, 0.4919116199016571, 0.4880845844745636, 0.48768848180770874, 0.4913804531097412, 0.4842055141925812, 0.462342232465744, 0.4796268343925476, 0.4787020981311798, 0.4785730838775635, 0.48691561818122864, 0.47396111488342285, 0.4867587387561798, 0.47941485047340393, 0.5056795477867126, 0.5184260010719299, 0.5184183120727539, 0.5148030519485474, 0.5096796751022339, 0.503663957118988, 0.5049529671669006, 0.49665120244026184, 0.5007606744766235, 0.4832490086555481, 0.4791443943977356, 0.4932876527309418, 0.4831809997558594, 0.4991496503353119, 0.49762600660324097, 0.4900093674659729, 0.4787226915359497, 0.4869852662086487, 0.47844812273979187, 0.4810223877429962, 0.471722811460495, 0.4698605537414551, 0.47766557335853577, 0.46180176734924316, 0.46079882979393005, 0.4641614854335785, 0.4585241377353668, 0.4623319208621979, 0.46394282579421997, 0.46313732862472534, 0.46763932704925537, 0.47792017459869385, 0.47888994216918945, 0.45624613761901855, 0.46873900294303894, 0.46934494376182556, 0.46770039200782776, 0.4709556996822357, 0.47643396258354187, 0.4739224910736084, 0.4659756124019623, 0.4664848744869232, 0.4732762575149536, 0.48372870683670044, 0.47398796677589417, 0.48583662509918213, 0.48054102063179016, 0.4816308617591858, 0.46104055643081665, 0.45619428157806396, 0.45536378026008606, 0.45347490906715393, 0.4601866602897644, 0.47229915857315063, 0.4755997359752655, 0.4574771225452423, 0.45175695419311523, 0.4608352482318878, 0.45401978492736816, 0.4508850872516632, 0.4687516689300537, 0.44655266404151917, 0.4419291913509369, 0.4439750909805298, 0.45527949929237366, 0.4645926058292389, 0.45718175172805786], 'accuracy': [0.5649374723434448, 0.7244791388511658, 0.7265833616256714, 0.7349583506584167, 0.7387083172798157, 0.7381666898727417, 0.7328125238418579, 0.734708309173584, 0.7435625195503235, 0.7563124895095825, 0.753333330154419, 0.754854142665863, 0.7635416388511658, 0.7671250104904175, 0.7611874938011169, 0.7658541798591614, 0.7646458148956299, 0.7636874914169312, 0.7686874866485596, 0.7706458568572998, 0.7743124961853027, 0.7759374976158142, 0.7750625014305115, 0.7789791822433472, 0.7633125185966492, 0.7609583139419556, 0.7744791507720947, 0.7822708487510681, 0.7710416913032532, 0.7709375023841858, 0.7849583625793457, 0.7852708101272583, 0.7797916531562805, 0.7784374952316284, 0.7787083387374878, 0.7936458587646484, 0.7905416488647461, 0.792187511920929, 0.7990000247955322, 0.7946041822433472, 0.7986249923706055, 0.7890416383743286, 0.7908333539962769, 0.7957291603088379, 0.7953541874885559, 0.7944999933242798, 0.7877500057220459, 0.7926250100135803, 0.8007083535194397, 0.8052708506584167, 0.8000624775886536, 0.793541669845581, 0.7965624928474426, 0.7974374890327454, 0.7960208058357239, 0.7997499704360962, 0.7964791655540466, 0.7874166369438171, 0.7952499985694885, 0.8004166483879089, 0.8012291789054871, 0.7989583611488342, 0.7970208525657654, 0.7951874732971191, 0.80447918176651, 0.8033750057220459, 0.7995833158493042, 0.8036666512489319, 0.8053333163261414, 0.8080624938011169, 0.8044166564941406, 0.8070625066757202, 0.8000624775886536, 0.7940833568572998, 0.7916041612625122, 0.8052499890327454, 0.8076249957084656, 0.8055833578109741, 0.8138333559036255, 0.8119791746139526, 0.8075000047683716, 0.8075000047683716, 0.8086458444595337, 0.81229168176651, 0.8116250038146973, 0.8119999766349792, 0.8126458525657654, 0.8149791955947876, 0.8077499866485596, 0.8142916560173035, 0.8185833096504211, 0.8067083358764648, 0.8126875162124634, 0.817104160785675, 0.8203750252723694, 0.8214791417121887, 0.8137708306312561, 0.8167916536331177, 0.8214583396911621, 0.8211874961853027, 0.820604145526886, 0.8208541870117188, 0.8178125023841858, 0.8129791617393494, 0.8198541402816772, 0.8181458115577698, 0.8115624785423279, 0.8102916479110718, 0.8093958497047424, 0.8148124814033508, 0.809208333492279, 0.8071041703224182, 0.799833357334137, 0.8118958473205566, 0.8137916922569275, 0.8143958449363708, 0.815708339214325, 0.8165000081062317, 0.8222916722297668, 0.8201666474342346, 0.8159375190734863, 0.817187488079071, 0.8159166574478149, 0.8089583516120911, 0.8153541684150696, 0.8293541669845581, 0.8236666917800903, 0.8230208158493042, 0.8258958458900452, 0.8147916793823242, 0.8239791393280029, 0.8146874904632568, 0.8220000267028809, 0.8038541674613953, 0.800000011920929, 0.8023541569709778, 0.8048333525657654, 0.8057083487510681, 0.812833309173584, 0.8088124990463257, 0.8143125176429749, 0.8059166669845581, 0.82052081823349, 0.8222708106040955, 0.8162916898727417, 0.8197500109672546, 0.8071666955947876, 0.809291660785675, 0.8147291541099548, 0.8245624899864197, 0.82010418176651, 0.8208125233650208, 0.8183541893959045, 0.8233333230018616, 0.828083336353302, 0.8260208368301392, 0.8304166793823242, 0.832645833492279, 0.8273958563804626, 0.8293125033378601, 0.8281875252723694, 0.8253750205039978, 0.8259791731834412, 0.8257916569709778, 0.820604145526886, 0.8245416879653931, 0.832895815372467, 0.8255624771118164, 0.8241249918937683, 0.8259999752044678, 0.8257708549499512, 0.8278958201408386, 0.8266875147819519, 0.8324999809265137, 0.8257708549499512, 0.8247083425521851, 0.8200833201408386, 0.8286458253860474, 0.8228124976158142, 0.8179166913032532, 0.8209999799728394, 0.8271666765213013, 0.8299375176429749, 0.8326666951179504, 0.8317708373069763, 0.8311041593551636, 0.8224583268165588, 0.8213958144187927, 0.8316666483879089, 0.8344583511352539, 0.8262083530426025, 0.8306875228881836, 0.8318125009536743, 0.8261458277702332, 0.8347916603088379, 0.8368750214576721, 0.8357916474342346, 0.8331041932106018, 0.8281875252723694, 0.831125020980835], 'val_loss': [0.9283068180084229, 0.7650495767593384, 0.7143723964691162, 0.6871622204780579, 0.7070604562759399, 0.7067877650260925, 0.7094451785087585, 0.6920768022537231, 0.6474043726921082, 0.6320164799690247, 0.6364604830741882, 0.6481826901435852, 0.6587012410163879, 0.6459251642227173, 0.6809960603713989, 0.6505362391471863, 0.649336040019989, 0.6441397070884705, 0.6390499472618103, 0.6226633787155151, 0.5772058963775635, 0.6281296610832214, 0.6209761500358582, 0.6008157730102539, 0.628342866897583, 0.6368508338928223, 0.5987286567687988, 0.5913581252098083, 0.6182633638381958, 0.625640869140625, 0.5767544507980347, 0.6072233319282532, 0.584210216999054, 0.5945929884910583, 0.5848628282546997, 0.5645545721054077, 0.5949568748474121, 0.5677126049995422, 0.5837985277175903, 0.5856406092643738, 0.5682501792907715, 0.5877400040626526, 0.582341730594635, 0.5795938968658447, 0.5604609251022339, 0.5908454060554504, 0.5724387168884277, 0.564939022064209, 0.5587567687034607, 0.5562488436698914, 0.5583178997039795, 0.5644634366035461, 0.5468114614486694, 0.5374191999435425, 0.5637162327766418, 0.5480251908302307, 0.5563202500343323, 0.5575847029685974, 0.5617610216140747, 0.5637552738189697, 0.5580763220787048, 0.5389434695243835, 0.5434025526046753, 0.5470962524414062, 0.5305718183517456, 0.552969753742218, 0.5513929724693298, 0.5433886051177979, 0.5271308422088623, 0.5289549231529236, 0.540897786617279, 0.5470400452613831, 0.5444961190223694, 0.5552509427070618, 0.5347102880477905, 0.5331076979637146, 0.5423430800437927, 0.5234348773956299, 0.5179981589317322, 0.5254684090614319, 0.5236510634422302, 0.5223527550697327, 0.5055880546569824, 0.5227897763252258, 0.5243961811065674, 0.5190610289573669, 0.5351831912994385, 0.5062000155448914, 0.5260621905326843, 0.5259591341018677, 0.5211615562438965, 0.5122585296630859, 0.5326395034790039, 0.5035711526870728, 0.49581652879714966, 0.5147873163223267, 0.5014105439186096, 0.5077072978019714, 0.48916223645210266, 0.5069952607154846, 0.4941689968109131, 0.5010049939155579, 0.507992684841156, 0.5086266994476318, 0.512125551700592, 0.5108457207679749, 0.5212323069572449, 0.5118204951286316, 0.5192403793334961, 0.5156858563423157, 0.5171504616737366, 0.5151452422142029, 0.5359572172164917, 0.5321598052978516, 0.539162814617157, 0.5073405504226685, 0.5192534327507019, 0.5181788206100464, 0.4954775869846344, 0.5101476907730103, 0.5067089796066284, 0.5096392631530762, 0.49079036712646484, 0.49818673729896545, 0.4994625747203827, 0.4879592955112457, 0.4983927309513092, 0.5040726065635681, 0.4998701214790344, 0.5013740658760071, 0.5014051795005798, 0.48658451437950134, 0.5064098834991455, 0.5332391858100891, 0.5448684096336365, 0.5538973808288574, 0.5206718444824219, 0.5192831754684448, 0.515586256980896, 0.5134522914886475, 0.5357680916786194, 0.5009956955909729, 0.5058995485305786, 0.4946671426296234, 0.527288019657135, 0.5062621235847473, 0.5206921100616455, 0.5029857754707336, 0.5065524578094482, 0.4952346980571747, 0.5082153081893921, 0.49562084674835205, 0.49929922819137573, 0.49792739748954773, 0.49070680141448975, 0.48905354738235474, 0.46712708473205566, 0.4726170301437378, 0.4793560802936554, 0.48390573263168335, 0.4801870882511139, 0.4789506494998932, 0.4784153997898102, 0.49731433391571045, 0.49995166063308716, 0.47435635328292847, 0.4712018370628357, 0.47427046298980713, 0.497527152299881, 0.5003638863563538, 0.48328453302383423, 0.49124881625175476, 0.483886182308197, 0.4837973117828369, 0.4698393642902374, 0.5036125183105469, 0.4987832009792328, 0.492033451795578, 0.5026488304138184, 0.4847501218318939, 0.4797908663749695, 0.4584293067455292, 0.4730321764945984, 0.4763461649417877, 0.4738835096359253, 0.4926126003265381, 0.49121609330177307, 0.48081502318382263, 0.4801167845726013, 0.48328715562820435, 0.47274884581565857, 0.4674670696258545, 0.4677721858024597, 0.4701976776123047, 0.4612638056278229, 0.4632135331630707, 0.4701871871948242, 0.4805232286453247, 0.4953151345252991, 0.47647204995155334], 'val_accuracy': [0.6768333315849304, 0.7192500233650208, 0.7279166579246521, 0.7354166507720947, 0.731333315372467, 0.7173333168029785, 0.7148333191871643, 0.7254166603088379, 0.7683333158493042, 0.7565833330154419, 0.753166675567627, 0.7400000095367432, 0.7320833206176758, 0.7360000014305115, 0.7335000038146973, 0.7523333430290222, 0.7424166798591614, 0.7514166831970215, 0.7634166479110718, 0.7433333396911621, 0.7838333249092102, 0.7640833258628845, 0.7482500076293945, 0.7644166946411133, 0.7515000104904175, 0.7351666688919067, 0.7630000114440918, 0.7760833501815796, 0.765999972820282, 0.7735833525657654, 0.7827500104904175, 0.7720833420753479, 0.784166693687439, 0.7771666646003723, 0.7785000205039978, 0.7881666421890259, 0.7661666870117188, 0.7906666398048401, 0.7869166731834412, 0.7630833387374878, 0.784250020980835, 0.7796666622161865, 0.7778333425521851, 0.7739999890327454, 0.7929999828338623, 0.7760833501815796, 0.7862499952316284, 0.7875000238418579, 0.784166693687439, 0.8005833625793457, 0.7900833487510681, 0.7753333449363708, 0.7952499985694885, 0.7985833287239075, 0.7924166917800903, 0.7864166498184204, 0.7860833406448364, 0.7875000238418579, 0.784416675567627, 0.793666660785675, 0.7875000238418579, 0.79708331823349, 0.8009999990463257, 0.7960000038146973, 0.8069999814033508, 0.7914166450500488, 0.7947499752044678, 0.7990833520889282, 0.8061666488647461, 0.8039166927337646, 0.8009166717529297, 0.7910000085830688, 0.7922499775886536, 0.7889999747276306, 0.7953333258628845, 0.8049166798591614, 0.7997499704360962, 0.8015000224113464, 0.809583306312561, 0.8028333187103271, 0.8023333549499512, 0.8004999756813049, 0.8138333559036255, 0.8011666536331177, 0.8027499914169312, 0.8024166822433472, 0.8035833239555359, 0.8139166831970215, 0.8019999861717224, 0.8065000176429749, 0.7947499752044678, 0.8096666932106018, 0.8016666769981384, 0.8149166703224182, 0.8167499899864197, 0.8072500228881836, 0.8111666440963745, 0.8089166879653931, 0.8134999871253967, 0.8034999966621399, 0.8184999823570251, 0.812833309173584, 0.8135833144187927, 0.8119166493415833, 0.8081666827201843, 0.8025833368301392, 0.793833315372467, 0.8034999966621399, 0.7984166741371155, 0.7975000143051147, 0.8052499890327454, 0.809499979019165, 0.7895833253860474, 0.8043333292007446, 0.793666660785675, 0.8075833320617676, 0.8019999861717224, 0.8076666593551636, 0.8163333535194397, 0.8102499842643738, 0.8029999732971191, 0.8055833578109741, 0.815666675567627, 0.8102499842643738, 0.8115833401679993, 0.815750002861023, 0.8133333325386047, 0.8142499923706055, 0.815583348274231, 0.8117499947547913, 0.8139166831970215, 0.8179166913032532, 0.8135833144187927, 0.7917500138282776, 0.7901666760444641, 0.7794166803359985, 0.8027499914169312, 0.8084999918937683, 0.8109166622161865, 0.8077499866485596, 0.7907500267028809, 0.809166669845581, 0.8102499842643738, 0.8153333067893982, 0.8023333549499512, 0.8100833296775818, 0.7897499799728394, 0.8109166622161865, 0.8116666674613953, 0.8200833201408386, 0.8070833086967468, 0.8109999895095825, 0.8159166574478149, 0.8211666941642761, 0.8215833306312561, 0.8174166679382324, 0.8292499780654907, 0.8262500166893005, 0.8206666707992554, 0.8245000243186951, 0.8200833201408386, 0.8233333230018616, 0.8144166469573975, 0.8134999871253967, 0.8109166622161865, 0.8246666789054871, 0.82791668176651, 0.8254166841506958, 0.812166690826416, 0.809249997138977, 0.8228333592414856, 0.8270000219345093, 0.8270833492279053, 0.8273333311080933, 0.8206666707992554, 0.8133333325386047, 0.8205833435058594, 0.8206666707992554, 0.8096666932106018, 0.8244166374206543, 0.8215000033378601, 0.8330000042915344, 0.8237500190734863, 0.8245833516120911, 0.8270833492279053, 0.8175833225250244, 0.8072500228881836, 0.8220000267028809, 0.8219166398048401, 0.8207499980926514, 0.8236666917800903, 0.8295833468437195, 0.8241666555404663, 0.8274999856948853, 0.8303333520889282, 0.831333339214325, 0.8230000138282776, 0.8224999904632568, 0.8188333511352539, 0.8226666450500488]}\n",
            "[1.3674843311309814, 0.8062241077423096, 0.7316778302192688, 0.689554750919342, 0.6887198090553284, 0.6818565130233765, 0.6758151650428772, 0.6732373237609863, 0.6616248488426208, 0.6442729830741882, 0.6377868056297302, 0.628014862537384, 0.627524197101593, 0.6294998526573181, 0.6460540890693665, 0.6328036189079285, 0.6241843104362488, 0.6080814599990845, 0.603939950466156, 0.5939744114875793, 0.5831301808357239, 0.5934851765632629, 0.5896276235580444, 0.578519344329834, 0.601235032081604, 0.6100397109985352, 0.5897364616394043, 0.5735436081886292, 0.5887190699577332, 0.5993913412094116, 0.5722546577453613, 0.5717354416847229, 0.5760504603385925, 0.5802891254425049, 0.5813831090927124, 0.552420437335968, 0.5568927526473999, 0.5618360638618469, 0.5438384413719177, 0.548041820526123, 0.5424314141273499, 0.5558687448501587, 0.5591781139373779, 0.5471320152282715, 0.552364706993103, 0.5527579188346863, 0.5668007135391235, 0.5615834593772888, 0.5483614802360535, 0.5380954742431641, 0.5407060980796814, 0.5526043772697449, 0.544725775718689, 0.5435472726821899, 0.549397885799408, 0.5343762636184692, 0.5381438136100769, 0.5537557601928711, 0.539879560470581, 0.5392457842826843, 0.5330914855003357, 0.5290219783782959, 0.5369225144386292, 0.5441921353340149, 0.5238265991210938, 0.5241304636001587, 0.5345298051834106, 0.5248551964759827, 0.5167146325111389, 0.5171759128570557, 0.5191614031791687, 0.5204169750213623, 0.5294240713119507, 0.5370919704437256, 0.5416121482849121, 0.5216971039772034, 0.5253149271011353, 0.5182963609695435, 0.5043153166770935, 0.5079386830329895, 0.512326717376709, 0.5146724581718445, 0.5127107501029968, 0.507415235042572, 0.5034586787223816, 0.5017075538635254, 0.5067335963249207, 0.5019845366477966, 0.5091037750244141, 0.5072934031486511, 0.4962521493434906, 0.5078291893005371, 0.5055103898048401, 0.4912601411342621, 0.48092249035835266, 0.4816035032272339, 0.4946354925632477, 0.48990580439567566, 0.4755649268627167, 0.48315495252609253, 0.4829501509666443, 0.48880648612976074, 0.48931318521499634, 0.501492440700531, 0.48872050642967224, 0.4946357309818268, 0.4910866618156433, 0.49812906980514526, 0.5002042055130005, 0.49160051345825195, 0.5060247182846069, 0.5085898637771606, 0.5128410458564758, 0.5016481280326843, 0.5100311636924744, 0.5003286004066467, 0.49868547916412354, 0.49324890971183777, 0.4810199439525604, 0.4820447564125061, 0.4919116199016571, 0.4880845844745636, 0.48768848180770874, 0.4913804531097412, 0.4842055141925812, 0.462342232465744, 0.4796268343925476, 0.4787020981311798, 0.4785730838775635, 0.48691561818122864, 0.47396111488342285, 0.4867587387561798, 0.47941485047340393, 0.5056795477867126, 0.5184260010719299, 0.5184183120727539, 0.5148030519485474, 0.5096796751022339, 0.503663957118988, 0.5049529671669006, 0.49665120244026184, 0.5007606744766235, 0.4832490086555481, 0.4791443943977356, 0.4932876527309418, 0.4831809997558594, 0.4991496503353119, 0.49762600660324097, 0.4900093674659729, 0.4787226915359497, 0.4869852662086487, 0.47844812273979187, 0.4810223877429962, 0.471722811460495, 0.4698605537414551, 0.47766557335853577, 0.46180176734924316, 0.46079882979393005, 0.4641614854335785, 0.4585241377353668, 0.4623319208621979, 0.46394282579421997, 0.46313732862472534, 0.46763932704925537, 0.47792017459869385, 0.47888994216918945, 0.45624613761901855, 0.46873900294303894, 0.46934494376182556, 0.46770039200782776, 0.4709556996822357, 0.47643396258354187, 0.4739224910736084, 0.4659756124019623, 0.4664848744869232, 0.4732762575149536, 0.48372870683670044, 0.47398796677589417, 0.48583662509918213, 0.48054102063179016, 0.4816308617591858, 0.46104055643081665, 0.45619428157806396, 0.45536378026008606, 0.45347490906715393, 0.4601866602897644, 0.47229915857315063, 0.4755997359752655, 0.4574771225452423, 0.45175695419311523, 0.4608352482318878, 0.45401978492736816, 0.4508850872516632, 0.4687516689300537, 0.44655266404151917, 0.4419291913509369, 0.4439750909805298, 0.45527949929237366, 0.4645926058292389, 0.45718175172805786]\n",
            "[0.5649374723434448, 0.7244791388511658, 0.7265833616256714, 0.7349583506584167, 0.7387083172798157, 0.7381666898727417, 0.7328125238418579, 0.734708309173584, 0.7435625195503235, 0.7563124895095825, 0.753333330154419, 0.754854142665863, 0.7635416388511658, 0.7671250104904175, 0.7611874938011169, 0.7658541798591614, 0.7646458148956299, 0.7636874914169312, 0.7686874866485596, 0.7706458568572998, 0.7743124961853027, 0.7759374976158142, 0.7750625014305115, 0.7789791822433472, 0.7633125185966492, 0.7609583139419556, 0.7744791507720947, 0.7822708487510681, 0.7710416913032532, 0.7709375023841858, 0.7849583625793457, 0.7852708101272583, 0.7797916531562805, 0.7784374952316284, 0.7787083387374878, 0.7936458587646484, 0.7905416488647461, 0.792187511920929, 0.7990000247955322, 0.7946041822433472, 0.7986249923706055, 0.7890416383743286, 0.7908333539962769, 0.7957291603088379, 0.7953541874885559, 0.7944999933242798, 0.7877500057220459, 0.7926250100135803, 0.8007083535194397, 0.8052708506584167, 0.8000624775886536, 0.793541669845581, 0.7965624928474426, 0.7974374890327454, 0.7960208058357239, 0.7997499704360962, 0.7964791655540466, 0.7874166369438171, 0.7952499985694885, 0.8004166483879089, 0.8012291789054871, 0.7989583611488342, 0.7970208525657654, 0.7951874732971191, 0.80447918176651, 0.8033750057220459, 0.7995833158493042, 0.8036666512489319, 0.8053333163261414, 0.8080624938011169, 0.8044166564941406, 0.8070625066757202, 0.8000624775886536, 0.7940833568572998, 0.7916041612625122, 0.8052499890327454, 0.8076249957084656, 0.8055833578109741, 0.8138333559036255, 0.8119791746139526, 0.8075000047683716, 0.8075000047683716, 0.8086458444595337, 0.81229168176651, 0.8116250038146973, 0.8119999766349792, 0.8126458525657654, 0.8149791955947876, 0.8077499866485596, 0.8142916560173035, 0.8185833096504211, 0.8067083358764648, 0.8126875162124634, 0.817104160785675, 0.8203750252723694, 0.8214791417121887, 0.8137708306312561, 0.8167916536331177, 0.8214583396911621, 0.8211874961853027, 0.820604145526886, 0.8208541870117188, 0.8178125023841858, 0.8129791617393494, 0.8198541402816772, 0.8181458115577698, 0.8115624785423279, 0.8102916479110718, 0.8093958497047424, 0.8148124814033508, 0.809208333492279, 0.8071041703224182, 0.799833357334137, 0.8118958473205566, 0.8137916922569275, 0.8143958449363708, 0.815708339214325, 0.8165000081062317, 0.8222916722297668, 0.8201666474342346, 0.8159375190734863, 0.817187488079071, 0.8159166574478149, 0.8089583516120911, 0.8153541684150696, 0.8293541669845581, 0.8236666917800903, 0.8230208158493042, 0.8258958458900452, 0.8147916793823242, 0.8239791393280029, 0.8146874904632568, 0.8220000267028809, 0.8038541674613953, 0.800000011920929, 0.8023541569709778, 0.8048333525657654, 0.8057083487510681, 0.812833309173584, 0.8088124990463257, 0.8143125176429749, 0.8059166669845581, 0.82052081823349, 0.8222708106040955, 0.8162916898727417, 0.8197500109672546, 0.8071666955947876, 0.809291660785675, 0.8147291541099548, 0.8245624899864197, 0.82010418176651, 0.8208125233650208, 0.8183541893959045, 0.8233333230018616, 0.828083336353302, 0.8260208368301392, 0.8304166793823242, 0.832645833492279, 0.8273958563804626, 0.8293125033378601, 0.8281875252723694, 0.8253750205039978, 0.8259791731834412, 0.8257916569709778, 0.820604145526886, 0.8245416879653931, 0.832895815372467, 0.8255624771118164, 0.8241249918937683, 0.8259999752044678, 0.8257708549499512, 0.8278958201408386, 0.8266875147819519, 0.8324999809265137, 0.8257708549499512, 0.8247083425521851, 0.8200833201408386, 0.8286458253860474, 0.8228124976158142, 0.8179166913032532, 0.8209999799728394, 0.8271666765213013, 0.8299375176429749, 0.8326666951179504, 0.8317708373069763, 0.8311041593551636, 0.8224583268165588, 0.8213958144187927, 0.8316666483879089, 0.8344583511352539, 0.8262083530426025, 0.8306875228881836, 0.8318125009536743, 0.8261458277702332, 0.8347916603088379, 0.8368750214576721, 0.8357916474342346, 0.8331041932106018, 0.8281875252723694, 0.831125020980835]\n"
          ]
        }
      ]
    },
    {
      "cell_type": "code",
      "source": [
        "print(history.history['val_loss'])          # validation loss\n",
        "print(history.history['val_accuracy'])      # validation accuracy"
      ],
      "metadata": {
        "colab": {
          "base_uri": "https://localhost:8080/"
        },
        "id": "jmx_P-lTeeeN",
        "outputId": "4f5c5cdf-c6a3-4e52-d634-42a69ef18ffb"
      },
      "execution_count": 33,
      "outputs": [
        {
          "output_type": "stream",
          "name": "stdout",
          "text": [
            "[0.9283068180084229, 0.7650495767593384, 0.7143723964691162, 0.6871622204780579, 0.7070604562759399, 0.7067877650260925, 0.7094451785087585, 0.6920768022537231, 0.6474043726921082, 0.6320164799690247, 0.6364604830741882, 0.6481826901435852, 0.6587012410163879, 0.6459251642227173, 0.6809960603713989, 0.6505362391471863, 0.649336040019989, 0.6441397070884705, 0.6390499472618103, 0.6226633787155151, 0.5772058963775635, 0.6281296610832214, 0.6209761500358582, 0.6008157730102539, 0.628342866897583, 0.6368508338928223, 0.5987286567687988, 0.5913581252098083, 0.6182633638381958, 0.625640869140625, 0.5767544507980347, 0.6072233319282532, 0.584210216999054, 0.5945929884910583, 0.5848628282546997, 0.5645545721054077, 0.5949568748474121, 0.5677126049995422, 0.5837985277175903, 0.5856406092643738, 0.5682501792907715, 0.5877400040626526, 0.582341730594635, 0.5795938968658447, 0.5604609251022339, 0.5908454060554504, 0.5724387168884277, 0.564939022064209, 0.5587567687034607, 0.5562488436698914, 0.5583178997039795, 0.5644634366035461, 0.5468114614486694, 0.5374191999435425, 0.5637162327766418, 0.5480251908302307, 0.5563202500343323, 0.5575847029685974, 0.5617610216140747, 0.5637552738189697, 0.5580763220787048, 0.5389434695243835, 0.5434025526046753, 0.5470962524414062, 0.5305718183517456, 0.552969753742218, 0.5513929724693298, 0.5433886051177979, 0.5271308422088623, 0.5289549231529236, 0.540897786617279, 0.5470400452613831, 0.5444961190223694, 0.5552509427070618, 0.5347102880477905, 0.5331076979637146, 0.5423430800437927, 0.5234348773956299, 0.5179981589317322, 0.5254684090614319, 0.5236510634422302, 0.5223527550697327, 0.5055880546569824, 0.5227897763252258, 0.5243961811065674, 0.5190610289573669, 0.5351831912994385, 0.5062000155448914, 0.5260621905326843, 0.5259591341018677, 0.5211615562438965, 0.5122585296630859, 0.5326395034790039, 0.5035711526870728, 0.49581652879714966, 0.5147873163223267, 0.5014105439186096, 0.5077072978019714, 0.48916223645210266, 0.5069952607154846, 0.4941689968109131, 0.5010049939155579, 0.507992684841156, 0.5086266994476318, 0.512125551700592, 0.5108457207679749, 0.5212323069572449, 0.5118204951286316, 0.5192403793334961, 0.5156858563423157, 0.5171504616737366, 0.5151452422142029, 0.5359572172164917, 0.5321598052978516, 0.539162814617157, 0.5073405504226685, 0.5192534327507019, 0.5181788206100464, 0.4954775869846344, 0.5101476907730103, 0.5067089796066284, 0.5096392631530762, 0.49079036712646484, 0.49818673729896545, 0.4994625747203827, 0.4879592955112457, 0.4983927309513092, 0.5040726065635681, 0.4998701214790344, 0.5013740658760071, 0.5014051795005798, 0.48658451437950134, 0.5064098834991455, 0.5332391858100891, 0.5448684096336365, 0.5538973808288574, 0.5206718444824219, 0.5192831754684448, 0.515586256980896, 0.5134522914886475, 0.5357680916786194, 0.5009956955909729, 0.5058995485305786, 0.4946671426296234, 0.527288019657135, 0.5062621235847473, 0.5206921100616455, 0.5029857754707336, 0.5065524578094482, 0.4952346980571747, 0.5082153081893921, 0.49562084674835205, 0.49929922819137573, 0.49792739748954773, 0.49070680141448975, 0.48905354738235474, 0.46712708473205566, 0.4726170301437378, 0.4793560802936554, 0.48390573263168335, 0.4801870882511139, 0.4789506494998932, 0.4784153997898102, 0.49731433391571045, 0.49995166063308716, 0.47435635328292847, 0.4712018370628357, 0.47427046298980713, 0.497527152299881, 0.5003638863563538, 0.48328453302383423, 0.49124881625175476, 0.483886182308197, 0.4837973117828369, 0.4698393642902374, 0.5036125183105469, 0.4987832009792328, 0.492033451795578, 0.5026488304138184, 0.4847501218318939, 0.4797908663749695, 0.4584293067455292, 0.4730321764945984, 0.4763461649417877, 0.4738835096359253, 0.4926126003265381, 0.49121609330177307, 0.48081502318382263, 0.4801167845726013, 0.48328715562820435, 0.47274884581565857, 0.4674670696258545, 0.4677721858024597, 0.4701976776123047, 0.4612638056278229, 0.4632135331630707, 0.4701871871948242, 0.4805232286453247, 0.4953151345252991, 0.47647204995155334]\n",
            "[0.6768333315849304, 0.7192500233650208, 0.7279166579246521, 0.7354166507720947, 0.731333315372467, 0.7173333168029785, 0.7148333191871643, 0.7254166603088379, 0.7683333158493042, 0.7565833330154419, 0.753166675567627, 0.7400000095367432, 0.7320833206176758, 0.7360000014305115, 0.7335000038146973, 0.7523333430290222, 0.7424166798591614, 0.7514166831970215, 0.7634166479110718, 0.7433333396911621, 0.7838333249092102, 0.7640833258628845, 0.7482500076293945, 0.7644166946411133, 0.7515000104904175, 0.7351666688919067, 0.7630000114440918, 0.7760833501815796, 0.765999972820282, 0.7735833525657654, 0.7827500104904175, 0.7720833420753479, 0.784166693687439, 0.7771666646003723, 0.7785000205039978, 0.7881666421890259, 0.7661666870117188, 0.7906666398048401, 0.7869166731834412, 0.7630833387374878, 0.784250020980835, 0.7796666622161865, 0.7778333425521851, 0.7739999890327454, 0.7929999828338623, 0.7760833501815796, 0.7862499952316284, 0.7875000238418579, 0.784166693687439, 0.8005833625793457, 0.7900833487510681, 0.7753333449363708, 0.7952499985694885, 0.7985833287239075, 0.7924166917800903, 0.7864166498184204, 0.7860833406448364, 0.7875000238418579, 0.784416675567627, 0.793666660785675, 0.7875000238418579, 0.79708331823349, 0.8009999990463257, 0.7960000038146973, 0.8069999814033508, 0.7914166450500488, 0.7947499752044678, 0.7990833520889282, 0.8061666488647461, 0.8039166927337646, 0.8009166717529297, 0.7910000085830688, 0.7922499775886536, 0.7889999747276306, 0.7953333258628845, 0.8049166798591614, 0.7997499704360962, 0.8015000224113464, 0.809583306312561, 0.8028333187103271, 0.8023333549499512, 0.8004999756813049, 0.8138333559036255, 0.8011666536331177, 0.8027499914169312, 0.8024166822433472, 0.8035833239555359, 0.8139166831970215, 0.8019999861717224, 0.8065000176429749, 0.7947499752044678, 0.8096666932106018, 0.8016666769981384, 0.8149166703224182, 0.8167499899864197, 0.8072500228881836, 0.8111666440963745, 0.8089166879653931, 0.8134999871253967, 0.8034999966621399, 0.8184999823570251, 0.812833309173584, 0.8135833144187927, 0.8119166493415833, 0.8081666827201843, 0.8025833368301392, 0.793833315372467, 0.8034999966621399, 0.7984166741371155, 0.7975000143051147, 0.8052499890327454, 0.809499979019165, 0.7895833253860474, 0.8043333292007446, 0.793666660785675, 0.8075833320617676, 0.8019999861717224, 0.8076666593551636, 0.8163333535194397, 0.8102499842643738, 0.8029999732971191, 0.8055833578109741, 0.815666675567627, 0.8102499842643738, 0.8115833401679993, 0.815750002861023, 0.8133333325386047, 0.8142499923706055, 0.815583348274231, 0.8117499947547913, 0.8139166831970215, 0.8179166913032532, 0.8135833144187927, 0.7917500138282776, 0.7901666760444641, 0.7794166803359985, 0.8027499914169312, 0.8084999918937683, 0.8109166622161865, 0.8077499866485596, 0.7907500267028809, 0.809166669845581, 0.8102499842643738, 0.8153333067893982, 0.8023333549499512, 0.8100833296775818, 0.7897499799728394, 0.8109166622161865, 0.8116666674613953, 0.8200833201408386, 0.8070833086967468, 0.8109999895095825, 0.8159166574478149, 0.8211666941642761, 0.8215833306312561, 0.8174166679382324, 0.8292499780654907, 0.8262500166893005, 0.8206666707992554, 0.8245000243186951, 0.8200833201408386, 0.8233333230018616, 0.8144166469573975, 0.8134999871253967, 0.8109166622161865, 0.8246666789054871, 0.82791668176651, 0.8254166841506958, 0.812166690826416, 0.809249997138977, 0.8228333592414856, 0.8270000219345093, 0.8270833492279053, 0.8273333311080933, 0.8206666707992554, 0.8133333325386047, 0.8205833435058594, 0.8206666707992554, 0.8096666932106018, 0.8244166374206543, 0.8215000033378601, 0.8330000042915344, 0.8237500190734863, 0.8245833516120911, 0.8270833492279053, 0.8175833225250244, 0.8072500228881836, 0.8220000267028809, 0.8219166398048401, 0.8207499980926514, 0.8236666917800903, 0.8295833468437195, 0.8241666555404663, 0.8274999856948853, 0.8303333520889282, 0.831333339214325, 0.8230000138282776, 0.8224999904632568, 0.8188333511352539, 0.8226666450500488]\n"
          ]
        }
      ]
    },
    {
      "cell_type": "markdown",
      "source": [
        "The log for the overall training loss is stored as loss. The validation loss is stored as \"val_loss\". So we can plot both the training and validation loss simultaneously on a single plot.\n",
        "\n",
        "The Training involved:\n",
        "* Forward propagation\n",
        "* Loss and Metric (Accuracy) calculation\n",
        "* Backpropagation (Aided by Optimizer)\n",
        "\n",
        "(*Notice the presence of the mnemonic 'OLM' during the trainng. Remember we compiled the model with OLM.*)\n",
        "\n",
        "The Validation procedure involved:\n",
        "* Forward propagation\n",
        "* Loss and Metric (Accuracy) calculation\n",
        "\n",
        "(*Notice the absence of the mnemonic 'O' during valiadtion. It's so because Backpropagation (learning or training) doesn't happen in validation and testing phase.*)"
      ],
      "metadata": {
        "id": "r5aboTZekJTw"
      }
    },
    {
      "cell_type": "code",
      "source": [
        "plt.figure(figsize=(10,10))\n",
        "\n",
        "x = tf.range(0,200)\n",
        "plt.plot(x,history.history['loss'], label='Training Loss')\n",
        "plt.plot(x,history.history['val_loss'], label='Validating Loss')\n",
        "plt.legend(loc='upper right',fontsize=14)\n",
        "\n",
        "plt.xlabel('No of epoch')\n",
        "plt.ylabel('Loss')"
      ],
      "metadata": {
        "colab": {
          "base_uri": "https://localhost:8080/",
          "height": 867
        },
        "id": "eYKSBHkMeh3T",
        "outputId": "4ce148db-efef-4935-d049-b2c3f8d54950"
      },
      "execution_count": 34,
      "outputs": [
        {
          "output_type": "execute_result",
          "data": {
            "text/plain": [
              "Text(0, 0.5, 'Loss')"
            ]
          },
          "metadata": {},
          "execution_count": 34
        },
        {
          "output_type": "display_data",
          "data": {
            "text/plain": [
              "<Figure size 1000x1000 with 1 Axes>"
            ],
            "image/png": "[encoded data removed]"
          },
          "metadata": {}
        }
      ]
    },
    {
      "cell_type": "markdown",
      "source": [
        "### 4.e. Testing the model on test data"
      ],
      "metadata": {
        "id": "vWlrHRI4hMAe"
      }
    },
    {
      "cell_type": "markdown",
      "source": [
        "Remember that we reshaped the 2d image to a vector? Now lets try to reshape it back to 2d matrix representation and store it under a different name."
      ],
      "metadata": {
        "id": "bujyhjV0x2Pq"
      }
    },
    {
      "cell_type": "code",
      "source": [
        "# Get the number of samples\n",
        "num_samples_train = x_train.shape[0]\n",
        "num_samples_val = x_val.shape[0]\n",
        "num_samples_test = x_test.shape[0]\n",
        "\n",
        "print(num_samples_train)\n",
        "print(num_samples_val)\n",
        "print(num_samples_test)"
      ],
      "metadata": {
        "colab": {
          "base_uri": "https://localhost:8080/"
        },
        "id": "0vHGcRCL0bGx",
        "outputId": "c0abbd2f-5754-4632-ea42-7d1d57336d63"
      },
      "execution_count": 36,
      "outputs": [
        {
          "output_type": "stream",
          "name": "stdout",
          "text": [
            "48000\n",
            "12000\n",
            "10000\n"
          ]
        }
      ]
    },
    {
      "cell_type": "code",
      "source": [
        "x_train_2d=tf.reshape(x_train,(48000,28,28))\n",
        "x_val_2d=tf.reshape(x_val,(12000,28,28))\n",
        "x_test_2d=tf.reshape(x_test,(10000,28,28))"
      ],
      "metadata": {
        "id": "xHsnZ79Iyq5U"
      },
      "execution_count": 37,
      "outputs": []
    },
    {
      "cell_type": "code",
      "source": [
        "plt.imshow(x_test_2d[0,:,:])"
      ],
      "metadata": {
        "colab": {
          "base_uri": "https://localhost:8080/",
          "height": 447
        },
        "id": "--fa_8qT4CWz",
        "outputId": "070e6a98-cd5a-4a64-c703-9a0577d96f63"
      },
      "execution_count": 38,
      "outputs": [
        {
          "output_type": "execute_result",
          "data": {
            "text/plain": [
              "<matplotlib.image.AxesImage at 0x7c14f1be0250>"
            ]
          },
          "metadata": {},
          "execution_count": 38
        },
        {
          "output_type": "display_data",
          "data": {
            "text/plain": [
              "<Figure size 640x480 with 1 Axes>"
            ],
            "image/png": "[encoded data removed]"
          },
          "metadata": {}
        }
      ]
    },
    {
      "cell_type": "markdown",
      "source": [
        "Lets ask the model to predict the first instance of the x_test and see if it can correctly predict the label for the above image."
      ],
      "metadata": {
        "id": "y1IF4KR_4Zie"
      }
    },
    {
      "cell_type": "code",
      "source": [
        "print(y_test[0])"
      ],
      "metadata": {
        "colab": {
          "base_uri": "https://localhost:8080/"
        },
        "id": "QDI2JDfZ49w0",
        "outputId": "469ca5b8-cd01-429d-cd32-dbd5f17e49b9"
      },
      "execution_count": 58,
      "outputs": [
        {
          "output_type": "stream",
          "name": "stdout",
          "text": [
            "9\n"
          ]
        }
      ]
    },
    {
      "cell_type": "markdown",
      "source": [
        "Here the class label of the above image is '9'. Lets see if the model outputs '9'"
      ],
      "metadata": {
        "id": "mJG-PR6S5CvW"
      }
    },
    {
      "cell_type": "code",
      "source": [
        "# Predicting a single sample\n",
        "sample = np.expand_dims(x_test[0], axis=0)\n",
        "prediction = model.predict(sample)\n",
        "print(prediction)"
      ],
      "metadata": {
        "colab": {
          "base_uri": "https://localhost:8080/"
        },
        "id": "yqCVQLg-zJLW",
        "outputId": "c20efcf1-c41c-4fef-9bf1-fb506c5cc81d"
      },
      "execution_count": 59,
      "outputs": [
        {
          "output_type": "stream",
          "name": "stdout",
          "text": [
            "1/1 [==============================] - 0s 17ms/step\n",
            "[[2.1408678e-06 1.6534470e-07 2.2636600e-08 4.9729119e-06 3.2635896e-08\n",
            "  5.6802575e-03 1.9223219e-06 1.0280689e-02 2.2316237e-04 9.8380661e-01]]\n"
          ]
        }
      ]
    },
    {
      "cell_type": "markdown",
      "source": [
        "The output received from the model's prediction is a probability distribution over the 10 classes. Each element in the array represents the model's confidence in each class. To determine the predicted class, you need to find the index of the maximum value in this array.\n",
        "\n",
        "Clearly, from the observation, you can see that the output is 9, as it has the highest probability. However, machine learning models are often deployed in real-world applications, and the users of these applications may not have technical expertise. Therefore, it is important to present the results in a user-friendly manner.\n",
        "\n",
        "To achieve this, we can programmatically determine the predicted class by finding the index with the highest probability using `np.argmax`. This ensures that the predicted class is clearly communicated to the user."
      ],
      "metadata": {
        "id": "_J0FUFrRwzdJ"
      }
    },
    {
      "cell_type": "code",
      "source": [
        "predicted_class = np.argmax(model.predict(sample))\n",
        "print(predicted_class)"
      ],
      "metadata": {
        "colab": {
          "base_uri": "https://localhost:8080/"
        },
        "id": "V6xVLjuW1qyQ",
        "outputId": "5f594241-ce08-4298-bf72-0264f3930df0"
      },
      "execution_count": 60,
      "outputs": [
        {
          "output_type": "stream",
          "name": "stdout",
          "text": [
            "1/1 [==============================] - 0s 17ms/step\n",
            "9\n"
          ]
        }
      ]
    },
    {
      "cell_type": "markdown",
      "source": [
        "The model correctly identified the test instance.\n",
        "Now instead of manually checking each and every instance, lets check for all the test instances and find the model's performace in terms of accuracy and overall loss."
      ],
      "metadata": {
        "id": "hXEE5u-BA-05"
      }
    },
    {
      "cell_type": "code",
      "source": [
        "loss,accuracy = model.evaluate(x=x_test, y=y_test, batch_size=128,verbose=2)\n",
        "\n",
        "print('\\nTest accuracy:', accuracy)"
      ],
      "metadata": {
        "colab": {
          "base_uri": "https://localhost:8080/"
        },
        "id": "crl0DIVsA9Dr",
        "outputId": "7a0f3be2-963e-4b82-cd47-8c391ab9dedc"
      },
      "execution_count": 61,
      "outputs": [
        {
          "output_type": "stream",
          "name": "stdout",
          "text": [
            "79/79 - 0s - loss: 0.4997 - accuracy: 0.8151 - 252ms/epoch - 3ms/step\n",
            "\n",
            "Test accuracy: 0.8151000142097473\n"
          ]
        }
      ]
    },
    {
      "cell_type": "markdown",
      "source": [
        "#### Conclusion/Insights:\n",
        "\n",
        "The overall accuracy obtained from the model is not 100%, which is a common occurrence in machine learning projects. This is because achieving perfect accuracy is often a theoretical ideal rather than a practical expectation.\n",
        "\n",
        "Several factors contribute to less than perfect accuracy:\n",
        "\n",
        "  * **Model Complexity and Overfitting**: Striving for 100% training accuracy may lead to overfitting, where the model becomes overly complex and memorizes the training data instead of generalizing to new, unseen data. As a result, such a model may perform exceptionally well on the training data but poorly on the test data.\n",
        "\n",
        "  * **Model Simplicity and Underfitting**: Conversely, if the model is too simple, it may underfit the data by oversimplifying the problem. An underfitted model performs poorly on both the training and test data because it fails to capture the underlying patterns in the data.\n",
        "\n",
        "Also it is necessary to mention about other classification metrics besides accuracy, because the dataset may not be balanced. Plus, the other metrics provide some additional insights. Some other metrics are given below:\n",
        "\n",
        "\n",
        "<figure>\n",
        "<center>\n",
        "<img src = \"https://drive.google.com/uc?id=10MXqisH9WZIoyA4Gc5qiIOAIQjr1elMS\" width=\"600\" height=\"400\">\n",
        "\n",
        "Fig: Predicted vs Actual classification\n",
        "</center>\n",
        "</figure>\n",
        "\n",
        "\n",
        "* TP = True Positive: Model predicts positive for actual positive (truly classsifies as positive)\n",
        "* FP = False Positive: Model predicts positive for actual negative (falsely classifies as positive)\n",
        "* FN = False Negative: Model predicts negative for actual positive (falsely classifies as negative)\n",
        "* TN = True Negative: Model predicts negative for actual negative (truly classifies as negative)\n",
        "\n",
        "\\\n",
        "\n",
        "\n",
        "Take the figure as shown. Based on the figure, let's write some metrics.\n",
        "\n",
        "##### 1. $Accuracy = {Correct-prediction \\over Total-samples}$\n",
        " * Tells you if the model classified samples correctly (combined accuracy for both classes, without differentiating about positive or negative class).\n",
        " * Problem arises due to the possibility of misclassification of minor class samples being very high.\n",
        "\n",
        "##### 2. $Precision = {TP \\over TP+FP}$\n",
        " * Tells you how many of the positive predictions made by the model are actually correct. (Think of it as an `accuracy for positive class`)\n",
        " * Used when making positive predictions correctly is important. (when **maximizing true positives** is important or minimizing false positives is important.)\n",
        " * Example: In sentencing a suspect to a prison, you may want to be highly correct about the decision because falsely incarcenating someone has a very very high cost; it is always better to leave out 100 criminals than to falsely accuse 1 innocent person.\n",
        "\n",
        "##### 3. $Recall (Sensitivity) (TPR) = {TP \\over TP+FN}$\n",
        " * Tells you how much of the actual positive instances are correctly identified by the model. (Think of it as the model's `confidence in saying positive` when it's actually positive)\n",
        " * Suitable when identifying as many positive samples as possible is important. (or minimizing false negatives is important).\n",
        " * Example: In disease diagnostics, you may want to find all the risks even though some may be falsely predicted. Becasue even if the model identifed a healthy person as a risk, at least the person can go to actual doctor and be aware. But if a potential risky patient is not identified, the cost may be higher.\n",
        "\n",
        "##### 4. $Specificity(TNR) = {TN \\over FP+TN}$\n",
        " * Tells you how much actual negative instances are correctly identified by the model. (Think of it as the model's `confidence in saying negative` when it's actually negative.)\n",
        " * Suitable when identifying negative items are important.\n",
        " * Example: Refer to example given in Precision. (We want to be able to **maximize true negatives** so that we can classify innocent people as innocent. This doesn't ensure lower false incarcenation (lower False positives) but at least gives us confidence that model is highly good and specific at detecting the innocents.\n",
        "\n",
        "##### 5. $FPR = {FP \\over FP + TN}$\n",
        " * Tells you how much actual negatives are falsely identified by the model.\n",
        " (Think of it as the model's `inaccuracy in saying negative` when it's negative.\n",
        " * Suitable to find and **minimize false positives** them.\n",
        " * Example: Exactly the same as the example given in Precision. ( In Precision we focused on maximizing true positives, here we focus on minimizing false positives. It's the same thing.)\n",
        "\n",
        "\\\n",
        "\n",
        "**Note that FPR and TPR can be used to plot AUC curve.**\n",
        " * FPR is in x-axis, TPR(sensitivity) is in y-axis.\n",
        " * If the area under the curve is high, the model is better at detecting True Positives (sensitive) and minimizing False positives.\n",
        "\n",
        "\\\n",
        "\n",
        "##### 6. $F1 Score = {2 (Precision * Recall) \\over Precision + Recall}$\n",
        " * Maximizes both Precision and Recall independently:\n",
        "\n",
        "  * If precision is low, model's accuracy is low for positive class and that there are a lot of FP, thus increasing FPR.(Remember precision means how accurate the model is in classifying positive class.)\n",
        "\n",
        "  * If recall is low, model is leaving out large samples and not confident enough in saying that the samples are positive when they actually are (thus the model may predict actual positives as negatives, thus increasing FNR.)\n",
        "\n",
        "* Unlike the arithmetic mean, harmonic mean gives more weight to lower values. Thus if either of recall or precision is low, the F1 Score is going to be low.\n",
        " * Think of arithmetic mean as an OR gate in logic gates: If either value is high, the mean is going to be high.\n",
        " * Think of Harmonic mean as an AND gate: If either of the two is low, the mean will be low."
      ],
      "metadata": {
        "id": "HBZp--TOCBQH"
      }
    },
    {
      "cell_type": "markdown",
      "source": [
        "This concludes the purpose of this notebook. Here, you learned how to utilize Keras, TensorFlow to build your ANN model and perform a simple classification for 10 classes. You also became familiar with the various classification metrics."
      ],
      "metadata": {
        "id": "AOV7sKxFvzj3"
      }
    }
  ]
}