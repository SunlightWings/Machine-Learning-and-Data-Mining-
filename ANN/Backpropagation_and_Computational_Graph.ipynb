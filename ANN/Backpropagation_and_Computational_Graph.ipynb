{
  "nbformat": 4,
  "nbformat_minor": 0,
  "metadata": {
    "colab": {
      "provenance": []
    },
    "kernelspec": {
      "name": "python3",
      "display_name": "Python 3"
    },
    "language_info": {
      "name": "python"
    }
  },
  "cells": [
    {
      "cell_type": "markdown",
      "source": [
        "In this notebook, we will implement backpropagation from scratch, but before that we need to know about the Computational Graph.\n",
        "\n",
        "## Prerequisites:\n",
        "To start with computational graph and Back propagation, you must have knowledge about:\n",
        "* Mathematical derivatives used in calculus.\n",
        "* Error metrics\n",
        "* Loss functions."
      ],
      "metadata": {
        "id": "nkHo3dNR79GP"
      }
    },
    {
      "cell_type": "markdown",
      "source": [
        "## Computational Graphs:\n",
        "A computational graph is a representation of mathematical functions using graph theory, consisting of nodes and edges.\n",
        "\n",
        "Components:\n",
        "  * Nodes: Represent operations or variables.\n",
        "  * Edges: Represent the flow of data and carry weights.\n",
        "\n",
        "The purpose of Computational Graphs is to visually and structurally represent the flow of data and operations in mathematical computations. They are crucial for understanding and implementing forward and backward propagation of values (data) in neural networks.\n",
        "\n",
        "**Illustration**:\n",
        "\n",
        "Lets consider a simple equation, that is represented in the form of  computational graph as below:\n",
        "\n",
        "<p align=\"center\">s = 2x</p>\n",
        "<p align=\"center\">y = s + a</p>\n",
        "\n",
        "<center>\n",
        "<img src=\"https://doc.google.com/a/fusemachines.com/uc?id=1_WwWjWXvT6b31TS402a9tVe7EjZw_Exu\">\n",
        "\n",
        "Figure 1: Computational graph\n",
        "</center>\n",
        "\n"
      ],
      "metadata": {
        "id": "Sz5kGq7-8sON"
      }
    },
    {
      "cell_type": "markdown",
      "source": [
        "## Forward Propagation of Values in the Graph:\n",
        "\n",
        "<p align=\"justify\">Following figure depicts the forward propagation of inputs to predict values using computational graph.</p>\n",
        "\n",
        "<center>\n",
        "<img src=\"https://doc.google.com/a/fusemachines.com/uc?export=download&id=1_O3ToEv86f9eYhlK8zpFXpJ6_z53x5io\">\n",
        "\n",
        "Figure 2: A Neural Network as a Computational Graph to show Forward Propagation\n",
        "</center>"
      ],
      "metadata": {
        "id": "6-4eoNmM-qmg"
      }
    },
    {
      "cell_type": "markdown",
      "source": [
        "## Backward Propagation of Error:\n",
        "To adapt the weights or parameters in the neural network, the error value is propagated this time but from right to the left in the above graph.\n",
        "\n",
        "**Illustration**:\n",
        "\n",
        "Consider a logistic regression with two inputs variables $x_1$ and $x_2$. In graph below, $z$ is weighted sum of input plus bias, $\\hat{y}$ is the output of a sigmoid function and $y$ is the label for a training example which are finally feed to Binary cross entropy loss.\n",
        "\n",
        "<center>\n",
        "    <img src=\"https://doc.google.com/a/fusemachines.com/uc?export=download&id=14MXS74SqI0ouBzvtwgyLTA8v93g66mRG\" alt=\"ford_prop\" height=\"400\" width = \"900\">\n",
        "\n",
        "Figure 3: Computational Graph for Logistic regression\n",
        "</center>\n",
        "\n",
        "We have,\n",
        "\n",
        "$$z = 1 * w_0 + x_1 * w_1 + x_2 * w_2$$\n",
        "\n",
        "$$\\hat{y} = \\frac{1}{1 + e^{-(1 * w_0 + x_1 * w_1 + x_2 * w_2)}}$$\n",
        "\n",
        "$$Loss (L) = - ( y \\log{\\hat{y}} + (1 - y) \\log{(1-\\hat{y})})$$\n",
        "\n",
        "\n"
      ],
      "metadata": {
        "id": "2Rs_FMKJ_2EI"
      }
    },
    {
      "cell_type": "markdown",
      "source": [
        "### Chain Rule:\n",
        "\n",
        "Before getting into backward propagation in Logistic Regression, lets understand Chain Rule.\n",
        "\n",
        "\n",
        "Simply put, the chain rule in Calculus can be written as:\n",
        "\n",
        "$$\\frac{\\partial{z}}{\\partial{x}} = \\frac{\\partial{z}}{\\partial{y}}.\\frac{\\partial{y}}{\\partial{x}}$$\n",
        "\n",
        "Suppose, we have $x$ and $y$ as input which is feed to $z$, where $z=f(x,y)$ and $z$ is finally feed to $L$,where $L=g(z)$.\n",
        "\n",
        "Then , the local gradient for a particular node  can be defined as partial derivative of `immediate output` of that node with respect to it's `immediate inputs.`\n",
        "\n",
        "<center>\n",
        "<img src=\"https://doc.google.com/a/fusemachines.com/uc?export=download&id=1XpuptKuwAoNrK6FF0hfpBHzjxWIN2ICC\" alt=\"local_gradient\" height=\"300\" >\n",
        "\n",
        "Figure 4: Local gradient of two nodes\n",
        "</center>\n",
        "\n",
        "In the figure 4, the local gradients for first node are:\n",
        "\n",
        "* $\\frac{\\partial{Z}}{\\partial{x}}$\n",
        "\n",
        "* $\\frac{\\partial{Z}}{\\partial{y}}$\n",
        "\n",
        "Similarly for the second node the local gradient is:\n",
        "\n",
        "* $\\frac{\\partial{L}}{\\partial{Z}}$\n"
      ],
      "metadata": {
        "id": "HKJoGezXBmzq"
      }
    },
    {
      "cell_type": "markdown",
      "source": [
        "## Backward Propagation Continued.. (Using Chain Rule):\n",
        "\n",
        "<center>\n",
        "    <img src=\"https://doc.google.com/a/fusemachines.com/uc?export=download&id=1RFe8TVQyTZcg41W1Gc64rbE3u_VX2GfU\" alt=\"chain_rule\" height=\"350\">\n",
        "\n",
        "Figure 5: Chain Rule for Logistic Regression.\n",
        "</center>\n",
        "\n",
        "For the Backpropagation, we apply chain rule. So lets refer to the diagram, understand what is to be calculated and what is known. We will list them point-wise as:\n",
        "\n",
        "1. **Known Gradients** = Local Gradients = $\\frac{\\partial{L}}{\\partial{ŷ}}$, $\\frac{\\partial{ŷ}}{\\partial{Z}}$, ( $\\frac{\\partial{Z}}{\\partial{w0}}$, $\\frac{\\partial{Z}}{\\partial{w1}}$, $\\frac{\\partial{Z}}{\\partial{w2}}$ )\n",
        "\n",
        "2. **To Find** = Final Loss with respect to local inputs (weights) = $\\frac{\\partial{L}}{\\partial{ŷ}}$, $\\frac{\\partial{L}}{\\partial{Z}}$, ( $\\frac{\\partial{L}}{\\partial{w0}}$, $\\frac{\\partial{L}}{\\partial{w1}}$, $\\frac{\\partial{L}}{\\partial{w2}}$ )\n",
        "\n",
        "3. **Chain Rule** = Use point (1) to calculate point (2) as shown in Figure (5).\n",
        "\n",
        "\n",
        "\n",
        "### Calculation:\n",
        "\n",
        "Lets calculate all the gradients.\n",
        "\n",
        "1. Local gradients :\n",
        "\n",
        "$\\frac{\\partial{L}}{\\partial{\\hat{y}}}=\\frac{\\partial{-(y\\log{\\hat{y}}+(1-y)\\log{(1-\\hat{y})})}}{\\partial{\\hat{y}}}$\n",
        "\n",
        "$\\therefore \\frac{\\partial{L}}{\\partial{\\hat{y}}}=-(\\frac{y}{\\hat{y}}-\\frac{(1-y)}{(1-\\hat{y})})$\n",
        "\n",
        "\\\n",
        "\n",
        "$\\frac{\\partial{\\hat{y}}}{\\partial{z}}=\\frac{\\partial({\\frac{1}{1+e^{-z}}})}{\\partial{z}}$        (Since, $\\hat{y}=\\frac{1}{1+e^{-z}}$)\n",
        "\n",
        "$\\frac{\\partial{\\hat{y}}}{\\partial{z}}=\\frac{(1+e^{-z})*\\frac{\\partial{(1)}}{\\partial{z}}-\\frac{\\partial{(1+e^{-z})}}{\\partial{z}}*1}{(1+e^{-z})^2}$\n",
        "\n",
        "$\\frac{\\partial{\\hat{y}}}{\\partial{z}}=\\frac{0-(-e^{-z})}{(1+e^{-z})^2}$\n",
        "\n",
        "$\\frac{\\partial{\\hat{y}}}{\\partial{z}}=\\frac{e^{-z}}{(1+e^{-z})^2}$\n",
        "\n",
        "$\\frac{\\partial{\\hat{y}}}{\\partial{z}}=\\frac{1}{(1+e^{-z})}*\\frac{e^{-z}}{(1+e^{-z})}$\n",
        "\n",
        "$\\frac{\\partial{\\hat{y}}}{\\partial{z}}=\\hat{y}*(1-\\frac{1}{(1+e^{-z})})$\n",
        "\n",
        "$\\therefore \\frac{\\partial{\\hat{y}}}{\\partial{z}}=\\hat{y}*(1-\\hat{y})$\n",
        "\n",
        "\\\n",
        "\n",
        "\\\n",
        "\n",
        "$\\frac{\\partial{z}}{\\partial{w_0}}=\\frac{\\partial{(w_0+x_1*w_1+x_2*w_2)}}{\\partial{w_0}}$\n",
        "\n",
        "$\\therefore \\frac{\\partial{z}}{\\partial{w_0}}=1$\n",
        "\n",
        "$\\therefore \\frac{\\partial{z}}{\\partial{w_1}}=x_1$\n",
        "\n",
        "$\\therefore \\frac{\\partial{z}}{\\partial{w_2}}=x_2$\n",
        "\n",
        "* **Note**: The gradient of `z` with respect to `w` = `Input` as seen just now. This is so because z is the weighted sum.\n",
        "\n",
        "\\\n",
        "\n",
        "2. Chain Rule to find the gradient of Final loss with respect to weights:\n",
        "\n",
        "$\\therefore\\frac{\\partial{L}}{\\partial{\\hat{y}}}=-(\\frac{y}{\\hat{y}}-\\frac{(1-y)}{(1-\\hat{y})})$\n",
        "\n",
        "$\\therefore\\frac{\\partial{L}}{\\partial{z}}=\\frac{\\partial{L}}{\\partial{\\hat{y}}}*\\frac{\\partial{\\hat{y}}}{\\partial{z}}=-(\\frac{y}{\\hat{y}}-\\frac{(1-y)}{(1-\\hat{y})})*\\hat{y}*(1-\\hat{y})$\n",
        "\n",
        "\n",
        "$\\therefore\\frac{\\partial{L}}{\\partial{w_0}}=\\frac{\\partial{L}}{\\partial{\\hat{y}}}*\\frac{\\partial{\\hat{y}}}{\\partial{z}}*\\frac{\\partial{z}}{\\partial{w_0}}=-(\\frac{y}{\\hat{y}}-\\frac{(1-y)}{(1-\\hat{y})})*\\hat{y}(1-\\hat{y})*1$\n",
        "\n",
        "$\\therefore\\frac{\\partial{L}}{\\partial{w_1}}=\\frac{\\partial{L}}{\\partial{\\hat{y}}}*\\frac{\\partial{\\hat{y}}}{\\partial{z}}*\\frac{\\partial{z}}{\\partial{w_1}}=-(\\frac{y}{\\hat{y}}-\\frac{(1-y)}{(1-\\hat{y})})*\\hat{y}(1-\\hat{y})*x_1$\n",
        "\n",
        "$\\therefore \\frac{\\partial{L}}{\\partial{w_2}}=\\frac{\\partial{L}}{\\partial{\\hat{y}}}*\\frac{\\partial{\\hat{y}}}{\\partial{z}}*\\frac{\\partial{z}}{\\partial{w_2}}=-(\\frac{y}{\\hat{y}}-\\frac{(1-y)}{(1-\\hat{y})})*\\hat{y}(1-\\hat{y})*x_2$\n",
        "\n"
      ],
      "metadata": {
        "id": "eGX1VWdIFwAX"
      }
    },
    {
      "cell_type": "markdown",
      "source": [
        "### Weight Update:\n",
        "The main objective of the backpropagation is to update the weights so that the model may \"learn\" something.\n",
        "\n",
        "Now, we update the weights as follows:\n",
        "\n",
        "$new \\space w = old \\space w + \\Delta w = old \\space w + \\eta (- \\frac{\\partial L}{\\partial w})$\n",
        "\n",
        "where, $\\eta$ is the learning rate.\n",
        "\n",
        "For example,\n",
        "\n",
        "$$new \\space w_0 = old \\space w_0 + \\Delta w_0 = old \\space w_0 + \\eta (- \\frac{\\partial L}{\\partial w_0})$$\n",
        "$$new \\space w_1 = old \\space w_1 + \\Delta w_1 = old \\space w_1 + \\eta (- \\frac{\\partial L}{\\partial w_1})$$\n",
        "\n",
        "$$new \\space w_2 = old \\space w_2 + \\Delta w_2 = old \\space w_2 + \\eta (- \\frac{\\partial L}{\\partial w_2})$$"
      ],
      "metadata": {
        "id": "_HVkEbBsUOqY"
      }
    },
    {
      "cell_type": "markdown",
      "source": [
        "## Implementation from Scratch:\n",
        "Let's move on to the juice of the notebook, where we implement the backpropagation algorithm from Scratch."
      ],
      "metadata": {
        "id": "fq8GY1rwU6zo"
      }
    },
    {
      "cell_type": "code",
      "execution_count": null,
      "metadata": {
        "id": "hSHg_NQw7sE7"
      },
      "outputs": [],
      "source": [
        "!pip install numpy\n",
        "!pip install matplotlib\n",
        "!pip install sklearn"
      ]
    },
    {
      "cell_type": "code",
      "source": [
        "import numpy as np\n",
        "import matplotlib.pyplot as plt\n",
        "import sklearn.datasets"
      ],
      "metadata": {
        "id": "_tiP3wJYVMv8"
      },
      "execution_count": 14,
      "outputs": []
    },
    {
      "cell_type": "markdown",
      "source": [
        "**Dataset Preparation**: Here we assign the features and target as X and y respectively."
      ],
      "metadata": {
        "id": "nOPlqk_aVk2A"
      }
    },
    {
      "cell_type": "code",
      "source": [
        "X, y = sklearn.datasets.make_blobs(n_samples=200, centers=2, n_features=2, center_box=(1, 10),random_state=40)"
      ],
      "metadata": {
        "id": "4PPz1oi2VV6n"
      },
      "execution_count": 16,
      "outputs": []
    },
    {
      "cell_type": "code",
      "source": [
        "print(X.shape)\n",
        "print(y.shape)"
      ],
      "metadata": {
        "colab": {
          "base_uri": "https://localhost:8080/"
        },
        "id": "tHwIal25VjtY",
        "outputId": "62b66f23-7f10-44e3-af95-53dcf6a18313"
      },
      "execution_count": 17,
      "outputs": [
        {
          "output_type": "stream",
          "name": "stdout",
          "text": [
            "(200, 2)\n",
            "(200,)\n"
          ]
        }
      ]
    },
    {
      "cell_type": "markdown",
      "source": [
        "**Dataset Visualization**:\n",
        "There are 2 features in the dataset, lets visualize the data.\n"
      ],
      "metadata": {
        "id": "1wQsDnUdWAun"
      }
    },
    {
      "cell_type": "code",
      "source": [
        "# Plot the data\n",
        "plt.scatter(X[y == 0][:, 0], X[y == 0][:, 1], color='green', marker='^', label='Class 0')\n",
        "plt.scatter(X[y == 1][:, 0], X[y == 1][:, 1], color='blue', marker='s', label='Class 1')\n",
        "plt.xlabel('Feature 1')\n",
        "plt.ylabel('Feature 2')\n",
        "plt.legend()\n",
        "plt.title('Scatter plot of the dataset')"
      ],
      "metadata": {
        "colab": {
          "base_uri": "https://localhost:8080/",
          "height": 489
        },
        "id": "FZMSFKZqV65x",
        "outputId": "21bc31ef-7e06-48e9-e586-f042b639196a"
      },
      "execution_count": 18,
      "outputs": [
        {
          "output_type": "execute_result",
          "data": {
            "text/plain": [
              "Text(0.5, 1.0, 'Scatter plot of the dataset')"
            ]
          },
          "metadata": {},
          "execution_count": 18
        },
        {
          "output_type": "display_data",
          "data": {
            "text/plain": [
              "<Figure size 640x480 with 1 Axes>"
            ],
            "image/png": "[encoded data removed]"
          },
          "metadata": {}
        }
      ]
    },
    {
      "cell_type": "markdown",
      "source": [
        "**Network Architecture**:\n",
        "\n",
        "Let us consider a logistic regression with two inputs variable $x_1$ and $x_2$. In the computational graph below $z$ is a weighted sum of input plus bias. $\\hat{y}$ is the output of the sigmoid function and $y$ is the true label for training example. $y$ and $\\hat{y}$ are then passed to a binary cross entropy loss function to calculate the loss.\n",
        "\n",
        "<center>\n",
        "<img src=\"https://doc.google.com/a/fusemachines.com/uc?export=download&id=14MXS74SqI0ouBzvtwgyLTA8v93g66mRG\" alt=\"ford_prop\" height=\"300\" width=\"600\">\n",
        "\n",
        "Figure 6: Architecture for Logistic Regression\n",
        "</center>\n",
        "\n",
        "Thus,\n",
        "\n",
        "$$z = 1 * w_0 + x_1 * w_1 + x_2 * w_2$$\n",
        "\n",
        "$$\\hat{y} = \\frac{1}{1 + e^{-(1 * w_0 + x_1 * w_1 + x_2 * w_2)}}$$\n",
        "\n",
        "$$L = loss = - ( y \\log{\\hat{y}} + (1 - y) \\log{(1-\\hat{y})})$$\n",
        "\n",
        "\\\n",
        "\n"
      ],
      "metadata": {
        "id": "uHailxW9beS2"
      }
    },
    {
      "cell_type": "markdown",
      "source": [
        "The bias term can be included in the neuron by 2 ways:\n",
        "\n",
        "1. Explicit addition of bias after weighted sum.\n",
        "\n",
        "    * `weighted_sum_with_bias = w.x +b`\n",
        "\n",
        "2. Augmenting the dataset so that we add 1 more column in the beginning. This also requires us to increase the size of the weight matrix.\n",
        "\n",
        "  For example, the feature 'X' of shape (200,2) must be changed to (200,3) and the weight matrix 'w' of shape (2,1) must be changed (3,1).\n",
        "\n",
        "  In this case, the bias is already included in the matrix multiplication, and there is no separate addition of bias 'b'.\n",
        "\n",
        "    * `weighted_sum = w.x`\n",
        "\n",
        "Let's follow the second method."
      ],
      "metadata": {
        "id": "YZGuWsygU3tS"
      }
    },
    {
      "cell_type": "code",
      "source": [
        "ones_=np.ones((X.shape[0],1))             # creates a column vector with the same number of rows as X and 1 column, filled with ones.\n",
        "x=np.concatenate((ones_,X),axis=1)        # Concatenate 1s with fature vector X. (each sample in X will have an additional feature that is always 1 to account for the bias term.)\n",
        "y=y.reshape(y.shape[0],1)\n",
        "\n",
        "w=np.random.rand(3,1)                     # creates a 3x1 matrix of random values between 0 and 1. (initialize weight vector)"
      ],
      "metadata": {
        "id": "MGnl_cseJp7D"
      },
      "execution_count": 126,
      "outputs": []
    },
    {
      "cell_type": "code",
      "source": [
        "print(X.shape)                   # only 2 features before\n",
        "print(x.shape)                   # one feature added (with all 1) to accont for bias term\n",
        "print(y.shape)"
      ],
      "metadata": {
        "colab": {
          "base_uri": "https://localhost:8080/"
        },
        "id": "uw8CcOU3U00a",
        "outputId": "99052254-55d2-49b6-dac5-50d01dfcba15"
      },
      "execution_count": 124,
      "outputs": [
        {
          "output_type": "stream",
          "name": "stdout",
          "text": [
            "(200, 2)\n",
            "(200, 3)\n",
            "(200, 1)\n"
          ]
        }
      ]
    },
    {
      "cell_type": "markdown",
      "source": [
        "Lets write functions for different operations rather than using the existing libraries.\n"
      ],
      "metadata": {
        "id": "m8kiL5r64VJS"
      }
    },
    {
      "cell_type": "code",
      "source": [
        "# Weighted sum\n",
        "# In the above figure 6, the node z represents this\n",
        "\n",
        "def weighted_sum(x,w):\n",
        "  return np.matmul(x,w)"
      ],
      "metadata": {
        "id": "MgmP2vIt5BoG"
      },
      "execution_count": 127,
      "outputs": []
    },
    {
      "cell_type": "code",
      "source": [
        "# Sigmoid operation\n",
        "# In the above figure 6, y hat node denotes this\n",
        "\n",
        "def sigmoid(z):\n",
        "  return 1/(1+np.exp(-z))"
      ],
      "metadata": {
        "id": "XIGpuBLRgHJi"
      },
      "execution_count": 46,
      "outputs": []
    },
    {
      "cell_type": "code",
      "source": [
        "# Loss calculation.\n",
        "# In the figure 6, the Loss node represents this\n",
        "\n",
        "def loss_(y_hat, y):\n",
        "  loss=0\n",
        "  for index,val in enumerate(y_hat):\n",
        "      predicted = val\n",
        "      actual=y[index]\n",
        "      loss-=(actual*np.log(val)+(1-actual)*np.log(1-predicted))\n",
        "  loss = loss/ y.shape[0]\n",
        "  return float(loss)"
      ],
      "metadata": {
        "id": "HYBAdUtO4fK1"
      },
      "execution_count": 104,
      "outputs": []
    },
    {
      "cell_type": "markdown",
      "source": [
        "Lets write the training loop, which requires calculation of gradients and updation of weight.\n",
        "\n",
        "Recall that for the above architecture, we need the following gradients:\n",
        "\n",
        "1. $\\frac{\\partial{L}}{\\partial{\\hat{y}}}$  : This is the most obvious right-most gradient.\n",
        "\n",
        "2. $\\frac{\\partial{L}}{\\partial{z}}$ : This requires the above gradient and one known local gradient ( $ \\frac{\\partial{ŷ}}{\\partial{z}}$ )\n",
        "\n",
        "     $\\therefore \\frac{\\partial{L}}{\\partial{z}}$ = $\\frac{\\partial{L}}{\\partial{\\hat{y}}}$ * $ \\frac{\\partial{ŷ}}{\\partial{z}}$\n",
        "\n",
        "3. $ \\frac{\\partial{L}}{\\partial{w}}$ : This requires the above gradient and local gradient ( $\\frac{\\partial{z}}{\\partial{{w}}}$ = x )  \n",
        "\n",
        "  [**Recall that the gradient of weighted sum with respect to weight is the input**]\n",
        "\n",
        "     $\\therefore \\frac{\\partial{L}}{\\partial{w}}$ = $\\frac{\\partial{L}}{\\partial{z}}$ * x\n",
        "\n"
      ],
      "metadata": {
        "id": "2AY91MeY8NCf"
      }
    },
    {
      "cell_type": "code",
      "source": [
        "# Training loop with Backpropagation\n",
        "\n",
        "def train(x,y,epochs, w, learning_rate):\n",
        "  for i in range(epochs):\n",
        "\n",
        "    z = weighted_sum(x,w)\n",
        "    y_hat = sigmoid(z)\n",
        "\n",
        "    dl_dyhat = -(y/y_hat-(1-y)/(1-y_hat))    # 1st gradient\n",
        "    dyhat_dz = y_hat * (1-y_hat)            # local gradient required for 2nd gradient\n",
        "\n",
        "    dl_dz = dl_dyhat * dyhat_dz             # 2nd gradient\n",
        "\n",
        "    dl_dw= np.matmul(x.T,dl_dz)             # 3rd gradient\n",
        "\n",
        "    w=w-learning_rate*dl_dw                 # weight update\n",
        "\n",
        "    if i % 100 == 0:  # Print loss every 100 epochs\n",
        "        print(\"Loss at epoch {} is: {:.3f}\".format(i, loss(y_hat, y)))\n",
        "\n",
        "  return w\n"
      ],
      "metadata": {
        "id": "Ijzc2fsI7aIW"
      },
      "execution_count": 115,
      "outputs": []
    },
    {
      "cell_type": "code",
      "source": [
        "learning_rate = 0.001  # hyperparameter"
      ],
      "metadata": {
        "id": "FGsABAmMWRLK"
      },
      "execution_count": 19,
      "outputs": []
    },
    {
      "cell_type": "code",
      "source": [
        "model = train(x, y, 1000, w, learning_rate)"
      ],
      "metadata": {
        "colab": {
          "base_uri": "https://localhost:8080/"
        },
        "id": "Fh3rgarKKQld",
        "outputId": "a032eeee-59e7-47a5-81dc-fc7866e38278"
      },
      "execution_count": 116,
      "outputs": [
        {
          "output_type": "stream",
          "name": "stdout",
          "text": [
            "Loss at epoch 0 is: 2.493\n",
            "Loss at epoch 100 is: 0.401\n",
            "Loss at epoch 200 is: 0.312\n",
            "Loss at epoch 300 is: 0.261\n",
            "Loss at epoch 400 is: 0.229\n",
            "Loss at epoch 500 is: 0.206\n",
            "Loss at epoch 600 is: 0.190\n",
            "Loss at epoch 700 is: 0.178\n",
            "Loss at epoch 800 is: 0.168\n",
            "Loss at epoch 900 is: 0.160\n"
          ]
        }
      ]
    },
    {
      "cell_type": "code",
      "source": [],
      "metadata": {
        "id": "Xy1aWw4-RFE3"
      },
      "execution_count": null,
      "outputs": []
    }
  ]
}