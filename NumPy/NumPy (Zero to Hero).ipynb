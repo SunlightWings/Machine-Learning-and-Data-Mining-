{
  "cells": [
    {
      "cell_type": "markdown",
      "metadata": {},
      "source": [
        "Author: Prabin"
      ]
    },
    {
      "cell_type": "markdown",
      "metadata": {
        "id": "OHHtdz7TFemb"
      },
      "source": [
        "## Numpy Introduction:\n",
        "In Python, variables are dynamic and can hold different types of values, leading to a flexible but memory-inefficient structure. Each element in a Python list is a full Python object, containing type information, reference count, and the value itself. This can lead to significant memory overhead, especially when dealing with large homogeneous datasets.\n",
        "\n",
        "NumPy addresses this by storing all data in contiguous blocks of memory, ensuring that only the raw data is stored without additional overhead.\n",
        "\n",
        "Unlike` list`, Numpy array cannot store heterogeneous data structures. It provides a high-performance multidimensional array object and tools for working with these arrays as well as enables performing complex mathematical operations on them, including support for linear algebra, Fourier transformation, and random number generation."
      ]
    },
    {
      "cell_type": "markdown",
      "metadata": {
        "id": "BJIQFgOtIk5d"
      },
      "source": [
        "### Installing and Importing Numpy:\n",
        "Installing: pip install numpy\n",
        "\n",
        "Importing: import numpy\n",
        "\n",
        "The general convention when using NumPy is to use the alias `np`. So the import process usually looks like:\n",
        "`import numpy as np`"
      ]
    },
    {
      "cell_type": "code",
      "execution_count": 130,
      "metadata": {
        "colab": {
          "base_uri": "https://localhost:8080/"
        },
        "id": "v0Q4f8MRJJ-3",
        "outputId": "50666295-7847-4ba8-b300-55cf0d28f02f"
      },
      "outputs": [
        {
          "name": "stdout",
          "output_type": "stream",
          "text": [
            "Requirement already satisfied: numpy in /usr/local/lib/python3.10/dist-packages (1.25.2)\n"
          ]
        }
      ],
      "source": [
        "pip install numpy"
      ]
    },
    {
      "cell_type": "code",
      "execution_count": 131,
      "metadata": {
        "id": "wxK1SJNWJS9H"
      },
      "outputs": [],
      "source": [
        "import numpy as np"
      ]
    },
    {
      "cell_type": "markdown",
      "metadata": {
        "id": "5CuSIl4qJ1zG"
      },
      "source": [
        "### Array Creation: Writing elements of the array manually\n",
        "Lets create a list and then convert the list into an array. The elements of the list (or array) are specified manually here."
      ]
    },
    {
      "cell_type": "code",
      "execution_count": 132,
      "metadata": {
        "colab": {
          "base_uri": "https://localhost:8080/"
        },
        "execution": {
          "iopub.execute_input": "2024-06-12T08:26:56.397129Z",
          "iopub.status.busy": "2024-06-12T08:26:56.396742Z",
          "iopub.status.idle": "2024-06-12T08:26:56.403514Z",
          "shell.execute_reply": "2024-06-12T08:26:56.402417Z",
          "shell.execute_reply.started": "2024-06-12T08:26:56.397100Z"
        },
        "id": "KA5MX3upFemf",
        "outputId": "11c9bcd0-cdc3-4e79-8ff2-7bd2548f3a00",
        "trusted": true
      },
      "outputs": [
        {
          "name": "stdout",
          "output_type": "stream",
          "text": [
            "The list is: [1, 2, 3]\n",
            "The array is: [1 2 3]\n"
          ]
        }
      ],
      "source": [
        "my_first_list = [1,2,3]\n",
        "my_first_array = np.array(my_first_list)\n",
        "\n",
        "print(\"The list is:\",my_first_list)\n",
        "print(\"The array is:\", my_first_array)"
      ]
    },
    {
      "cell_type": "markdown",
      "metadata": {
        "id": "-hTgfekyKKbI"
      },
      "source": [
        "Lets create another longer list, and a 2d array with same elements. The 'view' of the list can be compared with that of a 2d array."
      ]
    },
    {
      "cell_type": "code",
      "execution_count": 133,
      "metadata": {
        "colab": {
          "base_uri": "https://localhost:8080/"
        },
        "execution": {
          "iopub.execute_input": "2024-06-12T08:26:57.583380Z",
          "iopub.status.busy": "2024-06-12T08:26:57.582848Z",
          "iopub.status.idle": "2024-06-12T08:26:57.591140Z",
          "shell.execute_reply": "2024-06-12T08:26:57.589703Z",
          "shell.execute_reply.started": "2024-06-12T08:26:57.583333Z"
        },
        "id": "o_fB0MkXFemh",
        "outputId": "0d49afc9-17f0-48ce-e66e-6e1f1e233633",
        "trusted": true
      },
      "outputs": [
        {
          "name": "stdout",
          "output_type": "stream",
          "text": [
            "The list is: [1, 2, 3, 4, 5, 6]\n",
            "The array is:\n",
            " [[1 2 3]\n",
            " [4 5 6]]\n"
          ]
        }
      ],
      "source": [
        "my_list = [1,2,3,4,5,6]\n",
        "my_array = np.array([[1,2,3],[4,5,6]])\n",
        "\n",
        "print(\"The list is:\",my_list)\n",
        "print(\"The array is:\\n\", my_array)"
      ]
    },
    {
      "cell_type": "markdown",
      "metadata": {
        "id": "Kg4ba0UNFemj"
      },
      "source": [
        "### Understanding the Memory layout of an array\n",
        "\n",
        "1.  The flags attribute of an array returns a set of boolean flags for the array. These flags provide information about the memory layout of the array. For example, it indicates if the array is contiguous in memory (C_CONTIGUOUS or F_CONTIGUOUS), if it is writable (WRITEABLE), etc.\n",
        "2. ndim attribute returns the dimensions of the array\n",
        "3. data attribute returns a buffer object pointing to the start of the array’s data. It's mainly used internally and is not often needed for most operations.\n",
        "4. itemsize attribute returns the length of 1 array element in bytes\n",
        "5. Strides attribute returns a tuple of bytes to step in each dimension when traversing an array. Each int64 element takes 8 bytes of memory. Stride means the number of steps to move to another row (or column).\n",
        "Here, 24 bytes is the stride to move from 1st row to the 2nd. Similary, to move from 1st column to the 2nd, 8 bytes of memory is skipped."
      ]
    },
    {
      "cell_type": "code",
      "execution_count": 134,
      "metadata": {
        "colab": {
          "base_uri": "https://localhost:8080/"
        },
        "execution": {
          "iopub.execute_input": "2024-06-12T08:26:58.303587Z",
          "iopub.status.busy": "2024-06-12T08:26:58.303202Z",
          "iopub.status.idle": "2024-06-12T08:26:58.310435Z",
          "shell.execute_reply": "2024-06-12T08:26:58.308876Z",
          "shell.execute_reply.started": "2024-06-12T08:26:58.303556Z"
        },
        "id": "qxNcDI-VFemk",
        "outputId": "78ee18d8-6576-4084-e195-f6ad922bfb41",
        "trusted": true
      },
      "outputs": [
        {
          "name": "stdout",
          "output_type": "stream",
          "text": [
            "  C_CONTIGUOUS : True\n",
            "  F_CONTIGUOUS : False\n",
            "  OWNDATA : True\n",
            "  WRITEABLE : True\n",
            "  ALIGNED : True\n",
            "  WRITEBACKIFCOPY : False\n",
            " \n",
            "\n",
            "2 \n",
            "\n",
            "<memory at 0x7fd9af625700> \n",
            "\n",
            "8 \n",
            "\n",
            "(24, 8) \n",
            "\n"
          ]
        }
      ],
      "source": [
        "print(my_array.flags, \"\\n\")\n",
        "print(my_array.ndim, \"\\n\")\n",
        "print(my_array.data, \"\\n\")\n",
        "print(my_array.itemsize, \"\\n\")\n",
        "print(my_array.strides, \"\\n\")"
      ]
    },
    {
      "cell_type": "markdown",
      "metadata": {
        "id": "fURc17RHL6yP"
      },
      "source": [
        "### NumPy's Superiority:\n",
        "The main benefits of using NumPy arrays is smaller memory consumption and better runtime behaviour.\n",
        "\n",
        "The `%timeit` magic command in IPython (or Jupyter Notebook) is used to measure the execution time of a single line of code multiple times to get an average runtime. It runs the code several times and reports the best, average, and standard deviation of the timings, providing a reliable measure of how long the operation takes.\n",
        "\n",
        "In the provided code, we compare the time it takes to square each element in a Python list versus a NumPy array. Lets check the difference in time taken between them."
      ]
    },
    {
      "cell_type": "code",
      "execution_count": 135,
      "metadata": {
        "id": "aTstfd_XMKal"
      },
      "outputs": [],
      "source": [
        "import time"
      ]
    },
    {
      "cell_type": "code",
      "execution_count": 136,
      "metadata": {
        "colab": {
          "base_uri": "https://localhost:8080/"
        },
        "id": "mpAGJt0NNR8U",
        "outputId": "ed3d1ea6-7e81-44dd-baa1-4935bd92069c"
      },
      "outputs": [
        {
          "name": "stdout",
          "output_type": "stream",
          "text": [
            "[1, 2, 3]\n",
            "[1 2 3]\n"
          ]
        }
      ],
      "source": [
        "print(my_first_list)\n",
        "print(my_first_array)"
      ]
    },
    {
      "cell_type": "code",
      "execution_count": 187,
      "metadata": {
        "colab": {
          "base_uri": "https://localhost:8080/"
        },
        "id": "fyNBlp-FNIBp",
        "outputId": "c1e95e67-d155-4cbe-b813-5a1b9ffa9a4a"
      },
      "outputs": [
        {
          "name": "stdout",
          "output_type": "stream",
          "text": [
            "873 ns ± 10.4 ns per loop (mean ± std. dev. of 7 runs, 1000000 loops each)\n"
          ]
        }
      ],
      "source": [
        "# list comprehension to square each element in the Python list\n",
        "%timeit [i**2 for i in my_first_list]"
      ]
    },
    {
      "cell_type": "code",
      "execution_count": 188,
      "metadata": {
        "colab": {
          "base_uri": "https://localhost:8080/"
        },
        "id": "-k6h67AOM1MF",
        "outputId": "c3551c4f-0c32-431c-d100-9036aede3fd5"
      },
      "outputs": [
        {
          "name": "stdout",
          "output_type": "stream",
          "text": [
            "512 ns ± 8.54 ns per loop (mean ± std. dev. of 7 runs, 1000000 loops each)\n"
          ]
        }
      ],
      "source": [
        "# squares each element in the NumPy array\n",
        "%timeit my_first_array**2"
      ]
    },
    {
      "cell_type": "markdown",
      "metadata": {
        "id": "7jU5XqeJK0Pw"
      },
      "source": [
        "### Datatypes in Numpy\n",
        "The standard data types in NumPy are listed below:\n",
        "\n",
        "![](https://docs.google.com/uc?export=download&id=1JeaEjsRRSrWDLIXL4jwO3BLiiKT9gpVp)\n",
        "\n",
        "Source Table: https://jakevdp.github.io/PythonDataScienceHandbook/02.01-understanding-data-types.html"
      ]
    },
    {
      "cell_type": "code",
      "execution_count": 139,
      "metadata": {
        "colab": {
          "base_uri": "https://localhost:8080/"
        },
        "execution": {
          "iopub.execute_input": "2024-06-12T08:26:57.949649Z",
          "iopub.status.busy": "2024-06-12T08:26:57.948828Z",
          "iopub.status.idle": "2024-06-12T08:26:57.957202Z",
          "shell.execute_reply": "2024-06-12T08:26:57.956092Z",
          "shell.execute_reply.started": "2024-06-12T08:26:57.949596Z"
        },
        "id": "njrDMxm8Femj",
        "outputId": "35162792-5e56-4f8f-e4c4-115ac6cce038",
        "trusted": true
      },
      "outputs": [
        {
          "name": "stdout",
          "output_type": "stream",
          "text": [
            "<class 'list'>\n",
            "<class 'numpy.ndarray'>\n",
            "int64\n",
            "(2, 3)\n"
          ]
        }
      ],
      "source": [
        "print(type(my_list))\n",
        "print(type(my_array))\n",
        "print(my_array.dtype)    # datatype of elements in the array\n",
        "print(my_array.shape)    # shape of the nd array"
      ]
    },
    {
      "cell_type": "markdown",
      "metadata": {
        "id": "uwfxfx1jFeml"
      },
      "source": [
        "Lets check the datatype for an array with string elements.\n",
        "\n",
        "Here, <U2 means \"Unicode string of length 2\",  U indicates Unicode, and 2 is the maximum length of the string.\n",
        "The < indicates little-endian (byte order)."
      ]
    },
    {
      "cell_type": "code",
      "execution_count": 140,
      "metadata": {
        "colab": {
          "base_uri": "https://localhost:8080/"
        },
        "execution": {
          "iopub.execute_input": "2024-06-12T08:26:58.713345Z",
          "iopub.status.busy": "2024-06-12T08:26:58.712970Z",
          "iopub.status.idle": "2024-06-12T08:26:58.720547Z",
          "shell.execute_reply": "2024-06-12T08:26:58.718988Z",
          "shell.execute_reply.started": "2024-06-12T08:26:58.713315Z"
        },
        "id": "sPNS01sTFemm",
        "outputId": "be187300-800d-4f31-8cef-16b4688243a5",
        "trusted": true
      },
      "outputs": [
        {
          "name": "stdout",
          "output_type": "stream",
          "text": [
            "Information about the datatype of elements in the array is: <U2\n",
            "The actual data type of the element is: <class 'numpy.str_'>\n"
          ]
        }
      ],
      "source": [
        "string_array = np.array(['ad','bd','cd'])\n",
        "print(\"Information about the datatype of elements in the array is:\", string_array.dtype)\n",
        "print(\"The actual data type of the element is:\",string_array.dtype.type)"
      ]
    },
    {
      "cell_type": "markdown",
      "metadata": {
        "id": "4b3AN4-DFemn"
      },
      "source": [
        "### Operations in Arrays"
      ]
    },
    {
      "cell_type": "code",
      "execution_count": 141,
      "metadata": {
        "colab": {
          "base_uri": "https://localhost:8080/"
        },
        "id": "cQmFdkldSZdT",
        "outputId": "f4186844-a196-47fa-ca55-df5fefc1f060"
      },
      "outputs": [
        {
          "name": "stdout",
          "output_type": "stream",
          "text": [
            "[[1, 2, 3], [4, 5, 6]]\n"
          ]
        }
      ],
      "source": [
        "# Convert an array to a nested Python list\n",
        "print(my_array.tolist())"
      ]
    },
    {
      "cell_type": "code",
      "execution_count": 142,
      "metadata": {
        "colab": {
          "base_uri": "https://localhost:8080/"
        },
        "execution": {
          "iopub.execute_input": "2024-06-12T09:17:28.745660Z",
          "iopub.status.busy": "2024-06-12T09:17:28.745290Z",
          "iopub.status.idle": "2024-06-12T09:17:28.752339Z",
          "shell.execute_reply": "2024-06-12T09:17:28.750983Z",
          "shell.execute_reply.started": "2024-06-12T09:17:28.745633Z"
        },
        "id": "_B1yt4WyFemo",
        "outputId": "0ab8d77b-6f49-4703-85b9-664b7650a773",
        "trusted": true
      },
      "outputs": [
        {
          "name": "stdout",
          "output_type": "stream",
          "text": [
            "[[1 4]\n",
            " [2 5]\n",
            " [3 6]] \n",
            "\n"
          ]
        }
      ],
      "source": [
        "# Transpose of the array\n",
        "print(my_array.T, \"\\n\")"
      ]
    },
    {
      "cell_type": "code",
      "execution_count": 143,
      "metadata": {
        "colab": {
          "base_uri": "https://localhost:8080/"
        },
        "id": "UvlJ4ZssSVaM",
        "outputId": "e08fb8c6-af2b-43bb-cdec-3c125ff7a30b"
      },
      "outputs": [
        {
          "name": "stdout",
          "output_type": "stream",
          "text": [
            "[[1 2 3]\n",
            " [4 5 6]] \n",
            "\n",
            "[[0 0 0]\n",
            " [0 0 0]] \n",
            "\n"
          ]
        }
      ],
      "source": [
        "# Real part of the array\n",
        "print(my_array.real, \"\\n\")\n",
        "\n",
        "# Imaginary part of the array\n",
        "print(my_array.imag, \"\\n\")"
      ]
    },
    {
      "cell_type": "code",
      "execution_count": 144,
      "metadata": {
        "colab": {
          "base_uri": "https://localhost:8080/"
        },
        "execution": {
          "iopub.execute_input": "2024-06-12T08:26:59.539746Z",
          "iopub.status.busy": "2024-06-12T08:26:59.539234Z",
          "iopub.status.idle": "2024-06-12T08:26:59.548063Z",
          "shell.execute_reply": "2024-06-12T08:26:59.546482Z",
          "shell.execute_reply.started": "2024-06-12T08:26:59.539704Z"
        },
        "id": "BXaggQRCFemp",
        "outputId": "f00da210-e845-43c7-d920-3de94d9f727c",
        "trusted": true
      },
      "outputs": [
        {
          "name": "stdout",
          "output_type": "stream",
          "text": [
            "[[1 2 3]\n",
            " [4 5 6]] \n",
            "\n"
          ]
        }
      ],
      "source": [
        "# Copying one array to another\n",
        "copied_array = np.copy(my_array)\n",
        "print(copied_array, \"\\n\")"
      ]
    },
    {
      "cell_type": "code",
      "execution_count": 145,
      "metadata": {
        "colab": {
          "base_uri": "https://localhost:8080/"
        },
        "id": "jJeLR7mrSNQo",
        "outputId": "aec01154-155e-48f6-c777-1ef8ce5d6cf5"
      },
      "outputs": [
        {
          "name": "stdout",
          "output_type": "stream",
          "text": [
            "[[0 0 0]\n",
            " [0 0 0]]\n"
          ]
        }
      ],
      "source": [
        "#Filling an array with specified value\n",
        "copied_array.fill(0)\n",
        "print(copied_array)"
      ]
    },
    {
      "cell_type": "markdown",
      "metadata": {
        "id": "637fC5AISzBI"
      },
      "source": [
        "#### Reshaping:\n",
        "\n",
        "In NumPy, reshaping an array means changing its dimensions while preserving the total number of elements. This operation is particularly useful for manipulating array layouts to suit specific requirements."
      ]
    },
    {
      "cell_type": "code",
      "execution_count": 146,
      "metadata": {
        "colab": {
          "base_uri": "https://localhost:8080/"
        },
        "execution": {
          "iopub.execute_input": "2024-06-12T08:26:59.739877Z",
          "iopub.status.busy": "2024-06-12T08:26:59.739485Z",
          "iopub.status.idle": "2024-06-12T08:26:59.748306Z",
          "shell.execute_reply": "2024-06-12T08:26:59.747005Z",
          "shell.execute_reply.started": "2024-06-12T08:26:59.739847Z"
        },
        "id": "8xpaY8utFemq",
        "outputId": "8b13c690-6325-4a5e-be37-33badde597ac",
        "trusted": true
      },
      "outputs": [
        {
          "name": "stdout",
          "output_type": "stream",
          "text": [
            "[1 2 3 4 5 6] \n",
            "_______\n",
            "\n",
            "[[1 2 3 4 5 6]] \n",
            "________\n",
            "\n",
            "[[1]\n",
            " [2]\n",
            " [3]\n",
            " [4]\n",
            " [5]\n",
            " [6]] \n",
            "________\n",
            "\n",
            "[[1 2]\n",
            " [3 4]\n",
            " [5 6]] \n",
            "________\n",
            "\n"
          ]
        }
      ],
      "source": [
        "# Reshaping the area changes the view of the array\n",
        "\n",
        "reshaped_array1 = my_array.reshape(6,)   # 1d array, 6 elements\n",
        "print(reshaped_array1, \"\\n_______\\n\")\n",
        "\n",
        "reshaped_array2 = my_array.reshape(1,6)   # 2d array, 1 row 6 columns\n",
        "print(reshaped_array2,\"\\n________\\n\")\n",
        "\n",
        "reshaped_array3 = my_array.reshape(6,1)   # 2d array, 6 rows 1 column\n",
        "print(reshaped_array3,\"\\n________\\n\")\n",
        "\n",
        "reshaped_array4 = my_array.reshape(3,2)    # 2d array, 3 rows 2 columns\n",
        "print(reshaped_array4,\"\\n________\\n\")\n"
      ]
    },
    {
      "cell_type": "code",
      "execution_count": 147,
      "metadata": {
        "colab": {
          "base_uri": "https://localhost:8080/"
        },
        "execution": {
          "iopub.execute_input": "2024-06-12T08:26:59.923010Z",
          "iopub.status.busy": "2024-06-12T08:26:59.921770Z",
          "iopub.status.idle": "2024-06-12T08:26:59.931382Z",
          "shell.execute_reply": "2024-06-12T08:26:59.930066Z",
          "shell.execute_reply.started": "2024-06-12T08:26:59.922929Z"
        },
        "id": "xmC8BusxFemq",
        "outputId": "6b06e5e2-4e70-46ef-c249-48109530b2bb",
        "trusted": true
      },
      "outputs": [
        {
          "data": {
            "text/plain": [
              "array([1, 2, 3, 4, 5, 6])"
            ]
          },
          "execution_count": 147,
          "metadata": {},
          "output_type": "execute_result"
        }
      ],
      "source": [
        "my_array.flatten()      # returns a copy of 1d array"
      ]
    },
    {
      "cell_type": "code",
      "execution_count": 148,
      "metadata": {
        "colab": {
          "base_uri": "https://localhost:8080/"
        },
        "execution": {
          "iopub.execute_input": "2024-06-12T10:02:26.368901Z",
          "iopub.status.busy": "2024-06-12T10:02:26.368514Z",
          "iopub.status.idle": "2024-06-12T10:02:26.374889Z",
          "shell.execute_reply": "2024-06-12T10:02:26.373709Z",
          "shell.execute_reply.started": "2024-06-12T10:02:26.368870Z"
        },
        "id": "POt92FvtFemr",
        "outputId": "57416fd4-f26e-4bbe-9fae-3579d2b5507d",
        "trusted": true
      },
      "outputs": [
        {
          "name": "stdout",
          "output_type": "stream",
          "text": [
            "[[1 2 3]\n",
            " [4 5 6]] \n",
            "\n",
            "[1 2 3 4 5 6]\n"
          ]
        }
      ],
      "source": [
        "# Ravelling creates a contiguous falttened array\n",
        "print(my_array, \"\\n\")\n",
        "print(np.ravel(my_array))"
      ]
    },
    {
      "cell_type": "markdown",
      "metadata": {
        "id": "oeIzduRaFemr"
      },
      "source": [
        "#### Resizing:\n",
        "* Unlike reshape or flatten, resize can change the array's actual data size. If the resized array has larger shape, the array is padded with 0\n",
        "* Only contiguous arrays can be resized\n",
        "* Resize doesn't work for an array that references or is referenced.  If there are multiple arrays sharing the same underlying data (like views or slices of the original array), resizing one of these arrays can potentially affect the integrity of the others. To avoid unintended consequences, NumPy restricts resizing for such arrays."
      ]
    },
    {
      "cell_type": "code",
      "execution_count": 149,
      "metadata": {
        "colab": {
          "base_uri": "https://localhost:8080/"
        },
        "execution": {
          "iopub.execute_input": "2024-06-12T08:27:00.349998Z",
          "iopub.status.busy": "2024-06-12T08:27:00.349582Z",
          "iopub.status.idle": "2024-06-12T08:27:00.356714Z",
          "shell.execute_reply": "2024-06-12T08:27:00.355298Z",
          "shell.execute_reply.started": "2024-06-12T08:27:00.349964Z"
        },
        "id": "SuTDnFzAFemr",
        "outputId": "d2b9c4ea-927e-48b7-897d-5b67db517f4a",
        "trusted": true
      },
      "outputs": [
        {
          "name": "stdout",
          "output_type": "stream",
          "text": [
            "[[1 2 3]\n",
            " [4 5 6]] \n",
            "\n",
            "[[1 2]\n",
            " [3 4]\n",
            " [5 6]]\n"
          ]
        }
      ],
      "source": [
        "new_array = np.copy(my_array)\n",
        "print(new_array,\"\\n\")\n",
        "new_array.resize((3,2), refcheck = True)   # checks for reference and raises error if set to True (which is default)\n",
        "print(new_array)"
      ]
    },
    {
      "cell_type": "code",
      "execution_count": 150,
      "metadata": {
        "colab": {
          "base_uri": "https://localhost:8080/"
        },
        "execution": {
          "iopub.execute_input": "2024-06-12T08:27:00.543697Z",
          "iopub.status.busy": "2024-06-12T08:27:00.542605Z",
          "iopub.status.idle": "2024-06-12T08:27:00.551813Z",
          "shell.execute_reply": "2024-06-12T08:27:00.550499Z",
          "shell.execute_reply.started": "2024-06-12T08:27:00.543653Z"
        },
        "id": "z9oeErE1Fems",
        "outputId": "8fe530e0-5011-41ae-d05f-8252e92632dd",
        "trusted": true
      },
      "outputs": [
        {
          "name": "stdout",
          "output_type": "stream",
          "text": [
            "Clipped array with min=2 and max=5:\n",
            "[[2 2 3]\n",
            " [4 5 5]]\n"
          ]
        }
      ],
      "source": [
        "# Array Clipping = all smaller values will at least be set to min, and all greater values will at most be set to max.\n",
        "\n",
        "clipped_array = my_array.clip(2, 5)\n",
        "print(\"Clipped array with min=2 and max=5:\")\n",
        "print(clipped_array)"
      ]
    },
    {
      "cell_type": "code",
      "execution_count": 151,
      "metadata": {
        "colab": {
          "base_uri": "https://localhost:8080/"
        },
        "execution": {
          "iopub.execute_input": "2024-06-12T08:27:00.627730Z",
          "iopub.status.busy": "2024-06-12T08:27:00.627273Z",
          "iopub.status.idle": "2024-06-12T08:27:00.637165Z",
          "shell.execute_reply": "2024-06-12T08:27:00.635879Z",
          "shell.execute_reply.started": "2024-06-12T08:27:00.627690Z"
        },
        "id": "KXVmKNd_Fems",
        "outputId": "99d9c521-7f93-4a4a-e3c4-0fb8d3faec80",
        "trusted": true
      },
      "outputs": [
        {
          "name": "stdout",
          "output_type": "stream",
          "text": [
            "[[ 1  3  6]\n",
            " [ 4  9 15]] \n",
            "\n",
            "[[  1   2   6]\n",
            " [  4  20 120]]\n"
          ]
        }
      ],
      "source": [
        "cummulative_sum = my_array.cumsum(1)    # return the cummulative sum along the axis\n",
        "print(cummulative_sum,\"\\n\")\n",
        "\n",
        "cummulative_product = my_array.cumprod(1)    # return the cummulative product along the axis\n",
        "print(cummulative_product)"
      ]
    },
    {
      "cell_type": "code",
      "execution_count": 152,
      "metadata": {
        "colab": {
          "base_uri": "https://localhost:8080/"
        },
        "execution": {
          "iopub.execute_input": "2024-06-12T08:27:00.712108Z",
          "iopub.status.busy": "2024-06-12T08:27:00.711687Z",
          "iopub.status.idle": "2024-06-12T08:27:00.719608Z",
          "shell.execute_reply": "2024-06-12T08:27:00.718039Z",
          "shell.execute_reply.started": "2024-06-12T08:27:00.712075Z"
        },
        "id": "-Gr8H4l4Fems",
        "outputId": "5f70c7a0-5495-420c-f973-93aa351cc52a",
        "trusted": true
      },
      "outputs": [
        {
          "name": "stdout",
          "output_type": "stream",
          "text": [
            "The series of numbers 3 space apart: [ 1  4  7 10 13] \n",
            "\n",
            "The series with linearly spaced values: [0.   0.25 0.5  0.75 1.  ]\n"
          ]
        }
      ],
      "source": [
        "# Generate a series in a range\n",
        "series = np.arange(1,15,3)\n",
        "print(\"The series of numbers 3 space apart:\", series, \"\\n\")\n",
        "\n",
        "# Generate a series with linearly spaced values in a range\n",
        "series_values = np.linspace(0,1,5)\n",
        "print(\"The series with linearly spaced values:\", series_values)"
      ]
    },
    {
      "cell_type": "markdown",
      "metadata": {
        "id": "oFyq6nklQcZm"
      },
      "source": [
        "#### Dump and Load methods:\n",
        " NumPy provides a convenient way to save and load arrays using the 'dump' and 'load' methods, which leverage Python's pickle module for serialization. This is particularly useful for storing arrays to disk and reloading them later."
      ]
    },
    {
      "cell_type": "code",
      "execution_count": 153,
      "metadata": {
        "colab": {
          "base_uri": "https://localhost:8080/"
        },
        "id": "b9TNq8ETP0w0",
        "outputId": "46a56f27-f6db-48f1-d3d4-8b4f9f1fec8a"
      },
      "outputs": [
        {
          "name": "stdout",
          "output_type": "stream",
          "text": [
            "[[1 2 3]\n",
            " [4 5 6]]\n"
          ]
        }
      ],
      "source": [
        "# Dumping and reading the array as a 'saved.pkl' file\n",
        "\n",
        "my_array.dump('saved.pkl')   #dumping\n",
        "read_array = np.load('saved.pkl', allow_pickle = True)\n",
        "print(read_array)"
      ]
    },
    {
      "cell_type": "markdown",
      "metadata": {
        "id": "uUDyozrKFemu"
      },
      "source": [
        "### Random Number Generation\n",
        "NumPy offers generating random numbers from a wide variety of probability distribution. The process of generating random numbers involves sampling from these distributions according to their respective probability density functions (PDFs). It implements efficient algorithms for generating random samples that approximate the desired distribution. NumPy's random number generation capabilities are essential for Monte Carlo simulations, statistical modeling, and hypothesis testing.\n",
        "\n",
        "Types of Random Numbers:\n",
        "* Floating-Point Numbers:\n",
        "\n",
        "  * np.random.rand: Generates random samples from a uniform distribution over [0, 1).\n",
        "  * np.random.randn: Generates random samples from a standard normal distribution (mean=0, std=1).\n",
        "  * np.random.uniform: Generates random samples from a uniform distribution over a specified range.\n",
        "  * np.random.normal: Generates random samples from a normal (Gaussian) distribution.\n",
        "\n",
        "* Integers:\n",
        "\n",
        "  * np.random.randint: Generates random integers from a discrete uniform distribution over a specified range.\n",
        "  * np.random.choice: Generates random samples from a given 1-D array."
      ]
    },
    {
      "cell_type": "code",
      "execution_count": 154,
      "metadata": {
        "colab": {
          "base_uri": "https://localhost:8080/"
        },
        "execution": {
          "iopub.execute_input": "2024-06-12T08:27:01.101705Z",
          "iopub.status.busy": "2024-06-12T08:27:01.101137Z",
          "iopub.status.idle": "2024-06-12T08:27:01.113604Z",
          "shell.execute_reply": "2024-06-12T08:27:01.112113Z",
          "shell.execute_reply.started": "2024-06-12T08:27:01.101663Z"
        },
        "id": "D7AiaI2nFemu",
        "outputId": "ef3686ea-c8b3-40ef-88a5-99ef294ad5ca",
        "trusted": true
      },
      "outputs": [
        {
          "name": "stdout",
          "output_type": "stream",
          "text": [
            "[0.96791069 0.51407631 0.26253591 0.78413433] \n",
            "\n",
            "[[0.89376694 0.11498181 0.45367407 0.27896988]\n",
            " [0.67475762 0.30539658 0.3397869  0.56348723]\n",
            " [0.104961   0.7487359  0.84228264 0.30790636]\n",
            " [0.02222726 0.87853039 0.61977571 0.2465825 ]]\n"
          ]
        }
      ],
      "source": [
        "random1 = np.random.rand(4)    # vector of 4 random numbers, range [0,1]\n",
        "print(random1, \"\\n\")\n",
        "\n",
        "random2 = np.random.rand(4,4)   # 4x4 matrix of random numbers, range [0,1]\n",
        "print(random2)"
      ]
    },
    {
      "cell_type": "code",
      "execution_count": 155,
      "metadata": {
        "colab": {
          "base_uri": "https://localhost:8080/"
        },
        "execution": {
          "iopub.execute_input": "2024-06-12T09:53:09.582519Z",
          "iopub.status.busy": "2024-06-12T09:53:09.582139Z",
          "iopub.status.idle": "2024-06-12T09:53:09.589954Z",
          "shell.execute_reply": "2024-06-12T09:53:09.588761Z",
          "shell.execute_reply.started": "2024-06-12T09:53:09.582490Z"
        },
        "id": "I-eUTPsNFemv",
        "outputId": "84590049-9352-47d3-c8ac-b8b4c4cf65a0",
        "trusted": true
      },
      "outputs": [
        {
          "name": "stdout",
          "output_type": "stream",
          "text": [
            "[ 1.5602247  -0.12683498 -0.29554169  0.47771825] \n",
            "\n",
            "[[ 0.99768803 -1.12562619  0.66351581  0.49445623]\n",
            " [-0.67761687  0.40968089 -0.6597723   0.44449313]\n",
            " [ 1.67648388 -0.38259141  0.47296147  0.54584235]\n",
            " [ 0.29487795 -0.31235519  2.31692159 -0.29386431]]\n"
          ]
        }
      ],
      "source": [
        "random3 = np.random.randn(4)     # vector, numbers from standard normal distribution (0 mean, 1 std deviation)\n",
        "print(random3, \"\\n\")\n",
        "\n",
        "random4 = np.random.randn(4,4)    # matrix, numbers from standard normal distribution\n",
        "print(random4)"
      ]
    },
    {
      "cell_type": "code",
      "execution_count": 156,
      "metadata": {
        "colab": {
          "base_uri": "https://localhost:8080/",
          "height": 430
        },
        "execution": {
          "iopub.execute_input": "2024-06-12T09:56:42.839499Z",
          "iopub.status.busy": "2024-06-12T09:56:42.839141Z",
          "iopub.status.idle": "2024-06-12T09:56:43.092965Z",
          "shell.execute_reply": "2024-06-12T09:56:43.091881Z",
          "shell.execute_reply.started": "2024-06-12T09:56:42.839471Z"
        },
        "id": "WH8zuKyBFemv",
        "outputId": "a765219e-1a20-4621-a3fe-7dc96daa4dae",
        "trusted": true
      },
      "outputs": [
        {
          "data": {
            "image/png": "[encoded data removed]",
            "text/plain": [
              "<Figure size 640x480 with 1 Axes>"
            ]
          },
          "metadata": {},
          "output_type": "display_data"
        }
      ],
      "source": [
        "# Just like random3 above, Lets create a larger 1d array so that sample size increases and its easier to visualize.\n",
        "# It should somewhat resemble the bell shape curve.\n",
        "# Also matplotlib will not be discussed in this notebok, we will use to to plot if necessary\n",
        "\n",
        "import matplotlib.pyplot as plt\n",
        "\n",
        "larger_random3 = np.random.normal(0,1,1000)\n",
        "plt.hist(larger_random3, bins = 50, density = True)\n",
        "plt.show()"
      ]
    },
    {
      "cell_type": "code",
      "execution_count": 157,
      "metadata": {
        "colab": {
          "base_uri": "https://localhost:8080/"
        },
        "execution": {
          "iopub.execute_input": "2024-06-12T08:27:01.505351Z",
          "iopub.status.busy": "2024-06-12T08:27:01.504944Z",
          "iopub.status.idle": "2024-06-12T08:27:01.512695Z",
          "shell.execute_reply": "2024-06-12T08:27:01.511555Z",
          "shell.execute_reply.started": "2024-06-12T08:27:01.505319Z"
        },
        "id": "YUxOo551Femv",
        "outputId": "a8ea810c-6d3e-4556-f0eb-f6fcd7e9dc48",
        "trusted": true
      },
      "outputs": [
        {
          "name": "stdout",
          "output_type": "stream",
          "text": [
            "[5 6 8 5 9 6 8 9] \n",
            "\n",
            "[[6 9 7 6]\n",
            " [8 6 8 5]\n",
            " [9 8 9 5]\n",
            " [6 6 7 8]]\n"
          ]
        }
      ],
      "source": [
        "random5 = np.random.randint(5,10,8)      # vector of 8 elements, numbers range = [5,10]\n",
        "print(random5,\"\\n\")\n",
        "\n",
        "random6 = np.random.randint(5,10,(4,4))   # matrix of order (4,4), numbers range = [5,10]\n",
        "print(random6)"
      ]
    },
    {
      "cell_type": "markdown",
      "metadata": {
        "id": "d_6YP5FzUaIV"
      },
      "source": [
        "Note: `ri` is sometimes seen being used as an alias for numpy.random.randint in some code bases.\n",
        "\n",
        "To use the alias, do the following first:\n",
        "\n",
        "`from numpy.random import randint as ri`"
      ]
    },
    {
      "cell_type": "markdown",
      "metadata": {
        "id": "xqAjwz5OFemv"
      },
      "source": [
        "### Indexing Operations\n",
        "Indexing is the process of selecting specific elements from an array based on their positions (indices). Indexing arrays in NumPy allows you to access and manipulate individual elements or a subset of elements within an array.\n",
        "\n",
        "NumPy provides several ways to index arrays:\n",
        "\n",
        "  * Single Element Indexing: Access individual elements using their index.\n",
        "  * Slicing: Access a range of elements using the start and end indices.\n",
        "  * Boolean Indexing: Select elements based on a condition.\n",
        "  * Fancy Indexing: Use arrays of indices to access multiple elements.\n",
        "\n"
      ]
    },
    {
      "cell_type": "markdown",
      "metadata": {
        "id": "DMxkfdGFsTeM"
      },
      "source": [
        "### Applications of Indexing\n",
        "\n",
        "  * Data Analysis: Extract and manipulate subsets of data for analysis.\n",
        "  * Machine Learning: Prepare datasets by selecting specific features or samples.\n",
        "  * Image Processing: Access and modify pixel values in images.\n",
        "  * Scientific Computing: Perform computations on specific parts of a dataset."
      ]
    },
    {
      "cell_type": "code",
      "execution_count": 158,
      "metadata": {
        "colab": {
          "base_uri": "https://localhost:8080/"
        },
        "execution": {
          "iopub.execute_input": "2024-06-12T08:27:01.937854Z",
          "iopub.status.busy": "2024-06-12T08:27:01.936934Z",
          "iopub.status.idle": "2024-06-12T08:27:01.946472Z",
          "shell.execute_reply": "2024-06-12T08:27:01.945159Z",
          "shell.execute_reply.started": "2024-06-12T08:27:01.937810Z"
        },
        "id": "QLZBURPvFemv",
        "outputId": "fcd52a76-9482-4c92-885f-f5273740eb21",
        "trusted": true
      },
      "outputs": [
        {
          "name": "stdout",
          "output_type": "stream",
          "text": [
            "Array: [5 6 8 5 9 6 8 9]\n",
            "Element at 0th index is: 5\n",
            "Elements from 3rd to 5th index are: [5 9 6]\n",
            "Elements up to 4th index are: [5 6 8 5]\n"
          ]
        }
      ],
      "source": [
        "# Indexing an 1d array\n",
        "\n",
        "my_vector = np.copy(random5)           # Recall from above that random5 is a vector of 8 elements\n",
        "print(\"Array:\",my_vector)\n",
        "\n",
        "print(\"Element at 0th index is:\", my_vector[0])\n",
        "print(\"Elements from 3rd to 5th index are:\", my_vector[3:6])\n",
        "print(\"Elements up to 4th index are:\", my_vector[:4])"
      ]
    },
    {
      "cell_type": "code",
      "execution_count": 159,
      "metadata": {
        "colab": {
          "base_uri": "https://localhost:8080/"
        },
        "execution": {
          "iopub.execute_input": "2024-06-12T08:30:27.317731Z",
          "iopub.status.busy": "2024-06-12T08:30:27.316848Z",
          "iopub.status.idle": "2024-06-12T08:30:27.325827Z",
          "shell.execute_reply": "2024-06-12T08:30:27.324374Z",
          "shell.execute_reply.started": "2024-06-12T08:30:27.317681Z"
        },
        "id": "dVYQFnXBFemw",
        "outputId": "34baf307-a392-4cd6-f218-aecde17710c3",
        "trusted": true
      },
      "outputs": [
        {
          "name": "stdout",
          "output_type": "stream",
          "text": [
            "[[6 9 7 6]\n",
            " [8 6 8 5]\n",
            " [9 8 9 5]\n",
            " [6 6 7 8]] \n",
            "\n",
            "Second row, all columns: [8 6 8 5]\n",
            "All rows, 2nd column: [9 6 8 6]\n",
            "Matrix with row indices 1 and 2 and column indices 3 and 4:\n",
            " [[8 5]\n",
            " [9 5]]\n",
            "Matrix with row indices 0 and 1 and column indices 1 and 3:\n",
            " [[9 6]\n",
            " [6 5]]\n"
          ]
        }
      ],
      "source": [
        "# Indexing a 2d array\n",
        "\n",
        "my_matrix = np.copy(random6)          # Recall above that random6 is a 4x4 matrix\n",
        "print(my_matrix, \"\\n\")\n",
        "\n",
        "print(\"Second row, all columns:\", my_matrix[1,:])\n",
        "print(\"All rows, 2nd column:\", my_matrix[:,1])\n",
        "print(\"Matrix with row indices 1 and 2 and column indices 3 and 4:\\n\", my_matrix[1:3,2:4])\n",
        "print(\"Matrix with row indices 0 and 1 and column indices 1 and 3:\\n\", my_matrix[0:2,[1,3]])"
      ]
    },
    {
      "cell_type": "code",
      "execution_count": 160,
      "metadata": {
        "colab": {
          "base_uri": "https://localhost:8080/"
        },
        "execution": {
          "iopub.execute_input": "2024-06-12T08:27:02.664080Z",
          "iopub.status.busy": "2024-06-12T08:27:02.663332Z",
          "iopub.status.idle": "2024-06-12T08:27:02.670895Z",
          "shell.execute_reply": "2024-06-12T08:27:02.669805Z",
          "shell.execute_reply.started": "2024-06-12T08:27:02.664037Z"
        },
        "id": "b1rXwwALFemw",
        "outputId": "a5c7374a-ed43-4258-f0d3-1cbaf34c9ef5",
        "trusted": true
      },
      "outputs": [
        {
          "name": "stdout",
          "output_type": "stream",
          "text": [
            "[[6 9 7 6]\n",
            " [8 6 8 5]\n",
            " [9 8 9 5]\n",
            " [6 6 7 8]] \n",
            "\n",
            "The main diagonal elements of the above matrix: [6 6 9 8]\n"
          ]
        }
      ],
      "source": [
        "#Return diagonal of the matrix\n",
        "main_diagonal = np.diagonal(my_matrix)\n",
        "print(my_matrix, \"\\n\")\n",
        "print(\"The main diagonal elements of the above matrix:\", main_diagonal)"
      ]
    },
    {
      "cell_type": "code",
      "execution_count": 161,
      "metadata": {
        "colab": {
          "base_uri": "https://localhost:8080/"
        },
        "execution": {
          "iopub.execute_input": "2024-06-12T08:48:52.843795Z",
          "iopub.status.busy": "2024-06-12T08:48:52.842730Z",
          "iopub.status.idle": "2024-06-12T08:48:52.850104Z",
          "shell.execute_reply": "2024-06-12T08:48:52.848732Z",
          "shell.execute_reply.started": "2024-06-12T08:48:52.843753Z"
        },
        "id": "BGiMgUUJFemx",
        "outputId": "62522bac-1435-499e-9b1f-19fa2820fdd8",
        "trusted": true
      },
      "outputs": [
        {
          "name": "stdout",
          "output_type": "stream",
          "text": [
            "The elements greater than 5 in the matrix:\n",
            " [[ True  True  True  True]\n",
            " [ True  True  True False]\n",
            " [ True  True  True False]\n",
            " [ True  True  True  True]] \n",
            "\n",
            "List of Elements greater than 5\n",
            " [6 9 7 6 8 6 8 9 8 9 6 6 7 8]\n"
          ]
        }
      ],
      "source": [
        "# Conditional Subsetting\n",
        "print(\"The elements greater than 5 in the matrix:\\n\", my_matrix>5, \"\\n\")\n",
        "\n",
        "print (\"List of Elements greater than 5\\n\", my_matrix[my_matrix>5])"
      ]
    },
    {
      "cell_type": "markdown",
      "metadata": {
        "id": "-VX808nhFemx"
      },
      "source": [
        "### Broadcasting:\n",
        "Broadcasting is simply a set of rules for applying binary universal functions (e.g. addition, subtraction, multiplication, etc.) on arrays of different sizes. For example, we can just add a scalar to the array. Broadcasting in NumPy allows arithmetic operations to be performed on arrays of different shapes. The smaller array is automatically expanded to match the shape of the larger array, enabling element-wise operations without explicitly reshaping the arrays.\n",
        "\n",
        "* Key Points:\n",
        "\n",
        "  * Automatic Expansion: Smaller array shapes are expanded to match the larger array shape during operations.\n",
        "  * Compatible Shapes: Shapes are compatible if, starting from the trailing dimensions, the dimensions either match or one of them is 1.\n",
        "\n",
        "* Rules of Broadcasting:\n",
        "\n",
        "  Broadcasting in NumPy follows a strict set of rules to determine the interaction between the two arrays:\n",
        "\n",
        "  - Rule 1: If the two arrays differ in their number of dimensions, the shape of the one with fewer dimensions is padded with ones on its leading (left) side.\n",
        "  - Rule 2: If the shape of the two arrays does not match in any dimension, the array with shape equal to 1 in that dimension is stretched to match the other shape.\n",
        "  - Rule 3: If in any dimension the sizes disagree and neither is equal to 1, an error is raised.\n",
        "\n",
        "* Pros:\n",
        "\n",
        "  * Memory Efficiency: Broadcasting avoids creating large intermediate arrays, saving memory.\n",
        "  * Simplified Code: Operations can be performed without explicitly reshaping or replicating arrays, leading to cleaner and more readable code.\n",
        "\n",
        "* Cons:\n",
        "\n",
        "  * Potential for Errors: Misunderstanding broadcasting rules can lead to unexpected results or errors.\n",
        "  * Inefficient Memory Use: In some cases, broadcasting can lead to temporary increased memory usage, especially when large arrays are involved."
      ]
    },
    {
      "cell_type": "markdown",
      "metadata": {
        "id": "V8r_r3_Yw022"
      },
      "source": [
        "Lets perform an addition operation between an 1d array and a 2d array"
      ]
    },
    {
      "cell_type": "code",
      "execution_count": 162,
      "metadata": {
        "colab": {
          "base_uri": "https://localhost:8080/"
        },
        "execution": {
          "iopub.execute_input": "2024-06-12T10:13:55.857007Z",
          "iopub.status.busy": "2024-06-12T10:13:55.855846Z",
          "iopub.status.idle": "2024-06-12T10:13:55.863209Z",
          "shell.execute_reply": "2024-06-12T10:13:55.861966Z",
          "shell.execute_reply.started": "2024-06-12T10:13:55.856959Z"
        },
        "id": "wxn0SVKmFemz",
        "outputId": "0becc40e-09a6-4114-8a38-32f78edbad12",
        "trusted": true
      },
      "outputs": [
        {
          "name": "stdout",
          "output_type": "stream",
          "text": [
            "[1 2 3] \n",
            "\n",
            "[[1 2 3]\n",
            " [4 5 6]] \n",
            "\n",
            "Result of broadcasting(addition of 1d array with a 2d array):\n",
            " [[2 4 6]\n",
            " [5 7 9]]\n"
          ]
        }
      ],
      "source": [
        "print(my_first_array,\"\\n\")   # a 1d array\n",
        "print(my_array,\"\\n\")         # a 2d array\n",
        "\n",
        "broadcasted_addition = my_first_array + my_array\n",
        "print(\"Result of broadcasting(addition of 1d array with a 2d array):\\n\", broadcasted_addition)"
      ]
    },
    {
      "cell_type": "markdown",
      "metadata": {
        "id": "sMZZqRktwaGn"
      },
      "source": [
        "Lets perform a scalar multiplication of an 1d array. i.e. To multiply a scalar and an 1d array."
      ]
    },
    {
      "cell_type": "code",
      "execution_count": 163,
      "metadata": {
        "colab": {
          "base_uri": "https://localhost:8080/"
        },
        "id": "Y5u4CrGzvcwR",
        "outputId": "cb2fd647-5a6d-45c9-d555-e66c9516c0d4"
      },
      "outputs": [
        {
          "name": "stdout",
          "output_type": "stream",
          "text": [
            "[1 2 3] \n",
            "\n",
            "Result of broadcasting(multiplication by a scalar):\n",
            " [2 4 6]\n"
          ]
        }
      ],
      "source": [
        "print(my_first_array,\"\\n\")   # a 1d array\n",
        "broadcasted_multiplication = my_first_array * 2\n",
        "print(\"Result of broadcasting(multiplication by a scalar):\\n\", broadcasted_multiplication)"
      ]
    },
    {
      "cell_type": "markdown",
      "metadata": {
        "id": "tsa0O7dMFemz"
      },
      "source": [
        "### Matrix Operations\n",
        "Here various operations like multiplication, addition, subtraction, etc are covered."
      ]
    },
    {
      "cell_type": "code",
      "execution_count": 164,
      "metadata": {
        "execution": {
          "iopub.execute_input": "2024-06-12T10:16:57.878384Z",
          "iopub.status.busy": "2024-06-12T10:16:57.878002Z",
          "iopub.status.idle": "2024-06-12T10:16:57.883777Z",
          "shell.execute_reply": "2024-06-12T10:16:57.882664Z",
          "shell.execute_reply.started": "2024-06-12T10:16:57.878354Z"
        },
        "id": "7z8Z2-nYFemz",
        "trusted": true
      },
      "outputs": [],
      "source": [
        "# Lets define 2 square matrices a and b\n",
        "\n",
        "a = np.array(\n",
        "    [\n",
        "        [1, 2],\n",
        "        [3, 4]\n",
        "    ]\n",
        ")\n",
        "\n",
        "b = np.array(\n",
        "    [\n",
        "        [5, 6],\n",
        "        [7, 8]\n",
        "    ]\n",
        ")"
      ]
    },
    {
      "cell_type": "code",
      "execution_count": 165,
      "metadata": {
        "colab": {
          "base_uri": "https://localhost:8080/"
        },
        "execution": {
          "iopub.execute_input": "2024-06-12T10:23:41.406722Z",
          "iopub.status.busy": "2024-06-12T10:23:41.406322Z",
          "iopub.status.idle": "2024-06-12T10:23:41.413686Z",
          "shell.execute_reply": "2024-06-12T10:23:41.412361Z",
          "shell.execute_reply.started": "2024-06-12T10:23:41.406689Z"
        },
        "id": "PUAmlf4rFemz",
        "outputId": "84f76102-6f3f-45d8-d527-47a18d7f095a",
        "trusted": true
      },
      "outputs": [
        {
          "name": "stdout",
          "output_type": "stream",
          "text": [
            "[[19 22]\n",
            " [43 50]] \n",
            "\n",
            "[[19 22]\n",
            " [43 50]] \n",
            "\n",
            "[[19 22]\n",
            " [43 50]] \n",
            "\n"
          ]
        }
      ],
      "source": [
        "# Matrix multiplication:\n",
        "print(np.matmul(a, b), \"\\n\")       # method 1\n",
        "print(np.dot(a, b), \"\\n\")          # method 2\n",
        "print(a@b, \"\\n\")                   # method 3"
      ]
    },
    {
      "cell_type": "code",
      "execution_count": 166,
      "metadata": {
        "colab": {
          "base_uri": "https://localhost:8080/"
        },
        "execution": {
          "iopub.execute_input": "2024-06-12T10:26:47.683330Z",
          "iopub.status.busy": "2024-06-12T10:26:47.682674Z",
          "iopub.status.idle": "2024-06-12T10:26:47.690256Z",
          "shell.execute_reply": "2024-06-12T10:26:47.689115Z",
          "shell.execute_reply.started": "2024-06-12T10:26:47.683285Z"
        },
        "id": "aMqN4vFBFemz",
        "outputId": "379c87bf-01ec-441f-bd84-691f6c6b3d1e",
        "trusted": true
      },
      "outputs": [
        {
          "name": "stdout",
          "output_type": "stream",
          "text": [
            "\n",
            "Addition:\n",
            " [[ 6  8]\n",
            " [10 12]]\n",
            "Element-wise Multiplication\n",
            " [[ 5 12]\n",
            " [21 32]]\n",
            "Element-wise division\n",
            " [[0.2        0.33333333]\n",
            " [0.42857143 0.5       ]]\n",
            "Lineaer combination: 3*a - 2*b\n",
            " [[-7 -6]\n",
            " [-5 -4]]\n"
          ]
        }
      ],
      "source": [
        "print(\"\\nAddition:\\n\", a+b)\n",
        "print(\"Element-wise Multiplication\\n\", a*b)\n",
        "print(\"Element-wise division\\n\", a/b)\n",
        "print(\"Lineaer combination: 3*a - 2*b\\n\", 3*a-2*b)"
      ]
    },
    {
      "cell_type": "code",
      "execution_count": 167,
      "metadata": {
        "colab": {
          "base_uri": "https://localhost:8080/"
        },
        "id": "cP4MbgcfSIY1",
        "outputId": "5a798299-ab8b-4cfe-9860-4b32897dd0df"
      },
      "outputs": [
        {
          "name": "stdout",
          "output_type": "stream",
          "text": [
            "2.5\n",
            "6.5\n",
            "3.25\n",
            "7.97\n"
          ]
        }
      ],
      "source": [
        "a_percentile50 = np.percentile(a, 50)     # 50th percentile of matrix a\n",
        "b_percentile50 = np.percentile(b, 50)     # 50th percentile of matrix b\n",
        "\n",
        "a_percentile75 = np.percentile(a,75)      # 75th percentile of matrix a\n",
        "b_percentile99 = np.percentile(b,99)      # 99th percentile of matrix b\n",
        "\n",
        "print(a_percentile50)\n",
        "print(b_percentile50)\n",
        "print(a_percentile75)\n",
        "print(b_percentile99)"
      ]
    },
    {
      "cell_type": "markdown",
      "metadata": {
        "id": "KrTxWy5iyvDz"
      },
      "source": [
        "#### argmin and argmax:\n",
        "These are the in-built functions in NumPy. argmin returns the index of the smallest value in the array while argmax returns the index of the largest value in the array. These can be used in both single and multi-dimensional arrays."
      ]
    },
    {
      "cell_type": "code",
      "execution_count": 168,
      "metadata": {
        "colab": {
          "base_uri": "https://localhost:8080/"
        },
        "id": "e8zzBw1TFem0",
        "outputId": "290049ad-39d2-4e49-fa9d-6e9af8f62c40"
      },
      "outputs": [
        {
          "name": "stdout",
          "output_type": "stream",
          "text": [
            "[1 2 3]\n",
            "The max value is the index: 2\n",
            "The min value is the index: 0\n"
          ]
        }
      ],
      "source": [
        "print(my_first_array)\n",
        "print(\"The max value is the index:\",np.argmax(my_first_array))  # argmax in 1d array\n",
        "print(\"The min value is the index:\",np.argmin(my_first_array))  # argmin in 1d array"
      ]
    },
    {
      "cell_type": "code",
      "execution_count": 169,
      "metadata": {
        "colab": {
          "base_uri": "https://localhost:8080/"
        },
        "id": "w9MGF8u0yc4a",
        "outputId": "c804c6e1-8928-4fef-a213-1e9e272de4a6"
      },
      "outputs": [
        {
          "name": "stdout",
          "output_type": "stream",
          "text": [
            "[[1 2 3]\n",
            " [4 5 6]]\n",
            "The max value is the index: 5\n",
            "The min value is the index: 0\n"
          ]
        }
      ],
      "source": [
        "print(my_array)\n",
        "print(\"The max value is the index:\",np.argmax(my_array))    # argmax in 2d array\n",
        "print(\"The min value is the index:\",np.argmin(my_array))    # argmin in 2d array"
      ]
    },
    {
      "cell_type": "markdown",
      "metadata": {
        "id": "lKqHqA3v0a1I"
      },
      "source": [
        "* When we pass an axis parameter to `argmax` method, the index of maximum value of that particular axis is returned."
      ]
    },
    {
      "cell_type": "code",
      "execution_count": 170,
      "metadata": {
        "colab": {
          "base_uri": "https://localhost:8080/"
        },
        "id": "1kNFUf5EzsA1",
        "outputId": "f2619e07-b329-4924-b4a2-8342020171d1"
      },
      "outputs": [
        {
          "name": "stdout",
          "output_type": "stream",
          "text": [
            "[[1 2 3]\n",
            " [4 5 6]]\n",
            "The max value in the axis = 0 (rows compared columnwise and the row's index returned): [1 1 1]\n",
            "The min value in the axis = 0 (rows compared columnwise and the row's index returned): [0 0 0]\n"
          ]
        }
      ],
      "source": [
        "print(my_array)\n",
        "print(\"The max value in the axis = 0 (rows compared columnwise and the row's index returned):\",np.argmax(my_array, axis = 0))\n",
        "print(\"The min value in the axis = 0 (rows compared columnwise and the row's index returned):\",np.argmin(my_array, axis = 0))"
      ]
    },
    {
      "cell_type": "markdown",
      "metadata": {
        "id": "JcNe0zl_2ALu"
      },
      "source": [
        "* argmax: Here, 1st columnn is picked and when the rows are compared, the row's index (with highest number) is returned. For example, 1 and 4 is compared, index of 2nd row (1) is returned. Similarly other columns are picked, 1 is returned after comparision with 2 and 5, then 3 and 6\n",
        "* argmin: 1st row has lowest values, so 0 is returned for all the columns"
      ]
    },
    {
      "cell_type": "code",
      "execution_count": 171,
      "metadata": {
        "colab": {
          "base_uri": "https://localhost:8080/"
        },
        "id": "hc3AwCqd0tVf",
        "outputId": "53006965-fe8b-4797-abaa-ce2d280c6712"
      },
      "outputs": [
        {
          "name": "stdout",
          "output_type": "stream",
          "text": [
            "[[1 2 3]\n",
            " [4 5 6]]\n",
            "The max value in the axis = 1 (columns compared rowwise and the column's index returned): [2 2]\n",
            "The min value in the axis = 1 (columns compared rowwise and the column's index returned): [0 0]\n"
          ]
        }
      ],
      "source": [
        "print(my_array)\n",
        "print(\"The max value in the axis = 1 (columns compared rowwise and the column's index returned):\",np.argmax(my_array, axis = 1))\n",
        "print(\"The min value in the axis = 1 (columns compared rowwise and the column's index returned):\",np.argmin(my_array, axis = 1))"
      ]
    },
    {
      "cell_type": "markdown",
      "metadata": {
        "id": "YnEIzwiq25eM"
      },
      "source": [
        "* argmax: First row is picked and The columns are compared. The 3rd column has highest values, so 2 is returned. Same for the 2nd row\n",
        "* argmin: 1st column has lowest value, so 0 is returned."
      ]
    },
    {
      "cell_type": "markdown",
      "metadata": {
        "id": "EPeti8jw4SUw"
      },
      "source": [
        "### Stack:\n",
        "`stack` method in numpy is used to join a sequence of arrays along a new axis. The axis parameter specifies the index of the new axis in the dimensions of the result. For example, if axis=0 it will be the first dimension and if axis=-1 it will be the last dimension."
      ]
    },
    {
      "cell_type": "code",
      "execution_count": 172,
      "metadata": {
        "id": "NPxeYF342u03"
      },
      "outputs": [],
      "source": [
        "x = np.array([1, 2, 3])\n",
        "y = np.array([7, 8, 9])"
      ]
    },
    {
      "cell_type": "code",
      "execution_count": 173,
      "metadata": {
        "colab": {
          "base_uri": "https://localhost:8080/"
        },
        "id": "nrgswMXZ4mAO",
        "outputId": "141e053e-f6e4-4ec8-cd96-fb8ba4927e75"
      },
      "outputs": [
        {
          "name": "stdout",
          "output_type": "stream",
          "text": [
            "[[1 2 3]\n",
            " [7 8 9]] \n",
            "\n",
            "[[1 7]\n",
            " [2 8]\n",
            " [3 9]]\n"
          ]
        }
      ],
      "source": [
        "print(np.stack((x,y)), \"\\n\") #default value of axis is 0\n",
        "print(np.stack((x,y), axis = 1)) #default value of axis is 0"
      ]
    },
    {
      "cell_type": "markdown",
      "metadata": {
        "id": "m89yp3d_9V5o"
      },
      "source": [
        "### Splitting\n",
        "`split` is used to split an array to more arrays.\n",
        "\n",
        "The 2 kinds of splitting are done here:\n",
        "\n",
        "* Splitting in equal frequencies: Divide the array into equal sized sub-arrays\n",
        "* Splittng based on interval: Divide the array at specified indices. The indices can be choosen uniformly or non-uniformly."
      ]
    },
    {
      "cell_type": "code",
      "execution_count": 174,
      "metadata": {
        "colab": {
          "base_uri": "https://localhost:8080/"
        },
        "id": "t_ZVySpr4sVV",
        "outputId": "390340f8-fcbc-4518-f2a9-89293f963a23"
      },
      "outputs": [
        {
          "name": "stdout",
          "output_type": "stream",
          "text": [
            "[ 0  1  2  3  4  5  6  7  8  9 10 11]\n"
          ]
        }
      ],
      "source": [
        "z = np.arange(12)\n",
        "print(z)"
      ]
    },
    {
      "cell_type": "code",
      "execution_count": 175,
      "metadata": {
        "colab": {
          "base_uri": "https://localhost:8080/"
        },
        "id": "P7Y6gsy7-OL1",
        "outputId": "a1f298cc-16a2-434e-9e2f-221951357414"
      },
      "outputs": [
        {
          "name": "stdout",
          "output_type": "stream",
          "text": [
            "[array([0, 1, 2, 3]), array([4, 5, 6, 7]), array([ 8,  9, 10, 11])]\n"
          ]
        }
      ],
      "source": [
        "print(np.split(z, 3))        # 3 equal sized\n",
        "\n",
        "# print(np.split(z,5))"
      ]
    },
    {
      "cell_type": "markdown",
      "metadata": {
        "id": "CeQ9m-er-7or"
      },
      "source": [
        "Uncomment and run the 2nd line in the above cell. It should show an error, because array of size 12 can't be splitted into 5 equal sized sub-arrays.\n",
        "\n",
        "Now in the cell below, lets split based on specified intervals. Here, the resulting sub-arrays should have non-uniform sizes. That's because, the interval specification is not uniform, resulting in the last sub-array to be significantly larger."
      ]
    },
    {
      "cell_type": "code",
      "execution_count": 176,
      "metadata": {
        "colab": {
          "base_uri": "https://localhost:8080/"
        },
        "id": "KPGNPp1h7v-U",
        "outputId": "40bf780c-34c1-4de9-ea7e-c9890d85b603"
      },
      "outputs": [
        {
          "data": {
            "text/plain": [
              "[array([0, 1, 2]), array([3, 4]), array([5, 6]), array([ 7,  8,  9, 10, 11])]"
            ]
          },
          "execution_count": 176,
          "metadata": {},
          "output_type": "execute_result"
        }
      ],
      "source": [
        "np.split(z, [3,5,7])"
      ]
    },
    {
      "cell_type": "markdown",
      "metadata": {
        "id": "zJdvIbyTAGHF"
      },
      "source": [
        "### Padding:\n",
        "Padding in NumPy involves adding values to the edges of an array. This is often used in image processing, signal processing, and neural networks to manipulate the size of data without altering the original content.\n",
        "\n",
        "Types of Padding:\n",
        "\n",
        "  * Constant Padding: Adds a constant value to the edges.\n",
        "  * Edge Padding: Repeats the edge values of the array.\n",
        "  * Linear Ramp Padding: Adds a linear sequence of values to the edges.\n",
        "  * Maximum Padding: Pads with the maximum value of the array.\n",
        "  * Mean Padding: Pads with the mean value of the array."
      ]
    },
    {
      "cell_type": "code",
      "execution_count": 177,
      "metadata": {
        "id": "we-t70gk_sFm"
      },
      "outputs": [],
      "source": [
        "new_array = [1, 2, 3, 4, 5]"
      ]
    },
    {
      "cell_type": "markdown",
      "metadata": {
        "id": "qigkoia6FMIc"
      },
      "source": [
        "1. Constant padding:\n",
        " Adds 2 elements with the value 4 at the beginning and 3 elements with the value 6 at the end of the array."
      ]
    },
    {
      "cell_type": "code",
      "execution_count": 178,
      "metadata": {
        "colab": {
          "base_uri": "https://localhost:8080/"
        },
        "id": "0JSoLCvqAJ46",
        "outputId": "65d539be-4ee8-43b7-f6f9-0fe344f5ae92"
      },
      "outputs": [
        {
          "name": "stdout",
          "output_type": "stream",
          "text": [
            "[4 4 1 2 3 4 5 6 6 6]\n"
          ]
        }
      ],
      "source": [
        "# constant padding\n",
        "print(np.pad(new_array, (2, 3), 'constant', constant_values=(4, 6)))"
      ]
    },
    {
      "cell_type": "markdown",
      "metadata": {
        "id": "b_u3u7KsFT58"
      },
      "source": [
        "2. Edge Padding: Repeats the edge values of the array, adding 2 elements with the first value at the beginning and 3 elements with the last value at the end."
      ]
    },
    {
      "cell_type": "code",
      "execution_count": 179,
      "metadata": {
        "colab": {
          "base_uri": "https://localhost:8080/"
        },
        "id": "mAQRMT1XAN64",
        "outputId": "18d35ae4-0400-4a65-d479-26583d718456"
      },
      "outputs": [
        {
          "name": "stdout",
          "output_type": "stream",
          "text": [
            "[1 1 1 2 3 4 5 5 5 5]\n"
          ]
        }
      ],
      "source": [
        "# Edge padding\n",
        "print(np.pad(new_array, (2, 3), 'edge'))"
      ]
    },
    {
      "cell_type": "markdown",
      "metadata": {
        "id": "0wgkTR2NFn6i"
      },
      "source": [
        "3. Linear Ramp Padding: Adds a linear sequence of values starting from 5 at the beginning and ending at -4 at the end."
      ]
    },
    {
      "cell_type": "code",
      "execution_count": 180,
      "metadata": {
        "colab": {
          "base_uri": "https://localhost:8080/"
        },
        "id": "cVXRBn4RFczQ",
        "outputId": "aba1b03e-493f-40d6-bbec-70c5524abea0"
      },
      "outputs": [
        {
          "name": "stdout",
          "output_type": "stream",
          "text": [
            "[ 5  3  1  2  3  4  5  2 -1 -4]\n"
          ]
        }
      ],
      "source": [
        "# Linear ramp padding\n",
        "print(np.pad(new_array, (2, 3), 'linear_ramp', end_values=(5, -4)))"
      ]
    },
    {
      "cell_type": "markdown",
      "metadata": {
        "id": "vcTulMUVF78F"
      },
      "source": [
        "4. Maximum Padding: Adds 2 elements with the maximum value of the array at the boundaries"
      ]
    },
    {
      "cell_type": "code",
      "execution_count": 181,
      "metadata": {
        "colab": {
          "base_uri": "https://localhost:8080/"
        },
        "id": "-jnDRJTfFq-E",
        "outputId": "e91d68ff-8b74-486a-ac53-bdb4a8b5c720"
      },
      "outputs": [
        {
          "name": "stdout",
          "output_type": "stream",
          "text": [
            "[5 5 1 2 3 4 5 5 5]\n"
          ]
        }
      ],
      "source": [
        "# Maximum padding\n",
        "print(np.pad(new_array, (2,), 'maximum'))"
      ]
    },
    {
      "cell_type": "markdown",
      "metadata": {
        "id": "Mb9X6f_aGXsn"
      },
      "source": [
        "### Aggregation:\n",
        "When faced with a large amount of data, we may need to compute typical summary statistics: mean, standard deviation, sum, product, median, minimum, maximum and so on. NumPy provides fast built-in aggregation functions for working on arrays."
      ]
    },
    {
      "cell_type": "code",
      "execution_count": 182,
      "metadata": {
        "colab": {
          "base_uri": "https://localhost:8080/"
        },
        "id": "6ofo5KKeGA9x",
        "outputId": "4505ab03-cf7c-4d54-ad6c-85bcfd7b9a20"
      },
      "outputs": [
        {
          "name": "stdout",
          "output_type": "stream",
          "text": [
            "[[1 2 3]\n",
            " [4 5 6]]\n"
          ]
        }
      ],
      "source": [
        "print(my_array)"
      ]
    },
    {
      "cell_type": "code",
      "execution_count": 183,
      "metadata": {
        "colab": {
          "base_uri": "https://localhost:8080/"
        },
        "id": "zAdr-lmjGmaD",
        "outputId": "11581c10-1b8d-4cdd-decd-446b9c79155c"
      },
      "outputs": [
        {
          "name": "stdout",
          "output_type": "stream",
          "text": [
            "Mean1:  [2.5 3.5 4.5]\n",
            "Mean2:  [2. 5.]\n"
          ]
        }
      ],
      "source": [
        "print(\"Mean1: \", np.mean(my_array, axis=0)) # returns arithmetic mean of the rows (column-wise)\n",
        "print(\"Mean2: \", np.mean(my_array, axis=1)) # returns arithmetic mean of the columns (row-ise)"
      ]
    },
    {
      "cell_type": "code",
      "execution_count": 184,
      "metadata": {
        "colab": {
          "base_uri": "https://localhost:8080/"
        },
        "id": "AlFMQJm5GwvX",
        "outputId": "85a0a967-0ac9-4c08-9041-8b856e1678f5"
      },
      "outputs": [
        {
          "name": "stdout",
          "output_type": "stream",
          "text": [
            "Std:  1.707825127659933\n"
          ]
        }
      ],
      "source": [
        "print(\"Std: \", np.std(my_array))"
      ]
    },
    {
      "cell_type": "code",
      "execution_count": 185,
      "metadata": {
        "colab": {
          "base_uri": "https://localhost:8080/"
        },
        "id": "WkXjG2mLJ8cZ",
        "outputId": "f479f458-e326-42a9-b523-11f3f3ad8f28"
      },
      "outputs": [
        {
          "name": "stdout",
          "output_type": "stream",
          "text": [
            "Min:  1\n",
            "Max:  6\n"
          ]
        }
      ],
      "source": [
        "#min and max of an array\n",
        "print(\"Min: \", np.min(my_array))\n",
        "print(\"Max: \", np.max(my_array))"
      ]
    },
    {
      "cell_type": "code",
      "execution_count": 186,
      "metadata": {
        "colab": {
          "base_uri": "https://localhost:8080/"
        },
        "id": "zb0_tO4KKMXy",
        "outputId": "b6a4913b-bbcc-4f3f-fe22-e219fb164277"
      },
      "outputs": [
        {
          "name": "stdout",
          "output_type": "stream",
          "text": [
            "Sum:  21\n"
          ]
        }
      ],
      "source": [
        "# sum all the values in an array\n",
        "print(\"Sum: \", np.sum(my_array))\n"
      ]
    },
    {
      "cell_type": "markdown",
      "metadata": {
        "id": "pEYrET4iZagp"
      },
      "source": [
        "# Applications:\n",
        "\n",
        "## [Optional Section]\n",
        "\n",
        "\n",
        "There are various useful applications that relies heavily on NumPy functionalities. We won't be going in detail about these (since they will come later in the course) but they are briefly shown/implemented below:"
      ]
    },
    {
      "cell_type": "markdown",
      "metadata": {
        "id": "dmkm6qHWa7Zu"
      },
      "source": [
        "## 1. Singular Value Decomposition (SVD):\n",
        "\n",
        "  * Decomposes a matrix into orthogonal and diagonal components.\n",
        "  * Useful for dimensionality reduction and understanding matrix properties."
      ]
    },
    {
      "cell_type": "code",
      "execution_count": 192,
      "metadata": {
        "colab": {
          "base_uri": "https://localhost:8080/"
        },
        "id": "fzv7nfQMb1kA",
        "outputId": "3df47fbe-a1d6-4588-c69f-7c2392fa39bb"
      },
      "outputs": [
        {
          "name": "stdout",
          "output_type": "stream",
          "text": [
            "Original matrix:\n",
            " [[3 3 7]\n",
            " [7 2 2]\n",
            " [6 1 9]]\n"
          ]
        }
      ],
      "source": [
        "# Generate a random matrix\n",
        "A = np.random.randint(1, 10, 9).reshape(3, 3)\n",
        "print(\"Original matrix:\\n\", A)"
      ]
    },
    {
      "cell_type": "code",
      "execution_count": 194,
      "metadata": {
        "id": "B0c7cOTab8mF"
      },
      "outputs": [],
      "source": [
        "# Perform Singular Value Decomposition (SVD)\n",
        "u, s, v = np.linalg.svd(A, full_matrices=True)"
      ]
    },
    {
      "cell_type": "code",
      "execution_count": 199,
      "metadata": {
        "colab": {
          "base_uri": "https://localhost:8080/"
        },
        "id": "QpbMb9iVcCCG",
        "outputId": "85fe607a-4141-4216-d420-678b865c815b"
      },
      "outputs": [
        {
          "name": "stdout",
          "output_type": "stream",
          "text": [
            "Left singular vectors (u):\n",
            " [[-0.53263641  0.40584233 -0.74269136]\n",
            " [-0.42503476 -0.88711198 -0.17993828]\n",
            " [-0.73187698  0.21982796  0.64500524]]\n",
            "\n",
            "Singular values (s):\n",
            " [14.66760883  4.78323258  1.99547926]\n",
            "\n",
            "Right singular vectors (v):\n",
            " [[-0.61117081 -0.21679442 -0.76122954]\n",
            " [-0.76795118 -0.07042706  0.63662471]\n",
            " [ 0.19162784 -0.97367356  0.12344457]]\n"
          ]
        }
      ],
      "source": [
        "print(\"Left singular vectors (u):\\n\", u)\n",
        "print(\"\\nSingular values (s):\\n\", s)\n",
        "print(\"\\nRight singular vectors (v):\\n\", v)"
      ]
    },
    {
      "cell_type": "code",
      "execution_count": 201,
      "metadata": {
        "colab": {
          "base_uri": "https://localhost:8080/"
        },
        "id": "DAOHN0vFVvaz",
        "outputId": "b52cbb8b-89fa-4a08-887c-953d7baff548"
      },
      "outputs": [
        {
          "name": "stdout",
          "output_type": "stream",
          "text": [
            "Reconstruction of A, u*s*v:\n",
            " [[3. 3. 7.]\n",
            " [7. 2. 2.]\n",
            " [6. 1. 9.]]\n"
          ]
        }
      ],
      "source": [
        "# Reconstruction of A using u, s, and v\n",
        "reconstructed_A = np.dot(u, np.dot(np.diag(s), v))\n",
        "print(\"Reconstruction of A, u*s*v:\\n\", reconstructed_A)"
      ]
    },
    {
      "cell_type": "markdown",
      "metadata": {
        "id": "yAc3_s8BbJOe"
      },
      "source": [
        "## 2. QR Decomposition:\n",
        "\n",
        "  * Decomposes a matrix into an orthogonal matrix and an upper triangular matrix.\n",
        "  * Useful for solving systems of linear equations and numerical stability."
      ]
    },
    {
      "cell_type": "code",
      "execution_count": 204,
      "metadata": {
        "colab": {
          "base_uri": "https://localhost:8080/"
        },
        "id": "AGDiJVasc8-v",
        "outputId": "345d0fd0-74e2-4c01-df03-492102ed2768"
      },
      "outputs": [
        {
          "name": "stdout",
          "output_type": "stream",
          "text": [
            "Original matrix:\n",
            " [[5 4 2]\n",
            " [3 5 5]\n",
            " [5 5 9]]\n"
          ]
        }
      ],
      "source": [
        "# Generate a random matrix\n",
        "B = np.random.randint(1, 10, 9).reshape(3, 3)\n",
        "print(\"Original matrix:\\n\", B)"
      ]
    },
    {
      "cell_type": "code",
      "execution_count": 211,
      "metadata": {
        "id": "--bRccSqdGOL"
      },
      "outputs": [],
      "source": [
        "# Perform QR Decomposition\n",
        "q, r = np.linalg.qr(B)"
      ]
    },
    {
      "cell_type": "code",
      "execution_count": 212,
      "metadata": {
        "colab": {
          "base_uri": "https://localhost:8080/"
        },
        "id": "RzhyrimcdKam",
        "outputId": "72b9cf7f-a2a2-40cd-9585-1847c88d6309"
      },
      "outputs": [
        {
          "name": "stdout",
          "output_type": "stream",
          "text": [
            "Orthogonal matrix (Q):\n",
            " [[-0.65094455  0.48593737 -0.58321184]\n",
            " [-0.39056673 -0.87316872 -0.29160592]\n",
            " [-0.65094455  0.03796386  0.7581754 ]]\n",
            "\n",
            "Upper triangular matrix (R):\n",
            " [[-7.68114575 -7.81133466 -9.11322377]\n",
            " [ 0.         -2.23227481 -3.05229413]\n",
            " [ 0.          0.          4.19912527]]\n"
          ]
        }
      ],
      "source": [
        "print(\"Orthogonal matrix (Q):\\n\", q)\n",
        "print(\"\\nUpper triangular matrix (R):\\n\", r)"
      ]
    },
    {
      "cell_type": "code",
      "execution_count": 213,
      "metadata": {
        "colab": {
          "base_uri": "https://localhost:8080/"
        },
        "id": "n1E--QY7bOlM",
        "outputId": "df20b35a-dde9-4d8e-e80e-c76f2e11bda3"
      },
      "outputs": [
        {
          "name": "stdout",
          "output_type": "stream",
          "text": [
            "Reconstruction of B, Q*R:\n",
            " [[5. 4. 2.]\n",
            " [3. 5. 5.]\n",
            " [5. 5. 9.]]\n"
          ]
        }
      ],
      "source": [
        "# Reconstruction of B using Q and R\n",
        "reconstructed_B = np.dot(q, r)\n",
        "print(\"Reconstruction of B, Q*R:\\n\", reconstructed_B)"
      ]
    },
    {
      "cell_type": "markdown",
      "metadata": {
        "id": "6bkkIeQLbP0V"
      },
      "source": [
        "## 3. Eigenvalues and Eigenvectors:\n",
        "\n",
        "  * Computes eigenvalues and eigenvectors of a square matrix.\n",
        "  * Useful for understanding dynamic systems and transformations."
      ]
    },
    {
      "cell_type": "code",
      "execution_count": 216,
      "metadata": {
        "colab": {
          "base_uri": "https://localhost:8080/"
        },
        "id": "DSyhhNWwd2Gd",
        "outputId": "b2821b76-081d-4a96-a759-bd3653e6c76c"
      },
      "outputs": [
        {
          "name": "stdout",
          "output_type": "stream",
          "text": [
            "Original matrix:\n",
            " [[ 0.57012463 -0.81661676  1.15612528]\n",
            " [-0.20910605 -1.27005581  1.40305255]\n",
            " [ 0.56524781  1.02764217 -0.19415843]]\n"
          ]
        }
      ],
      "source": [
        "# Generate a random matrix\n",
        "C = np.random.randn(9).reshape(3, 3)\n",
        "print(\"Original matrix:\\n\", C)"
      ]
    },
    {
      "cell_type": "code",
      "execution_count": 217,
      "metadata": {
        "id": "beqoiZiOd8Oa"
      },
      "outputs": [],
      "source": [
        "# Compute Eigenvalues and Eigenvectors\n",
        "w, v = np.linalg.eig(C)"
      ]
    },
    {
      "cell_type": "code",
      "execution_count": 218,
      "metadata": {
        "colab": {
          "base_uri": "https://localhost:8080/"
        },
        "id": "YQjYLCjpbWwU",
        "outputId": "48172d7b-e24d-4182-bbe5-1fe25674ff07"
      },
      "outputs": [
        {
          "name": "stdout",
          "output_type": "stream",
          "text": [
            "Eigenvalues:\n",
            " [-2.28203218  1.10452196  0.28342061]\n",
            "\n",
            "\n",
            "Eigenvectors:\n",
            " [[ 0.41764536  0.7975137  -0.58938571]\n",
            " [ 0.76531847  0.25329866  0.58372664]\n",
            " [-0.48975503  0.54755062  0.55846906]]\n"
          ]
        }
      ],
      "source": [
        "print(\"Eigenvalues:\\n\", w)\n",
        "print(\"\\n\")\n",
        "print(\"Eigenvectors:\\n\", v)"
      ]
    },
    {
      "cell_type": "markdown",
      "metadata": {
        "id": "ZPuU8NkIbYx1"
      },
      "source": [
        "## 4. Linear Equation Solving:\n",
        "\n",
        "  * Solves a system of linear equations using matrix inversion.\n",
        "  * Useful for engineering and scientific computations."
      ]
    },
    {
      "cell_type": "markdown",
      "metadata": {
        "id": "cLT-AYdWeh8p"
      },
      "source": [
        "You can directly solve linear system of equations using NumPy writing only one line of code.\n",
        "\n",
        "Suppose you want to solve the following set of equations for (x,y,z). It is easy to see that (2,1,5) are the unique solutions.\n",
        "\n",
        "2x + 5y + z = 14;\n",
        "\n",
        "3x - 2y - z = -1;\n",
        "\n",
        "x - 3y + z = 4"
      ]
    },
    {
      "cell_type": "code",
      "execution_count": 220,
      "metadata": {
        "id": "iCaOsGp1eOZD"
      },
      "outputs": [],
      "source": [
        "# Define matrix A and vector B\n",
        "A = np.array([[2, 5, 1], [3, -2, -1], [1, -3, 1]])\n",
        "B = np.array([14, -1, 4])"
      ]
    },
    {
      "cell_type": "code",
      "execution_count": 224,
      "metadata": {
        "colab": {
          "base_uri": "https://localhost:8080/"
        },
        "id": "CY85S_4KeR6a",
        "outputId": "d0b92df1-df1e-48d6-99a5-bd86cb4a0fb7"
      },
      "outputs": [
        {
          "name": "stdout",
          "output_type": "stream",
          "text": [
            "The solutions are: [2. 1. 5.]\n"
          ]
        }
      ],
      "source": [
        "# Solve linear equations Ax = B\n",
        "x = np.linalg.solve(A, B)\n",
        "print(\"The solutions are:\", x)"
      ]
    },
    {
      "cell_type": "markdown",
      "metadata": {
        "id": "YlpXZhtDbd71"
      },
      "source": [
        "## 5. Linear Regression Using Least Squares:\n",
        "\n",
        "  * Performs linear regression to find the best-fit line for given data.\n",
        "  * Useful for modeling relationships between variables and making predictions."
      ]
    },
    {
      "cell_type": "code",
      "execution_count": 227,
      "metadata": {
        "colab": {
          "base_uri": "https://localhost:8080/"
        },
        "id": "bzbbVM5bew3G",
        "outputId": "abd367c7-b4df-4802-fc30-fad2582e7da5"
      },
      "outputs": [
        {
          "name": "stdout",
          "output_type": "stream",
          "text": [
            "[ 1  2  3  4  5  6  7  8  9 10] \n",
            "\n",
            "[ 2.78175064  1.85892007  3.67318832  5.64116007  9.0011842   9.57387121\n",
            " 12.59479267 14.6244551  17.70219707 18.55016615]\n"
          ]
        }
      ],
      "source": [
        "# Generate data points\n",
        "x = np.arange(1, 11, 1)\n",
        "y = 2 * x + np.random.randn(10) - 1\n",
        "\n",
        "print(x, \"\\n\")\n",
        "print(y)"
      ]
    },
    {
      "cell_type": "code",
      "execution_count": 229,
      "metadata": {
        "colab": {
          "base_uri": "https://localhost:8080/"
        },
        "id": "GQ9ASsOEe71b",
        "outputId": "c9481586-9e25-4c2a-ceff-27afd12d8974"
      },
      "outputs": [
        {
          "name": "stdout",
          "output_type": "stream",
          "text": [
            "[[ 1.  1.]\n",
            " [ 2.  1.]\n",
            " [ 3.  1.]\n",
            " [ 4.  1.]\n",
            " [ 5.  1.]\n",
            " [ 6.  1.]\n",
            " [ 7.  1.]\n",
            " [ 8.  1.]\n",
            " [ 9.  1.]\n",
            " [10.  1.]]\n"
          ]
        }
      ],
      "source": [
        "# Create matrix A for linear regression\n",
        "A = np.vstack([x, np.ones(len(x))]).T\n",
        "print(A)"
      ]
    },
    {
      "cell_type": "code",
      "execution_count": 230,
      "metadata": {
        "colab": {
          "base_uri": "https://localhost:8080/"
        },
        "id": "5_Vw9de_fC63",
        "outputId": "a9cca63f-1616-4dd6-c290-4272c111b7d7"
      },
      "outputs": [
        {
          "name": "stdout",
          "output_type": "stream",
          "text": [
            "Coefficient (slope): 1.9939914991985874\n",
            "Intercept: -1.366784695333984\n"
          ]
        }
      ],
      "source": [
        "# Perform least squares regression\n",
        "m, c = np.linalg.lstsq(A, y, rcond=None)[0]\n",
        "print(\"Coefficient (slope):\", m)\n",
        "print(\"Intercept:\", c)"
      ]
    },
    {
      "cell_type": "code",
      "execution_count": 231,
      "metadata": {
        "colab": {
          "base_uri": "https://localhost:8080/",
          "height": 472
        },
        "id": "Cu8pv0o8bkOX",
        "outputId": "b8e8fa50-e546-4857-a1d1-a768913901ae"
      },
      "outputs": [
        {
          "data": {
            "image/png": "[encoded data removed]",
            "text/plain": [
              "<Figure size 640x480 with 1 Axes>"
            ]
          },
          "metadata": {},
          "output_type": "display_data"
        }
      ],
      "source": [
        "# Plot the original data and fitted line\n",
        "plt.plot(x, y, 'o', label='Original data', markersize=10)\n",
        "plt.plot(x, m*x + c, 'r', label='Fitted line')\n",
        "plt.legend()\n",
        "plt.xlabel('x')\n",
        "plt.ylabel('y')\n",
        "plt.title('Linear Regression using Least Squares')\n",
        "plt.grid(True)\n",
        "plt.show()"
      ]
    },
    {
      "cell_type": "code",
      "execution_count": null,
      "metadata": {
        "id": "ogA70Ie5es-s"
      },
      "outputs": [],
      "source": []
    }
  ],
  "metadata": {
    "accelerator": "GPU",
    "colab": {
      "gpuType": "T4",
      "provenance": []
    },
    "kaggle": {
      "accelerator": "none",
      "dataSources": [],
      "dockerImageVersionId": 30732,
      "isGpuEnabled": false,
      "isInternetEnabled": true,
      "language": "python",
      "sourceType": "notebook"
    },
    "kernelspec": {
      "display_name": "Python 3",
      "name": "python3"
    },
    "language_info": {
      "codemirror_mode": {
        "name": "ipython",
        "version": 3
      },
      "file_extension": ".py",
      "mimetype": "text/x-python",
      "name": "python",
      "nbconvert_exporter": "python",
      "pygments_lexer": "ipython3",
      "version": "3.10.13"
    }
  },
  "nbformat": 4,
  "nbformat_minor": 0
}
