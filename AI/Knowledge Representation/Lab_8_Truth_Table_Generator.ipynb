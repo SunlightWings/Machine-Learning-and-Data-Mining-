{
  "nbformat": 4,
  "nbformat_minor": 0,
  "metadata": {
    "colab": {
      "provenance": []
    },
    "kernelspec": {
      "name": "python3",
      "display_name": "Python 3"
    },
    "language_info": {
      "name": "python"
    }
  },
  "cells": [
    {
      "cell_type": "markdown",
      "source": [
        "We want to:\n",
        "- Ask the user for a logical expression (e.g., A and B or not A or B)\n",
        "\n",
        "- Figure out what the variables are (A, B, etc.)\n",
        "\n",
        "- Generate all combinations of True/False for those variables\n",
        "\n",
        "- Evaluate the expression for each combination\n",
        "\n",
        "- Print the truth table\n",
        "\n",
        "\\"
      ],
      "metadata": {
        "id": "vlObQztAZhdk"
      }
    },
    {
      "cell_type": "markdown",
      "source": [
        "## Pipeline:\n",
        "* We need to generate all combinations of T (1) and F (0) for our variables A and B. So, we use \"itertools.product\""
      ],
      "metadata": {
        "id": "PS5SDq2gfFXK"
      }
    },
    {
      "cell_type": "code",
      "source": [
        "from itertools import product"
      ],
      "metadata": {
        "id": "TV2u-ZVcda7b"
      },
      "execution_count": 7,
      "outputs": []
    },
    {
      "cell_type": "markdown",
      "source": [
        "## Step 1: Extract variable names:\n",
        "\n",
        "  - Split the expression into words\n",
        "  - Replace special symbols with spaces (to separate tokens)\n",
        "  - Keep and return a sorted list of variables"
      ],
      "metadata": {
        "id": "6J5JXH9Jfh7R"
      }
    },
    {
      "cell_type": "code",
      "source": [
        "def extract_variables(expr):\n",
        "    keywords = {\"and\", \"or\", \"not\", \"True\", \"False\"}\n",
        "    symbols_to_space = [\"(\", \")\", \"⇒\", \"→\", \"↔\", \"<=>\"]\n",
        "    for sym in symbols_to_space:\n",
        "        expr = expr.replace(sym, \" \")\n",
        "    tokens = expr.split()\n",
        "    variables = []\n",
        "    for token in tokens:\n",
        "        if token.isalpha() and token not in keywords and token not in variables:\n",
        "            variables.append(token)\n",
        "    return sorted(variables)"
      ],
      "metadata": {
        "id": "i9UvREdcddMQ"
      },
      "execution_count": 8,
      "outputs": []
    },
    {
      "cell_type": "markdown",
      "source": [
        "## Step 2: Convert symbols like \"→\", \"<=>\" into Python logic:\n",
        "  - Replace symbols like ¬, ∧, ∨, →, and ↔ to placeholders like  not, and, =>, <=>\n",
        "  - Replace => with **`not A or B`**, and <=> with **`(A and B) or (not A and not B)`**\n",
        "    - Scan for \"=>\" and rewrite it as: \"not A or B\"\n",
        "    - Scan for \"<=>\" and rewrite it as: \"(A and B) or (not A and not B)\"\n"
      ],
      "metadata": {
        "id": "tjXeJBUEgLZ1"
      }
    },
    {
      "cell_type": "code",
      "source": [
        "def preprocess(expr):\n",
        "    expr = expr.replace(\"¬\", \"not \")\n",
        "    expr = expr.replace(\"∧\", \"and\")\n",
        "    expr = expr.replace(\"∨\", \"or\")\n",
        "    expr = expr.replace(\"→\", \"=>\").replace(\"⇒\", \"=>\")\n",
        "    expr = expr.replace(\"↔\", \"<=>\")\n",
        "\n",
        "    # Handle implication A => B → (not A or B)\n",
        "    expr = expr.replace(\"<=>\", \" <=> \")  # spacing to split easily\n",
        "    expr = expr.replace(\"=>\", \" => \")\n",
        "\n",
        "    tokens = expr.split()\n",
        "    while \"=>\" in tokens:\n",
        "        idx = tokens.index(\"=>\")\n",
        "        left = tokens[idx - 1]\n",
        "        right = tokens[idx + 1]\n",
        "        tokens[idx - 1:idx + 2] = [f\"(not {left} or {right})\"]\n",
        "    while \"<=>\" in tokens:\n",
        "        idx = tokens.index(\"<=>\")\n",
        "        left = tokens[idx - 1]\n",
        "        right = tokens[idx + 1]\n",
        "        tokens[idx - 1:idx + 2] = [f\"(({left} and {right}) or (not {left} and not {right}))\"]\n",
        "    return \" \".join(tokens)"
      ],
      "metadata": {
        "id": "msoxdG0qdhpF"
      },
      "execution_count": 9,
      "outputs": []
    },
    {
      "cell_type": "markdown",
      "source": [
        "## Step 3: Replace variables with values and evaluate the expression:\n",
        "  - Take an expression like \"not A or B\"\n",
        "  - Replace A and B with their values (T or F)\n",
        "  - Use eval() to calculate the result\n",
        "\n",
        "  Example:\n",
        "  - For \"not A or B\", if A = False, B = True, expression becomes \"not False or True\". So, eval() will produce the result = True"
      ],
      "metadata": {
        "id": "H2QOLwVShjd_"
      }
    },
    {
      "cell_type": "code",
      "source": [
        "def evaluate(expr, values):\n",
        "    for var in values:\n",
        "        expr = expr.replace(var, str(values[var]))\n",
        "    try:\n",
        "        return eval(expr)\n",
        "    except:\n",
        "        return \"Error\""
      ],
      "metadata": {
        "id": "4BBU5pCBdjia"
      },
      "execution_count": 10,
      "outputs": []
    },
    {
      "cell_type": "markdown",
      "source": [
        "## Step 4: Put everything together to print the truth table:\n",
        "  - Use the above functions to convert inputs into Python-evaluable format, and to find all variable names\n",
        "  - Generate all combinations of True(1)/False(0) for those variables\n",
        "  - Evaluate expression for each case\n",
        "  - Print a formatted truth table (for visual output)"
      ],
      "metadata": {
        "id": "XZOM0SSOigBB"
      }
    },
    {
      "cell_type": "code",
      "source": [
        "def generate_truth_table(expr):\n",
        "    original_expr = expr\n",
        "    expr = preprocess(expr)\n",
        "    variables = extract_variables(original_expr)\n",
        "\n",
        "    print(\"Variables found:\", variables)\n",
        "    print(\"\\nTruth Table:\")\n",
        "    print(\" | \".join(variables) + \" | Result\")\n",
        "    print(\"-\" * (6 * len(variables) + 10))\n",
        "\n",
        "    for combo in product([False, True], repeat=len(variables)):\n",
        "        values = dict(zip(variables, combo))\n",
        "        result = evaluate(expr, values)\n",
        "        row = \" | \".join(str(values[v]) for v in variables)\n",
        "        print(f\"{row} | {result}\")"
      ],
      "metadata": {
        "id": "JjDZHnR_cjyT"
      },
      "execution_count": 11,
      "outputs": []
    },
    {
      "cell_type": "markdown",
      "source": [
        "## Step 5: Ask the user to input a logical expression:\n",
        "  - Give instructions to take input\n",
        "  - Call the above function to generate the table"
      ],
      "metadata": {
        "id": "UL4bmYfYjOAr"
      }
    },
    {
      "cell_type": "code",
      "source": [
        "print(\"Enter a logical expression using: and, or, not, parentheses\")\n",
        "print(\"Example: (A and B) or not C\\n\")\n",
        "\n",
        "user_expr = input(\"Your expression: \")\n",
        "\n",
        "generate_truth_table(user_expr)\n"
      ],
      "metadata": {
        "colab": {
          "base_uri": "https://localhost:8080/"
        },
        "id": "ooLi637bclS3",
        "outputId": "e4f3ce05-bfec-4a2a-df06-9747d4efb2b5"
      },
      "execution_count": 14,
      "outputs": [
        {
          "output_type": "stream",
          "name": "stdout",
          "text": [
            "Enter a logical expression using: and, or, not, parentheses\n",
            "Example: (A and B) or not C\n",
            "\n",
            "Your expression: A and B\n",
            "Variables found: ['A', 'B']\n",
            "\n",
            "Truth Table:\n",
            "A | B | Result\n",
            "----------------------\n",
            "False | False | False\n",
            "False | True | False\n",
            "True | False | False\n",
            "True | True | True\n"
          ]
        }
      ]
    },
    {
      "cell_type": "code",
      "source": [],
      "metadata": {
        "id": "Urpbwsz7kbvr"
      },
      "execution_count": null,
      "outputs": []
    }
  ]
}