{
  "nbformat": 4,
  "nbformat_minor": 0,
  "metadata": {
    "colab": {
      "provenance": [],
      "gpuType": "T4"
    },
    "kernelspec": {
      "name": "python3",
      "display_name": "Python 3"
    },
    "language_info": {
      "name": "python"
    },
    "accelerator": "GPU"
  },
  "cells": [
    {
      "cell_type": "markdown",
      "source": [
        "Author: Prabin"
      ],
      "metadata": {
        "id": "x6W4l-L-myc8"
      }
    },
    {
      "cell_type": "markdown",
      "source": [
        "## AI: Definition and Significance:\n",
        "You might have dismissed the term \"AI\" as just another buzzword, since everyone (over)uses it these days, much like the word \"quantum\" in Hollywood movies. However, AI is not just a fleeting trend—it's a revolutionary force that's capable to transform society on a scale like the industrial revolution did. Before diving into Artificial Intelligence, it is necessary to talk about intelligence.\n",
        "\n",
        "Intelligence is a multifaceted concept that generally refers to the ability to acquire knowledge and skills through various senses and apply them in a different setting. It is like being able to guess the best course of action based on prior knowledge. Intelligence encompasses various cognitive processes such as reasoning, problem-solving, understanding complex ideas, learning from experience, and adapting to new situations. Intelligence can be broadly categorized into different types, including:\n",
        "\n",
        "  * Analytical Intelligence: The ability to analyze, evaluate, and solve problems.\n",
        "  * Creative Intelligence: The capacity to generate new ideas, think outside the box, and innovate.\n",
        "  * Practical Intelligence: The skill to deal effectively with everyday tasks and challenges.\n",
        "\n",
        "In humans, intelligence is thought to be a product of the brain’s neural networks and is influenced by both genetic and environmental factors. Perhaps, we were required to be intelligent in order to survive in the nature over the course of evolution. The question of whether someone gave us intelligence or we acquired it over-time is a philosophical inquiry that has been attempted to explain by many, but succedded by a very few. I like Stanley Kubrick's answer the best, which he showed in his Masterpiece '2001:A space Odyssey'. The film's depiction of intelligence and its implications for humanity offered a profound perspective on me. AI is not just about building smarter chatbots or autonomous robots. It's about tackling the very essence of intelligence and understanding the implications it holds for our future. I think everyone should be familiar with the philosophical weight carried by AI and seek to answer them. By doing so, we can ensure that our pursuit of artificial intelligence is not just about coding and algorithms, but also about exploring the profound mysteries of our own existence.\n",
        "\n",
        "SImply put, Artificial Intelligence (AI) is the ability of an artificial entity to mimic human-like intelligence. It is the science and engineering of creating machines and computer systems capable of performing tasks that typically require human intelligence. These tasks include problem-solving, learning, understanding natural language, and recognizing patterns. The core objective of AI is to develop machines that can attain human-level intelligence, a goal that remains a significant challenge but holds immense potential.\n",
        "\n",
        "As machines become more intelligent, they can automate complex, repetitive tasks, reducing the need for manual efforts and increasing efficiency. Beyond automation, AI has the potential to solve problems that are currently beyond human capabilities, offering innovative solutions in fields such as healthcare, finance, and environmental conservation.\n"
      ],
      "metadata": {
        "id": "DBsVjkayFUPn"
      }
    },
    {
      "cell_type": "markdown",
      "source": [
        "## History of AI:\n",
        "How Did Artificial Intelligence Come to Be?\n",
        "\n",
        "The concept of artificial intelligence has evolved over decades, influenced by advancements in technology, philosophy, and cognitive science:\n",
        "\n",
        "  * Early Concepts:\n",
        "      * 1950s: The term \"artificial intelligence\" was coined by John McCarthy for the famous Dartmouth Conference in 1956, which is often considered the founding event of AI as a field.\n",
        "      * Turing Test: Alan Turing proposed the Turing Test in 1950 as a measure of machine intelligence, asking whether a machine could mimic human behavior convincingly.\n",
        "\n",
        "  * Early Research and Development:\n",
        "      * 1950s-1960s: Researchers developed the first AI programs, including Logic Theorist (Newell and Simon) and General Problem Solver (GPS).\n",
        "      * Symbolic AI: Early AI work was heavily based on symbolic reasoning, where problems were represented symbolically, and logical rules were applied to manipulate these symbols.\n",
        "\n",
        "  * Winter and Resurgence:\n",
        "      * 1970s-1980s: AI faced significant challenges, such as the limitations of computational power and the complexity of human cognition, leading to the \"AI Winter,\" a period of reduced funding and interest.\n",
        "      * Expert Systems: In the 1980s, expert systems like MYCIN demonstrated the practical applications of AI in specific domains, leading to renewed interest and investment.\n",
        "      * Backpropagation: The backpropagation algorithm is at the heart of neural networks.\n",
        "\n",
        "  * Machine Learning and Deep Learning:\n",
        "      * 1990s-2000s: The field shifted towards statistical learning methods and neural networks. Techniques like support vector machines and decision trees gained prominence.\n",
        "      * Deep Learning Breakthroughs: The resurgence of neural networks, particularly deep learning, in the 2010s, driven by increased computational power and big data, led to breakthroughs in image recognition, natural language processing, and more.\n",
        "\n",
        "  * Current Trends:\n",
        "      * AI in Everyday Life: Today, AI is ubiquitous, powering applications in healthcare, finance, autonomous vehicles, virtual assistants, and many other areas."
      ],
      "metadata": {
        "id": "OxmFN1ThXdLX"
      }
    },
    {
      "cell_type": "markdown",
      "source": [
        "## AI vs ML vs DL\n",
        "<center>\n",
        "\n",
        "<img src=\"https://drive.google.com/uc?export=view&id=1V2EeZS_cFrRfwnTjRxQ0Ph7EAcMRHU2y\" alt=\"This figure contains the difference between AI, ML and DL\" height=\"500\" width=\"500\">\n",
        "\n",
        "Fig: AI Vs ML Vs DL\n",
        "\n",
        "</center>\n",
        "\n",
        "Sometimes people often define AI as making machines learn on their own without programming them explicitly. But I find that to be delusional (caused by own's belief, unlike an illusion which is caused by outside influence). Infact, this is a side effect of using AI and Ml so interchangeably, that one starts to believe in that definition by heart. The \"without being explictly programmed\" part is true for ML. Sometimes AI needs explicit human programming to make logical decisions. Thus, the definition of AI becomes correct when it's emphasized that \"AI is making machines more capable to act like humans\". Broadly speaking, a capable AI has the capacity to perform two things:\n",
        "\n",
        "* Perception:\n",
        "  * Requires pattern recognition, which can be achieved on machines by making them learn from real-world data.\n",
        "  * Ml excels at this by transforming sensory inputs into meaningful patterns.\n",
        "  * Doesn't require explicit programming\n",
        "\n",
        "* Cognition:\n",
        "  * Use the perception outputs to make logical decisions.\n",
        "  * Symbolic AI excels at this, which involves applying logical rules and structures to interpret and reason about these patterns\n",
        "  * Requires human programming.\n",
        "\n",
        "**[More on Symbolic will come later in the topic \"NeuroSymbolic AI\".]**\n",
        "\n",
        "Machine Learning (a subset of AI) takes care of the perception part by extracting meaningful patterns from the data, hence the word. ML models do not inherently learn cognition in the same way they learn perception. Human designers inject aspects of cognition through model architecture, training algorithms, and reinforcement learning environments. These design choices guide the model's behavior and decision-making processes. For instance, a traditional classification algorithm in ML extracts patterns from the training data and requires human intervention to perform classification. Once the human sets the necessary parameters, the machine can learn and perform the classification autonomously, demonstrating intelligent behavior.\n",
        "\n",
        "`Question`: Why ML Came to Be Within AI?\n",
        "\n",
        "`Answer`:Mathematical models, even though precisely accurate, are complex to formulate. For example, The famous equation explaining the Law of Gravitation (by Newton) can be thought of as a mathematical model that can calculate the gravitational force precisely between any 2 bodies. This work was a one of a kind, and required extreme domain knowledge and mathematical precision to formulate. Real-world phenomena can be messy and complex, and the mathematics governing these phenomena are yet to be discovered, if we are anyone near that. Plus, add the fact that these are dynamic systems influenced by free-will and randomness. The solution is to learn from the data and try to make the sense of the mathematics (working our way backwards), by sacrificing 100% precision. Data-driven models are often simpler and better at generalizing than traditional mathematical models. Data-driven approaches can adapt and learn from this data more flexibly, making them more effective in practical applications.\n",
        "\n",
        "\n",
        "Deep Learning is a subset of ML that uses neural networks with many layers (hence \"deep\") to learn from large amounts of data, particularly effective for tasks like image and speech recognition.\n",
        "\n",
        "`Question`: Why DL Came to Be Within ML?\n",
        "\n",
        "`Answer`: Traditional ML algorithms, such as linear regression, were limited in their ability to handle complex data representations and required extensive feature engineering. DL addresses these limitations by:\n",
        "\n",
        "  * Using More Layers: Deep neural networks (DNNs) consist of multiple layers of neurons, each layer extracting increasingly abstract features from the data. This hierarchical learning allows DNNs to handle complex patterns and representations.\n",
        "  * Reducing Mathematical Complexity: A single neuron in a shallow network struggles with complex data representations due to limited capacity. By using multiple layers, each neuron focuses on simpler sub-problems, and the network as a whole learns to represent complex functions more efficiently.\n",
        "\n",
        "Consider image recognition:\n",
        "\n",
        "  1. Early Layers: Detect simple features like edges and textures.\n",
        "  2. Middle Layers: Recognize more complex patterns like shapes and objects.\n",
        "  3. Later Layers: Identify high-level features and make final predictions.\n",
        "\n",
        "This hierarchical approach reduces the need for manual feature engineering and allows the model to automatically learn relevant features from raw data, improving performance and scalability."
      ],
      "metadata": {
        "id": "URpB25tkW9K3"
      }
    },
    {
      "cell_type": "markdown",
      "source": [
        "## Types of AI:\n",
        "\n",
        "### 1.Based on Capabilites:\n",
        "\n",
        "* Weak AI (Narrow AI): Specialized in performing specific tasks. Examples include virtual assistants and recommendation systems.\n",
        "* Strong AI (General AI): Hypothetical AI with general intelligence, capable of performing any intellectual task that a human can.\n",
        "* Superintelligence: An AI that surpasses human intelligence across all fields. It remains theoretical and is a topic of ethical and philosophical discussions.\n",
        "\n",
        "### 2.Based on Functionalities:\n",
        "* Reactive Machines: AI systems that react to specific inputs without memory. They do not learn from past experiences. Example: IBM's Deep Blue chess-playing computer.\n",
        "* Limited Memory: AI systems that can use past experiences to inform future decisions. Many current AI applications fall into this category. Example: Self-driving cars.\n",
        "* Theory of Mind: AI systems that understand emotions and can form social relationships. These are currently in the research phase.\n",
        "* Self-Aware AI: AI with its own consciousness and awareness. This type does not yet exist and is a long-term goal for some researchers.\n",
        "\n",
        "### 3.Based on Learning Paradigm:\n",
        "* Inductive Learning: AI learns general principles from specific examples. Example: Classification algorithms.\n",
        "* Deductive Learning: AI applies general principles to specific cases. Example: Rule-based systems.\n",
        "* Transductive Learning: AI makes predictions on specific test cases using both the training data and the test data. Example: Transductive SVMs.\n",
        "\n",
        "### 4.Based on Underlying methodologies:\n",
        "* Symbolic AI: Uses symbols and rules to represent knowledge and perform reasoning and decision-making. Example: Expert systems, where knowledge is encoded in rules and logical statements to make informed decisions.\n",
        "* Neural Networks: Models inspired by the human brain's neural structure, capable of learning from data to recognize patterns and make predictions. Example: Image recognition systems (Convolutional Neural Networks) and natural language processing models (Recurrent Neural Networks) that excel at tasks involving perception and pattern extraction.\n",
        "* Neurosymbolic AI: Integrates symbolic reasoning and neural network techniques to leverage the strengths of both approaches."
      ],
      "metadata": {
        "id": "2t_cOxonOJwx"
      }
    },
    {
      "cell_type": "markdown",
      "source": [
        "## Symbolic AI:\n",
        "Symbolic AI, also known as classical AI or GOFAI (Good Old-Fashioned AI), flourished especially until the 1980s. It relies on the explicit use of human-defined rules and logical structures to represent knowledge and make decisions. Symbolic AI is characterized by its use of symbols to represent concepts and its application of formal logic to manipulate these symbols. Below are the key characteristics of Symbolic AI:\n",
        "\n",
        "1. Symbols: Symbolic AI uses discrete symbols to represent knowledge. These symbols(words, digits, or color) are the representations that stand for objects, concepts, or relationships.\n",
        "\n",
        "2. Logical: Symbolic AI employs logical operations to process information and make decisions. It relies on formal rules and structures, such as propositional logic or predicate calculus, to perform reasoning.\n",
        "\n",
        "3. Serial: Symbolic AI systems operate in a serial manner, processing one step at a time in a linear sequence. This is in contrast to parallel processing found in other AI paradigms.\n",
        "\n",
        "4. Reasoning: The primary focus of symbolic AI is reasoning. It uses pre-defined rules and logical inference to draw conclusions and solve problems.\n",
        "\n",
        "5. Continuation of Von Neumann and Turing Machines: Symbolic AI builds on the principles of classical computing, using the architectures of von Neumann machines and Turing machines for its operations.\n",
        "\n",
        "6. Localized: In symbolic AI, knowledge is stored in a localized manner, with each symbol or rule explicitly defined and accessible independently.\n",
        "\n",
        "7. Rigid and Static: Symbolic AI systems are typically rigid and static, as the rules and symbols are explicitly programmed and do not change unless manually updated.\n",
        "\n",
        "8. Model Abstraction: Symbolic AI focuses on creating abstract models of the world. These models are high-level representations that capture the essential features of a domain.\n",
        "\n",
        "10. Small Data: Symbolic AI can work effectively with small amounts of data because it relies on predefined knowledge and rules rather than large datasets for learning.\n",
        "\n",
        "11. `Literal Output`: The output of symbolic AI systems is usually precise and literal, based on the exact application of logical rules.\n",
        "\n",
        "12. `Human Intervention Required`: Symbolic AI systems require significant human intervention to define the rules, symbols, and logic that drive their operations.\n",
        "\n",
        "13. Human Readable Process, Formal Methods: The processes in symbolic AI are human-readable and can be described using formal methods. This makes it easier to understand and audit the decision-making process.\n",
        "\n",
        "14. Knowledge Transfer Possible: Knowledge in symbolic AI can be transferred from one system to another through the explicit coding of rules and symbols.\n",
        "\n",
        "15. Better for Abstract Problems: Symbolic AI excels in solving abstract problems that require high-level reasoning, such as theorem proving, game playing, and complex decision-making.\n",
        "\n",
        "16. Knowledge Acquisition Bottleneck: A major challenge in symbolic AI is the knowledge acquisition bottleneck. It can be difficult and time-consuming to encode all the necessary knowledge and rules for a given domain."
      ],
      "metadata": {
        "id": "vsqwjGBquDVB"
      }
    },
    {
      "cell_type": "markdown",
      "source": [
        "### Logic in Symbolic AI:\n",
        "\n",
        "Symbolic AI relies heavily on formal logic to represent and manipulate knowledge. The key components include propositions, predicates, inference, reasoning, and various methods of knowledge representation.\n",
        "\n",
        "Propositions vs. Predicates:\n",
        "\n",
        "  1. Propositions:\n",
        "  * Simple, declarative statements that are either true or false.\n",
        "  * Example: \"The sky is blue.\"\n",
        "  2. Predicates:\n",
        "  * Functions that express a property or relationship involving variables.\n",
        "  * They can be true or false depending on the values of their variables.\n",
        "  * Example: \"IsBlue(sky)\" or \"Loves(John, Mary).\"\n",
        "\n",
        "\n",
        "### Inference vs Reasoning:\n",
        "\n",
        "1. Inference:\n",
        "  * The process of deriving new statements from existing ones using logical rules.\n",
        "  * Example: From \"All humans are mortal\" (premise) and \"Socrates is a human\" (premise), we infer \"Socrates is mortal\" (conclusion).\n",
        "\n",
        "2. Reasoning:\n",
        "\n",
        "  * The broader cognitive process that involves drawing conclusions, making decisions, and solving problems.\n",
        "  * It uses inference as a fundamental tool.\n",
        "\n",
        "### Knowledge Representation in Symbolic AI\n",
        "\n",
        "Symbolic AI uses various methods to represent knowledge in a structured way:\n",
        "\n",
        "  1. Semantic Networks:\n",
        "      * Graph structures that represent objects and their relationships.\n",
        "      * Nodes represent concepts, and edges represent relationships.\n",
        "      * Example: A semantic network could represent the relationship \"John is a brother of Mary\" with nodes for \"John\" and \"Mary\" connected by an edge labeled \"brother.\"\n",
        "\n",
        "  2. Frames:\n",
        "      * Data structures for representing stereotyped situations.\n",
        "      * Frames consist of slots and slot values, similar to objects in object-oriented programming.\n",
        "      * Example: A \"birthday party\" frame might include slots for \"location,\" \"date,\" \"guest list,\" etc.\n",
        "\n",
        "  3. Rules:\n",
        "      * Conditional statements that specify actions to be taken when certain conditions are met.\n",
        "      * Example: IF \"temperature > 100\" THEN \"issue heat warning.\"\n",
        "\n",
        "\n",
        "### Why Study these topics to know Symbolic AI?\n",
        "\n",
        "Understanding propositions, predicates, inference, reasoning, and various methods of knowledge representation is crucial for grasping how Symbolic AI functions. These elements provide the foundation for:\n",
        "\n",
        "  * Expressing Knowledge: Through propositions and predicates, symbolic AI can represent complex statements and relationships.\n",
        "  * Manipulating Knowledge: Inference rules allow systems to derive new information from known facts.\n",
        "  * Structured Representation: Semantic networks, frames, and rules offer structured ways to store and retrieve knowledge, making reasoning more efficient and transparent.\n"
      ],
      "metadata": {
        "id": "6Kn_fv36z3_F"
      }
    },
    {
      "cell_type": "markdown",
      "source": [
        "## Sub-Symbolic AI:\n",
        "Sub-symbolic AI refers to approaches within artificial intelligence that do not rely on explicit symbolic representations and logical rules but instead use numerical methods to process data. This includes both `neural networks` and `statistical machine learning`. Sub-symbolic AI aims to learn patterns, associations, and functions from data, making it particularly powerful for perception tasks such as image and speech recognition.\n",
        "\n",
        "\n",
        "Key Concepts and Differences from Symbolic AI\n",
        "\n",
        "1. Correlation and Function Mapping:\n",
        "\n",
        "  * Establishes Correlation: Sub-symbolic AI focuses on finding correlations between input and output variables through training on large datasets.\n",
        "\n",
        "  * Function Mapping: It maps inputs to outputs using learned functions, often represented by neural network architectures.\n",
        "\n",
        "  * Example: A neural network trained for segmentation purpose on image data might map pixel values (input) to object categories (output).\n",
        "\n",
        "2. Inference and Learning:\n",
        "\n",
        "  * Inference: Instead of applying logical rules, sub-symbolic AI makes inferences based on the patterns it has learned from data.\n",
        "\n",
        "  * Learning: The system improves its performance through training, adjusting parameters (like weights in neural networks) to better map inputs to desired outputs.\n",
        "\n",
        "  * Example: A neural network infers that a new image is a dog based on previously learned features from thousands of dog images.\n",
        "\n",
        "3. Processing:\n",
        "\n",
        "  * Parallel Processing: Sub-symbolic AI often involves parallel processing, where multiple computations occur simultaneously.\n",
        "\n",
        "  * Adaptive and Flexible: These systems are flexible and can adapt to new data without requiring manual updates to rules or logic.\n",
        "\n",
        "  * Example: Training a convolutional neural network (CNN) where multiple layers process image data simultaneously to extract features. When a new data is added, human intevention is not needed to alter the logic of the network.\n",
        "\n",
        "4. Data Requirements:\n",
        "\n",
        "  * Big Data: Sub-symbolic AI requires large amounts of high-quality data to effectively learn and generalize patterns.\n",
        "\n",
        "  * Quality Data Hard to Find: Acquiring and labeling the vast amounts of data needed for training can be challenging and resource-intensive.\n",
        "\n",
        "5. Output:\n",
        "\n",
        "    * Noisy Output: The outputs from sub-symbolic AI can sometimes be less precise and more probabilistic compared to the literal outputs from symbolic AI.\n",
        "\n",
        "    * Example: A neural network might output a probability distribution over multiple possible categories for an image.\n",
        "\n",
        "6. Interoperability and Explainability:\n",
        "\n",
        "    * Lack of Interoperability: Sub-symbolic AI models are often seen as \"black boxes\" due to their complex, distributed nature, making it difficult to interpret and understand how decisions are made.\n",
        "\n",
        "    * This has caused lack of faith in AI because how can they aid in decision-making in safety-critical applications such as healthcare, criminal justice, and autonomous driving when they aren't explainable and may include inherent bias (due to biased data or other factors). Bias in AI is a separate topic, that won't be discussed here.\n",
        "\n",
        "7. Human Intervention:\n",
        "  \n",
        "  * Learning from Data: These systems primarily learn from data with `minimal human intervention`, relying on algorithms to adjust and improve the model. Human intervention is mainly required in designing the architecture and tuning hyperparameters.\n",
        "\n",
        "When talking about AI, the emphasis is mainly given on Machine Learning and Deepo Learing. Instead of directly going into these topics which are super vast, let's wrap up the \"Neuro-Symbolic AI\" which is a hybrid (or integrated) combination of Symbolic and Sub-symbolic AI."
      ],
      "metadata": {
        "id": "r2EBFpbx10qK"
      }
    },
    {
      "cell_type": "markdown",
      "source": [
        "## Neuro-Symbolic AI:\n",
        "\n",
        "### Human Intelligence and Neuro-Symbolic AI:\n",
        "\n",
        "The human brain excels because it seamlessly integrates two types of intelligence: perception and cognition. In machines, these are:\n",
        "\n",
        "  1. Perception: Achieved through pattern extraction, which is the domain of sub-symbolic AI (e.g., neural networks).\n",
        "\n",
        "  2. Cognition: Involves using environmental knowledge to reason and guide actions, which is the realm of symbolic AI.\n",
        "\n",
        "Daniel Kahneman describes two systems of thinking that parallel these forms of intelligence:\n",
        "\n",
        "  1. Thinking Fast: Quick, automatic processing that helps make sense of the world and convert sensory inputs into symbols.\n",
        "  2. Thinking Slow: Deliberate, effortful reasoning and planning.\n",
        "\n",
        "According to Gentner's Structural Mapping Theory, the meaning of an analogy derives from the relationships between its parts. This suggests that combining symbolic and sub-symbolic approaches can help machines understand complex concepts by drawing parallels, much like the human brain.\n",
        "\n",
        "\n",
        "### Why Neuro-Symbolic AI?\n",
        "\n",
        "1. Algorithmic Level:\n",
        "    * Abstraction: Helps in solving abstract problems that are difficult to code using neural AI alone.\n",
        "    * Analogy: Enables drawing parallels between different concepts, aligning with Gentner's mapping theory, though replicating this in machines remains challenging.\n",
        "    * Planning: Allows machines to generate responses to entirely new, unseen data by leveraging symbolic reasoning.\n",
        "\n",
        "2. Application Level:\n",
        "    * Explainability: Makes AI decisions understandable to humans by providing clear reasoning.\n",
        "    * Interoperability: Facilitates knowledge transfer and integration across different systems, enhancing collaboration.\n",
        "    * Safety: Ensures AI operates within safe boundaries, crucial for applications in health and other critical fields, by assisting humans in high-level decision-making.\n",
        "\n",
        "### Current State in Explainable AI:\n",
        "\n",
        "1. Saliency Maps:\n",
        "\n",
        "  * These highlight important input areas by showing which parts of the input data are most influential in the decision-making process.\n",
        "\n",
        "  * It does so by computing the gradient of the output with respect to the input\n",
        "\n",
        "2. Feature Attribution:\n",
        "\n",
        "  * Assigns importance scores to individual features.\n",
        "\n",
        "  * For example, in sentiment analysis, identifying that the word \"no\" significantly contributes to a negative sentiment.\n",
        "\n",
        "3. Prototypes:\n",
        "\n",
        "  * Provides relevant examples from the training data.\n",
        "\n",
        "  * For instance, showing a curly \"3\" alongside a correctly identified \"3\" helps illustrate why a particular input was classified in a certain way.\n",
        "\n",
        "Symbolic AI can offer explanations during the decision-making process, which is crucial for addressing concerns about hardware failures and other operational issues. By combining symbolic reasoning with neural network pattern recognition, neuro-symbolic AI systems can achieve a more holistic and explainable form of intelligence."
      ],
      "metadata": {
        "id": "nix9hiUw6ogB"
      }
    },
    {
      "cell_type": "markdown",
      "source": [
        "### Methods of Combining Symbolic and Sub-Symbolic AI:\n",
        "\n",
        "Neurosymbolic AI is formed by Combining symbolic and sub-symbolic AI, which leverages the strengths of both approaches.\n",
        "\n",
        "<center>\n",
        "<img src=\"https://drive.google.com/uc?export=view&id=123Je9UOAbrugj0jPLT9Prz6H_0dKXk4Y\" alt=\" Combination hierarchy\" height=\"400\" width=\"650\">\n",
        "</center>\n",
        "</center>\n",
        "\n",
        "\n",
        "The methods include:\n",
        "\n",
        "1. Structural Knowledge compression for Integration with Neural Network:\n",
        "\n",
        "Compress symbolic AI and then integrate it with neural networks for reasoning.\n",
        "It further consists of 2 ways:\n",
        "\n",
        "* 1.a.  Compressed Knowledge Graph(KG) + Neural Networks:\n",
        "\n",
        "    * Algorithm-level Features:\n",
        "\n",
        "        i. Large-scale Perception (H)\n",
        "        ii. Abstraction (M)\n",
        "        iii. Analogy (M)\n",
        "        iv. Planning (M)\n",
        "\n",
        "    * Application-level Features:\n",
        "\n",
        "        i. User-Explainability (L)\n",
        "        ii. Domain Constraints (M)\n",
        "        iii. Scalability (H)\n",
        "        iv. Continual (H)\n",
        "\n",
        "    * Examples:\n",
        "\n",
        "        i. Knowledge Graph Embedding Based Methods (e.g., K-Adapter):  \n",
        "        K-Adapter integrates knowledge graphs into pre-trained language models to improve performance on tasks requiring external knowledge.\n",
        "\n",
        "        ii. Knowledge Graph Mask Based Methods (e.g., TDLR):\n",
        "        This approach uses masked language models trained with knowledge graph information for better understanding and reasoning.\n",
        "\n",
        "* 1.b. Compressed Formal Logic based representation + Neural Networks:\n",
        "\n",
        "    * Algorithm-level Features:\n",
        "\n",
        "        i. Large-scale Perception (L)\n",
        "        ii. Abstraction (M)\n",
        "        iii. Analogy (M)\n",
        "        iv. Planning (M)\n",
        "\n",
        "    * Application-level Features:\n",
        "\n",
        "        i. User-Explainability (L)\n",
        "        ii. Domain Constraints (L)\n",
        "        iii. Scalability (L)\n",
        "        iv. Continual (L)\n",
        "\n",
        "    * Examples:\n",
        "\n",
        "        i. Propositional Logic (e.g., KB-ANN):\n",
        "        Combines knowledge bases with artificial neural networks to enhance logical reasoning.\n",
        "\n",
        "        ii. First-Order Logic (e.g., Logical Neural Networks):\n",
        "        Integrates first-order logic rules into neural network\n",
        "\n",
        "\n",
        "2. Neural Pattern Lifting for Integration with Symbolic Structures:\n",
        "\n",
        "Feed symbols from neural networks into symbolic structures. It can further be of 2 ways:\n",
        "\n",
        "  2. a. Decoupled Integration of Neural Network with Symbolic Components:\n",
        "\n",
        "    * Algorithm-level Features:\n",
        "\n",
        "        i. Large-scale Perception (H)\n",
        "        ii. Abstraction (M)\n",
        "        iii. Analogy (M)\n",
        "        iv. Planning (M)\n",
        "\n",
        "    * Application-level Features:\n",
        "\n",
        "        i. User-Explainability (M)\n",
        "        ii. Domain Constraints (M)\n",
        "        iii. Scalability (H)\n",
        "        iv. Continual (L)\n",
        "\n",
        "    * Examples:\n",
        "\n",
        "        i. Federated Pipeline Methods (e.g., Langchain Pipelines):\n",
        "         Integrates neural and symbolic components in a pipeline for tasks like language processing.\n",
        "\n",
        "        ii. Serialized Pipeline Methods (e.g., Wolfram + ChatGPT):\n",
        "        Combines symbolic computational tools like Wolfram Alpha with neural network-based models like ChatGPT for enhanced problem-solving.\n",
        "\n",
        "  2. b. Intertwined Integration of Neural Networks with Symbolic Components:\n",
        "\n",
        "    * Algorithm-level Features:\n",
        "\n",
        "        i. Large-scale Perception (L)\n",
        "        ii. Abstraction (H)\n",
        "        iii. Analogy (H)\n",
        "        iv. Planning (H)\n",
        "\n",
        "    * Application-level Features:\n",
        "\n",
        "        i. User-Explainability (H)\n",
        "        ii. Domain Constraints (H)\n",
        "        iii. Scalability (H)\n",
        "        iv. Continual (H)\n",
        "\n",
        "    * Examples:\n",
        "        i. Program Abstraction Induction Methods (e.g., Prob. Programs):\n",
        "         Uses probabilistic programming to integrate neural and symbolic methods for tasks requiring uncertainty handling and reasoning.\n",
        "        ii. End-to-End Differentiable Methods (e.g., PK-iL):\n",
        "        These methods make the entire AI pipeline differentiable, combining perception and reasoning into a single framework for end-to-end learning and decision-making.\n",
        "\n",
        "\n"
      ],
      "metadata": {
        "id": "ZeuX6fGbFiA2"
      }
    },
    {
      "cell_type": "markdown",
      "source": [
        "### Knowledge Graph(KG):\n",
        "\n",
        "<center>\n",
        "<img src=\"https://drive.google.com/uc?export=view&id=1r_5PASXXcEOuhAlGwgoVfJ22SlocbSfo\" alt=\"KG\" height=\"400\" width=\"650\">\n",
        "</center>\n",
        "</center>\n",
        "\n",
        "\n",
        "A knowledge graph represents information as a network of entities (nodes) connected by relationships (edges or links).\n",
        "It is represented by triple (h,r,t). This triplet forms a basic unit of information in the KG.\n",
        "\n",
        "Example of a triplet:\n",
        "  * h (subject): I\n",
        "  * r (relation): eat\n",
        "  * t (object): apple\n",
        "\n",
        "In the above figure, we can see 2 simple Knowledge Graphs. The subject and the object are denoted by the nodes, whereas the relation is denoted by the unidirectional arrow.\n",
        "\n",
        "\n",
        "Steps in Creating Knowledge Graphs:\n",
        "\n",
        "* Structure-Based Schema Creation:\n",
        "\n",
        "  Design the database or graph structure that defines how entities and relationships are organized. Ensure the schema captures the domain-specific knowledge and supports efficient querying and inference.\n",
        "\n",
        "* Cleaning the Knowledge Graph:\n",
        "\n",
        "  a. Missing Edge Filling: Use techniques like Knowledge Graph Embedding (KGE) or hybrid methods to predict and add missing relationships between entities.\n",
        "\n",
        "  b. Entity Resolution: Apply hybrid methods to identify and merge duplicate entities in the graph.\n"
      ],
      "metadata": {
        "id": "5_NRZqlWJ8At"
      }
    },
    {
      "cell_type": "markdown",
      "source": [
        "Material:\n",
        "- [https://arxiv.org/pdf/2305.00813]\n",
        "- [https://ceur-ws.org/Vol-2699/paper06.pdf]"
      ],
      "metadata": {
        "id": "JtBF-tNAZ0du"
      }
    },
    {
      "cell_type": "markdown",
      "source": [
        "## Components of Machine Learning:\n",
        "Now that we have briefly covered the types of AI, lets dive into Machine Learning.\n",
        "\n",
        "Every machine learning problem can be decomposed into four main components:\n",
        "\n",
        "* Data\n",
        "\n",
        "* Model\n",
        "\n",
        "* Learning\n",
        "\n",
        "* Application\n",
        "\n"
      ],
      "metadata": {
        "id": "-is6qit-N1JI"
      }
    },
    {
      "cell_type": "markdown",
      "source": [
        "\n",
        "### 1. Data\n",
        "\n",
        "Data includes facts, records, values, text, images, etc., and is crucial for training machine learning models. Large amounts of data are needed, especially for complex problems like image and speech recognition. Most available data is unstructured and noisy, requiring extensive cleaning and processing to make it suitable for training. The data used must represent the target domain well to ensure the model generalizes effectively.\n",
        "\n",
        "### 2. Model (Representation)\n",
        "\n",
        "Different models are suited for different problems.\n",
        "\n",
        "For example:\n",
        "  * Supervised Learning: Linear regression, Logistic regression, Naive Bayes, Decision trees\n",
        "  * Unsupervised Learning: K-means\n",
        "\n",
        "Choosing a model is like choosing a representation for your data. For instance, a linear regression model represents data with a line Y=β0+β1XY=β0​+β1​X.\n",
        "\n",
        "### 3. Learning\n",
        "\n",
        "Learning involves finding the best hypothesis that fits the data by optimizing model parameters.\n",
        "\n",
        "  * Objective Function: Measures how well a hypothesis fits the data. Examples include Mean Squared Error (MSE) for linear regression and log loss for logistic regression.\n",
        "  * Optimization: Algorithms like Gradient Descent are used to optimize the objective function and find the best parameters.\n",
        "\n",
        "### 4. Application\n",
        "Once trained, the model can be used for:\n",
        "\n",
        "  * Prediction: Predicting continuous values (regression) or discrete values (classification).\n",
        "  * Recommendations: Suggesting movies, songs, products, etc.\n",
        "  * Inference: Extracting insights, knowledge, and patterns from data.\n"
      ],
      "metadata": {
        "id": "cevymwkf5CZX"
      }
    },
    {
      "cell_type": "markdown",
      "source": [
        "### Example\n",
        "Now let's understand the components of machine learning better by breaking down a machine learning problem into its components.\n",
        "\n",
        "Consider a classification problem of classifying whether or not a customer buys a particular product. There are 1000 labeled samples of customers. We select *logistic regression* as our model. Now comes the learning part. We define the objective function to be the *log loss function*. We will use *gradient descent* to optimize this objective function. Then we will use *accuracy* to evaluate the performance of our model on new data. Finally, we will apply this machine learning model to predict if a customer will buy the product or not.\n",
        "\n",
        "The components of this machine learning problem are:\n",
        "\n",
        "* **Data:** 1000 labeled samples of customers\n",
        "\n",
        "* **Model:** Logistic regression\n",
        "\n",
        "* **Learning**\n",
        "\n",
        "  * **Objective:** Log-loss\n",
        "  * **Optimization:** Gradient descent\n",
        "  * **Evaluation:** Accuracy\n",
        "\n",
        "* **Application:** Predicting if a customer will buy the product or not"
      ],
      "metadata": {
        "id": "UaDIFck17i4q"
      }
    },
    {
      "cell_type": "markdown",
      "source": [
        "## Types of Machine Learning:\n",
        "Machine learning can be broadly classified into three categories: Supervised, Unsupervised, and Reinforcement learning.\n",
        "<center>\n",
        "<img src=\"https://drive.google.com/uc?export=view&id=14hUZvUdcvBm27oQdvLXpwVaVnSZBt-GK\" alt=\"types of machine learning\" height=\"500\" width=\"900\">\n",
        "<br>\n",
        "**Fig: Types of Machine Learning**\n",
        "</center>\n",
        "Types Overview:\n",
        "\n",
        "1. Supervised Learning: Learn from labeled data.\n",
        "2. Unsupervised Learning: Find patterns in unlabeled data.\n",
        "3. Reinforcement Learning: Learn through trial and error."
      ],
      "metadata": {
        "id": "z1NSw_mr8H7e"
      }
    },
    {
      "cell_type": "markdown",
      "source": [
        "### Supervised Learning:\n",
        "\n",
        "In supervised learning, you train a machine learning model using labeled data. Each training sample consists of input features and the desired output. The model learns to map the input features to the correct output. The goal is to produce an accurate mapping so that the model can correctly predict the output for new, unseen inputs. This method is called supervised learning because the desired output supervises the model during training.\n",
        "\n",
        "The following figure illustrates how supervised learning works to predict whether a given image is of an apple or not.\n",
        "<center>\n",
        "<img src=\"https://drive.google.com/uc?export=view&id=14hQFsZnYr4-a008DXTA5_HM_ra3MXIPF\" alt=\"supervised learning\" height=\"300\" width=\"650\">\n",
        "\n",
        "Fig: Supervised Learning\n",
        "</center>\n",
        "\n",
        "* Example\n",
        "\n",
        "1. Training Phase:\n",
        "  * Images and their labels (apple or not apple) are passed to the model.\n",
        "  * The model learns the mapping from images to labels.\n",
        "\n",
        "2. Prediction Phase:\n",
        "  * A new image (e.g., an apple) is given to the model.\n",
        "  * The model predicts whether the image is of an apple.\n",
        "\n",
        "\n",
        "#### Mathematical Definition:\n",
        "\n",
        "Consider a training set of $n$ samples of the form $\\{(x_1, y_1), (x_2, y_2), ....., (x_n, y_n) \\}$ where $x_i$ is the feature of $i^{th}$ sample and $y_i$ is it's label\n",
        "\n",
        "Objective:\n",
        "\n",
        "1. Find find the mapping $f: X \\rightarrow Y$, where $X$ is the input features space and $Y$ is the output space.\n",
        "\n",
        "2. Define a scoring function $g: X \\times Y \\rightarrow \\mathbb{R}$  that assigns a score to each possible combination of inputs and outputs.\n",
        "\n",
        "3. Output generation: The mapping function $f$ can be defined as $f(x) = {\\operatorname{arg}}\\underset{y}{\\operatorname{max}}\\ g(x,y)$ that `outputs y that has the maximum score.`"
      ],
      "metadata": {
        "id": "DWIRRRjY9PTc"
      }
    },
    {
      "cell_type": "markdown",
      "source": [
        "### Unsupervised Learning:\n",
        "In unsupervised learning, the model is provided with data containing only input features, without any labeled outputs. The model identifies patterns and structures in the data on its own. This method is called unsupervised learning because there is no supervision from labeled outputs.\n",
        "\n",
        "The following image illustrates how unsupervised learning works to cluster images of different fruits.\n",
        "<center>\n",
        "<img src=\"https://drive.google.com/uc?export=view&id=14tgN6li7LiA28gAOTjY8OkjKYCzMv6Fw\" alt=\"Clustering images of fruits\" height=\"300\" width=\"650\">\n",
        "<br>\n",
        "**Fig: Unsupervised Learning**\n",
        "</center>\n",
        "\n",
        "* Example:\n",
        "\n",
        "  Data Analysis:\n",
        "  The model receives images of different fruits without labels.\n",
        "  It analyzes the images to find patterns and similarities. In the figure, the model has found three clusters corresponding to the three fruits: apple, orange, and avocado present in the data. The model groups similar images together, identifying clusters for apples, oranges, and avocados.\n",
        "\n",
        "\n",
        "#### Mathematical Definition of Clustering:\n",
        "\n",
        "There is no general way to mathematically define unsupervised learning problems as it contains different types of problems, and each of them requires their own definitions. However, here we will mathematically define one of the most popular unsupervised learning problem: Clustering.\n",
        "\n",
        " Given $n$ samples, $x_1, x_2, \\dots , x_n$, you need to find a cluster assignment vector $c$ such that $i^{th}$ element of $\\mathbf{c}$ contains the cluster number that the $i^{th}$ sample belongs to."
      ],
      "metadata": {
        "id": "W-YbOacQA2Le"
      }
    },
    {
      "cell_type": "markdown",
      "source": [
        "### Reinforcement Learning:\n",
        "\n",
        "Reinforcement Learning (RL) is a type of machine learning where an agent learns to make decisions by interacting with its environment to maximize rewards or minimize risks.\n",
        "\n",
        "<center>\n",
        "\n",
        "<img src=\"https://drive.google.com/uc?id=11P0qVLEzucTHBqjE3zg8nmxTqqBLG1De\" alt=\"linearly separable and inseparable data\" height=\"400\" width=\"700\">\n",
        "\n",
        "Fig: Reinforcement Learning\n",
        "</center>\n",
        "\n",
        "How Reinforcement Learning Works:\n",
        "\n",
        "* Agent and Environment: The agent interacts with the environment in discrete time steps.\n",
        "\n",
        "* At Time Step $t$:\n",
        "\n",
        "  * The agent receives the current state $s_t$ and the reward $r_t$​.\n",
        "  \n",
        "    [(reward from action in the previous time step $t−1$)].\n",
        "  * The agent selects an action $a_t$​, changing the state from $s_t$​ to $s_{t+1}$​.\n",
        "  * The agent receives the new state $s_{t+1}$​ and reward $r_{t+1}$​ from this transition.\n",
        "\n",
        "* Policy $\\pi$:\n",
        "\n",
        "  * A policy $\\pi$  maps state-action pairs to probabilities. Here the $\\pi$ is:\n",
        "\n",
        "   $\\pi : A\\times S \\rightarrow [0,1]$\n",
        "  \n",
        "  * The probability of selecting the action $a$ given the state $s$ :\n",
        "  \n",
        "   $\\pi(a, s) = P(a_t = a| s_t = s)$.\n",
        "\n",
        "\n",
        "`Goal`: to find the optimal policy $\\pi_{opt}$ that maximizes the expected cumulative reward.\n",
        "\n",
        "\n"
      ],
      "metadata": {
        "id": "GMJGdP1-BuyZ"
      }
    },
    {
      "cell_type": "markdown",
      "source": [
        "## Types of Machine Learning based on other Perspectives:\n",
        "We classified the ML into 3 types above based on the type of supervision needed by the model from the humans. From some other perspectives, the types are:\n",
        "\n",
        "### 1. Model-Based vs Instance Based\n",
        "\n",
        "#### Model-Based Learning:\n",
        "* The algorithm builds an explicit model of the relationship between input features and the target variable.\n",
        "* Examples: Linear regression, Logistic regression, and Decision Trees.\n",
        "\n",
        "Lets take logistic regression for example, the model learns a decision boundary separating the classes. After that, given any new data point, that model tries to predict a target class using that decision boundary independent of the dataset's original data points.\n",
        "\n",
        "<center>\n",
        "<img src=\"https://doc.google.com/a/fusemachines.com/uc?export=download&id=1iddcGcMALyIpLMNVAgesmbPu64jRhRQL\" width=\"500\" height=\"350\" />\n",
        "<p>Model-based learning</p>\n",
        "</center>\n",
        "\n",
        "  Notice that given any unknown black dot (new instance), it will classify the unknown dot as green or blue. Here the decision boundary (which was learned) compels the model to classify 2 dots as blue and 1 as green.\n",
        "\n",
        "#### Instance Based Learning:\n",
        "* The algorithm memorizes training instances and uses them directly to make predictions without forming a general model.\n",
        "* Examples: KNN\n",
        "\n",
        "Consider the same classification but this time with K-NN model. The K-NN model doesn't learn any pattern or insight from the data. When a new data point appears, it simply compares the new data point with the original data points in the dataset and predicts the class accordingly.\n",
        "\n",
        "<center>\n",
        "<img src=\"https://doc.google.com/a/fusemachines.com/uc?export=download&id=1T2XkdWSZZ0Cq_hPmIh8APxPmcvAvLZhS\" alt=\"instance-based learning\" height=\"350\" width=\"500\"/>\n",
        "\n",
        "<p>Instance-based learning </p>\n",
        "</center>\n",
        "\n",
        "Let's say you store all the data points on a database/memory. Now, given any new unknown point (unknown blue cross), the closest/similar data points to that unknown point are filtered from memory, and the label of the most frequent point (triangle in case of above example) is assigned to that unknown. This method of `using the original data points instead of the pattern` present in the dataset for prediction is called instance-based learning.\n",
        "\n"
      ],
      "metadata": {
        "id": "3ql3OThcHYa_"
      }
    },
    {
      "cell_type": "markdown",
      "source": [
        "### 2. Parametric vs Non-parametric\n",
        "\n",
        "#### Parametric Learning:\n",
        "\n",
        "In parametric learning, a model has a constant and finite number of parameters. Parametric models make stronger assumptions about the data. For example, a simple linear regression model assumes that the data is linear, and a straight line of the form $Y = \\beta_0 + \\beta_1X$ can fit the data. As a consequence of this assumption, no matter how large the dataset gets, there will be only two parameters: $\\beta_0$ and $\\beta_1$\n",
        "\n",
        "Parametric models are computationally faster and perform well if the assumptions hold, but they may perform very poorly if the assumptions are wrong.\n",
        "\n",
        "\\\n",
        "\n",
        "#### Non-parametric Learning:\n",
        "In non-parametric learning, a model has a variable and possibly an infinite number of parameters. Non-parametric models do not make assumptions about the data and contain a flexible number of parameters. For example, in a decision tree, the number of parameters *, i.e.,* the tree size is not fixed and increases exponentially with the size of the dataset.\n",
        "\n",
        "Non-Parametric models are computationally slower but generally perform well as they don't make any strong assumptions about the data."
      ],
      "metadata": {
        "id": "nMwQ1Os8MBEw"
      }
    },
    {
      "cell_type": "markdown",
      "source": [
        "### 3. Probablistic vs Non-Probabilistic:\n",
        "\n",
        "#### Probabilistic:\n",
        "\n",
        "* For a given input, these models output the probability of the sample belonging to each class. The class with the highest probability is typically predicted.\n",
        "\n",
        "* Example: Naive Bayes and Logistic Regression.\n",
        "\n",
        "* Method: In sklearn, use the `predict_proba` method to get class probabilities.\n",
        "\n",
        "\\\n",
        "\n",
        "#### Non-Probabilistic:\n",
        "\n",
        "* The models that directly output the predicted class instead of the probabilities are known as non-probabilistic models.\n",
        "\n",
        "* Example: Decision Trees, Support Vector Machines (SVM), and k-Nearest Neighbors (K-NN).\n",
        "\n"
      ],
      "metadata": {
        "id": "YxuxPeWUOzf5"
      }
    },
    {
      "cell_type": "markdown",
      "source": [
        "## ML Workflow:\n",
        "\n",
        "Lets understand how a Machine Learning project is handled briefly. Lets talk CRISP-DM, a Cross-Industry Standard Process for Data Mining is an open standard process model that describes common approaches used by data mining experts. It is a set of rules or guidelines that help to plan, organize, and execute any data mining, data analysis or machine learning project.\n",
        "\n",
        "\n",
        "\n",
        "<figure>\n",
        "<center>\n",
        "<img src = \"https://drive.google.com/uc?id=16FpOyy55du-70PX7bYMPX4jGzj6kWtrl\" width=\"700\" height=\"560\">\n",
        "\n",
        "Fig: CRISP-DM Infographics\n",
        "</center>\n",
        "</figure>\n",
        "\n",
        "Based on the figure above, let's understand the workflow in 6  steps:\n",
        "\n",
        "1. Business Understanding: Define project objectives and requirements from a business perspective.\n",
        "\n",
        "2. Data Understanding:\n",
        "  * **Data Acquisition**: Plain text files, delimited files, JSON files, Databases (Relational or NOSQL), Web Scraping and APIs, URLs, Streaming data\n",
        "\n",
        "  * **Exploratory Data Analysis (EDA)**: Quick summary, Attribute Information, Descriptive Statistics, Histogram, Bar Plots, Correlation matrix, etc.\n",
        "\n",
        "3. Data Preparation:\n",
        "\n",
        "  * Clean the Data:\n",
        "    * Handle Missing data : Deletion, Imputation/Filling (using mean,median)\n",
        "    * Handle Outliers: Drop Outlier, Transformation, Correct the wrong value\n",
        "\n",
        "  * Encode the Categorical Data:\n",
        "\n",
        "    * Label Encoding: Assigns a value of 1 to N. Good For ordinal data (data has order such as: good,better,best)\n",
        "    * One hot Encoding: Good for nominal data (no order in the data such as:  car, man, house). Maps each category to a vector having 1 or 0(1 for presence and 0 for absence of feature), thereby creating many columns.\n",
        "\n",
        "  * Train-Test Splitting of the Dataset:\n",
        "    * Training set is used by the model to `learn` some patterns, and to test how well the model has learned, we use the Testing set.\n",
        "    * Usually, the dataset is split into a 70:30 ratio or 80:20 ratio.\n",
        "    * import the `train_test_split` class from the `sklearn.model_selection` library\n",
        "\n",
        "4. Modeling:\n",
        "  * Model/Algorithm selection\n",
        "  * Model Training\n",
        "  * Calibrate model hyperparameters to optimal values.\n",
        "\n",
        "5. Evaluation:\n",
        "  * Is the model overfitting or underfitting?\n",
        "  * Performance metric evaluation\n",
        "\n",
        "6. Deployment:\n",
        "  * Deploy the model in a real-world scenario and monitor its performance."
      ],
      "metadata": {
        "id": "EjR6Ho1TQu5p"
      }
    },
    {
      "cell_type": "markdown",
      "source": [
        "## Data Leakage:\n",
        "\n",
        "Data leakage in machine learning refers to the situation where a model receives additional, unintended information during training, which allows it to perform exceptionally well during development but poorly when deployed on new data.\n",
        "\n",
        "Consequences of Data Leakage\n",
        "\n",
        "  * Poor Generalization: The model performs well on training data but fails to generalize to new, unseen data.\n",
        "  * Overfitting: The model learns from the noise or irrelevant data, fitting too closely to the training data.\n",
        "  * Over-estimation of Performance: The model appears to perform well during development but fails in production, leading to unrealistic expectations.\n",
        "  * Suboptimal Model Selection: Leakage may lead to the selection of a model that performs worse than a leakage-free model, as it often introduces indirect and hard-to-detect dependencies.\n",
        "\n",
        "**Example Scenario**:\n",
        "\n",
        "Imagine you are building a model to predict housing prices. If the training data includes information about the future prices of houses (which would not be available at the time of prediction), the model would use this leakage to predict accurately during development. However, when deployed, without access to future prices, the model's performance would degrade significantly.\n",
        "\n",
        "**Visual Representation**:\n",
        "\n",
        "The following images illustrate the difference between a generalized model and a suboptimal model affected by data leakage.\n",
        "<figure>\n",
        "  <img src='https://drive.google.com/uc?id=1R5ueGUqhRXLZc2m4KegD84iLQ3UR4LHq' width=\"800\" height=\"450\"/>\n",
        "  <figcaption>Figure 1: Generalized Model - This model performs well on both training and new data.</figcaption>\n",
        "</figure>\n",
        "<figure>\n",
        "  <img src='https://drive.google.com/uc?id=1gXtgvLwl7CDH6-fSylY57z84DQej_H-i' width=\"800\" height=\"450\"/>\n",
        "  <figcaption>Figure 2: Suboptimal Model - This model performs well during development but poorly in production due to data leakage.</figcaption>\n",
        "</figure>\n",
        "\n",
        "There are 2 sources of Data Leakage:\n",
        "1. Leakage in Features\n",
        "2. Leakage in Training examples"
      ],
      "metadata": {
        "id": "dY-cWV27Jg8h"
      }
    },
    {
      "cell_type": "markdown",
      "source": [
        "### Leakage in Features:\n",
        "\n",
        "Feature leakage (Target leakage) causes predictive models to appear more accurate than they are, making overly optimistic and completely invalid models. The Leakage occurs when the training data contains information you are trying to predict, i.e., high correlated features with target.\n",
        "\n",
        "It's like trying to prepare (train) a student for an exam by giving her `hints`  to the answers. She may perform well during training but she won't be performing well later because there won't be hints during the real exam.\n",
        "\n",
        "Consider 2 students Alica and Bob. Alice asks chatgpt to do the homework for her and gets good evaluation from the teacher. Bob meanwhile does everything on his own and gets an average review from the teacher. Now, provided that they take an exam without further preparation, who do you think will perform better in the exam? Yes, you are right. Bob will perform better because he didn't have 'hints' during his homework session, so he had to learn on his own. Alice relied so much on the hints provided by chatgpt that she was not really learning. Now it should be noted that if chatgpt is still allowed in the exam, Alice might outperform Bob, but thats almost never the case.\n",
        "\n",
        "Similarly, in machine learning, certain features (hints) during training might lead to high accuracy, but the model will fail during real-world deployment (exam) without those features. So the goal is to identify those features (hints) and train the model without those features.\n",
        "\n",
        "\\\n",
        "\n",
        "**Example:**\n",
        "\n",
        "<center> Table 1: Feature leakage </center>\n",
        "\n",
        "|Married| AnnualIncome | Purpose | Late payment remainder| Is Bad loan?|\n",
        "|-| - | - | -| -|\n",
        "|yes|75k | small business |0 | 0|\n",
        "|no|120k| marriage |5 | 1|\n",
        "|yes|88k | home loan |4 | 1|\n",
        "|no|72k | car loan |1 | 0|\n",
        "\n",
        "\n",
        "\n",
        "\n",
        "Suppose Table 1 is your dataset, and you have to predict whether a loan is good or bad. Looking at the dataset, you can easily identify if many `late payment remainder` is sent to customer it is certainly a bad loan. The feature `late payment remainder` is not available at prediction time. Using this feature in the machine learning model will create an optimistic and biased model. `late payment remainder` feature is correlated to the `Is Bad loan` feature creating feature leakage or target leakage.\n",
        "\n",
        "\n",
        "\n",
        "\n"
      ],
      "metadata": {
        "id": "XR1Ozt_AODCy"
      }
    },
    {
      "cell_type": "markdown",
      "source": [
        "### Leakage in Training Data:\n",
        "Data leakage can also occur if the same data points are present in both the training and test sets. This means that the model has seen the test data during training, leading to an overestimation of its performance. The model appears to perform well because it is essentially being tested on data it has already learned from, rather than truly unseen data. This can be avoided by ensuring that the dataset is deduplicated before splitting into training and testing sets.\n",
        "\n",
        "Imagine you are building a machine learning model to classify images of cats and dogs. If some of the images are present in both the training and test sets, the model will memorize those images. When evaluated on the test set, the model will perform exceptionally well on these duplicated images because it has already seen them, but this performance won't reflect the model's ability to generalize to new, unseen images.\n",
        "\n",
        "**Visual Representation**:\n",
        "\n",
        "<image>\n",
        "<center>\n",
        "\n",
        "<img src='https://drive.google.com/uc?id=1b3Gnvh4yyLlnnocTItSZEaw0sisipU4y' width=\"500\" height=\"380\"/>\n",
        "<Figcaption>Figure 4: Leakage due to Duplicate Data</Figcaption>\n",
        "</center>\n",
        "</image>"
      ],
      "metadata": {
        "id": "2zod1LwuWbfL"
      }
    },
    {
      "cell_type": "markdown",
      "source": [
        "### Timeseries data\n",
        "\n",
        "Data leakage in time series data can be particularly tricky because it involves information that changes over time. Time series data contains temporal information, and the sequence of events is crucial for accurate modeling. Randomly splitting time series data into training and test sets can lead to information from the future being used to predict the past, causing the model to overestimate its performance.\n",
        "\n",
        "Suppose you are building a model to predict stock prices. If you randomly split the data into training and test sets, you might end up using stock prices from 2020 to predict stock prices for 2019. This would provide the model with information that it would not have in a real-world scenario, leading to an inflated sense of its predictive capabilities.\n",
        "\n",
        "To avoid data leakage in time series data, it is essential to split the data in a way that respects the temporal order:\n",
        "\n",
        "  * Train-Test Split: Split the data chronologically. Use the earlier data for training and the later data for testing. For example, use data from 2010-2018 for training and 2019-2020 for testing.\n",
        "  * Cross-Validation: Use time series cross-validation techniques, such as rolling or expanding windows, which ensure that the test set always consists of future observations relative to the training set.\n"
      ],
      "metadata": {
        "id": "1JvOfhfPWoXs"
      }
    },
    {
      "cell_type": "markdown",
      "source": [
        "### Prevention of Data Leakage:\n",
        "\n",
        "* Remove Leaky Variables:\n",
        "  * Evaluate the model you have created, and if you suspect a variable is leaky, remove it.\n",
        "    \n",
        "* Use a Holdout(Validation) Dataset:\n",
        "  * Holdback an unseen validation dataset as a final sanity check of your model before you use it. Don't use the validation set to train a model and do not contaminate it.\n",
        "\n",
        "* Use Pipelines:\n",
        "  * Use pipeline architectures that will allow a sequence of data preprocessing steps to be performed within cross-validation. It will somehow avoid leakage."
      ],
      "metadata": {
        "id": "Jm0EjB2mY_F1"
      }
    },
    {
      "cell_type": "markdown",
      "source": [
        "Material: [https://www.kaggle.com/c/the-icml-2013-whale-challenge-right-whale-redux/discussion/4865#25839]"
      ],
      "metadata": {
        "id": "KQzg1fGqaPI4"
      }
    },
    {
      "cell_type": "markdown",
      "source": [
        "## Pipelining with Sklearn:\n",
        "\n",
        "Pipelining in machine learning is the process of assembling a sequence of data processing steps into a single, streamlined workflow. Each step in the pipeline transforms the data in some way and passes the output to the next step. This ensures that the entire data processing workflow is encapsulated, repeatable, and easy to manage. Pipelines are particularly useful for ensuring that all data processing steps are applied consistently and in the correct order.\n",
        "\n",
        "\\\n",
        "#### The following code demo should familiarize you with the steps of ML WorkFlow, as well as the pipelining methods to prevent data leakage."
      ],
      "metadata": {
        "id": "fnTa8ioEaVnA"
      }
    },
    {
      "cell_type": "markdown",
      "source": [
        "### 1. Download the dataset:"
      ],
      "metadata": {
        "id": "1X6dIyWHcsbl"
      }
    },
    {
      "cell_type": "code",
      "source": [
        "import numpy as np\n",
        "from sklearn.datasets import fetch_openml\n",
        "np.random.seed(0)\n",
        "# !pip install --upgrade scikit-learn\n",
        "X, y = fetch_openml(\"titanic\", version=1, as_frame=True, return_X_y=True)"
      ],
      "metadata": {
        "id": "p1wH3oIECy15",
        "colab": {
          "base_uri": "https://localhost:8080/"
        },
        "outputId": "c03f6572-8d7d-46c9-afbc-aa5749903e29"
      },
      "execution_count": 1,
      "outputs": [
        {
          "output_type": "stream",
          "name": "stderr",
          "text": [
            "/usr/local/lib/python3.10/dist-packages/sklearn/datasets/_openml.py:968: FutureWarning: The default value of `parser` will change from `'liac-arff'` to `'auto'` in 1.4. You can set `parser='auto'` to silence this warning. Therefore, an `ImportError` will be raised from 1.4 if the dataset is dense and pandas is not installed. Note that the pandas parser may return different data types. See the Notes Section in fetch_openml's API doc for details.\n",
            "  warn(\n"
          ]
        }
      ]
    },
    {
      "cell_type": "markdown",
      "source": [
        "### 2. Inspect the dataset:"
      ],
      "metadata": {
        "id": "KT7o4YYNdZ8b"
      }
    },
    {
      "cell_type": "code",
      "source": [
        "X.shape"
      ],
      "metadata": {
        "colab": {
          "base_uri": "https://localhost:8080/"
        },
        "id": "J8n4BzHncezc",
        "outputId": "c2f62454-7c1e-480b-e26c-3c5b4fa27e18"
      },
      "execution_count": 2,
      "outputs": [
        {
          "output_type": "execute_result",
          "data": {
            "text/plain": [
              "(1309, 13)"
            ]
          },
          "metadata": {},
          "execution_count": 2
        }
      ]
    },
    {
      "cell_type": "code",
      "source": [
        "X.info()"
      ],
      "metadata": {
        "colab": {
          "base_uri": "https://localhost:8080/"
        },
        "id": "tC9kun8QdkYK",
        "outputId": "189efbad-f617-4766-fa34-7779dfa30a4d"
      },
      "execution_count": 3,
      "outputs": [
        {
          "output_type": "stream",
          "name": "stdout",
          "text": [
            "<class 'pandas.core.frame.DataFrame'>\n",
            "RangeIndex: 1309 entries, 0 to 1308\n",
            "Data columns (total 13 columns):\n",
            " #   Column     Non-Null Count  Dtype   \n",
            "---  ------     --------------  -----   \n",
            " 0   pclass     1309 non-null   float64 \n",
            " 1   name       1309 non-null   object  \n",
            " 2   sex        1309 non-null   category\n",
            " 3   age        1046 non-null   float64 \n",
            " 4   sibsp      1309 non-null   float64 \n",
            " 5   parch      1309 non-null   float64 \n",
            " 6   ticket     1309 non-null   object  \n",
            " 7   fare       1308 non-null   float64 \n",
            " 8   cabin      295 non-null    object  \n",
            " 9   embarked   1307 non-null   category\n",
            " 10  boat       486 non-null    object  \n",
            " 11  body       121 non-null    object  \n",
            " 12  home.dest  745 non-null    object  \n",
            "dtypes: category(2), float64(5), object(6)\n",
            "memory usage: 115.4+ KB\n"
          ]
        }
      ]
    },
    {
      "cell_type": "code",
      "source": [
        "y.value_counts()"
      ],
      "metadata": {
        "colab": {
          "base_uri": "https://localhost:8080/"
        },
        "id": "_WVaprmwdmZL",
        "outputId": "39c7e587-960c-4c66-d46c-d1ae8512f97e"
      },
      "execution_count": 4,
      "outputs": [
        {
          "output_type": "execute_result",
          "data": {
            "text/plain": [
              "survived\n",
              "0    809\n",
              "1    500\n",
              "Name: count, dtype: int64"
            ]
          },
          "metadata": {},
          "execution_count": 4
        }
      ]
    },
    {
      "cell_type": "markdown",
      "source": [
        "Lets check the class imbalance in the dataset"
      ],
      "metadata": {
        "id": "I5YTUzTQey1G"
      }
    },
    {
      "cell_type": "code",
      "source": [
        "import matplotlib.pyplot as plt\n",
        "labels = [\"No\", \"Yes\"]\n",
        "fig, ax = plt.subplots()\n",
        "ax.pie(y.value_counts().values, labels=labels, autopct='%1.1f%%')\n",
        "ax.axis('equal')\n",
        "ax.set_xlabel('Output Labels')\n",
        "plt.show()"
      ],
      "metadata": {
        "colab": {
          "base_uri": "https://localhost:8080/",
          "height": 426
        },
        "id": "Xg3TJUuXePf6",
        "outputId": "b373bc51-beec-413b-ce61-c98f8cc2adcd"
      },
      "execution_count": 5,
      "outputs": [
        {
          "output_type": "display_data",
          "data": {
            "text/plain": [
              "<Figure size 640x480 with 1 Axes>"
            ],
            "image/png": "[encoded data removed]"
          },
          "metadata": {}
        }
      ]
    },
    {
      "cell_type": "markdown",
      "source": [
        "Lets check and visualize the presence of null values"
      ],
      "metadata": {
        "id": "IW3oawgFfTJ2"
      }
    },
    {
      "cell_type": "code",
      "source": [
        "X.isnull().sum()"
      ],
      "metadata": {
        "colab": {
          "base_uri": "https://localhost:8080/"
        },
        "id": "biAHA_RlfHbI",
        "outputId": "2839592a-b88a-4d63-fa6d-bc60b4415833"
      },
      "execution_count": 6,
      "outputs": [
        {
          "output_type": "execute_result",
          "data": {
            "text/plain": [
              "pclass          0\n",
              "name            0\n",
              "sex             0\n",
              "age           263\n",
              "sibsp           0\n",
              "parch           0\n",
              "ticket          0\n",
              "fare            1\n",
              "cabin        1014\n",
              "embarked        2\n",
              "boat          823\n",
              "body         1188\n",
              "home.dest     564\n",
              "dtype: int64"
            ]
          },
          "metadata": {},
          "execution_count": 6
        }
      ]
    },
    {
      "cell_type": "code",
      "source": [
        "# visualize the null values\n",
        "import seaborn as sns\n",
        "plt.figure(figsize=(10,5))\n",
        "sns.heatmap(X.isna())"
      ],
      "metadata": {
        "colab": {
          "base_uri": "https://localhost:8080/",
          "height": 529
        },
        "id": "zSc-IZg_fLT2",
        "outputId": "8e7ea23a-ad20-4fb9-e9a9-7eb23601ba1d"
      },
      "execution_count": 7,
      "outputs": [
        {
          "output_type": "execute_result",
          "data": {
            "text/plain": [
              "<Axes: >"
            ]
          },
          "metadata": {},
          "execution_count": 7
        },
        {
          "output_type": "display_data",
          "data": {
            "text/plain": [
              "<Figure size 1000x500 with 2 Axes>"
            ],
            "image/png": "[encoded data removed]"
          },
          "metadata": {}
        }
      ]
    },
    {
      "cell_type": "markdown",
      "source": [
        "There are null values in both categorical and numerical columns. Lets perform the following preprocessing steps:\n",
        "* Let's fill a numerical column with median value and categorical column using mode value.\n",
        "\n",
        "* After that, apply One hot encoding for categorical variable and StandredScaler() transformation for a numerical variable."
      ],
      "metadata": {
        "id": "zw4LvcxQfpjR"
      }
    },
    {
      "cell_type": "markdown",
      "source": [
        "### 3. Pipelining the Preprocessing Steps:"
      ],
      "metadata": {
        "id": "1osJTu4De-rU"
      }
    },
    {
      "cell_type": "code",
      "source": [
        "pip install numpy==1.25.0"
      ],
      "metadata": {
        "colab": {
          "base_uri": "https://localhost:8080/"
        },
        "id": "HH5n1PbYzCir",
        "outputId": "3a617a0c-c495-4f92-d8c9-d73f408dd302"
      },
      "execution_count": 8,
      "outputs": [
        {
          "output_type": "stream",
          "name": "stdout",
          "text": [
            "Requirement already satisfied: numpy==1.25.0 in /usr/local/lib/python3.10/dist-packages (1.25.0)\n"
          ]
        }
      ]
    },
    {
      "cell_type": "code",
      "source": [
        "pip show scikit-learn"
      ],
      "metadata": {
        "colab": {
          "base_uri": "https://localhost:8080/"
        },
        "id": "wRh3bWm5hsXy",
        "outputId": "5bd6ec3b-b8d3-45c2-d605-ed0373413394"
      },
      "execution_count": 9,
      "outputs": [
        {
          "output_type": "stream",
          "name": "stdout",
          "text": [
            "Name: scikit-learn\n",
            "Version: 1.2.2\n",
            "Summary: A set of python modules for machine learning and data mining\n",
            "Home-page: http://scikit-learn.org\n",
            "Author: \n",
            "Author-email: \n",
            "License: new BSD\n",
            "Location: /usr/local/lib/python3.10/dist-packages\n",
            "Requires: joblib, numpy, scipy, threadpoolctl\n",
            "Required-by: bigframes, fastai, imbalanced-learn, librosa, mlxtend, qudida, sklearn-pandas, yellowbrick\n"
          ]
        }
      ]
    },
    {
      "cell_type": "code",
      "source": [
        "from sklearn.impute import SimpleImputer\n",
        "from sklearn.preprocessing import StandardScaler, OneHotEncoder\n",
        "from sklearn.pipeline import Pipeline"
      ],
      "metadata": {
        "id": "s9T9JDyYeyJj"
      },
      "execution_count": 10,
      "outputs": []
    },
    {
      "cell_type": "markdown",
      "source": [
        "* Simple Imputer : Replace missing values using a descriptive statistic (e.g. mean, median, or most frequent) along each column, or using a constant value.\n",
        "\n",
        "`class sklearn.impute.SimpleImputer(*, missing_values=nan, strategy='mean', fill_value=None, copy=True, add_indicator=False, keep_empty_features=False)`"
      ],
      "metadata": {
        "id": "JPcy9A4X04kJ"
      }
    },
    {
      "cell_type": "code",
      "source": [
        "# prepprocess categorical column\n",
        "categorical_pipe = Pipeline(steps=[\n",
        "    ('imputer', SimpleImputer(strategy='most_frequent', fill_value='missing')),  # simple imputer for missing values\n",
        "    ('onehot', OneHotEncoder(handle_unknown='ignore'))])                         # one hot encoding for categorical features"
      ],
      "metadata": {
        "id": "cQ8SUwJ-f-jp"
      },
      "execution_count": 11,
      "outputs": []
    },
    {
      "cell_type": "code",
      "source": [
        "categorical_pipe"
      ],
      "metadata": {
        "colab": {
          "base_uri": "https://localhost:8080/",
          "height": 126
        },
        "id": "fY3O7w6J2duR",
        "outputId": "e0c5387e-ea3f-497d-88b0-ed4ffce1ac71"
      },
      "execution_count": 12,
      "outputs": [
        {
          "output_type": "execute_result",
          "data": {
            "text/plain": [
              "Pipeline(steps=[('imputer',\n",
              "                 SimpleImputer(fill_value='missing', strategy='most_frequent')),\n",
              "                ('onehot', OneHotEncoder(handle_unknown='ignore'))])"
            ],
            "text/html": [
              "<style>#sk-container-id-1 {color: black;background-color: white;}#sk-container-id-1 pre{padding: 0;}#sk-container-id-1 div.sk-toggleable {background-color: white;}#sk-container-id-1 label.sk-toggleable__label {cursor: pointer;display: block;width: 100%;margin-bottom: 0;padding: 0.3em;box-sizing: border-box;text-align: center;}#sk-container-id-1 label.sk-toggleable__label-arrow:before {content: \"▸\";float: left;margin-right: 0.25em;color: #696969;}#sk-container-id-1 label.sk-toggleable__label-arrow:hover:before {color: black;}#sk-container-id-1 div.sk-estimator:hover label.sk-toggleable__label-arrow:before {color: black;}#sk-container-id-1 div.sk-toggleable__content {max-height: 0;max-width: 0;overflow: hidden;text-align: left;background-color: #f0f8ff;}#sk-container-id-1 div.sk-toggleable__content pre {margin: 0.2em;color: black;border-radius: 0.25em;background-color: #f0f8ff;}#sk-container-id-1 input.sk-toggleable__control:checked~div.sk-toggleable__content {max-height: 200px;max-width: 100%;overflow: auto;}#sk-container-id-1 input.sk-toggleable__control:checked~label.sk-toggleable__label-arrow:before {content: \"▾\";}#sk-container-id-1 div.sk-estimator input.sk-toggleable__control:checked~label.sk-toggleable__label {background-color: #d4ebff;}#sk-container-id-1 div.sk-label input.sk-toggleable__control:checked~label.sk-toggleable__label {background-color: #d4ebff;}#sk-container-id-1 input.sk-hidden--visually {border: 0;clip: rect(1px 1px 1px 1px);clip: rect(1px, 1px, 1px, 1px);height: 1px;margin: -1px;overflow: hidden;padding: 0;position: absolute;width: 1px;}#sk-container-id-1 div.sk-estimator {font-family: monospace;background-color: #f0f8ff;border: 1px dotted black;border-radius: 0.25em;box-sizing: border-box;margin-bottom: 0.5em;}#sk-container-id-1 div.sk-estimator:hover {background-color: #d4ebff;}#sk-container-id-1 div.sk-parallel-item::after {content: \"\";width: 100%;border-bottom: 1px solid gray;flex-grow: 1;}#sk-container-id-1 div.sk-label:hover label.sk-toggleable__label {background-color: #d4ebff;}#sk-container-id-1 div.sk-serial::before {content: \"\";position: absolute;border-left: 1px solid gray;box-sizing: border-box;top: 0;bottom: 0;left: 50%;z-index: 0;}#sk-container-id-1 div.sk-serial {display: flex;flex-direction: column;align-items: center;background-color: white;padding-right: 0.2em;padding-left: 0.2em;position: relative;}#sk-container-id-1 div.sk-item {position: relative;z-index: 1;}#sk-container-id-1 div.sk-parallel {display: flex;align-items: stretch;justify-content: center;background-color: white;position: relative;}#sk-container-id-1 div.sk-item::before, #sk-container-id-1 div.sk-parallel-item::before {content: \"\";position: absolute;border-left: 1px solid gray;box-sizing: border-box;top: 0;bottom: 0;left: 50%;z-index: -1;}#sk-container-id-1 div.sk-parallel-item {display: flex;flex-direction: column;z-index: 1;position: relative;background-color: white;}#sk-container-id-1 div.sk-parallel-item:first-child::after {align-self: flex-end;width: 50%;}#sk-container-id-1 div.sk-parallel-item:last-child::after {align-self: flex-start;width: 50%;}#sk-container-id-1 div.sk-parallel-item:only-child::after {width: 0;}#sk-container-id-1 div.sk-dashed-wrapped {border: 1px dashed gray;margin: 0 0.4em 0.5em 0.4em;box-sizing: border-box;padding-bottom: 0.4em;background-color: white;}#sk-container-id-1 div.sk-label label {font-family: monospace;font-weight: bold;display: inline-block;line-height: 1.2em;}#sk-container-id-1 div.sk-label-container {text-align: center;}#sk-container-id-1 div.sk-container {/* jupyter's `normalize.less` sets `[hidden] { display: none; }` but bootstrap.min.css set `[hidden] { display: none !important; }` so we also need the `!important` here to be able to override the default hidden behavior on the sphinx rendered scikit-learn.org. See: https://github.com/scikit-learn/scikit-learn/issues/21755 */display: inline-block !important;position: relative;}#sk-container-id-1 div.sk-text-repr-fallback {display: none;}</style><div id=\"sk-container-id-1\" class=\"sk-top-container\"><div class=\"sk-text-repr-fallback\"><pre>Pipeline(steps=[(&#x27;imputer&#x27;,\n",
              "                 SimpleImputer(fill_value=&#x27;missing&#x27;, strategy=&#x27;most_frequent&#x27;)),\n",
              "                (&#x27;onehot&#x27;, OneHotEncoder(handle_unknown=&#x27;ignore&#x27;))])</pre><b>In a Jupyter environment, please rerun this cell to show the HTML representation or trust the notebook. <br />On GitHub, the HTML representation is unable to render, please try loading this page with nbviewer.org.</b></div><div class=\"sk-container\" hidden><div class=\"sk-item sk-dashed-wrapped\"><div class=\"sk-label-container\"><div class=\"sk-label sk-toggleable\"><input class=\"sk-toggleable__control sk-hidden--visually\" id=\"sk-estimator-id-1\" type=\"checkbox\" ><label for=\"sk-estimator-id-1\" class=\"sk-toggleable__label sk-toggleable__label-arrow\">Pipeline</label><div class=\"sk-toggleable__content\"><pre>Pipeline(steps=[(&#x27;imputer&#x27;,\n",
              "                 SimpleImputer(fill_value=&#x27;missing&#x27;, strategy=&#x27;most_frequent&#x27;)),\n",
              "                (&#x27;onehot&#x27;, OneHotEncoder(handle_unknown=&#x27;ignore&#x27;))])</pre></div></div></div><div class=\"sk-serial\"><div class=\"sk-item\"><div class=\"sk-estimator sk-toggleable\"><input class=\"sk-toggleable__control sk-hidden--visually\" id=\"sk-estimator-id-2\" type=\"checkbox\" ><label for=\"sk-estimator-id-2\" class=\"sk-toggleable__label sk-toggleable__label-arrow\">SimpleImputer</label><div class=\"sk-toggleable__content\"><pre>SimpleImputer(fill_value=&#x27;missing&#x27;, strategy=&#x27;most_frequent&#x27;)</pre></div></div></div><div class=\"sk-item\"><div class=\"sk-estimator sk-toggleable\"><input class=\"sk-toggleable__control sk-hidden--visually\" id=\"sk-estimator-id-3\" type=\"checkbox\" ><label for=\"sk-estimator-id-3\" class=\"sk-toggleable__label sk-toggleable__label-arrow\">OneHotEncoder</label><div class=\"sk-toggleable__content\"><pre>OneHotEncoder(handle_unknown=&#x27;ignore&#x27;)</pre></div></div></div></div></div></div></div>"
            ]
          },
          "metadata": {},
          "execution_count": 12
        }
      ]
    },
    {
      "cell_type": "code",
      "source": [
        "# prepprocess  numerical column\n",
        "numeric_pipe = Pipeline(steps=[\n",
        "    ('imputer', SimpleImputer(strategy='median')),                  # simple imputer for missing values\n",
        "    ('scaler', StandardScaler())])                                  # standard scaler for numerical columns"
      ],
      "metadata": {
        "id": "mCSswpqB0VFO"
      },
      "execution_count": 13,
      "outputs": []
    },
    {
      "cell_type": "code",
      "source": [
        "numeric_pipe"
      ],
      "metadata": {
        "colab": {
          "base_uri": "https://localhost:8080/",
          "height": 126
        },
        "id": "1eCQASKJ0XSQ",
        "outputId": "8d2b35ea-f342-4d22-d375-bea10e267961"
      },
      "execution_count": 14,
      "outputs": [
        {
          "output_type": "execute_result",
          "data": {
            "text/plain": [
              "Pipeline(steps=[('imputer', SimpleImputer(strategy='median')),\n",
              "                ('scaler', StandardScaler())])"
            ],
            "text/html": [
              "<style>#sk-container-id-2 {color: black;background-color: white;}#sk-container-id-2 pre{padding: 0;}#sk-container-id-2 div.sk-toggleable {background-color: white;}#sk-container-id-2 label.sk-toggleable__label {cursor: pointer;display: block;width: 100%;margin-bottom: 0;padding: 0.3em;box-sizing: border-box;text-align: center;}#sk-container-id-2 label.sk-toggleable__label-arrow:before {content: \"▸\";float: left;margin-right: 0.25em;color: #696969;}#sk-container-id-2 label.sk-toggleable__label-arrow:hover:before {color: black;}#sk-container-id-2 div.sk-estimator:hover label.sk-toggleable__label-arrow:before {color: black;}#sk-container-id-2 div.sk-toggleable__content {max-height: 0;max-width: 0;overflow: hidden;text-align: left;background-color: #f0f8ff;}#sk-container-id-2 div.sk-toggleable__content pre {margin: 0.2em;color: black;border-radius: 0.25em;background-color: #f0f8ff;}#sk-container-id-2 input.sk-toggleable__control:checked~div.sk-toggleable__content {max-height: 200px;max-width: 100%;overflow: auto;}#sk-container-id-2 input.sk-toggleable__control:checked~label.sk-toggleable__label-arrow:before {content: \"▾\";}#sk-container-id-2 div.sk-estimator input.sk-toggleable__control:checked~label.sk-toggleable__label {background-color: #d4ebff;}#sk-container-id-2 div.sk-label input.sk-toggleable__control:checked~label.sk-toggleable__label {background-color: #d4ebff;}#sk-container-id-2 input.sk-hidden--visually {border: 0;clip: rect(1px 1px 1px 1px);clip: rect(1px, 1px, 1px, 1px);height: 1px;margin: -1px;overflow: hidden;padding: 0;position: absolute;width: 1px;}#sk-container-id-2 div.sk-estimator {font-family: monospace;background-color: #f0f8ff;border: 1px dotted black;border-radius: 0.25em;box-sizing: border-box;margin-bottom: 0.5em;}#sk-container-id-2 div.sk-estimator:hover {background-color: #d4ebff;}#sk-container-id-2 div.sk-parallel-item::after {content: \"\";width: 100%;border-bottom: 1px solid gray;flex-grow: 1;}#sk-container-id-2 div.sk-label:hover label.sk-toggleable__label {background-color: #d4ebff;}#sk-container-id-2 div.sk-serial::before {content: \"\";position: absolute;border-left: 1px solid gray;box-sizing: border-box;top: 0;bottom: 0;left: 50%;z-index: 0;}#sk-container-id-2 div.sk-serial {display: flex;flex-direction: column;align-items: center;background-color: white;padding-right: 0.2em;padding-left: 0.2em;position: relative;}#sk-container-id-2 div.sk-item {position: relative;z-index: 1;}#sk-container-id-2 div.sk-parallel {display: flex;align-items: stretch;justify-content: center;background-color: white;position: relative;}#sk-container-id-2 div.sk-item::before, #sk-container-id-2 div.sk-parallel-item::before {content: \"\";position: absolute;border-left: 1px solid gray;box-sizing: border-box;top: 0;bottom: 0;left: 50%;z-index: -1;}#sk-container-id-2 div.sk-parallel-item {display: flex;flex-direction: column;z-index: 1;position: relative;background-color: white;}#sk-container-id-2 div.sk-parallel-item:first-child::after {align-self: flex-end;width: 50%;}#sk-container-id-2 div.sk-parallel-item:last-child::after {align-self: flex-start;width: 50%;}#sk-container-id-2 div.sk-parallel-item:only-child::after {width: 0;}#sk-container-id-2 div.sk-dashed-wrapped {border: 1px dashed gray;margin: 0 0.4em 0.5em 0.4em;box-sizing: border-box;padding-bottom: 0.4em;background-color: white;}#sk-container-id-2 div.sk-label label {font-family: monospace;font-weight: bold;display: inline-block;line-height: 1.2em;}#sk-container-id-2 div.sk-label-container {text-align: center;}#sk-container-id-2 div.sk-container {/* jupyter's `normalize.less` sets `[hidden] { display: none; }` but bootstrap.min.css set `[hidden] { display: none !important; }` so we also need the `!important` here to be able to override the default hidden behavior on the sphinx rendered scikit-learn.org. See: https://github.com/scikit-learn/scikit-learn/issues/21755 */display: inline-block !important;position: relative;}#sk-container-id-2 div.sk-text-repr-fallback {display: none;}</style><div id=\"sk-container-id-2\" class=\"sk-top-container\"><div class=\"sk-text-repr-fallback\"><pre>Pipeline(steps=[(&#x27;imputer&#x27;, SimpleImputer(strategy=&#x27;median&#x27;)),\n",
              "                (&#x27;scaler&#x27;, StandardScaler())])</pre><b>In a Jupyter environment, please rerun this cell to show the HTML representation or trust the notebook. <br />On GitHub, the HTML representation is unable to render, please try loading this page with nbviewer.org.</b></div><div class=\"sk-container\" hidden><div class=\"sk-item sk-dashed-wrapped\"><div class=\"sk-label-container\"><div class=\"sk-label sk-toggleable\"><input class=\"sk-toggleable__control sk-hidden--visually\" id=\"sk-estimator-id-4\" type=\"checkbox\" ><label for=\"sk-estimator-id-4\" class=\"sk-toggleable__label sk-toggleable__label-arrow\">Pipeline</label><div class=\"sk-toggleable__content\"><pre>Pipeline(steps=[(&#x27;imputer&#x27;, SimpleImputer(strategy=&#x27;median&#x27;)),\n",
              "                (&#x27;scaler&#x27;, StandardScaler())])</pre></div></div></div><div class=\"sk-serial\"><div class=\"sk-item\"><div class=\"sk-estimator sk-toggleable\"><input class=\"sk-toggleable__control sk-hidden--visually\" id=\"sk-estimator-id-5\" type=\"checkbox\" ><label for=\"sk-estimator-id-5\" class=\"sk-toggleable__label sk-toggleable__label-arrow\">SimpleImputer</label><div class=\"sk-toggleable__content\"><pre>SimpleImputer(strategy=&#x27;median&#x27;)</pre></div></div></div><div class=\"sk-item\"><div class=\"sk-estimator sk-toggleable\"><input class=\"sk-toggleable__control sk-hidden--visually\" id=\"sk-estimator-id-6\" type=\"checkbox\" ><label for=\"sk-estimator-id-6\" class=\"sk-toggleable__label sk-toggleable__label-arrow\">StandardScaler</label><div class=\"sk-toggleable__content\"><pre>StandardScaler()</pre></div></div></div></div></div></div></div>"
            ]
          },
          "metadata": {},
          "execution_count": 14
        }
      ]
    },
    {
      "cell_type": "markdown",
      "source": [
        "We made two distinct parallel pipelines that impute values as well as does some transformation (one hot encoding or standard scaler) on categorical features and numerical features separately.  Now you need to define those variables and handle missing values separately.\n",
        "\n",
        "Use sklearn `make_column_selector and ColumnTransformer.`\n",
        "\n",
        "* ColumnTransformer:\n",
        "\n",
        "  Applies transformers to columns of an array or pandas DataFrame.\n",
        "  This estimator allows different columns or column subsets of the input to be transformed separately and the features generated by each transformer will be concatenated to form a single feature space. This is useful for heterogeneous or columnar data, to combine several feature extraction mechanisms or transformations into a single transformer.\n",
        "\n",
        "  `class sklearn.compose.ColumnTransformer(transformers, *, remainder='drop', sparse_threshold=0.3, n_jobs=None, transformer_weights=None, verbose=False, verbose_feature_names_out=True, force_int_remainder_cols=True)`\n",
        "\n",
        "* make_column_selector:\n",
        "\n",
        "  Create a callable to select columns to be used with ColumnTransformer.\n",
        "\n",
        "  `class sklearn.compose.make_column_selector(pattern=None, *, dtype_include=None, dtype_exclude=None)[`"
      ],
      "metadata": {
        "id": "sox-DuYH2rdZ"
      }
    },
    {
      "cell_type": "code",
      "source": [
        "pip install scikit-learn==1.2.2"
      ],
      "metadata": {
        "colab": {
          "base_uri": "https://localhost:8080/",
          "height": 324
        },
        "id": "D3DcE2VE3R5k",
        "outputId": "75f92f5d-6e0a-48f6-9cc0-18894dedd970"
      },
      "execution_count": 4,
      "outputs": [
        {
          "output_type": "stream",
          "name": "stdout",
          "text": [
            "Collecting scikit-learn==1.2.2\n",
            "  Using cached scikit_learn-1.2.2-cp310-cp310-manylinux_2_17_x86_64.manylinux2014_x86_64.whl (9.6 MB)\n",
            "Requirement already satisfied: numpy>=1.17.3 in /usr/local/lib/python3.10/dist-packages (from scikit-learn==1.2.2) (1.25.0)\n",
            "Requirement already satisfied: scipy>=1.3.2 in /usr/local/lib/python3.10/dist-packages (from scikit-learn==1.2.2) (1.11.4)\n",
            "Requirement already satisfied: joblib>=1.1.1 in /usr/local/lib/python3.10/dist-packages (from scikit-learn==1.2.2) (1.4.2)\n",
            "Requirement already satisfied: threadpoolctl>=2.0.0 in /usr/local/lib/python3.10/dist-packages (from scikit-learn==1.2.2) (3.5.0)\n",
            "Installing collected packages: scikit-learn\n",
            "  Attempting uninstall: scikit-learn\n",
            "    Found existing installation: scikit-learn 1.5.0\n",
            "    Uninstalling scikit-learn-1.5.0:\n",
            "      Successfully uninstalled scikit-learn-1.5.0\n",
            "Successfully installed scikit-learn-1.2.2\n"
          ]
        },
        {
          "output_type": "display_data",
          "data": {
            "application/vnd.colab-display-data+json": {
              "pip_warning": {
                "packages": [
                  "sklearn"
                ]
              },
              "id": "5c41ab56f9ac48c68f3de01eddb5351d"
            }
          },
          "metadata": {}
        }
      ]
    },
    {
      "cell_type": "markdown",
      "source": [],
      "metadata": {
        "id": "rtrz1JEU5ubv"
      }
    },
    {
      "cell_type": "code",
      "source": [
        "from sklearn.compose import ColumnTransformer\n",
        "from sklearn.compose import make_column_selector\n",
        "from sklearn import set_config"
      ],
      "metadata": {
        "id": "lPOKWS5V2UJQ"
      },
      "execution_count": 15,
      "outputs": []
    },
    {
      "cell_type": "code",
      "source": [
        "set_config(display='diagram')\n",
        "\n",
        "preprocessor = ColumnTransformer(transformers=[\n",
        "    ('num', numeric_pipe, make_column_selector (dtype_exclude=\"category\")),\n",
        "    ('cat', categorical_pipe, make_column_selector (dtype_include=\"category\"))\n",
        "])"
      ],
      "metadata": {
        "id": "jf7uyWnc4XRW"
      },
      "execution_count": 16,
      "outputs": []
    },
    {
      "cell_type": "code",
      "source": [
        "preprocessor"
      ],
      "metadata": {
        "colab": {
          "base_uri": "https://localhost:8080/",
          "height": 153
        },
        "id": "xdVJXI7Q5CMu",
        "outputId": "a829dadf-8298-4302-8214-3e0e563fbe6e"
      },
      "execution_count": 17,
      "outputs": [
        {
          "output_type": "execute_result",
          "data": {
            "text/plain": [
              "ColumnTransformer(transformers=[('num',\n",
              "                                 Pipeline(steps=[('imputer',\n",
              "                                                  SimpleImputer(strategy='median')),\n",
              "                                                 ('scaler', StandardScaler())]),\n",
              "                                 <sklearn.compose._column_transformer.make_column_selector object at 0x7e8598be48e0>),\n",
              "                                ('cat',\n",
              "                                 Pipeline(steps=[('imputer',\n",
              "                                                  SimpleImputer(fill_value='missing',\n",
              "                                                                strategy='most_frequent')),\n",
              "                                                 ('onehot',\n",
              "                                                  OneHotEncoder(handle_unknown='ignore'))]),\n",
              "                                 <sklearn.compose._column_transformer.make_column_selector object at 0x7e8598be6620>)])"
            ],
            "text/html": [
              "<style>#sk-container-id-3 {color: black;background-color: white;}#sk-container-id-3 pre{padding: 0;}#sk-container-id-3 div.sk-toggleable {background-color: white;}#sk-container-id-3 label.sk-toggleable__label {cursor: pointer;display: block;width: 100%;margin-bottom: 0;padding: 0.3em;box-sizing: border-box;text-align: center;}#sk-container-id-3 label.sk-toggleable__label-arrow:before {content: \"▸\";float: left;margin-right: 0.25em;color: #696969;}#sk-container-id-3 label.sk-toggleable__label-arrow:hover:before {color: black;}#sk-container-id-3 div.sk-estimator:hover label.sk-toggleable__label-arrow:before {color: black;}#sk-container-id-3 div.sk-toggleable__content {max-height: 0;max-width: 0;overflow: hidden;text-align: left;background-color: #f0f8ff;}#sk-container-id-3 div.sk-toggleable__content pre {margin: 0.2em;color: black;border-radius: 0.25em;background-color: #f0f8ff;}#sk-container-id-3 input.sk-toggleable__control:checked~div.sk-toggleable__content {max-height: 200px;max-width: 100%;overflow: auto;}#sk-container-id-3 input.sk-toggleable__control:checked~label.sk-toggleable__label-arrow:before {content: \"▾\";}#sk-container-id-3 div.sk-estimator input.sk-toggleable__control:checked~label.sk-toggleable__label {background-color: #d4ebff;}#sk-container-id-3 div.sk-label input.sk-toggleable__control:checked~label.sk-toggleable__label {background-color: #d4ebff;}#sk-container-id-3 input.sk-hidden--visually {border: 0;clip: rect(1px 1px 1px 1px);clip: rect(1px, 1px, 1px, 1px);height: 1px;margin: -1px;overflow: hidden;padding: 0;position: absolute;width: 1px;}#sk-container-id-3 div.sk-estimator {font-family: monospace;background-color: #f0f8ff;border: 1px dotted black;border-radius: 0.25em;box-sizing: border-box;margin-bottom: 0.5em;}#sk-container-id-3 div.sk-estimator:hover {background-color: #d4ebff;}#sk-container-id-3 div.sk-parallel-item::after {content: \"\";width: 100%;border-bottom: 1px solid gray;flex-grow: 1;}#sk-container-id-3 div.sk-label:hover label.sk-toggleable__label {background-color: #d4ebff;}#sk-container-id-3 div.sk-serial::before {content: \"\";position: absolute;border-left: 1px solid gray;box-sizing: border-box;top: 0;bottom: 0;left: 50%;z-index: 0;}#sk-container-id-3 div.sk-serial {display: flex;flex-direction: column;align-items: center;background-color: white;padding-right: 0.2em;padding-left: 0.2em;position: relative;}#sk-container-id-3 div.sk-item {position: relative;z-index: 1;}#sk-container-id-3 div.sk-parallel {display: flex;align-items: stretch;justify-content: center;background-color: white;position: relative;}#sk-container-id-3 div.sk-item::before, #sk-container-id-3 div.sk-parallel-item::before {content: \"\";position: absolute;border-left: 1px solid gray;box-sizing: border-box;top: 0;bottom: 0;left: 50%;z-index: -1;}#sk-container-id-3 div.sk-parallel-item {display: flex;flex-direction: column;z-index: 1;position: relative;background-color: white;}#sk-container-id-3 div.sk-parallel-item:first-child::after {align-self: flex-end;width: 50%;}#sk-container-id-3 div.sk-parallel-item:last-child::after {align-self: flex-start;width: 50%;}#sk-container-id-3 div.sk-parallel-item:only-child::after {width: 0;}#sk-container-id-3 div.sk-dashed-wrapped {border: 1px dashed gray;margin: 0 0.4em 0.5em 0.4em;box-sizing: border-box;padding-bottom: 0.4em;background-color: white;}#sk-container-id-3 div.sk-label label {font-family: monospace;font-weight: bold;display: inline-block;line-height: 1.2em;}#sk-container-id-3 div.sk-label-container {text-align: center;}#sk-container-id-3 div.sk-container {/* jupyter's `normalize.less` sets `[hidden] { display: none; }` but bootstrap.min.css set `[hidden] { display: none !important; }` so we also need the `!important` here to be able to override the default hidden behavior on the sphinx rendered scikit-learn.org. See: https://github.com/scikit-learn/scikit-learn/issues/21755 */display: inline-block !important;position: relative;}#sk-container-id-3 div.sk-text-repr-fallback {display: none;}</style><div id=\"sk-container-id-3\" class=\"sk-top-container\"><div class=\"sk-text-repr-fallback\"><pre>ColumnTransformer(transformers=[(&#x27;num&#x27;,\n",
              "                                 Pipeline(steps=[(&#x27;imputer&#x27;,\n",
              "                                                  SimpleImputer(strategy=&#x27;median&#x27;)),\n",
              "                                                 (&#x27;scaler&#x27;, StandardScaler())]),\n",
              "                                 &lt;sklearn.compose._column_transformer.make_column_selector object at 0x7e8598be48e0&gt;),\n",
              "                                (&#x27;cat&#x27;,\n",
              "                                 Pipeline(steps=[(&#x27;imputer&#x27;,\n",
              "                                                  SimpleImputer(fill_value=&#x27;missing&#x27;,\n",
              "                                                                strategy=&#x27;most_frequent&#x27;)),\n",
              "                                                 (&#x27;onehot&#x27;,\n",
              "                                                  OneHotEncoder(handle_unknown=&#x27;ignore&#x27;))]),\n",
              "                                 &lt;sklearn.compose._column_transformer.make_column_selector object at 0x7e8598be6620&gt;)])</pre><b>In a Jupyter environment, please rerun this cell to show the HTML representation or trust the notebook. <br />On GitHub, the HTML representation is unable to render, please try loading this page with nbviewer.org.</b></div><div class=\"sk-container\" hidden><div class=\"sk-item sk-dashed-wrapped\"><div class=\"sk-label-container\"><div class=\"sk-label sk-toggleable\"><input class=\"sk-toggleable__control sk-hidden--visually\" id=\"sk-estimator-id-7\" type=\"checkbox\" ><label for=\"sk-estimator-id-7\" class=\"sk-toggleable__label sk-toggleable__label-arrow\">ColumnTransformer</label><div class=\"sk-toggleable__content\"><pre>ColumnTransformer(transformers=[(&#x27;num&#x27;,\n",
              "                                 Pipeline(steps=[(&#x27;imputer&#x27;,\n",
              "                                                  SimpleImputer(strategy=&#x27;median&#x27;)),\n",
              "                                                 (&#x27;scaler&#x27;, StandardScaler())]),\n",
              "                                 &lt;sklearn.compose._column_transformer.make_column_selector object at 0x7e8598be48e0&gt;),\n",
              "                                (&#x27;cat&#x27;,\n",
              "                                 Pipeline(steps=[(&#x27;imputer&#x27;,\n",
              "                                                  SimpleImputer(fill_value=&#x27;missing&#x27;,\n",
              "                                                                strategy=&#x27;most_frequent&#x27;)),\n",
              "                                                 (&#x27;onehot&#x27;,\n",
              "                                                  OneHotEncoder(handle_unknown=&#x27;ignore&#x27;))]),\n",
              "                                 &lt;sklearn.compose._column_transformer.make_column_selector object at 0x7e8598be6620&gt;)])</pre></div></div></div><div class=\"sk-parallel\"><div class=\"sk-parallel-item\"><div class=\"sk-item\"><div class=\"sk-label-container\"><div class=\"sk-label sk-toggleable\"><input class=\"sk-toggleable__control sk-hidden--visually\" id=\"sk-estimator-id-8\" type=\"checkbox\" ><label for=\"sk-estimator-id-8\" class=\"sk-toggleable__label sk-toggleable__label-arrow\">num</label><div class=\"sk-toggleable__content\"><pre>&lt;sklearn.compose._column_transformer.make_column_selector object at 0x7e8598be48e0&gt;</pre></div></div></div><div class=\"sk-serial\"><div class=\"sk-item\"><div class=\"sk-serial\"><div class=\"sk-item\"><div class=\"sk-estimator sk-toggleable\"><input class=\"sk-toggleable__control sk-hidden--visually\" id=\"sk-estimator-id-9\" type=\"checkbox\" ><label for=\"sk-estimator-id-9\" class=\"sk-toggleable__label sk-toggleable__label-arrow\">SimpleImputer</label><div class=\"sk-toggleable__content\"><pre>SimpleImputer(strategy=&#x27;median&#x27;)</pre></div></div></div><div class=\"sk-item\"><div class=\"sk-estimator sk-toggleable\"><input class=\"sk-toggleable__control sk-hidden--visually\" id=\"sk-estimator-id-10\" type=\"checkbox\" ><label for=\"sk-estimator-id-10\" class=\"sk-toggleable__label sk-toggleable__label-arrow\">StandardScaler</label><div class=\"sk-toggleable__content\"><pre>StandardScaler()</pre></div></div></div></div></div></div></div></div><div class=\"sk-parallel-item\"><div class=\"sk-item\"><div class=\"sk-label-container\"><div class=\"sk-label sk-toggleable\"><input class=\"sk-toggleable__control sk-hidden--visually\" id=\"sk-estimator-id-11\" type=\"checkbox\" ><label for=\"sk-estimator-id-11\" class=\"sk-toggleable__label sk-toggleable__label-arrow\">cat</label><div class=\"sk-toggleable__content\"><pre>&lt;sklearn.compose._column_transformer.make_column_selector object at 0x7e8598be6620&gt;</pre></div></div></div><div class=\"sk-serial\"><div class=\"sk-item\"><div class=\"sk-serial\"><div class=\"sk-item\"><div class=\"sk-estimator sk-toggleable\"><input class=\"sk-toggleable__control sk-hidden--visually\" id=\"sk-estimator-id-12\" type=\"checkbox\" ><label for=\"sk-estimator-id-12\" class=\"sk-toggleable__label sk-toggleable__label-arrow\">SimpleImputer</label><div class=\"sk-toggleable__content\"><pre>SimpleImputer(fill_value=&#x27;missing&#x27;, strategy=&#x27;most_frequent&#x27;)</pre></div></div></div><div class=\"sk-item\"><div class=\"sk-estimator sk-toggleable\"><input class=\"sk-toggleable__control sk-hidden--visually\" id=\"sk-estimator-id-13\" type=\"checkbox\" ><label for=\"sk-estimator-id-13\" class=\"sk-toggleable__label sk-toggleable__label-arrow\">OneHotEncoder</label><div class=\"sk-toggleable__content\"><pre>OneHotEncoder(handle_unknown=&#x27;ignore&#x27;)</pre></div></div></div></div></div></div></div></div></div></div></div></div>"
            ]
          },
          "metadata": {},
          "execution_count": 17
        }
      ]
    },
    {
      "cell_type": "markdown",
      "source": [
        "#### Concatenating multiple feature extraction methods:\n",
        "\n",
        "In many real-world examples, there are many ways to extract features from a dataset. Often it is beneficial to combine several methods to obtain good performance. This example shows how to use FeatureUnion to combine features obtained by `PCA` and `statistical selection.`"
      ],
      "metadata": {
        "id": "Rw1U9Vva7EgL"
      }
    },
    {
      "cell_type": "code",
      "source": [
        "from sklearn.decomposition import PCA\n",
        "pca = PCA(n_components=2)\n",
        "pca"
      ],
      "metadata": {
        "colab": {
          "base_uri": "https://localhost:8080/",
          "height": 75
        },
        "id": "DxtHhNuw7OpT",
        "outputId": "da742ea2-25ff-47da-a710-8db194c3ec9d"
      },
      "execution_count": 23,
      "outputs": [
        {
          "output_type": "execute_result",
          "data": {
            "text/plain": [
              "PCA(n_components=2)"
            ],
            "text/html": [
              "<style>#sk-container-id-4 {color: black;background-color: white;}#sk-container-id-4 pre{padding: 0;}#sk-container-id-4 div.sk-toggleable {background-color: white;}#sk-container-id-4 label.sk-toggleable__label {cursor: pointer;display: block;width: 100%;margin-bottom: 0;padding: 0.3em;box-sizing: border-box;text-align: center;}#sk-container-id-4 label.sk-toggleable__label-arrow:before {content: \"▸\";float: left;margin-right: 0.25em;color: #696969;}#sk-container-id-4 label.sk-toggleable__label-arrow:hover:before {color: black;}#sk-container-id-4 div.sk-estimator:hover label.sk-toggleable__label-arrow:before {color: black;}#sk-container-id-4 div.sk-toggleable__content {max-height: 0;max-width: 0;overflow: hidden;text-align: left;background-color: #f0f8ff;}#sk-container-id-4 div.sk-toggleable__content pre {margin: 0.2em;color: black;border-radius: 0.25em;background-color: #f0f8ff;}#sk-container-id-4 input.sk-toggleable__control:checked~div.sk-toggleable__content {max-height: 200px;max-width: 100%;overflow: auto;}#sk-container-id-4 input.sk-toggleable__control:checked~label.sk-toggleable__label-arrow:before {content: \"▾\";}#sk-container-id-4 div.sk-estimator input.sk-toggleable__control:checked~label.sk-toggleable__label {background-color: #d4ebff;}#sk-container-id-4 div.sk-label input.sk-toggleable__control:checked~label.sk-toggleable__label {background-color: #d4ebff;}#sk-container-id-4 input.sk-hidden--visually {border: 0;clip: rect(1px 1px 1px 1px);clip: rect(1px, 1px, 1px, 1px);height: 1px;margin: -1px;overflow: hidden;padding: 0;position: absolute;width: 1px;}#sk-container-id-4 div.sk-estimator {font-family: monospace;background-color: #f0f8ff;border: 1px dotted black;border-radius: 0.25em;box-sizing: border-box;margin-bottom: 0.5em;}#sk-container-id-4 div.sk-estimator:hover {background-color: #d4ebff;}#sk-container-id-4 div.sk-parallel-item::after {content: \"\";width: 100%;border-bottom: 1px solid gray;flex-grow: 1;}#sk-container-id-4 div.sk-label:hover label.sk-toggleable__label {background-color: #d4ebff;}#sk-container-id-4 div.sk-serial::before {content: \"\";position: absolute;border-left: 1px solid gray;box-sizing: border-box;top: 0;bottom: 0;left: 50%;z-index: 0;}#sk-container-id-4 div.sk-serial {display: flex;flex-direction: column;align-items: center;background-color: white;padding-right: 0.2em;padding-left: 0.2em;position: relative;}#sk-container-id-4 div.sk-item {position: relative;z-index: 1;}#sk-container-id-4 div.sk-parallel {display: flex;align-items: stretch;justify-content: center;background-color: white;position: relative;}#sk-container-id-4 div.sk-item::before, #sk-container-id-4 div.sk-parallel-item::before {content: \"\";position: absolute;border-left: 1px solid gray;box-sizing: border-box;top: 0;bottom: 0;left: 50%;z-index: -1;}#sk-container-id-4 div.sk-parallel-item {display: flex;flex-direction: column;z-index: 1;position: relative;background-color: white;}#sk-container-id-4 div.sk-parallel-item:first-child::after {align-self: flex-end;width: 50%;}#sk-container-id-4 div.sk-parallel-item:last-child::after {align-self: flex-start;width: 50%;}#sk-container-id-4 div.sk-parallel-item:only-child::after {width: 0;}#sk-container-id-4 div.sk-dashed-wrapped {border: 1px dashed gray;margin: 0 0.4em 0.5em 0.4em;box-sizing: border-box;padding-bottom: 0.4em;background-color: white;}#sk-container-id-4 div.sk-label label {font-family: monospace;font-weight: bold;display: inline-block;line-height: 1.2em;}#sk-container-id-4 div.sk-label-container {text-align: center;}#sk-container-id-4 div.sk-container {/* jupyter's `normalize.less` sets `[hidden] { display: none; }` but bootstrap.min.css set `[hidden] { display: none !important; }` so we also need the `!important` here to be able to override the default hidden behavior on the sphinx rendered scikit-learn.org. See: https://github.com/scikit-learn/scikit-learn/issues/21755 */display: inline-block !important;position: relative;}#sk-container-id-4 div.sk-text-repr-fallback {display: none;}</style><div id=\"sk-container-id-4\" class=\"sk-top-container\"><div class=\"sk-text-repr-fallback\"><pre>PCA(n_components=2)</pre><b>In a Jupyter environment, please rerun this cell to show the HTML representation or trust the notebook. <br />On GitHub, the HTML representation is unable to render, please try loading this page with nbviewer.org.</b></div><div class=\"sk-container\" hidden><div class=\"sk-item\"><div class=\"sk-estimator sk-toggleable\"><input class=\"sk-toggleable__control sk-hidden--visually\" id=\"sk-estimator-id-14\" type=\"checkbox\" checked><label for=\"sk-estimator-id-14\" class=\"sk-toggleable__label sk-toggleable__label-arrow\">PCA</label><div class=\"sk-toggleable__content\"><pre>PCA(n_components=2)</pre></div></div></div></div></div>"
            ]
          },
          "metadata": {},
          "execution_count": 23
        }
      ]
    },
    {
      "cell_type": "code",
      "source": [
        "from sklearn.feature_selection import SelectKBest\n",
        "kbest= SelectKBest(k=3)\n",
        "kbest"
      ],
      "metadata": {
        "colab": {
          "base_uri": "https://localhost:8080/",
          "height": 75
        },
        "id": "dkeOZ1n07XTu",
        "outputId": "a877892e-a9e3-449e-9143-5a531c2199e4"
      },
      "execution_count": 24,
      "outputs": [
        {
          "output_type": "execute_result",
          "data": {
            "text/plain": [
              "SelectKBest(k=3)"
            ],
            "text/html": [
              "<style>#sk-container-id-5 {color: black;background-color: white;}#sk-container-id-5 pre{padding: 0;}#sk-container-id-5 div.sk-toggleable {background-color: white;}#sk-container-id-5 label.sk-toggleable__label {cursor: pointer;display: block;width: 100%;margin-bottom: 0;padding: 0.3em;box-sizing: border-box;text-align: center;}#sk-container-id-5 label.sk-toggleable__label-arrow:before {content: \"▸\";float: left;margin-right: 0.25em;color: #696969;}#sk-container-id-5 label.sk-toggleable__label-arrow:hover:before {color: black;}#sk-container-id-5 div.sk-estimator:hover label.sk-toggleable__label-arrow:before {color: black;}#sk-container-id-5 div.sk-toggleable__content {max-height: 0;max-width: 0;overflow: hidden;text-align: left;background-color: #f0f8ff;}#sk-container-id-5 div.sk-toggleable__content pre {margin: 0.2em;color: black;border-radius: 0.25em;background-color: #f0f8ff;}#sk-container-id-5 input.sk-toggleable__control:checked~div.sk-toggleable__content {max-height: 200px;max-width: 100%;overflow: auto;}#sk-container-id-5 input.sk-toggleable__control:checked~label.sk-toggleable__label-arrow:before {content: \"▾\";}#sk-container-id-5 div.sk-estimator input.sk-toggleable__control:checked~label.sk-toggleable__label {background-color: #d4ebff;}#sk-container-id-5 div.sk-label input.sk-toggleable__control:checked~label.sk-toggleable__label {background-color: #d4ebff;}#sk-container-id-5 input.sk-hidden--visually {border: 0;clip: rect(1px 1px 1px 1px);clip: rect(1px, 1px, 1px, 1px);height: 1px;margin: -1px;overflow: hidden;padding: 0;position: absolute;width: 1px;}#sk-container-id-5 div.sk-estimator {font-family: monospace;background-color: #f0f8ff;border: 1px dotted black;border-radius: 0.25em;box-sizing: border-box;margin-bottom: 0.5em;}#sk-container-id-5 div.sk-estimator:hover {background-color: #d4ebff;}#sk-container-id-5 div.sk-parallel-item::after {content: \"\";width: 100%;border-bottom: 1px solid gray;flex-grow: 1;}#sk-container-id-5 div.sk-label:hover label.sk-toggleable__label {background-color: #d4ebff;}#sk-container-id-5 div.sk-serial::before {content: \"\";position: absolute;border-left: 1px solid gray;box-sizing: border-box;top: 0;bottom: 0;left: 50%;z-index: 0;}#sk-container-id-5 div.sk-serial {display: flex;flex-direction: column;align-items: center;background-color: white;padding-right: 0.2em;padding-left: 0.2em;position: relative;}#sk-container-id-5 div.sk-item {position: relative;z-index: 1;}#sk-container-id-5 div.sk-parallel {display: flex;align-items: stretch;justify-content: center;background-color: white;position: relative;}#sk-container-id-5 div.sk-item::before, #sk-container-id-5 div.sk-parallel-item::before {content: \"\";position: absolute;border-left: 1px solid gray;box-sizing: border-box;top: 0;bottom: 0;left: 50%;z-index: -1;}#sk-container-id-5 div.sk-parallel-item {display: flex;flex-direction: column;z-index: 1;position: relative;background-color: white;}#sk-container-id-5 div.sk-parallel-item:first-child::after {align-self: flex-end;width: 50%;}#sk-container-id-5 div.sk-parallel-item:last-child::after {align-self: flex-start;width: 50%;}#sk-container-id-5 div.sk-parallel-item:only-child::after {width: 0;}#sk-container-id-5 div.sk-dashed-wrapped {border: 1px dashed gray;margin: 0 0.4em 0.5em 0.4em;box-sizing: border-box;padding-bottom: 0.4em;background-color: white;}#sk-container-id-5 div.sk-label label {font-family: monospace;font-weight: bold;display: inline-block;line-height: 1.2em;}#sk-container-id-5 div.sk-label-container {text-align: center;}#sk-container-id-5 div.sk-container {/* jupyter's `normalize.less` sets `[hidden] { display: none; }` but bootstrap.min.css set `[hidden] { display: none !important; }` so we also need the `!important` here to be able to override the default hidden behavior on the sphinx rendered scikit-learn.org. See: https://github.com/scikit-learn/scikit-learn/issues/21755 */display: inline-block !important;position: relative;}#sk-container-id-5 div.sk-text-repr-fallback {display: none;}</style><div id=\"sk-container-id-5\" class=\"sk-top-container\"><div class=\"sk-text-repr-fallback\"><pre>SelectKBest(k=3)</pre><b>In a Jupyter environment, please rerun this cell to show the HTML representation or trust the notebook. <br />On GitHub, the HTML representation is unable to render, please try loading this page with nbviewer.org.</b></div><div class=\"sk-container\" hidden><div class=\"sk-item\"><div class=\"sk-estimator sk-toggleable\"><input class=\"sk-toggleable__control sk-hidden--visually\" id=\"sk-estimator-id-15\" type=\"checkbox\" checked><label for=\"sk-estimator-id-15\" class=\"sk-toggleable__label sk-toggleable__label-arrow\">SelectKBest</label><div class=\"sk-toggleable__content\"><pre>SelectKBest(k=3)</pre></div></div></div></div></div>"
            ]
          },
          "metadata": {},
          "execution_count": 24
        }
      ]
    },
    {
      "cell_type": "code",
      "source": [
        "from sklearn.pipeline import FeatureUnion\n",
        "estimator = FeatureUnion([(\"pca\", pca), (\"select_best\", kbest)])\n",
        "estimator"
      ],
      "metadata": {
        "colab": {
          "base_uri": "https://localhost:8080/",
          "height": 110
        },
        "id": "FQNz9xRm7V2B",
        "outputId": "2dab1dce-f1e9-45d3-e322-c5bfb8c8749c"
      },
      "execution_count": 25,
      "outputs": [
        {
          "output_type": "execute_result",
          "data": {
            "text/plain": [
              "FeatureUnion(transformer_list=[('pca', PCA(n_components=2)),\n",
              "                               ('select_best', SelectKBest(k=3))])"
            ],
            "text/html": [
              "<style>#sk-container-id-6 {color: black;background-color: white;}#sk-container-id-6 pre{padding: 0;}#sk-container-id-6 div.sk-toggleable {background-color: white;}#sk-container-id-6 label.sk-toggleable__label {cursor: pointer;display: block;width: 100%;margin-bottom: 0;padding: 0.3em;box-sizing: border-box;text-align: center;}#sk-container-id-6 label.sk-toggleable__label-arrow:before {content: \"▸\";float: left;margin-right: 0.25em;color: #696969;}#sk-container-id-6 label.sk-toggleable__label-arrow:hover:before {color: black;}#sk-container-id-6 div.sk-estimator:hover label.sk-toggleable__label-arrow:before {color: black;}#sk-container-id-6 div.sk-toggleable__content {max-height: 0;max-width: 0;overflow: hidden;text-align: left;background-color: #f0f8ff;}#sk-container-id-6 div.sk-toggleable__content pre {margin: 0.2em;color: black;border-radius: 0.25em;background-color: #f0f8ff;}#sk-container-id-6 input.sk-toggleable__control:checked~div.sk-toggleable__content {max-height: 200px;max-width: 100%;overflow: auto;}#sk-container-id-6 input.sk-toggleable__control:checked~label.sk-toggleable__label-arrow:before {content: \"▾\";}#sk-container-id-6 div.sk-estimator input.sk-toggleable__control:checked~label.sk-toggleable__label {background-color: #d4ebff;}#sk-container-id-6 div.sk-label input.sk-toggleable__control:checked~label.sk-toggleable__label {background-color: #d4ebff;}#sk-container-id-6 input.sk-hidden--visually {border: 0;clip: rect(1px 1px 1px 1px);clip: rect(1px, 1px, 1px, 1px);height: 1px;margin: -1px;overflow: hidden;padding: 0;position: absolute;width: 1px;}#sk-container-id-6 div.sk-estimator {font-family: monospace;background-color: #f0f8ff;border: 1px dotted black;border-radius: 0.25em;box-sizing: border-box;margin-bottom: 0.5em;}#sk-container-id-6 div.sk-estimator:hover {background-color: #d4ebff;}#sk-container-id-6 div.sk-parallel-item::after {content: \"\";width: 100%;border-bottom: 1px solid gray;flex-grow: 1;}#sk-container-id-6 div.sk-label:hover label.sk-toggleable__label {background-color: #d4ebff;}#sk-container-id-6 div.sk-serial::before {content: \"\";position: absolute;border-left: 1px solid gray;box-sizing: border-box;top: 0;bottom: 0;left: 50%;z-index: 0;}#sk-container-id-6 div.sk-serial {display: flex;flex-direction: column;align-items: center;background-color: white;padding-right: 0.2em;padding-left: 0.2em;position: relative;}#sk-container-id-6 div.sk-item {position: relative;z-index: 1;}#sk-container-id-6 div.sk-parallel {display: flex;align-items: stretch;justify-content: center;background-color: white;position: relative;}#sk-container-id-6 div.sk-item::before, #sk-container-id-6 div.sk-parallel-item::before {content: \"\";position: absolute;border-left: 1px solid gray;box-sizing: border-box;top: 0;bottom: 0;left: 50%;z-index: -1;}#sk-container-id-6 div.sk-parallel-item {display: flex;flex-direction: column;z-index: 1;position: relative;background-color: white;}#sk-container-id-6 div.sk-parallel-item:first-child::after {align-self: flex-end;width: 50%;}#sk-container-id-6 div.sk-parallel-item:last-child::after {align-self: flex-start;width: 50%;}#sk-container-id-6 div.sk-parallel-item:only-child::after {width: 0;}#sk-container-id-6 div.sk-dashed-wrapped {border: 1px dashed gray;margin: 0 0.4em 0.5em 0.4em;box-sizing: border-box;padding-bottom: 0.4em;background-color: white;}#sk-container-id-6 div.sk-label label {font-family: monospace;font-weight: bold;display: inline-block;line-height: 1.2em;}#sk-container-id-6 div.sk-label-container {text-align: center;}#sk-container-id-6 div.sk-container {/* jupyter's `normalize.less` sets `[hidden] { display: none; }` but bootstrap.min.css set `[hidden] { display: none !important; }` so we also need the `!important` here to be able to override the default hidden behavior on the sphinx rendered scikit-learn.org. See: https://github.com/scikit-learn/scikit-learn/issues/21755 */display: inline-block !important;position: relative;}#sk-container-id-6 div.sk-text-repr-fallback {display: none;}</style><div id=\"sk-container-id-6\" class=\"sk-top-container\"><div class=\"sk-text-repr-fallback\"><pre>FeatureUnion(transformer_list=[(&#x27;pca&#x27;, PCA(n_components=2)),\n",
              "                               (&#x27;select_best&#x27;, SelectKBest(k=3))])</pre><b>In a Jupyter environment, please rerun this cell to show the HTML representation or trust the notebook. <br />On GitHub, the HTML representation is unable to render, please try loading this page with nbviewer.org.</b></div><div class=\"sk-container\" hidden><div class=\"sk-item sk-dashed-wrapped\"><div class=\"sk-label-container\"><div class=\"sk-label sk-toggleable\"><input class=\"sk-toggleable__control sk-hidden--visually\" id=\"sk-estimator-id-16\" type=\"checkbox\" ><label for=\"sk-estimator-id-16\" class=\"sk-toggleable__label sk-toggleable__label-arrow\">FeatureUnion</label><div class=\"sk-toggleable__content\"><pre>FeatureUnion(transformer_list=[(&#x27;pca&#x27;, PCA(n_components=2)),\n",
              "                               (&#x27;select_best&#x27;, SelectKBest(k=3))])</pre></div></div></div><div class=\"sk-parallel\"><div class=\"sk-parallel-item\"><div class=\"sk-item\"><div class=\"sk-label-container\"><div class=\"sk-label sk-toggleable\"><label>pca</label></div></div><div class=\"sk-serial\"><div class=\"sk-item\"><div class=\"sk-estimator sk-toggleable\"><input class=\"sk-toggleable__control sk-hidden--visually\" id=\"sk-estimator-id-17\" type=\"checkbox\" ><label for=\"sk-estimator-id-17\" class=\"sk-toggleable__label sk-toggleable__label-arrow\">PCA</label><div class=\"sk-toggleable__content\"><pre>PCA(n_components=2)</pre></div></div></div></div></div></div><div class=\"sk-parallel-item\"><div class=\"sk-item\"><div class=\"sk-label-container\"><div class=\"sk-label sk-toggleable\"><label>select_best</label></div></div><div class=\"sk-serial\"><div class=\"sk-item\"><div class=\"sk-estimator sk-toggleable\"><input class=\"sk-toggleable__control sk-hidden--visually\" id=\"sk-estimator-id-18\" type=\"checkbox\" ><label for=\"sk-estimator-id-18\" class=\"sk-toggleable__label sk-toggleable__label-arrow\">SelectKBest</label><div class=\"sk-toggleable__content\"><pre>SelectKBest(k=3)</pre></div></div></div></div></div></div></div></div></div></div>"
            ]
          },
          "metadata": {},
          "execution_count": 25
        }
      ]
    },
    {
      "cell_type": "markdown",
      "source": [
        "#### So far we have built 2 things:\n",
        "1. preprocessor:\n",
        "  * Imputer: Mode based for categorical, median based for numeric\n",
        "  * Encoding/Transformation: One hot encoding for categorical, standardscaler for numeric.\n",
        "2. estimator:\n",
        "  * PCA for dimensionality reduction\n",
        "  * Statistical Selection for feature selection\n",
        "\n",
        "\n",
        "#### PCA:\n",
        "PCA, is a statistical procedure that allows you to summarize the information content in large data tables by means of a smaller set of “summary indices” that can be more easily visualized and analyzed\n",
        "\n",
        "#### Statistical Selection:\n",
        "`SelectkBest` selects the features according to the k highest scores. It removes all features but the k highest scoring features.\n",
        "There are other univariate feature selection methods such as `SelectPercentile`, which removes all but a user-specified highest scoring percentage of features.\n",
        "\n",
        "There are so many other methods, which is outside the scope of this notebook. But you can check them out in the material [here](https://scikit-learn.org/stable/modules/feature_selection.html#univariate-feature-selection).\n"
      ],
      "metadata": {
        "id": "gFGsaaWo7vCt"
      }
    },
    {
      "cell_type": "markdown",
      "source": [
        "### 4. Model building and training:\n",
        "Lets extend the pipeline  by selecting a model, say logistic regression"
      ],
      "metadata": {
        "id": "_XHtmxB5-x3y"
      }
    },
    {
      "cell_type": "code",
      "source": [
        "from sklearn.linear_model import LogisticRegression"
      ],
      "metadata": {
        "id": "ESiufd3r-oCE"
      },
      "execution_count": 26,
      "outputs": []
    },
    {
      "cell_type": "code",
      "source": [
        "pipeline = Pipeline(steps=\\\n",
        "                    [\n",
        "                        ('preprocessor', preprocessor),\\\n",
        "                        (\"pca_kbest\",estimator),\\\n",
        "                        ('classifier', LogisticRegression())\n",
        "                    ]\n",
        "                    )"
      ],
      "metadata": {
        "id": "ihvTLJxL-rmP"
      },
      "execution_count": 27,
      "outputs": []
    },
    {
      "cell_type": "code",
      "source": [
        "pipeline    # this includes the model definition, which we will train"
      ],
      "metadata": {
        "colab": {
          "base_uri": "https://localhost:8080/",
          "height": 320
        },
        "id": "z7YNulhp-sud",
        "outputId": "8c789f3c-f250-489b-c252-04698f86dbb4"
      },
      "execution_count": 36,
      "outputs": [
        {
          "output_type": "execute_result",
          "data": {
            "text/plain": [
              "Pipeline(steps=[('preprocessor',\n",
              "                 ColumnTransformer(transformers=[('num',\n",
              "                                                  Pipeline(steps=[('imputer',\n",
              "                                                                   SimpleImputer(strategy='median')),\n",
              "                                                                  ('scaler',\n",
              "                                                                   StandardScaler())]),\n",
              "                                                  <sklearn.compose._column_transformer.make_column_selector object at 0x7e8598be48e0>),\n",
              "                                                 ('cat',\n",
              "                                                  Pipeline(steps=[('imputer',\n",
              "                                                                   SimpleImputer(fill_value='missing',\n",
              "                                                                                 strategy='most_frequent')),\n",
              "                                                                  ('onehot',\n",
              "                                                                   OneHotEncoder(handle_unknown='ignore'))]),\n",
              "                                                  <sklearn.compose._column_transformer.make_column_selector object at 0x7e8598be6620>)])),\n",
              "                ('pca_kbest',\n",
              "                 FeatureUnion(transformer_list=[('pca', PCA(n_components=2)),\n",
              "                                                ('select_best',\n",
              "                                                 SelectKBest(k=3))])),\n",
              "                ('classifier', LogisticRegression())])"
            ],
            "text/html": [
              "<style>#sk-container-id-8 {color: black;background-color: white;}#sk-container-id-8 pre{padding: 0;}#sk-container-id-8 div.sk-toggleable {background-color: white;}#sk-container-id-8 label.sk-toggleable__label {cursor: pointer;display: block;width: 100%;margin-bottom: 0;padding: 0.3em;box-sizing: border-box;text-align: center;}#sk-container-id-8 label.sk-toggleable__label-arrow:before {content: \"▸\";float: left;margin-right: 0.25em;color: #696969;}#sk-container-id-8 label.sk-toggleable__label-arrow:hover:before {color: black;}#sk-container-id-8 div.sk-estimator:hover label.sk-toggleable__label-arrow:before {color: black;}#sk-container-id-8 div.sk-toggleable__content {max-height: 0;max-width: 0;overflow: hidden;text-align: left;background-color: #f0f8ff;}#sk-container-id-8 div.sk-toggleable__content pre {margin: 0.2em;color: black;border-radius: 0.25em;background-color: #f0f8ff;}#sk-container-id-8 input.sk-toggleable__control:checked~div.sk-toggleable__content {max-height: 200px;max-width: 100%;overflow: auto;}#sk-container-id-8 input.sk-toggleable__control:checked~label.sk-toggleable__label-arrow:before {content: \"▾\";}#sk-container-id-8 div.sk-estimator input.sk-toggleable__control:checked~label.sk-toggleable__label {background-color: #d4ebff;}#sk-container-id-8 div.sk-label input.sk-toggleable__control:checked~label.sk-toggleable__label {background-color: #d4ebff;}#sk-container-id-8 input.sk-hidden--visually {border: 0;clip: rect(1px 1px 1px 1px);clip: rect(1px, 1px, 1px, 1px);height: 1px;margin: -1px;overflow: hidden;padding: 0;position: absolute;width: 1px;}#sk-container-id-8 div.sk-estimator {font-family: monospace;background-color: #f0f8ff;border: 1px dotted black;border-radius: 0.25em;box-sizing: border-box;margin-bottom: 0.5em;}#sk-container-id-8 div.sk-estimator:hover {background-color: #d4ebff;}#sk-container-id-8 div.sk-parallel-item::after {content: \"\";width: 100%;border-bottom: 1px solid gray;flex-grow: 1;}#sk-container-id-8 div.sk-label:hover label.sk-toggleable__label {background-color: #d4ebff;}#sk-container-id-8 div.sk-serial::before {content: \"\";position: absolute;border-left: 1px solid gray;box-sizing: border-box;top: 0;bottom: 0;left: 50%;z-index: 0;}#sk-container-id-8 div.sk-serial {display: flex;flex-direction: column;align-items: center;background-color: white;padding-right: 0.2em;padding-left: 0.2em;position: relative;}#sk-container-id-8 div.sk-item {position: relative;z-index: 1;}#sk-container-id-8 div.sk-parallel {display: flex;align-items: stretch;justify-content: center;background-color: white;position: relative;}#sk-container-id-8 div.sk-item::before, #sk-container-id-8 div.sk-parallel-item::before {content: \"\";position: absolute;border-left: 1px solid gray;box-sizing: border-box;top: 0;bottom: 0;left: 50%;z-index: -1;}#sk-container-id-8 div.sk-parallel-item {display: flex;flex-direction: column;z-index: 1;position: relative;background-color: white;}#sk-container-id-8 div.sk-parallel-item:first-child::after {align-self: flex-end;width: 50%;}#sk-container-id-8 div.sk-parallel-item:last-child::after {align-self: flex-start;width: 50%;}#sk-container-id-8 div.sk-parallel-item:only-child::after {width: 0;}#sk-container-id-8 div.sk-dashed-wrapped {border: 1px dashed gray;margin: 0 0.4em 0.5em 0.4em;box-sizing: border-box;padding-bottom: 0.4em;background-color: white;}#sk-container-id-8 div.sk-label label {font-family: monospace;font-weight: bold;display: inline-block;line-height: 1.2em;}#sk-container-id-8 div.sk-label-container {text-align: center;}#sk-container-id-8 div.sk-container {/* jupyter's `normalize.less` sets `[hidden] { display: none; }` but bootstrap.min.css set `[hidden] { display: none !important; }` so we also need the `!important` here to be able to override the default hidden behavior on the sphinx rendered scikit-learn.org. See: https://github.com/scikit-learn/scikit-learn/issues/21755 */display: inline-block !important;position: relative;}#sk-container-id-8 div.sk-text-repr-fallback {display: none;}</style><div id=\"sk-container-id-8\" class=\"sk-top-container\"><div class=\"sk-text-repr-fallback\"><pre>Pipeline(steps=[(&#x27;preprocessor&#x27;,\n",
              "                 ColumnTransformer(transformers=[(&#x27;num&#x27;,\n",
              "                                                  Pipeline(steps=[(&#x27;imputer&#x27;,\n",
              "                                                                   SimpleImputer(strategy=&#x27;median&#x27;)),\n",
              "                                                                  (&#x27;scaler&#x27;,\n",
              "                                                                   StandardScaler())]),\n",
              "                                                  &lt;sklearn.compose._column_transformer.make_column_selector object at 0x7e8598be48e0&gt;),\n",
              "                                                 (&#x27;cat&#x27;,\n",
              "                                                  Pipeline(steps=[(&#x27;imputer&#x27;,\n",
              "                                                                   SimpleImputer(fill_value=&#x27;missing&#x27;,\n",
              "                                                                                 strategy=&#x27;most_frequent&#x27;)),\n",
              "                                                                  (&#x27;onehot&#x27;,\n",
              "                                                                   OneHotEncoder(handle_unknown=&#x27;ignore&#x27;))]),\n",
              "                                                  &lt;sklearn.compose._column_transformer.make_column_selector object at 0x7e8598be6620&gt;)])),\n",
              "                (&#x27;pca_kbest&#x27;,\n",
              "                 FeatureUnion(transformer_list=[(&#x27;pca&#x27;, PCA(n_components=2)),\n",
              "                                                (&#x27;select_best&#x27;,\n",
              "                                                 SelectKBest(k=3))])),\n",
              "                (&#x27;classifier&#x27;, LogisticRegression())])</pre><b>In a Jupyter environment, please rerun this cell to show the HTML representation or trust the notebook. <br />On GitHub, the HTML representation is unable to render, please try loading this page with nbviewer.org.</b></div><div class=\"sk-container\" hidden><div class=\"sk-item sk-dashed-wrapped\"><div class=\"sk-label-container\"><div class=\"sk-label sk-toggleable\"><input class=\"sk-toggleable__control sk-hidden--visually\" id=\"sk-estimator-id-31\" type=\"checkbox\" ><label for=\"sk-estimator-id-31\" class=\"sk-toggleable__label sk-toggleable__label-arrow\">Pipeline</label><div class=\"sk-toggleable__content\"><pre>Pipeline(steps=[(&#x27;preprocessor&#x27;,\n",
              "                 ColumnTransformer(transformers=[(&#x27;num&#x27;,\n",
              "                                                  Pipeline(steps=[(&#x27;imputer&#x27;,\n",
              "                                                                   SimpleImputer(strategy=&#x27;median&#x27;)),\n",
              "                                                                  (&#x27;scaler&#x27;,\n",
              "                                                                   StandardScaler())]),\n",
              "                                                  &lt;sklearn.compose._column_transformer.make_column_selector object at 0x7e8598be48e0&gt;),\n",
              "                                                 (&#x27;cat&#x27;,\n",
              "                                                  Pipeline(steps=[(&#x27;imputer&#x27;,\n",
              "                                                                   SimpleImputer(fill_value=&#x27;missing&#x27;,\n",
              "                                                                                 strategy=&#x27;most_frequent&#x27;)),\n",
              "                                                                  (&#x27;onehot&#x27;,\n",
              "                                                                   OneHotEncoder(handle_unknown=&#x27;ignore&#x27;))]),\n",
              "                                                  &lt;sklearn.compose._column_transformer.make_column_selector object at 0x7e8598be6620&gt;)])),\n",
              "                (&#x27;pca_kbest&#x27;,\n",
              "                 FeatureUnion(transformer_list=[(&#x27;pca&#x27;, PCA(n_components=2)),\n",
              "                                                (&#x27;select_best&#x27;,\n",
              "                                                 SelectKBest(k=3))])),\n",
              "                (&#x27;classifier&#x27;, LogisticRegression())])</pre></div></div></div><div class=\"sk-serial\"><div class=\"sk-item sk-dashed-wrapped\"><div class=\"sk-label-container\"><div class=\"sk-label sk-toggleable\"><input class=\"sk-toggleable__control sk-hidden--visually\" id=\"sk-estimator-id-32\" type=\"checkbox\" ><label for=\"sk-estimator-id-32\" class=\"sk-toggleable__label sk-toggleable__label-arrow\">preprocessor: ColumnTransformer</label><div class=\"sk-toggleable__content\"><pre>ColumnTransformer(transformers=[(&#x27;num&#x27;,\n",
              "                                 Pipeline(steps=[(&#x27;imputer&#x27;,\n",
              "                                                  SimpleImputer(strategy=&#x27;median&#x27;)),\n",
              "                                                 (&#x27;scaler&#x27;, StandardScaler())]),\n",
              "                                 &lt;sklearn.compose._column_transformer.make_column_selector object at 0x7e8598be48e0&gt;),\n",
              "                                (&#x27;cat&#x27;,\n",
              "                                 Pipeline(steps=[(&#x27;imputer&#x27;,\n",
              "                                                  SimpleImputer(fill_value=&#x27;missing&#x27;,\n",
              "                                                                strategy=&#x27;most_frequent&#x27;)),\n",
              "                                                 (&#x27;onehot&#x27;,\n",
              "                                                  OneHotEncoder(handle_unknown=&#x27;ignore&#x27;))]),\n",
              "                                 &lt;sklearn.compose._column_transformer.make_column_selector object at 0x7e8598be6620&gt;)])</pre></div></div></div><div class=\"sk-parallel\"><div class=\"sk-parallel-item\"><div class=\"sk-item\"><div class=\"sk-label-container\"><div class=\"sk-label sk-toggleable\"><input class=\"sk-toggleable__control sk-hidden--visually\" id=\"sk-estimator-id-33\" type=\"checkbox\" ><label for=\"sk-estimator-id-33\" class=\"sk-toggleable__label sk-toggleable__label-arrow\">num</label><div class=\"sk-toggleable__content\"><pre>&lt;sklearn.compose._column_transformer.make_column_selector object at 0x7e8598be48e0&gt;</pre></div></div></div><div class=\"sk-serial\"><div class=\"sk-item\"><div class=\"sk-serial\"><div class=\"sk-item\"><div class=\"sk-estimator sk-toggleable\"><input class=\"sk-toggleable__control sk-hidden--visually\" id=\"sk-estimator-id-34\" type=\"checkbox\" ><label for=\"sk-estimator-id-34\" class=\"sk-toggleable__label sk-toggleable__label-arrow\">SimpleImputer</label><div class=\"sk-toggleable__content\"><pre>SimpleImputer(strategy=&#x27;median&#x27;)</pre></div></div></div><div class=\"sk-item\"><div class=\"sk-estimator sk-toggleable\"><input class=\"sk-toggleable__control sk-hidden--visually\" id=\"sk-estimator-id-35\" type=\"checkbox\" ><label for=\"sk-estimator-id-35\" class=\"sk-toggleable__label sk-toggleable__label-arrow\">StandardScaler</label><div class=\"sk-toggleable__content\"><pre>StandardScaler()</pre></div></div></div></div></div></div></div></div><div class=\"sk-parallel-item\"><div class=\"sk-item\"><div class=\"sk-label-container\"><div class=\"sk-label sk-toggleable\"><input class=\"sk-toggleable__control sk-hidden--visually\" id=\"sk-estimator-id-36\" type=\"checkbox\" ><label for=\"sk-estimator-id-36\" class=\"sk-toggleable__label sk-toggleable__label-arrow\">cat</label><div class=\"sk-toggleable__content\"><pre>&lt;sklearn.compose._column_transformer.make_column_selector object at 0x7e8598be6620&gt;</pre></div></div></div><div class=\"sk-serial\"><div class=\"sk-item\"><div class=\"sk-serial\"><div class=\"sk-item\"><div class=\"sk-estimator sk-toggleable\"><input class=\"sk-toggleable__control sk-hidden--visually\" id=\"sk-estimator-id-37\" type=\"checkbox\" ><label for=\"sk-estimator-id-37\" class=\"sk-toggleable__label sk-toggleable__label-arrow\">SimpleImputer</label><div class=\"sk-toggleable__content\"><pre>SimpleImputer(fill_value=&#x27;missing&#x27;, strategy=&#x27;most_frequent&#x27;)</pre></div></div></div><div class=\"sk-item\"><div class=\"sk-estimator sk-toggleable\"><input class=\"sk-toggleable__control sk-hidden--visually\" id=\"sk-estimator-id-38\" type=\"checkbox\" ><label for=\"sk-estimator-id-38\" class=\"sk-toggleable__label sk-toggleable__label-arrow\">OneHotEncoder</label><div class=\"sk-toggleable__content\"><pre>OneHotEncoder(handle_unknown=&#x27;ignore&#x27;)</pre></div></div></div></div></div></div></div></div></div></div><div class=\"sk-item sk-dashed-wrapped\"><div class=\"sk-label-container\"><div class=\"sk-label sk-toggleable\"><input class=\"sk-toggleable__control sk-hidden--visually\" id=\"sk-estimator-id-39\" type=\"checkbox\" ><label for=\"sk-estimator-id-39\" class=\"sk-toggleable__label sk-toggleable__label-arrow\">pca_kbest: FeatureUnion</label><div class=\"sk-toggleable__content\"><pre>FeatureUnion(transformer_list=[(&#x27;pca&#x27;, PCA(n_components=2)),\n",
              "                               (&#x27;select_best&#x27;, SelectKBest(k=3))])</pre></div></div></div><div class=\"sk-parallel\"><div class=\"sk-parallel-item\"><div class=\"sk-item\"><div class=\"sk-label-container\"><div class=\"sk-label sk-toggleable\"><label>pca</label></div></div><div class=\"sk-serial\"><div class=\"sk-item\"><div class=\"sk-estimator sk-toggleable\"><input class=\"sk-toggleable__control sk-hidden--visually\" id=\"sk-estimator-id-40\" type=\"checkbox\" ><label for=\"sk-estimator-id-40\" class=\"sk-toggleable__label sk-toggleable__label-arrow\">PCA</label><div class=\"sk-toggleable__content\"><pre>PCA(n_components=2)</pre></div></div></div></div></div></div><div class=\"sk-parallel-item\"><div class=\"sk-item\"><div class=\"sk-label-container\"><div class=\"sk-label sk-toggleable\"><label>select_best</label></div></div><div class=\"sk-serial\"><div class=\"sk-item\"><div class=\"sk-estimator sk-toggleable\"><input class=\"sk-toggleable__control sk-hidden--visually\" id=\"sk-estimator-id-41\" type=\"checkbox\" ><label for=\"sk-estimator-id-41\" class=\"sk-toggleable__label sk-toggleable__label-arrow\">SelectKBest</label><div class=\"sk-toggleable__content\"><pre>SelectKBest(k=3)</pre></div></div></div></div></div></div></div></div><div class=\"sk-item\"><div class=\"sk-estimator sk-toggleable\"><input class=\"sk-toggleable__control sk-hidden--visually\" id=\"sk-estimator-id-42\" type=\"checkbox\" ><label for=\"sk-estimator-id-42\" class=\"sk-toggleable__label sk-toggleable__label-arrow\">LogisticRegression</label><div class=\"sk-toggleable__content\"><pre>LogisticRegression()</pre></div></div></div></div></div></div></div>"
            ]
          },
          "metadata": {},
          "execution_count": 36
        }
      ]
    },
    {
      "cell_type": "markdown",
      "source": [
        "Now lets move on towards training. Lets do train-test split."
      ],
      "metadata": {
        "id": "VqKvWYgF93gO"
      }
    },
    {
      "cell_type": "code",
      "source": [
        "subset_feature = ['embarked', 'sex', 'pclass', 'age', 'fare']\n",
        "X = X[subset_feature]\n",
        "X"
      ],
      "metadata": {
        "colab": {
          "base_uri": "https://localhost:8080/",
          "height": 424
        },
        "id": "oAKXJYzd_Bml",
        "outputId": "9931b8aa-bd06-4267-f591-35ef3e316dc7"
      },
      "execution_count": 30,
      "outputs": [
        {
          "output_type": "execute_result",
          "data": {
            "text/plain": [
              "     embarked     sex  pclass      age      fare\n",
              "0           S  female     1.0  29.0000  211.3375\n",
              "1           S    male     1.0   0.9167  151.5500\n",
              "2           S  female     1.0   2.0000  151.5500\n",
              "3           S    male     1.0  30.0000  151.5500\n",
              "4           S  female     1.0  25.0000  151.5500\n",
              "...       ...     ...     ...      ...       ...\n",
              "1304        C  female     3.0  14.5000   14.4542\n",
              "1305        C  female     3.0      NaN   14.4542\n",
              "1306        C    male     3.0  26.5000    7.2250\n",
              "1307        C    male     3.0  27.0000    7.2250\n",
              "1308        S    male     3.0  29.0000    7.8750\n",
              "\n",
              "[1309 rows x 5 columns]"
            ],
            "text/html": [
              "\n",
              "  <div id=\"df-489ecf76-b78f-4375-bea7-74d4a869d2a3\" class=\"colab-df-container\">\n",
              "    <div>\n",
              "<style scoped>\n",
              "    .dataframe tbody tr th:only-of-type {\n",
              "        vertical-align: middle;\n",
              "    }\n",
              "\n",
              "    .dataframe tbody tr th {\n",
              "        vertical-align: top;\n",
              "    }\n",
              "\n",
              "    .dataframe thead th {\n",
              "        text-align: right;\n",
              "    }\n",
              "</style>\n",
              "<table border=\"1\" class=\"dataframe\">\n",
              "  <thead>\n",
              "    <tr style=\"text-align: right;\">\n",
              "      <th></th>\n",
              "      <th>embarked</th>\n",
              "      <th>sex</th>\n",
              "      <th>pclass</th>\n",
              "      <th>age</th>\n",
              "      <th>fare</th>\n",
              "    </tr>\n",
              "  </thead>\n",
              "  <tbody>\n",
              "    <tr>\n",
              "      <th>0</th>\n",
              "      <td>S</td>\n",
              "      <td>female</td>\n",
              "      <td>1.0</td>\n",
              "      <td>29.0000</td>\n",
              "      <td>211.3375</td>\n",
              "    </tr>\n",
              "    <tr>\n",
              "      <th>1</th>\n",
              "      <td>S</td>\n",
              "      <td>male</td>\n",
              "      <td>1.0</td>\n",
              "      <td>0.9167</td>\n",
              "      <td>151.5500</td>\n",
              "    </tr>\n",
              "    <tr>\n",
              "      <th>2</th>\n",
              "      <td>S</td>\n",
              "      <td>female</td>\n",
              "      <td>1.0</td>\n",
              "      <td>2.0000</td>\n",
              "      <td>151.5500</td>\n",
              "    </tr>\n",
              "    <tr>\n",
              "      <th>3</th>\n",
              "      <td>S</td>\n",
              "      <td>male</td>\n",
              "      <td>1.0</td>\n",
              "      <td>30.0000</td>\n",
              "      <td>151.5500</td>\n",
              "    </tr>\n",
              "    <tr>\n",
              "      <th>4</th>\n",
              "      <td>S</td>\n",
              "      <td>female</td>\n",
              "      <td>1.0</td>\n",
              "      <td>25.0000</td>\n",
              "      <td>151.5500</td>\n",
              "    </tr>\n",
              "    <tr>\n",
              "      <th>...</th>\n",
              "      <td>...</td>\n",
              "      <td>...</td>\n",
              "      <td>...</td>\n",
              "      <td>...</td>\n",
              "      <td>...</td>\n",
              "    </tr>\n",
              "    <tr>\n",
              "      <th>1304</th>\n",
              "      <td>C</td>\n",
              "      <td>female</td>\n",
              "      <td>3.0</td>\n",
              "      <td>14.5000</td>\n",
              "      <td>14.4542</td>\n",
              "    </tr>\n",
              "    <tr>\n",
              "      <th>1305</th>\n",
              "      <td>C</td>\n",
              "      <td>female</td>\n",
              "      <td>3.0</td>\n",
              "      <td>NaN</td>\n",
              "      <td>14.4542</td>\n",
              "    </tr>\n",
              "    <tr>\n",
              "      <th>1306</th>\n",
              "      <td>C</td>\n",
              "      <td>male</td>\n",
              "      <td>3.0</td>\n",
              "      <td>26.5000</td>\n",
              "      <td>7.2250</td>\n",
              "    </tr>\n",
              "    <tr>\n",
              "      <th>1307</th>\n",
              "      <td>C</td>\n",
              "      <td>male</td>\n",
              "      <td>3.0</td>\n",
              "      <td>27.0000</td>\n",
              "      <td>7.2250</td>\n",
              "    </tr>\n",
              "    <tr>\n",
              "      <th>1308</th>\n",
              "      <td>S</td>\n",
              "      <td>male</td>\n",
              "      <td>3.0</td>\n",
              "      <td>29.0000</td>\n",
              "      <td>7.8750</td>\n",
              "    </tr>\n",
              "  </tbody>\n",
              "</table>\n",
              "<p>1309 rows × 5 columns</p>\n",
              "</div>\n",
              "    <div class=\"colab-df-buttons\">\n",
              "\n",
              "  <div class=\"colab-df-container\">\n",
              "    <button class=\"colab-df-convert\" onclick=\"convertToInteractive('df-489ecf76-b78f-4375-bea7-74d4a869d2a3')\"\n",
              "            title=\"Convert this dataframe to an interactive table.\"\n",
              "            style=\"display:none;\">\n",
              "\n",
              "  <svg xmlns=\"http://www.w3.org/2000/svg\" height=\"24px\" viewBox=\"0 -960 960 960\">\n",
              "    <path d=\"M120-120v-720h720v720H120Zm60-500h600v-160H180v160Zm220 220h160v-160H400v160Zm0 220h160v-160H400v160ZM180-400h160v-160H180v160Zm440 0h160v-160H620v160ZM180-180h160v-160H180v160Zm440 0h160v-160H620v160Z\"/>\n",
              "  </svg>\n",
              "    </button>\n",
              "\n",
              "  <style>\n",
              "    .colab-df-container {\n",
              "      display:flex;\n",
              "      gap: 12px;\n",
              "    }\n",
              "\n",
              "    .colab-df-convert {\n",
              "      background-color: #E8F0FE;\n",
              "      border: none;\n",
              "      border-radius: 50%;\n",
              "      cursor: pointer;\n",
              "      display: none;\n",
              "      fill: #1967D2;\n",
              "      height: 32px;\n",
              "      padding: 0 0 0 0;\n",
              "      width: 32px;\n",
              "    }\n",
              "\n",
              "    .colab-df-convert:hover {\n",
              "      background-color: #E2EBFA;\n",
              "      box-shadow: 0px 1px 2px rgba(60, 64, 67, 0.3), 0px 1px 3px 1px rgba(60, 64, 67, 0.15);\n",
              "      fill: #174EA6;\n",
              "    }\n",
              "\n",
              "    .colab-df-buttons div {\n",
              "      margin-bottom: 4px;\n",
              "    }\n",
              "\n",
              "    [theme=dark] .colab-df-convert {\n",
              "      background-color: #3B4455;\n",
              "      fill: #D2E3FC;\n",
              "    }\n",
              "\n",
              "    [theme=dark] .colab-df-convert:hover {\n",
              "      background-color: #434B5C;\n",
              "      box-shadow: 0px 1px 3px 1px rgba(0, 0, 0, 0.15);\n",
              "      filter: drop-shadow(0px 1px 2px rgba(0, 0, 0, 0.3));\n",
              "      fill: #FFFFFF;\n",
              "    }\n",
              "  </style>\n",
              "\n",
              "    <script>\n",
              "      const buttonEl =\n",
              "        document.querySelector('#df-489ecf76-b78f-4375-bea7-74d4a869d2a3 button.colab-df-convert');\n",
              "      buttonEl.style.display =\n",
              "        google.colab.kernel.accessAllowed ? 'block' : 'none';\n",
              "\n",
              "      async function convertToInteractive(key) {\n",
              "        const element = document.querySelector('#df-489ecf76-b78f-4375-bea7-74d4a869d2a3');\n",
              "        const dataTable =\n",
              "          await google.colab.kernel.invokeFunction('convertToInteractive',\n",
              "                                                    [key], {});\n",
              "        if (!dataTable) return;\n",
              "\n",
              "        const docLinkHtml = 'Like what you see? Visit the ' +\n",
              "          '<a target=\"_blank\" href=https://colab.research.google.com/notebooks/data_table.ipynb>data table notebook</a>'\n",
              "          + ' to learn more about interactive tables.';\n",
              "        element.innerHTML = '';\n",
              "        dataTable['output_type'] = 'display_data';\n",
              "        await google.colab.output.renderOutput(dataTable, element);\n",
              "        const docLink = document.createElement('div');\n",
              "        docLink.innerHTML = docLinkHtml;\n",
              "        element.appendChild(docLink);\n",
              "      }\n",
              "    </script>\n",
              "  </div>\n",
              "\n",
              "\n",
              "<div id=\"df-7116a927-f1c2-4c7e-9ac3-f06555051dc0\">\n",
              "  <button class=\"colab-df-quickchart\" onclick=\"quickchart('df-7116a927-f1c2-4c7e-9ac3-f06555051dc0')\"\n",
              "            title=\"Suggest charts\"\n",
              "            style=\"display:none;\">\n",
              "\n",
              "<svg xmlns=\"http://www.w3.org/2000/svg\" height=\"24px\"viewBox=\"0 0 24 24\"\n",
              "     width=\"24px\">\n",
              "    <g>\n",
              "        <path d=\"M19 3H5c-1.1 0-2 .9-2 2v14c0 1.1.9 2 2 2h14c1.1 0 2-.9 2-2V5c0-1.1-.9-2-2-2zM9 17H7v-7h2v7zm4 0h-2V7h2v10zm4 0h-2v-4h2v4z\"/>\n",
              "    </g>\n",
              "</svg>\n",
              "  </button>\n",
              "\n",
              "<style>\n",
              "  .colab-df-quickchart {\n",
              "      --bg-color: #E8F0FE;\n",
              "      --fill-color: #1967D2;\n",
              "      --hover-bg-color: #E2EBFA;\n",
              "      --hover-fill-color: #174EA6;\n",
              "      --disabled-fill-color: #AAA;\n",
              "      --disabled-bg-color: #DDD;\n",
              "  }\n",
              "\n",
              "  [theme=dark] .colab-df-quickchart {\n",
              "      --bg-color: #3B4455;\n",
              "      --fill-color: #D2E3FC;\n",
              "      --hover-bg-color: #434B5C;\n",
              "      --hover-fill-color: #FFFFFF;\n",
              "      --disabled-bg-color: #3B4455;\n",
              "      --disabled-fill-color: #666;\n",
              "  }\n",
              "\n",
              "  .colab-df-quickchart {\n",
              "    background-color: var(--bg-color);\n",
              "    border: none;\n",
              "    border-radius: 50%;\n",
              "    cursor: pointer;\n",
              "    display: none;\n",
              "    fill: var(--fill-color);\n",
              "    height: 32px;\n",
              "    padding: 0;\n",
              "    width: 32px;\n",
              "  }\n",
              "\n",
              "  .colab-df-quickchart:hover {\n",
              "    background-color: var(--hover-bg-color);\n",
              "    box-shadow: 0 1px 2px rgba(60, 64, 67, 0.3), 0 1px 3px 1px rgba(60, 64, 67, 0.15);\n",
              "    fill: var(--button-hover-fill-color);\n",
              "  }\n",
              "\n",
              "  .colab-df-quickchart-complete:disabled,\n",
              "  .colab-df-quickchart-complete:disabled:hover {\n",
              "    background-color: var(--disabled-bg-color);\n",
              "    fill: var(--disabled-fill-color);\n",
              "    box-shadow: none;\n",
              "  }\n",
              "\n",
              "  .colab-df-spinner {\n",
              "    border: 2px solid var(--fill-color);\n",
              "    border-color: transparent;\n",
              "    border-bottom-color: var(--fill-color);\n",
              "    animation:\n",
              "      spin 1s steps(1) infinite;\n",
              "  }\n",
              "\n",
              "  @keyframes spin {\n",
              "    0% {\n",
              "      border-color: transparent;\n",
              "      border-bottom-color: var(--fill-color);\n",
              "      border-left-color: var(--fill-color);\n",
              "    }\n",
              "    20% {\n",
              "      border-color: transparent;\n",
              "      border-left-color: var(--fill-color);\n",
              "      border-top-color: var(--fill-color);\n",
              "    }\n",
              "    30% {\n",
              "      border-color: transparent;\n",
              "      border-left-color: var(--fill-color);\n",
              "      border-top-color: var(--fill-color);\n",
              "      border-right-color: var(--fill-color);\n",
              "    }\n",
              "    40% {\n",
              "      border-color: transparent;\n",
              "      border-right-color: var(--fill-color);\n",
              "      border-top-color: var(--fill-color);\n",
              "    }\n",
              "    60% {\n",
              "      border-color: transparent;\n",
              "      border-right-color: var(--fill-color);\n",
              "    }\n",
              "    80% {\n",
              "      border-color: transparent;\n",
              "      border-right-color: var(--fill-color);\n",
              "      border-bottom-color: var(--fill-color);\n",
              "    }\n",
              "    90% {\n",
              "      border-color: transparent;\n",
              "      border-bottom-color: var(--fill-color);\n",
              "    }\n",
              "  }\n",
              "</style>\n",
              "\n",
              "  <script>\n",
              "    async function quickchart(key) {\n",
              "      const quickchartButtonEl =\n",
              "        document.querySelector('#' + key + ' button');\n",
              "      quickchartButtonEl.disabled = true;  // To prevent multiple clicks.\n",
              "      quickchartButtonEl.classList.add('colab-df-spinner');\n",
              "      try {\n",
              "        const charts = await google.colab.kernel.invokeFunction(\n",
              "            'suggestCharts', [key], {});\n",
              "      } catch (error) {\n",
              "        console.error('Error during call to suggestCharts:', error);\n",
              "      }\n",
              "      quickchartButtonEl.classList.remove('colab-df-spinner');\n",
              "      quickchartButtonEl.classList.add('colab-df-quickchart-complete');\n",
              "    }\n",
              "    (() => {\n",
              "      let quickchartButtonEl =\n",
              "        document.querySelector('#df-7116a927-f1c2-4c7e-9ac3-f06555051dc0 button');\n",
              "      quickchartButtonEl.style.display =\n",
              "        google.colab.kernel.accessAllowed ? 'block' : 'none';\n",
              "    })();\n",
              "  </script>\n",
              "</div>\n",
              "\n",
              "  <div id=\"id_c263583a-0a3f-426b-ac32-616963e6170b\">\n",
              "    <style>\n",
              "      .colab-df-generate {\n",
              "        background-color: #E8F0FE;\n",
              "        border: none;\n",
              "        border-radius: 50%;\n",
              "        cursor: pointer;\n",
              "        display: none;\n",
              "        fill: #1967D2;\n",
              "        height: 32px;\n",
              "        padding: 0 0 0 0;\n",
              "        width: 32px;\n",
              "      }\n",
              "\n",
              "      .colab-df-generate:hover {\n",
              "        background-color: #E2EBFA;\n",
              "        box-shadow: 0px 1px 2px rgba(60, 64, 67, 0.3), 0px 1px 3px 1px rgba(60, 64, 67, 0.15);\n",
              "        fill: #174EA6;\n",
              "      }\n",
              "\n",
              "      [theme=dark] .colab-df-generate {\n",
              "        background-color: #3B4455;\n",
              "        fill: #D2E3FC;\n",
              "      }\n",
              "\n",
              "      [theme=dark] .colab-df-generate:hover {\n",
              "        background-color: #434B5C;\n",
              "        box-shadow: 0px 1px 3px 1px rgba(0, 0, 0, 0.15);\n",
              "        filter: drop-shadow(0px 1px 2px rgba(0, 0, 0, 0.3));\n",
              "        fill: #FFFFFF;\n",
              "      }\n",
              "    </style>\n",
              "    <button class=\"colab-df-generate\" onclick=\"generateWithVariable('X')\"\n",
              "            title=\"Generate code using this dataframe.\"\n",
              "            style=\"display:none;\">\n",
              "\n",
              "  <svg xmlns=\"http://www.w3.org/2000/svg\" height=\"24px\"viewBox=\"0 0 24 24\"\n",
              "       width=\"24px\">\n",
              "    <path d=\"M7,19H8.4L18.45,9,17,7.55,7,17.6ZM5,21V16.75L18.45,3.32a2,2,0,0,1,2.83,0l1.4,1.43a1.91,1.91,0,0,1,.58,1.4,1.91,1.91,0,0,1-.58,1.4L9.25,21ZM18.45,9,17,7.55Zm-12,3A5.31,5.31,0,0,0,4.9,8.1,5.31,5.31,0,0,0,1,6.5,5.31,5.31,0,0,0,4.9,4.9,5.31,5.31,0,0,0,6.5,1,5.31,5.31,0,0,0,8.1,4.9,5.31,5.31,0,0,0,12,6.5,5.46,5.46,0,0,0,6.5,12Z\"/>\n",
              "  </svg>\n",
              "    </button>\n",
              "    <script>\n",
              "      (() => {\n",
              "      const buttonEl =\n",
              "        document.querySelector('#id_c263583a-0a3f-426b-ac32-616963e6170b button.colab-df-generate');\n",
              "      buttonEl.style.display =\n",
              "        google.colab.kernel.accessAllowed ? 'block' : 'none';\n",
              "\n",
              "      buttonEl.onclick = () => {\n",
              "        google.colab.notebook.generateWithVariable('X');\n",
              "      }\n",
              "      })();\n",
              "    </script>\n",
              "  </div>\n",
              "\n",
              "    </div>\n",
              "  </div>\n"
            ],
            "application/vnd.google.colaboratory.intrinsic+json": {
              "type": "dataframe",
              "variable_name": "X",
              "summary": "{\n  \"name\": \"X\",\n  \"rows\": 1309,\n  \"fields\": [\n    {\n      \"column\": \"embarked\",\n      \"properties\": {\n        \"dtype\": \"category\",\n        \"num_unique_values\": 3,\n        \"samples\": [\n          \"S\",\n          \"C\",\n          \"Q\"\n        ],\n        \"semantic_type\": \"\",\n        \"description\": \"\"\n      }\n    },\n    {\n      \"column\": \"sex\",\n      \"properties\": {\n        \"dtype\": \"category\",\n        \"num_unique_values\": 2,\n        \"samples\": [\n          \"male\",\n          \"female\"\n        ],\n        \"semantic_type\": \"\",\n        \"description\": \"\"\n      }\n    },\n    {\n      \"column\": \"pclass\",\n      \"properties\": {\n        \"dtype\": \"number\",\n        \"std\": 0.8378360189701274,\n        \"min\": 1.0,\n        \"max\": 3.0,\n        \"num_unique_values\": 3,\n        \"samples\": [\n          1.0,\n          2.0\n        ],\n        \"semantic_type\": \"\",\n        \"description\": \"\"\n      }\n    },\n    {\n      \"column\": \"age\",\n      \"properties\": {\n        \"dtype\": \"number\",\n        \"std\": 14.413499699923602,\n        \"min\": 0.1667,\n        \"max\": 80.0,\n        \"num_unique_values\": 98,\n        \"samples\": [\n          57.0,\n          55.0\n        ],\n        \"semantic_type\": \"\",\n        \"description\": \"\"\n      }\n    },\n    {\n      \"column\": \"fare\",\n      \"properties\": {\n        \"dtype\": \"number\",\n        \"std\": 51.75866823917411,\n        \"min\": 0.0,\n        \"max\": 512.3292,\n        \"num_unique_values\": 281,\n        \"samples\": [\n          5.0,\n          9.35\n        ],\n        \"semantic_type\": \"\",\n        \"description\": \"\"\n      }\n    }\n  ]\n}"
            }
          },
          "metadata": {},
          "execution_count": 30
        }
      ]
    },
    {
      "cell_type": "code",
      "source": [
        "from sklearn.model_selection import train_test_split\n",
        "X_train, X_test, y_train, y_test = train_test_split(X, y, test_size=0.2)  #Split data into train and test sett"
      ],
      "metadata": {
        "id": "I2vCMD-nABCd"
      },
      "execution_count": 31,
      "outputs": []
    },
    {
      "cell_type": "code",
      "source": [
        "pipeline.fit(X_train, y_train)                                   # model training. remember pipeline was the name where model was defined.\n",
        "print(\"model score: %.3f\" % pipeline.score(X_test, y_test))      # score method returns the accuracy of the model on the test data"
      ],
      "metadata": {
        "colab": {
          "base_uri": "https://localhost:8080/"
        },
        "id": "FBlkcjHMAy-g",
        "outputId": "5da6b9cc-2447-48c5-e368-ad943ba52eec"
      },
      "execution_count": 32,
      "outputs": [
        {
          "output_type": "stream",
          "name": "stdout",
          "text": [
            "model score: 0.802\n"
          ]
        }
      ]
    },
    {
      "cell_type": "markdown",
      "source": [
        "Lets use pipeline for cross validation score as well.\n",
        "\n",
        "Cross-validation here is performed on the entire dataset (X and y) using 5-fold cross-validation (cv=5). Cross-validation is a technique used to assess the generalizability of the model by dividing the data into multiple folds, training the model on some folds, and testing it on the remaining folds. The cross_val_score function returns an array of scores, one for each fold."
      ],
      "metadata": {
        "id": "rrt-e6ZrBHj7"
      }
    },
    {
      "cell_type": "code",
      "source": [
        "from sklearn.model_selection import cross_val_score\n",
        "results = cross_val_score(pipeline, X, y, cv=5)\n",
        "print(results)\n",
        "print(results.mean())"
      ],
      "metadata": {
        "colab": {
          "base_uri": "https://localhost:8080/"
        },
        "id": "4P_4ZAjrBK_k",
        "outputId": "30baf244-ca6f-413d-812a-da26b2d99938"
      },
      "execution_count": 35,
      "outputs": [
        {
          "output_type": "stream",
          "name": "stdout",
          "text": [
            "[0.51526718 0.82061069 0.80152672 0.70610687 0.65900383]\n",
            "0.7005030563598608\n"
          ]
        }
      ]
    },
    {
      "cell_type": "markdown",
      "source": [
        "The variability in the cross-validation scores can indicate that the model's performance is sensitive to the particular splits of the data. This can be due to an imbalanced dataset, where some folds have different class distributions, or simply due to random chance."
      ],
      "metadata": {
        "id": "AQ9XEG2lC7YE"
      }
    },
    {
      "cell_type": "markdown",
      "source": [
        "But since the cross-validation scores are random, you might wonder that the model is randomly guessing. Well let's check that through p-value calculation.\n",
        "\n",
        "\\\n",
        "\n",
        "**Null Hypothesis (H0)**: The mean cross-validation score is 0.5, which implies that the model performs no better than random guessing.\n",
        "\n",
        "**Alternative Hypothesis (H1)**: The mean cross-validation score is different from 0.5, indicating that the model's performance is better (or worse) than random guessing.\n",
        "\n",
        "Lets say our level of significance is 0.05. If the p-value is less than the significance level, we reject the null hypothesis."
      ],
      "metadata": {
        "id": "6_FzgTKpF1TL"
      }
    },
    {
      "cell_type": "code",
      "source": [
        "from scipy import stats\n",
        "\n",
        "cv_scores = np.array([0.51526718, 0.82061069, 0.80152672, 0.70610687, 0.65900383])          # Cross-validation scores\n",
        "mean_random_classifier = 0.5                                                                # Mean of a random classifier\n",
        "\n",
        "# Perform a one-sample t-test\n",
        "t_statistic, p_value = stats.ttest_1samp(cv_scores, mean_random_classifier)\n",
        "t_statistic, p_value"
      ],
      "metadata": {
        "colab": {
          "base_uri": "https://localhost:8080/"
        },
        "id": "fr_i9ODFEDZo",
        "outputId": "8c34f8db-b136-4809-cb04-62fdae746eac"
      },
      "execution_count": 41,
      "outputs": [
        {
          "output_type": "execute_result",
          "data": {
            "text/plain": [
              "(3.639573078614341, 0.021972947702176567)"
            ]
          },
          "metadata": {},
          "execution_count": 41
        }
      ]
    },
    {
      "cell_type": "markdown",
      "source": [
        "The t-statistic is a measure used in hypothesis testing to determine whether there is a significant difference between the sample mean and a known value.\n",
        "\n",
        "* T-statistic of 3.64: This indicates that the mean cross-validation score (0.7005) is significantly different from 0.5.\n",
        "\n",
        "\n",
        "The p-value tells you the probability of observing your sample data (or something more extreme) assuming the null hypothesis is true. It helps you decide whether to reject the null hypothesis.\n",
        "\n",
        "* P-value of 0.022: This suggests there is only a 2.2% chance that the observed mean score (0.7005) could occur if the true mean were 0.5. Since 0.022 < 0.05, we reject the null hypothesis.\n",
        "\n",
        "Thus we reject the null hypothesis that the model is randomly guessing, and the mean score of 0.7005 is actually not due to random chance."
      ],
      "metadata": {
        "id": "38Zo3tXeHUCq"
      }
    },
    {
      "cell_type": "markdown",
      "source": [
        "Material:\n",
        "* [https://scikit-learn.org/stable/auto_examples/compose/plot_column_transformer_mixed_types.html#sphx-glr-auto-examples-compose-plot-column-transformer-mixed-types-py]\n",
        "\n",
        "* [https://scikit-learn.org/stable/auto_examples/decomposition/plot_pca_iris.html#sphx-glr-auto-examples-decomposition-plot-pca-iris-py]"
      ],
      "metadata": {
        "id": "aBbhIVyo6o_c"
      }
    },
    {
      "cell_type": "code",
      "source": [],
      "metadata": {
        "id": "Co3MQatF5ENw"
      },
      "execution_count": null,
      "outputs": []
    }
  ]
}